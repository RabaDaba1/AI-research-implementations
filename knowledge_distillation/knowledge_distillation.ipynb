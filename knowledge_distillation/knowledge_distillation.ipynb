{
 "cells": [
  {
   "cell_type": "markdown",
   "id": "778376ef",
   "metadata": {},
   "source": [
    "# Imports"
   ]
  },
  {
   "cell_type": "code",
   "execution_count": 11,
   "id": "69359ef6",
   "metadata": {
    "execution": {
     "iopub.execute_input": "2025-04-20T19:29:38.031810Z",
     "iopub.status.busy": "2025-04-20T19:29:38.031509Z",
     "iopub.status.idle": "2025-04-20T19:29:38.036489Z",
     "shell.execute_reply": "2025-04-20T19:29:38.035787Z",
     "shell.execute_reply.started": "2025-04-20T19:29:38.031789Z"
    },
    "trusted": true
   },
   "outputs": [],
   "source": [
    "import torch\n",
    "import torch.nn as nn\n",
    "import torch.optim as optim\n",
    "import torch.nn.functional as F\n",
    "import torchvision\n",
    "import torchvision.transforms as transforms\n",
    "import torchvision.models as models\n",
    "from torch.utils.data import DataLoader\n",
    "from torch.amp import autocast, GradScaler\n",
    "\n",
    "import numpy as np\n",
    "import matplotlib.pyplot as plt\n",
    "import time\n",
    "import os\n",
    "from tqdm import tqdm"
   ]
  },
  {
   "cell_type": "code",
   "execution_count": 12,
   "id": "db48d309",
   "metadata": {
    "execution": {
     "iopub.execute_input": "2025-04-20T19:29:39.095383Z",
     "iopub.status.busy": "2025-04-20T19:29:39.094866Z",
     "iopub.status.idle": "2025-04-20T19:29:39.100408Z",
     "shell.execute_reply": "2025-04-20T19:29:39.099636Z",
     "shell.execute_reply.started": "2025-04-20T19:29:39.095359Z"
    },
    "trusted": true
   },
   "outputs": [],
   "source": [
    "torch.manual_seed(42)\n",
    "np.random.seed(42)"
   ]
  },
  {
   "cell_type": "code",
   "execution_count": 13,
   "id": "2f13a151",
   "metadata": {
    "execution": {
     "iopub.execute_input": "2025-04-20T19:29:39.937395Z",
     "iopub.status.busy": "2025-04-20T19:29:39.936799Z",
     "iopub.status.idle": "2025-04-20T19:29:39.941793Z",
     "shell.execute_reply": "2025-04-20T19:29:39.940883Z",
     "shell.execute_reply.started": "2025-04-20T19:29:39.937370Z"
    },
    "trusted": true
   },
   "outputs": [
    {
     "name": "stdout",
     "output_type": "stream",
     "text": [
      "Using device: cuda\n"
     ]
    }
   ],
   "source": [
    "device = torch.device('cuda' if torch.cuda.is_available() else 'cpu')\n",
    "print(f\"Using device: {device}\")"
   ]
  },
  {
   "cell_type": "markdown",
   "id": "075f6e62-cd14-4e76-b0ce-d9e0d07a84b6",
   "metadata": {},
   "source": [
    "# Constants"
   ]
  },
  {
   "cell_type": "code",
   "execution_count": null,
   "id": "f5430cf8-21f7-491d-b19c-dcb960c1cb1b",
   "metadata": {
    "trusted": true
   },
   "outputs": [],
   "source": [
    "IMAGE_SIZE = 32\n",
    "NUM_CLASSES = 100\n",
    "CIFAR10_MEAN = [0.5071, 0.4867, 0.4408]\n",
    "CIFAR10_STD = [0.2675, 0.2565, 0.2761]\n",
    "\n",
    "BATCH_SIZE = 128\n",
    "TEACHER_LR = 0.001\n",
    "RANDOM_INIT_LR = 0.001\n",
    "STUDENT_DISTILL_LR = 0.001\n",
    "WEIGHT_DECAY = 0.01"
   ]
  },
  {
   "cell_type": "markdown",
   "id": "92dd2333",
   "metadata": {},
   "source": [
    "# Load Data"
   ]
  },
  {
   "cell_type": "code",
   "execution_count": 15,
   "id": "0219993d",
   "metadata": {
    "execution": {
     "iopub.execute_input": "2025-04-20T19:30:06.789533Z",
     "iopub.status.busy": "2025-04-20T19:30:06.789005Z",
     "iopub.status.idle": "2025-04-20T19:30:08.598373Z",
     "shell.execute_reply": "2025-04-20T19:30:08.597647Z",
     "shell.execute_reply.started": "2025-04-20T19:30:06.789510Z"
    },
    "trusted": true
   },
   "outputs": [
    {
     "name": "stdout",
     "output_type": "stream",
     "text": [
      "Files already downloaded and verified\n",
      "Files already downloaded and verified\n",
      "Training dataset size: 50000\n",
      "Testing dataset size: 10000\n",
      "Number of classes: 100\n"
     ]
    }
   ],
   "source": [
    "train_transform = transforms.Compose([\n",
    "    transforms.RandomResizedCrop(size=32),\n",
    "    transforms.RandomHorizontalFlip(),\n",
    "    transforms.ToTensor(),\n",
    "    transforms.Normalize(mean, std)\n",
    "])\n",
    "\n",
    "test_transform = transforms.Compose([\n",
    "    transforms.ToTensor(),\n",
    "    transforms.Normalize(mean, std)\n",
    "])\n",
    "\n",
    "train_dataset = torchvision.datasets.CIFAR100(root='./data', train=True,\n",
    "                                             download=True, transform=train_transform)\n",
    "\n",
    "test_dataset = torchvision.datasets.CIFAR100(root='./data', train=False,\n",
    "                                            download=True, transform=test_transform)\n",
    "\n",
    "train_loader = DataLoader(train_dataset, batch_size=BATCH_SIZE, shuffle=True, num_workers=2, pin_memory=True)\n",
    "test_loader = DataLoader(test_dataset, batch_size=BATCH_SIZE, shuffle=False, num_workers=2, pin_memory=True)\n",
    "\n",
    "print(f\"Training dataset size: {len(train_dataset)}\")\n",
    "print(f\"Testing dataset size: {len(test_dataset)}\")\n",
    "print(f\"Number of classes: {len(train_dataset.classes)}\")"
   ]
  },
  {
   "cell_type": "markdown",
   "id": "662b52e0",
   "metadata": {},
   "source": [
    "# Models (Teacher and Student)"
   ]
  },
  {
   "cell_type": "code",
   "execution_count": 16,
   "id": "34e6e48b",
   "metadata": {
    "execution": {
     "iopub.execute_input": "2025-04-20T19:30:10.624801Z",
     "iopub.status.busy": "2025-04-20T19:30:10.624229Z",
     "iopub.status.idle": "2025-04-20T19:30:10.629350Z",
     "shell.execute_reply": "2025-04-20T19:30:10.628692Z",
     "shell.execute_reply.started": "2025-04-20T19:30:10.624778Z"
    },
    "trusted": true
   },
   "outputs": [],
   "source": [
    "def create_teacher_model():\n",
    "    model = models.resnet50(weights=None)\n",
    "    model.conv1 = nn.Conv2d(3, 64, kernel_size=3, stride=1, padding=1, bias=False)\n",
    "    model.maxpool = nn.Identity()\n",
    "    num_ftrs = model.fc.in_features\n",
    "    model.fc = nn.Linear(num_ftrs, 100)\n",
    "    \n",
    "    return model\n",
    "\n",
    "def create_student_model():\n",
    "    model = models.mobilenet_v2(weights=None)\n",
    "    model.features[0][0] = nn.Conv2d(3, 32, kernel_size=3, stride=1, padding=1, bias=False)\n",
    "    model.classifier = nn.Linear(model.last_channel, 100)\n",
    "\n",
    "    return model"
   ]
  },
  {
   "cell_type": "code",
   "execution_count": 17,
   "id": "1e8aa974",
   "metadata": {
    "execution": {
     "iopub.execute_input": "2025-04-20T19:30:10.917527Z",
     "iopub.status.busy": "2025-04-20T19:30:10.916770Z",
     "iopub.status.idle": "2025-04-20T19:30:11.358518Z",
     "shell.execute_reply": "2025-04-20T19:30:11.357951Z",
     "shell.execute_reply.started": "2025-04-20T19:30:10.917500Z"
    },
    "trusted": true
   },
   "outputs": [],
   "source": [
    "teacher_model = create_teacher_model().to(device)\n",
    "student_model = create_student_model().to(device)"
   ]
  },
  {
   "cell_type": "code",
   "execution_count": null,
   "id": "3c7d7bd7-b63f-4152-a1c3-4b9c2405e021",
   "metadata": {
    "execution": {
     "iopub.execute_input": "2025-04-20T19:30:19.498177Z",
     "iopub.status.busy": "2025-04-20T19:30:19.497904Z",
     "iopub.status.idle": "2025-04-20T19:30:19.503977Z",
     "shell.execute_reply": "2025-04-20T19:30:19.503366Z",
     "shell.execute_reply.started": "2025-04-20T19:30:19.498156Z"
    },
    "trusted": true
   },
   "outputs": [
    {
     "name": "stdout",
     "output_type": "stream",
     "text": [
      "Teacher model (ResNet-50) parameters: 23,705,252\n",
      "Student model (ResNet-18) parameters: 2,351,972\n"
     ]
    }
   ],
   "source": [
    "def count_parameters(model):\n",
    "    return sum(p.numel() for p in model.parameters() if p.requires_grad)\n",
    "\n",
    "print(f\"Teacher model (ResNet-50) parameters: {count_parameters(teacher_model):,}\")\n",
    "print(f\"Student model (ResNet-18) parameters: {count_parameters(student_model):,}\")"
   ]
  },
  {
   "cell_type": "markdown",
   "id": "0cfc2560",
   "metadata": {},
   "source": [
    "# Training the Teacher Model"
   ]
  },
  {
   "cell_type": "code",
   "execution_count": 22,
   "id": "1d7f7a2c",
   "metadata": {
    "execution": {
     "iopub.execute_input": "2025-04-20T19:31:44.870967Z",
     "iopub.status.busy": "2025-04-20T19:31:44.870365Z",
     "iopub.status.idle": "2025-04-20T19:31:44.881130Z",
     "shell.execute_reply": "2025-04-20T19:31:44.880158Z",
     "shell.execute_reply.started": "2025-04-20T19:31:44.870943Z"
    },
    "trusted": true
   },
   "outputs": [],
   "source": [
    "def train_model(model, train_loader, test_loader, epochs, device, save_path=None):\n",
    "    criterion = nn.CrossEntropyLoss()\n",
    "    optimizer = optim.AdamW(model.parameters(), lr=0.001, weight_decay=0.01)\n",
    "    scheduler = optim.lr_scheduler.CosineAnnealingLR(optimizer, T_max=epochs)\n",
    "    scaler = GradScaler()\n",
    "    \n",
    "    best_acc = 0.0\n",
    "    \n",
    "    history = {\n",
    "        'train_loss': [],\n",
    "        'train_acc': [],\n",
    "        'test_loss': [],\n",
    "        'test_acc': []\n",
    "    }\n",
    "    \n",
    "    for epoch in range(epochs):\n",
    "        model.train()\n",
    "        train_loss = 0.0\n",
    "        train_correct = 0\n",
    "        train_total = 0\n",
    "        progress_bar = tqdm(train_loader, desc=f\"Epoch {epoch+1}/{epochs} [Train]\")\n",
    "        for inputs, targets in progress_bar:\n",
    "            inputs = inputs.to(device, non_blocking=True)\n",
    "            targets = targets.to(device, non_blocking=True)\n",
    "            \n",
    "            optimizer.zero_grad()\n",
    "            \n",
    "            with autocast(device_type=device.type):\n",
    "                logits = model(inputs)\n",
    "                loss = criterion(logits, targets)\n",
    "            \n",
    "            scaler.scale(loss).backward()\n",
    "            scaler.step(optimizer)\n",
    "            scaler.update()\n",
    "            \n",
    "            train_loss += loss.item() * inputs.size(0)\n",
    "            _, predicted = logits.max(1)\n",
    "            train_total += targets.size(0)\n",
    "            train_correct += predicted.eq(targets).sum().item()\n",
    "\n",
    "            progress_bar.set_postfix(\n",
    "                {\"loss\": loss.item(), \"acc\": 100 * train_correct / train_total}\n",
    "            )\n",
    "        \n",
    "        train_loss = train_loss / len(train_loader.dataset)\n",
    "        train_acc = 100.0 * train_correct / train_total\n",
    "        \n",
    "        model.eval()\n",
    "        test_loss = 0.0\n",
    "        test_correct = 0\n",
    "        test_total = 0\n",
    "        progress_bar = tqdm(test_loader, desc=f\"Epoch {epoch+1}/{epochs} [Test]\")\n",
    "        with torch.no_grad():\n",
    "            for inputs, targets in progress_bar:\n",
    "                inputs = inputs.to(device, non_blocking=True)\n",
    "                targets = targets.to(device, non_blocking=True)\n",
    "                \n",
    "                logits = model(inputs)\n",
    "                loss = criterion(logits, targets)\n",
    "                \n",
    "                test_loss += loss.item() * inputs.size(0)\n",
    "                _, predicted = logits.max(1)\n",
    "                test_total += targets.size(0)\n",
    "                test_correct += predicted.eq(targets).sum().item()\n",
    "\n",
    "                progress_bar.set_postfix(\n",
    "                    {\"loss\": loss.item(), \"acc\": 100 * test_correct / test_total}\n",
    "                )\n",
    "        \n",
    "        test_loss = test_loss / len(test_loader.dataset)\n",
    "        test_acc = 100.0 * test_correct / test_total\n",
    "\n",
    "        scheduler.step()\n",
    "        \n",
    "        if test_acc > best_acc and save_path:\n",
    "            best_acc = test_acc\n",
    "            torch.save(model.state_dict(), save_path)\n",
    "            print(f\"Saved best model with accuracy: {best_acc:.2f}%\")\n",
    "        \n",
    "        history['train_loss'].append(train_loss)\n",
    "        history['train_acc'].append(train_acc)\n",
    "        history['test_loss'].append(test_loss)\n",
    "        history['test_acc'].append(test_acc)\n",
    "        \n",
    "        print(f\"Epoch {epoch+1}/{epochs} - \"\n",
    "              f\"Train Loss: {train_loss:.4f}, Train Acc: {train_acc:.2f}%, \"\n",
    "              f\"Test Loss: {test_loss:.4f}, Test Acc: {test_acc:.2f}%\")\n",
    "    \n",
    "    return model, history"
   ]
  },
  {
   "cell_type": "code",
   "execution_count": 23,
   "id": "b4216f8b-7571-4550-a900-fbe7619c9959",
   "metadata": {
    "execution": {
     "iopub.execute_input": "2025-04-20T19:32:07.638084Z",
     "iopub.status.busy": "2025-04-20T19:32:07.637373Z",
     "iopub.status.idle": "2025-04-20T19:32:07.663884Z",
     "shell.execute_reply": "2025-04-20T19:32:07.663048Z",
     "shell.execute_reply.started": "2025-04-20T19:32:07.638059Z"
    },
    "trusted": true
   },
   "outputs": [],
   "source": [
    "os.remove('/kaggle/working/teacher_model.pth')"
   ]
  },
  {
   "cell_type": "code",
   "execution_count": null,
   "id": "d6cc94f7",
   "metadata": {
    "execution": {
     "iopub.execute_input": "2025-04-20T19:32:16.100135Z",
     "iopub.status.busy": "2025-04-20T19:32:16.099401Z"
    },
    "trusted": true
   },
   "outputs": [
    {
     "name": "stdout",
     "output_type": "stream",
     "text": [
      "Training teacher model...\n"
     ]
    },
    {
     "name": "stderr",
     "output_type": "stream",
     "text": [
      "Epoch 1/100 [Train]: 100%|██████████| 391/391 [01:17<00:00,  5.05it/s, loss=3.75, acc=7.12]\n",
      "Epoch 1/100 [Test]: 100%|██████████| 79/79 [00:05<00:00, 14.48it/s, loss=3.84, acc=10.5]\n"
     ]
    },
    {
     "name": "stdout",
     "output_type": "stream",
     "text": [
      "Saved best model with accuracy: 10.54%\n",
      "Epoch 1/100 - Train Loss: 4.1612, Train Acc: 7.12%, Test Loss: 3.8179, Test Acc: 10.54%\n"
     ]
    },
    {
     "name": "stderr",
     "output_type": "stream",
     "text": [
      "Epoch 2/100 [Train]: 100%|██████████| 391/391 [01:16<00:00,  5.09it/s, loss=3.65, acc=13.3]\n",
      "Epoch 2/100 [Test]: 100%|██████████| 79/79 [00:05<00:00, 14.54it/s, loss=3.1, acc=18.4] \n"
     ]
    },
    {
     "name": "stdout",
     "output_type": "stream",
     "text": [
      "Saved best model with accuracy: 18.39%\n",
      "Epoch 2/100 - Train Loss: 3.6806, Train Acc: 13.29%, Test Loss: 3.4289, Test Acc: 18.39%\n"
     ]
    },
    {
     "name": "stderr",
     "output_type": "stream",
     "text": [
      "Epoch 3/100 [Train]: 100%|██████████| 391/391 [01:16<00:00,  5.09it/s, loss=3.12, acc=19]  \n",
      "Epoch 3/100 [Test]: 100%|██████████| 79/79 [00:05<00:00, 14.57it/s, loss=2.82, acc=23.6]\n"
     ]
    },
    {
     "name": "stdout",
     "output_type": "stream",
     "text": [
      "Saved best model with accuracy: 23.65%\n",
      "Epoch 3/100 - Train Loss: 3.3643, Train Acc: 18.95%, Test Loss: 3.1248, Test Acc: 23.65%\n"
     ]
    },
    {
     "name": "stderr",
     "output_type": "stream",
     "text": [
      "Epoch 4/100 [Train]: 100%|██████████| 391/391 [01:16<00:00,  5.09it/s, loss=3.44, acc=24.3]\n",
      "Epoch 4/100 [Test]: 100%|██████████| 79/79 [00:05<00:00, 14.59it/s, loss=4.99, acc=30.1]\n"
     ]
    },
    {
     "name": "stdout",
     "output_type": "stream",
     "text": [
      "Saved best model with accuracy: 30.05%\n",
      "Epoch 4/100 - Train Loss: 3.0725, Train Acc: 24.31%, Test Loss: 3.0867, Test Acc: 30.05%\n"
     ]
    },
    {
     "name": "stderr",
     "output_type": "stream",
     "text": [
      "Epoch 5/100 [Train]: 100%|██████████| 391/391 [01:16<00:00,  5.09it/s, loss=3.04, acc=28.7]\n",
      "Epoch 5/100 [Test]: 100%|██████████| 79/79 [00:05<00:00, 14.63it/s, loss=2, acc=34.7]   \n"
     ]
    },
    {
     "name": "stdout",
     "output_type": "stream",
     "text": [
      "Saved best model with accuracy: 34.66%\n",
      "Epoch 5/100 - Train Loss: 2.8337, Train Acc: 28.70%, Test Loss: 2.5290, Test Acc: 34.66%\n"
     ]
    },
    {
     "name": "stderr",
     "output_type": "stream",
     "text": [
      "Epoch 6/100 [Train]: 100%|██████████| 391/391 [01:16<00:00,  5.09it/s, loss=2.84, acc=32.9]\n",
      "Epoch 6/100 [Test]: 100%|██████████| 79/79 [00:05<00:00, 14.59it/s, loss=2.06, acc=38.5]\n"
     ]
    },
    {
     "name": "stdout",
     "output_type": "stream",
     "text": [
      "Saved best model with accuracy: 38.45%\n",
      "Epoch 6/100 - Train Loss: 2.6290, Train Acc: 32.90%, Test Loss: 2.3870, Test Acc: 38.45%\n"
     ]
    },
    {
     "name": "stderr",
     "output_type": "stream",
     "text": [
      "Epoch 7/100 [Train]: 100%|██████████| 391/391 [01:16<00:00,  5.09it/s, loss=2.4, acc=36.2] \n",
      "Epoch 7/100 [Test]: 100%|██████████| 79/79 [00:05<00:00, 14.59it/s, loss=3.06, acc=40.9]\n"
     ]
    },
    {
     "name": "stdout",
     "output_type": "stream",
     "text": [
      "Saved best model with accuracy: 40.89%\n",
      "Epoch 7/100 - Train Loss: 2.4801, Train Acc: 36.16%, Test Loss: 2.7862, Test Acc: 40.89%\n"
     ]
    },
    {
     "name": "stderr",
     "output_type": "stream",
     "text": [
      "Epoch 8/100 [Train]: 100%|██████████| 391/391 [01:16<00:00,  5.09it/s, loss=2.21, acc=38.9]\n",
      "Epoch 8/100 [Test]: 100%|██████████| 79/79 [00:05<00:00, 14.60it/s, loss=1.5, acc=44.3] \n"
     ]
    },
    {
     "name": "stdout",
     "output_type": "stream",
     "text": [
      "Saved best model with accuracy: 44.34%\n",
      "Epoch 8/100 - Train Loss: 2.3511, Train Acc: 38.92%, Test Loss: 2.2202, Test Acc: 44.34%\n"
     ]
    },
    {
     "name": "stderr",
     "output_type": "stream",
     "text": [
      "Epoch 9/100 [Train]: 100%|██████████| 391/391 [01:16<00:00,  5.09it/s, loss=2.21, acc=41.5]\n",
      "Epoch 9/100 [Test]: 100%|██████████| 79/79 [00:05<00:00, 14.56it/s, loss=1.79, acc=46.6]\n"
     ]
    },
    {
     "name": "stdout",
     "output_type": "stream",
     "text": [
      "Saved best model with accuracy: 46.63%\n",
      "Epoch 9/100 - Train Loss: 2.2210, Train Acc: 41.50%, Test Loss: 2.0841, Test Acc: 46.63%\n"
     ]
    },
    {
     "name": "stderr",
     "output_type": "stream",
     "text": [
      "Epoch 10/100 [Train]: 100%|██████████| 391/391 [01:16<00:00,  5.09it/s, loss=2, acc=43.4]   \n",
      "Epoch 10/100 [Test]: 100%|██████████| 79/79 [00:05<00:00, 14.60it/s, loss=2.91, acc=49.8]\n"
     ]
    },
    {
     "name": "stdout",
     "output_type": "stream",
     "text": [
      "Saved best model with accuracy: 49.84%\n",
      "Epoch 10/100 - Train Loss: 2.1360, Train Acc: 43.43%, Test Loss: 1.9119, Test Acc: 49.84%\n"
     ]
    },
    {
     "name": "stderr",
     "output_type": "stream",
     "text": [
      "Epoch 11/100 [Train]: 100%|██████████| 391/391 [01:16<00:00,  5.09it/s, loss=2.06, acc=46]  \n",
      "Epoch 11/100 [Test]: 100%|██████████| 79/79 [00:05<00:00, 14.55it/s, loss=1.4, acc=49.1] \n"
     ]
    },
    {
     "name": "stdout",
     "output_type": "stream",
     "text": [
      "Epoch 11/100 - Train Loss: 2.0331, Train Acc: 45.97%, Test Loss: 1.9206, Test Acc: 49.11%\n"
     ]
    },
    {
     "name": "stderr",
     "output_type": "stream",
     "text": [
      "Epoch 12/100 [Train]: 100%|██████████| 391/391 [01:16<00:00,  5.09it/s, loss=2.13, acc=47.4]\n",
      "Epoch 12/100 [Test]: 100%|██████████| 79/79 [00:05<00:00, 14.57it/s, loss=1.23, acc=51.9]\n"
     ]
    },
    {
     "name": "stdout",
     "output_type": "stream",
     "text": [
      "Saved best model with accuracy: 51.86%\n",
      "Epoch 12/100 - Train Loss: 1.9605, Train Acc: 47.45%, Test Loss: 1.7481, Test Acc: 51.86%\n"
     ]
    },
    {
     "name": "stderr",
     "output_type": "stream",
     "text": [
      "Epoch 13/100 [Train]: 100%|██████████| 391/391 [01:16<00:00,  5.09it/s, loss=1.88, acc=49.6]\n",
      "Epoch 13/100 [Test]: 100%|██████████| 79/79 [00:05<00:00, 14.59it/s, loss=1.45, acc=51.7]\n"
     ]
    },
    {
     "name": "stdout",
     "output_type": "stream",
     "text": [
      "Epoch 13/100 - Train Loss: 1.8800, Train Acc: 49.65%, Test Loss: 1.8228, Test Acc: 51.71%\n"
     ]
    },
    {
     "name": "stderr",
     "output_type": "stream",
     "text": [
      "Epoch 14/100 [Train]: 100%|██████████| 391/391 [01:16<00:00,  5.09it/s, loss=1.91, acc=51.3]\n",
      "Epoch 14/100 [Test]: 100%|██████████| 79/79 [00:05<00:00, 14.55it/s, loss=1.32, acc=54.7]\n"
     ]
    },
    {
     "name": "stdout",
     "output_type": "stream",
     "text": [
      "Saved best model with accuracy: 54.73%\n",
      "Epoch 14/100 - Train Loss: 1.8100, Train Acc: 51.32%, Test Loss: 1.8661, Test Acc: 54.73%\n"
     ]
    },
    {
     "name": "stderr",
     "output_type": "stream",
     "text": [
      "Epoch 15/100 [Train]: 100%|██████████| 391/391 [01:16<00:00,  5.09it/s, loss=2.07, acc=52.5]\n",
      "Epoch 15/100 [Test]: 100%|██████████| 79/79 [00:05<00:00, 14.59it/s, loss=1.11, acc=56.3]\n"
     ]
    },
    {
     "name": "stdout",
     "output_type": "stream",
     "text": [
      "Saved best model with accuracy: 56.27%\n",
      "Epoch 15/100 - Train Loss: 1.7468, Train Acc: 52.54%, Test Loss: 1.6553, Test Acc: 56.27%\n"
     ]
    },
    {
     "name": "stderr",
     "output_type": "stream",
     "text": [
      "Epoch 16/100 [Train]: 100%|██████████| 391/391 [01:16<00:00,  5.09it/s, loss=1.59, acc=54]  \n",
      "Epoch 16/100 [Test]: 100%|██████████| 79/79 [00:05<00:00, 14.57it/s, loss=1.06, acc=56.7]\n"
     ]
    },
    {
     "name": "stdout",
     "output_type": "stream",
     "text": [
      "Saved best model with accuracy: 56.74%\n",
      "Epoch 16/100 - Train Loss: 1.6960, Train Acc: 53.99%, Test Loss: 1.5695, Test Acc: 56.74%\n"
     ]
    },
    {
     "name": "stderr",
     "output_type": "stream",
     "text": [
      "Epoch 17/100 [Train]: 100%|██████████| 391/391 [01:16<00:00,  5.09it/s, loss=1.82, acc=54.5]\n",
      "Epoch 17/100 [Test]: 100%|██████████| 79/79 [00:05<00:00, 14.59it/s, loss=0.828, acc=57] \n"
     ]
    },
    {
     "name": "stdout",
     "output_type": "stream",
     "text": [
      "Saved best model with accuracy: 56.95%\n",
      "Epoch 17/100 - Train Loss: 1.6791, Train Acc: 54.48%, Test Loss: 1.5680, Test Acc: 56.95%\n"
     ]
    },
    {
     "name": "stderr",
     "output_type": "stream",
     "text": [
      "Epoch 18/100 [Train]: 100%|██████████| 391/391 [01:16<00:00,  5.09it/s, loss=1.58, acc=55.6]\n",
      "Epoch 18/100 [Test]: 100%|██████████| 79/79 [00:05<00:00, 14.59it/s, loss=1.23, acc=60.5]\n"
     ]
    },
    {
     "name": "stdout",
     "output_type": "stream",
     "text": [
      "Saved best model with accuracy: 60.51%\n",
      "Epoch 18/100 - Train Loss: 1.6256, Train Acc: 55.63%, Test Loss: 1.4186, Test Acc: 60.51%\n"
     ]
    },
    {
     "name": "stderr",
     "output_type": "stream",
     "text": [
      "Epoch 19/100 [Train]: 100%|██████████| 391/391 [01:16<00:00,  5.09it/s, loss=1.66, acc=57.5]\n",
      "Epoch 19/100 [Test]: 100%|██████████| 79/79 [00:05<00:00, 14.54it/s, loss=1.62, acc=58.3]\n"
     ]
    },
    {
     "name": "stdout",
     "output_type": "stream",
     "text": [
      "Epoch 19/100 - Train Loss: 1.5680, Train Acc: 57.46%, Test Loss: 1.4970, Test Acc: 58.31%\n"
     ]
    },
    {
     "name": "stderr",
     "output_type": "stream",
     "text": [
      "Epoch 20/100 [Train]: 100%|██████████| 391/391 [01:16<00:00,  5.09it/s, loss=1.53, acc=58.5]\n",
      "Epoch 20/100 [Test]: 100%|██████████| 79/79 [00:05<00:00, 14.59it/s, loss=0.99, acc=60.4]\n"
     ]
    },
    {
     "name": "stdout",
     "output_type": "stream",
     "text": [
      "Epoch 20/100 - Train Loss: 1.5154, Train Acc: 58.47%, Test Loss: 1.4795, Test Acc: 60.35%\n"
     ]
    },
    {
     "name": "stderr",
     "output_type": "stream",
     "text": [
      "Epoch 21/100 [Train]: 100%|██████████| 391/391 [01:16<00:00,  5.09it/s, loss=1.49, acc=59.7]\n",
      "Epoch 21/100 [Test]: 100%|██████████| 79/79 [00:05<00:00, 14.56it/s, loss=0.731, acc=61.2]\n"
     ]
    },
    {
     "name": "stdout",
     "output_type": "stream",
     "text": [
      "Saved best model with accuracy: 61.19%\n",
      "Epoch 21/100 - Train Loss: 1.4713, Train Acc: 59.69%, Test Loss: 1.4356, Test Acc: 61.19%\n"
     ]
    },
    {
     "name": "stderr",
     "output_type": "stream",
     "text": [
      "Epoch 22/100 [Train]: 100%|██████████| 391/391 [01:16<00:00,  5.09it/s, loss=1.26, acc=61]  \n",
      "Epoch 22/100 [Test]: 100%|██████████| 79/79 [00:05<00:00, 14.60it/s, loss=1.05, acc=60.4]\n"
     ]
    },
    {
     "name": "stdout",
     "output_type": "stream",
     "text": [
      "Epoch 22/100 - Train Loss: 1.4125, Train Acc: 60.98%, Test Loss: 1.5251, Test Acc: 60.41%\n"
     ]
    },
    {
     "name": "stderr",
     "output_type": "stream",
     "text": [
      "Epoch 23/100 [Train]: 100%|██████████| 391/391 [01:16<00:00,  5.09it/s, loss=1.52, acc=62.1]\n",
      "Epoch 23/100 [Test]: 100%|██████████| 79/79 [00:05<00:00, 14.58it/s, loss=0.749, acc=64] \n"
     ]
    },
    {
     "name": "stdout",
     "output_type": "stream",
     "text": [
      "Saved best model with accuracy: 63.96%\n",
      "Epoch 23/100 - Train Loss: 1.3717, Train Acc: 62.09%, Test Loss: 1.3297, Test Acc: 63.96%\n"
     ]
    },
    {
     "name": "stderr",
     "output_type": "stream",
     "text": [
      "Epoch 24/100 [Train]: 100%|██████████| 391/391 [01:16<00:00,  5.09it/s, loss=1.54, acc=63]  \n",
      "Epoch 24/100 [Test]: 100%|██████████| 79/79 [00:05<00:00, 14.60it/s, loss=0.799, acc=62.9]\n"
     ]
    },
    {
     "name": "stdout",
     "output_type": "stream",
     "text": [
      "Epoch 24/100 - Train Loss: 1.3406, Train Acc: 62.97%, Test Loss: 1.3861, Test Acc: 62.91%\n"
     ]
    },
    {
     "name": "stderr",
     "output_type": "stream",
     "text": [
      "Epoch 25/100 [Train]: 100%|██████████| 391/391 [01:16<00:00,  5.09it/s, loss=1.17, acc=63.6]\n",
      "Epoch 25/100 [Test]: 100%|██████████| 79/79 [00:05<00:00, 14.59it/s, loss=1.04, acc=63.7] \n"
     ]
    },
    {
     "name": "stdout",
     "output_type": "stream",
     "text": [
      "Epoch 25/100 - Train Loss: 1.3119, Train Acc: 63.56%, Test Loss: 1.3326, Test Acc: 63.68%\n"
     ]
    },
    {
     "name": "stderr",
     "output_type": "stream",
     "text": [
      "Epoch 26/100 [Train]: 100%|██████████| 391/391 [01:16<00:00,  5.09it/s, loss=1.2, acc=64.3]  \n",
      "Epoch 26/100 [Test]: 100%|██████████| 79/79 [00:05<00:00, 14.57it/s, loss=0.954, acc=64.1]\n"
     ]
    },
    {
     "name": "stdout",
     "output_type": "stream",
     "text": [
      "Saved best model with accuracy: 64.09%\n",
      "Epoch 26/100 - Train Loss: 1.2915, Train Acc: 64.25%, Test Loss: 1.3110, Test Acc: 64.09%\n"
     ]
    },
    {
     "name": "stderr",
     "output_type": "stream",
     "text": [
      "Epoch 27/100 [Train]: 100%|██████████| 391/391 [01:16<00:00,  5.09it/s, loss=0.95, acc=65.6] \n",
      "Epoch 27/100 [Test]: 100%|██████████| 79/79 [00:05<00:00, 14.58it/s, loss=1.23, acc=64.9] \n"
     ]
    },
    {
     "name": "stdout",
     "output_type": "stream",
     "text": [
      "Saved best model with accuracy: 64.92%\n",
      "Epoch 27/100 - Train Loss: 1.2476, Train Acc: 65.59%, Test Loss: 1.3029, Test Acc: 64.92%\n"
     ]
    },
    {
     "name": "stderr",
     "output_type": "stream",
     "text": [
      "Epoch 28/100 [Train]: 100%|██████████| 391/391 [01:16<00:00,  5.09it/s, loss=0.945, acc=65.7]\n",
      "Epoch 28/100 [Test]: 100%|██████████| 79/79 [00:05<00:00, 14.62it/s, loss=0.987, acc=65.9]\n"
     ]
    },
    {
     "name": "stdout",
     "output_type": "stream",
     "text": [
      "Saved best model with accuracy: 65.90%\n",
      "Epoch 28/100 - Train Loss: 1.2237, Train Acc: 65.72%, Test Loss: 1.2530, Test Acc: 65.90%\n"
     ]
    },
    {
     "name": "stderr",
     "output_type": "stream",
     "text": [
      "Epoch 29/100 [Train]: 100%|██████████| 391/391 [01:16<00:00,  5.10it/s, loss=1.4, acc=66.9]  \n",
      "Epoch 29/100 [Test]: 100%|██████████| 79/79 [00:05<00:00, 14.61it/s, loss=0.91, acc=62.5]\n"
     ]
    },
    {
     "name": "stdout",
     "output_type": "stream",
     "text": [
      "Epoch 29/100 - Train Loss: 1.1829, Train Acc: 66.92%, Test Loss: 1.4578, Test Acc: 62.48%\n"
     ]
    },
    {
     "name": "stderr",
     "output_type": "stream",
     "text": [
      "Epoch 30/100 [Train]: 100%|██████████| 391/391 [01:16<00:00,  5.10it/s, loss=0.985, acc=67.3]\n",
      "Epoch 30/100 [Test]: 100%|██████████| 79/79 [00:05<00:00, 14.63it/s, loss=0.828, acc=66.7]\n"
     ]
    },
    {
     "name": "stdout",
     "output_type": "stream",
     "text": [
      "Saved best model with accuracy: 66.68%\n",
      "Epoch 30/100 - Train Loss: 1.1730, Train Acc: 67.32%, Test Loss: 1.2463, Test Acc: 66.68%\n"
     ]
    },
    {
     "name": "stderr",
     "output_type": "stream",
     "text": [
      "Epoch 31/100 [Train]: 100%|██████████| 391/391 [01:16<00:00,  5.10it/s, loss=1.08, acc=67.8] \n",
      "Epoch 31/100 [Test]: 100%|██████████| 79/79 [00:05<00:00, 14.62it/s, loss=1.15, acc=65.7] \n"
     ]
    },
    {
     "name": "stdout",
     "output_type": "stream",
     "text": [
      "Epoch 31/100 - Train Loss: 1.1594, Train Acc: 67.82%, Test Loss: 1.2984, Test Acc: 65.65%\n"
     ]
    },
    {
     "name": "stderr",
     "output_type": "stream",
     "text": [
      "Epoch 32/100 [Train]: 100%|██████████| 391/391 [01:16<00:00,  5.09it/s, loss=1.03, acc=68.9] \n",
      "Epoch 32/100 [Test]: 100%|██████████| 79/79 [00:05<00:00, 14.60it/s, loss=0.887, acc=68.2]\n"
     ]
    },
    {
     "name": "stdout",
     "output_type": "stream",
     "text": [
      "Saved best model with accuracy: 68.23%\n",
      "Epoch 32/100 - Train Loss: 1.1174, Train Acc: 68.88%, Test Loss: 1.2455, Test Acc: 68.23%\n"
     ]
    },
    {
     "name": "stderr",
     "output_type": "stream",
     "text": [
      "Epoch 33/100 [Train]: 100%|██████████| 391/391 [01:16<00:00,  5.09it/s, loss=1.23, acc=70.2] \n",
      "Epoch 33/100 [Test]: 100%|██████████| 79/79 [00:05<00:00, 14.57it/s, loss=1.07, acc=65.8]\n"
     ]
    },
    {
     "name": "stdout",
     "output_type": "stream",
     "text": [
      "Epoch 33/100 - Train Loss: 1.0695, Train Acc: 70.16%, Test Loss: 1.3562, Test Acc: 65.82%\n"
     ]
    },
    {
     "name": "stderr",
     "output_type": "stream",
     "text": [
      "Epoch 34/100 [Train]: 100%|██████████| 391/391 [01:16<00:00,  5.09it/s, loss=1.29, acc=71]   \n",
      "Epoch 34/100 [Test]: 100%|██████████| 79/79 [00:05<00:00, 14.60it/s, loss=0.886, acc=67.5]\n"
     ]
    },
    {
     "name": "stdout",
     "output_type": "stream",
     "text": [
      "Epoch 34/100 - Train Loss: 1.0328, Train Acc: 71.04%, Test Loss: 1.3115, Test Acc: 67.45%\n"
     ]
    },
    {
     "name": "stderr",
     "output_type": "stream",
     "text": [
      "Epoch 35/100 [Train]: 100%|██████████| 391/391 [01:16<00:00,  5.09it/s, loss=1.21, acc=71.8] \n",
      "Epoch 35/100 [Test]: 100%|██████████| 79/79 [00:05<00:00, 14.64it/s, loss=0.724, acc=64] \n"
     ]
    },
    {
     "name": "stdout",
     "output_type": "stream",
     "text": [
      "Epoch 35/100 - Train Loss: 1.0112, Train Acc: 71.77%, Test Loss: 1.6566, Test Acc: 64.01%\n"
     ]
    },
    {
     "name": "stderr",
     "output_type": "stream",
     "text": [
      "Epoch 36/100 [Train]: 100%|██████████| 391/391 [01:16<00:00,  5.10it/s, loss=1.01, acc=71.7] \n",
      "Epoch 36/100 [Test]: 100%|██████████| 79/79 [00:05<00:00, 14.55it/s, loss=1.04, acc=67.5] \n"
     ]
    },
    {
     "name": "stdout",
     "output_type": "stream",
     "text": [
      "Epoch 36/100 - Train Loss: 1.0081, Train Acc: 71.66%, Test Loss: 1.3390, Test Acc: 67.49%\n"
     ]
    },
    {
     "name": "stderr",
     "output_type": "stream",
     "text": [
      "Epoch 37/100 [Train]: 100%|██████████| 391/391 [01:16<00:00,  5.10it/s, loss=0.912, acc=73]  \n",
      "Epoch 37/100 [Test]: 100%|██████████| 79/79 [00:05<00:00, 14.63it/s, loss=0.768, acc=68.4]\n"
     ]
    },
    {
     "name": "stdout",
     "output_type": "stream",
     "text": [
      "Saved best model with accuracy: 68.40%\n",
      "Epoch 37/100 - Train Loss: 0.9629, Train Acc: 72.96%, Test Loss: 1.2497, Test Acc: 68.40%\n"
     ]
    },
    {
     "name": "stderr",
     "output_type": "stream",
     "text": [
      "Epoch 38/100 [Train]: 100%|██████████| 391/391 [01:16<00:00,  5.10it/s, loss=1.29, acc=73.2] \n",
      "Epoch 38/100 [Test]: 100%|██████████| 79/79 [00:05<00:00, 14.58it/s, loss=1.2, acc=69]    \n"
     ]
    },
    {
     "name": "stdout",
     "output_type": "stream",
     "text": [
      "Saved best model with accuracy: 68.97%\n",
      "Epoch 38/100 - Train Loss: 0.9543, Train Acc: 73.15%, Test Loss: 1.2628, Test Acc: 68.97%\n"
     ]
    },
    {
     "name": "stderr",
     "output_type": "stream",
     "text": [
      "Epoch 39/100 [Train]: 100%|██████████| 391/391 [01:16<00:00,  5.09it/s, loss=1.01, acc=74]   \n",
      "Epoch 39/100 [Test]: 100%|██████████| 79/79 [00:05<00:00, 14.57it/s, loss=1.09, acc=66.7] \n"
     ]
    },
    {
     "name": "stdout",
     "output_type": "stream",
     "text": [
      "Epoch 39/100 - Train Loss: 0.9219, Train Acc: 73.99%, Test Loss: 1.3709, Test Acc: 66.67%\n"
     ]
    },
    {
     "name": "stderr",
     "output_type": "stream",
     "text": [
      "Epoch 40/100 [Train]: 100%|██████████| 391/391 [01:16<00:00,  5.09it/s, loss=0.88, acc=75]   \n",
      "Epoch 40/100 [Test]: 100%|██████████| 79/79 [00:05<00:00, 14.65it/s, loss=0.97, acc=69.3] \n"
     ]
    },
    {
     "name": "stdout",
     "output_type": "stream",
     "text": [
      "Saved best model with accuracy: 69.35%\n",
      "Epoch 40/100 - Train Loss: 0.8915, Train Acc: 74.96%, Test Loss: 1.2684, Test Acc: 69.35%\n"
     ]
    },
    {
     "name": "stderr",
     "output_type": "stream",
     "text": [
      "Epoch 41/100 [Train]: 100%|██████████| 391/391 [01:16<00:00,  5.10it/s, loss=0.796, acc=75.3]\n",
      "Epoch 41/100 [Test]: 100%|██████████| 79/79 [00:05<00:00, 14.58it/s, loss=0.946, acc=68.3]\n"
     ]
    },
    {
     "name": "stdout",
     "output_type": "stream",
     "text": [
      "Epoch 41/100 - Train Loss: 0.8816, Train Acc: 75.25%, Test Loss: 1.3104, Test Acc: 68.34%\n"
     ]
    },
    {
     "name": "stderr",
     "output_type": "stream",
     "text": [
      "Epoch 42/100 [Train]: 100%|██████████| 391/391 [01:16<00:00,  5.09it/s, loss=0.909, acc=75.9]\n",
      "Epoch 42/100 [Test]: 100%|██████████| 79/79 [00:05<00:00, 14.64it/s, loss=0.814, acc=69]  \n"
     ]
    },
    {
     "name": "stdout",
     "output_type": "stream",
     "text": [
      "Epoch 42/100 - Train Loss: 0.8610, Train Acc: 75.88%, Test Loss: 1.2832, Test Acc: 68.96%\n"
     ]
    },
    {
     "name": "stderr",
     "output_type": "stream",
     "text": [
      "Epoch 43/100 [Train]: 100%|██████████| 391/391 [01:16<00:00,  5.10it/s, loss=0.879, acc=76.5]\n",
      "Epoch 43/100 [Test]: 100%|██████████| 79/79 [00:05<00:00, 14.64it/s, loss=0.757, acc=68.3]\n"
     ]
    },
    {
     "name": "stdout",
     "output_type": "stream",
     "text": [
      "Epoch 43/100 - Train Loss: 0.8342, Train Acc: 76.52%, Test Loss: 1.5722, Test Acc: 68.32%\n"
     ]
    },
    {
     "name": "stderr",
     "output_type": "stream",
     "text": [
      "Epoch 44/100 [Train]: 100%|██████████| 391/391 [01:16<00:00,  5.09it/s, loss=0.541, acc=77.2]\n",
      "Epoch 44/100 [Test]: 100%|██████████| 79/79 [00:05<00:00, 14.62it/s, loss=0.972, acc=68.5]\n"
     ]
    },
    {
     "name": "stdout",
     "output_type": "stream",
     "text": [
      "Epoch 44/100 - Train Loss: 0.8131, Train Acc: 77.19%, Test Loss: 1.5642, Test Acc: 68.47%\n"
     ]
    },
    {
     "name": "stderr",
     "output_type": "stream",
     "text": [
      "Epoch 45/100 [Train]: 100%|██████████| 391/391 [01:16<00:00,  5.09it/s, loss=0.848, acc=77.7]\n",
      "Epoch 45/100 [Test]: 100%|██████████| 79/79 [00:05<00:00, 14.63it/s, loss=0.763, acc=69]  \n"
     ]
    },
    {
     "name": "stdout",
     "output_type": "stream",
     "text": [
      "Epoch 45/100 - Train Loss: 0.7902, Train Acc: 77.75%, Test Loss: 1.3752, Test Acc: 68.98%\n"
     ]
    },
    {
     "name": "stderr",
     "output_type": "stream",
     "text": [
      "Epoch 46/100 [Train]: 100%|██████████| 391/391 [01:16<00:00,  5.10it/s, loss=0.89, acc=78.2] \n",
      "Epoch 46/100 [Test]: 100%|██████████| 79/79 [00:05<00:00, 14.61it/s, loss=0.887, acc=69.9]\n"
     ]
    },
    {
     "name": "stdout",
     "output_type": "stream",
     "text": [
      "Saved best model with accuracy: 69.86%\n",
      "Epoch 46/100 - Train Loss: 0.7751, Train Acc: 78.15%, Test Loss: 1.4325, Test Acc: 69.86%\n"
     ]
    },
    {
     "name": "stderr",
     "output_type": "stream",
     "text": [
      "Epoch 47/100 [Train]: 100%|██████████| 391/391 [01:16<00:00,  5.10it/s, loss=1.07, acc=78.8] \n",
      "Epoch 47/100 [Test]: 100%|██████████| 79/79 [00:05<00:00, 14.64it/s, loss=0.862, acc=69.7]\n"
     ]
    },
    {
     "name": "stdout",
     "output_type": "stream",
     "text": [
      "Epoch 47/100 - Train Loss: 0.7543, Train Acc: 78.76%, Test Loss: 1.3315, Test Acc: 69.70%\n"
     ]
    },
    {
     "name": "stderr",
     "output_type": "stream",
     "text": [
      "Epoch 48/100 [Train]: 100%|██████████| 391/391 [01:16<00:00,  5.10it/s, loss=0.485, acc=79.3]\n",
      "Epoch 48/100 [Test]: 100%|██████████| 79/79 [00:05<00:00, 14.64it/s, loss=0.869, acc=68.3]\n"
     ]
    },
    {
     "name": "stdout",
     "output_type": "stream",
     "text": [
      "Epoch 48/100 - Train Loss: 0.7383, Train Acc: 79.33%, Test Loss: 1.5348, Test Acc: 68.33%\n"
     ]
    },
    {
     "name": "stderr",
     "output_type": "stream",
     "text": [
      "Epoch 49/100 [Train]: 100%|██████████| 391/391 [01:16<00:00,  5.10it/s, loss=0.81, acc=79.9] \n",
      "Epoch 49/100 [Test]: 100%|██████████| 79/79 [00:05<00:00, 14.65it/s, loss=0.938, acc=68.8]\n"
     ]
    },
    {
     "name": "stdout",
     "output_type": "stream",
     "text": [
      "Epoch 49/100 - Train Loss: 0.7190, Train Acc: 79.89%, Test Loss: 1.4600, Test Acc: 68.85%\n"
     ]
    },
    {
     "name": "stderr",
     "output_type": "stream",
     "text": [
      "Epoch 50/100 [Train]: 100%|██████████| 391/391 [01:16<00:00,  5.10it/s, loss=0.625, acc=80.4]\n",
      "Epoch 50/100 [Test]: 100%|██████████| 79/79 [00:05<00:00, 14.60it/s, loss=1.04, acc=69.3] \n"
     ]
    },
    {
     "name": "stdout",
     "output_type": "stream",
     "text": [
      "Epoch 50/100 - Train Loss: 0.7035, Train Acc: 80.41%, Test Loss: 1.4512, Test Acc: 69.33%\n"
     ]
    },
    {
     "name": "stderr",
     "output_type": "stream",
     "text": [
      "Epoch 51/100 [Train]: 100%|██████████| 391/391 [01:16<00:00,  5.09it/s, loss=0.716, acc=81]  \n",
      "Epoch 51/100 [Test]: 100%|██████████| 79/79 [00:05<00:00, 14.59it/s, loss=1.03, acc=69]  \n"
     ]
    },
    {
     "name": "stdout",
     "output_type": "stream",
     "text": [
      "Epoch 51/100 - Train Loss: 0.6837, Train Acc: 80.95%, Test Loss: 1.5433, Test Acc: 68.98%\n"
     ]
    },
    {
     "name": "stderr",
     "output_type": "stream",
     "text": [
      "Epoch 52/100 [Train]: 100%|██████████| 391/391 [01:16<00:00,  5.10it/s, loss=1.04, acc=81.2] \n",
      "Epoch 52/100 [Test]: 100%|██████████| 79/79 [00:05<00:00, 14.61it/s, loss=0.907, acc=69.5]\n"
     ]
    },
    {
     "name": "stdout",
     "output_type": "stream",
     "text": [
      "Epoch 52/100 - Train Loss: 0.6742, Train Acc: 81.19%, Test Loss: 1.6513, Test Acc: 69.48%\n"
     ]
    },
    {
     "name": "stderr",
     "output_type": "stream",
     "text": [
      "Epoch 53/100 [Train]: 100%|██████████| 391/391 [01:16<00:00,  5.10it/s, loss=0.641, acc=81.7]\n",
      "Epoch 53/100 [Test]: 100%|██████████| 79/79 [00:05<00:00, 14.56it/s, loss=0.954, acc=69.6]\n"
     ]
    },
    {
     "name": "stdout",
     "output_type": "stream",
     "text": [
      "Epoch 53/100 - Train Loss: 0.6562, Train Acc: 81.69%, Test Loss: 1.4419, Test Acc: 69.59%\n"
     ]
    },
    {
     "name": "stderr",
     "output_type": "stream",
     "text": [
      "Epoch 54/100 [Train]: 100%|██████████| 391/391 [01:16<00:00,  5.10it/s, loss=0.56, acc=82.2] \n",
      "Epoch 54/100 [Test]: 100%|██████████| 79/79 [00:05<00:00, 14.66it/s, loss=0.809, acc=69.7]\n"
     ]
    },
    {
     "name": "stdout",
     "output_type": "stream",
     "text": [
      "Epoch 54/100 - Train Loss: 0.6439, Train Acc: 82.16%, Test Loss: 1.5054, Test Acc: 69.68%\n"
     ]
    },
    {
     "name": "stderr",
     "output_type": "stream",
     "text": [
      "Epoch 55/100 [Train]: 100%|██████████| 391/391 [01:16<00:00,  5.10it/s, loss=0.837, acc=82.5]\n",
      "Epoch 55/100 [Test]: 100%|██████████| 79/79 [00:05<00:00, 14.62it/s, loss=0.687, acc=70.3]\n"
     ]
    },
    {
     "name": "stdout",
     "output_type": "stream",
     "text": [
      "Saved best model with accuracy: 70.28%\n",
      "Epoch 55/100 - Train Loss: 0.6286, Train Acc: 82.51%, Test Loss: 1.4427, Test Acc: 70.28%\n"
     ]
    },
    {
     "name": "stderr",
     "output_type": "stream",
     "text": [
      "Epoch 56/100 [Train]: 100%|██████████| 391/391 [01:16<00:00,  5.10it/s, loss=0.599, acc=83.1]\n",
      "Epoch 56/100 [Test]: 100%|██████████| 79/79 [00:05<00:00, 14.63it/s, loss=1.2, acc=70.5]  \n"
     ]
    },
    {
     "name": "stdout",
     "output_type": "stream",
     "text": [
      "Saved best model with accuracy: 70.50%\n",
      "Epoch 56/100 - Train Loss: 0.6106, Train Acc: 83.11%, Test Loss: 1.4962, Test Acc: 70.50%\n"
     ]
    },
    {
     "name": "stderr",
     "output_type": "stream",
     "text": [
      "Epoch 57/100 [Train]: 100%|██████████| 391/391 [01:16<00:00,  5.10it/s, loss=0.635, acc=83.3]\n",
      "Epoch 57/100 [Test]: 100%|██████████| 79/79 [00:05<00:00, 14.66it/s, loss=1.12, acc=69.9]\n"
     ]
    },
    {
     "name": "stdout",
     "output_type": "stream",
     "text": [
      "Epoch 57/100 - Train Loss: 0.6038, Train Acc: 83.33%, Test Loss: 1.4669, Test Acc: 69.86%\n"
     ]
    },
    {
     "name": "stderr",
     "output_type": "stream",
     "text": [
      "Epoch 58/100 [Train]: 100%|██████████| 391/391 [01:16<00:00,  5.10it/s, loss=0.733, acc=83.7]\n",
      "Epoch 58/100 [Test]: 100%|██████████| 79/79 [00:05<00:00, 14.60it/s, loss=0.762, acc=69.6]\n"
     ]
    },
    {
     "name": "stdout",
     "output_type": "stream",
     "text": [
      "Epoch 58/100 - Train Loss: 0.5891, Train Acc: 83.71%, Test Loss: 1.4799, Test Acc: 69.60%\n"
     ]
    },
    {
     "name": "stderr",
     "output_type": "stream",
     "text": [
      "Epoch 59/100 [Train]: 100%|██████████| 391/391 [01:16<00:00,  5.10it/s, loss=0.658, acc=83.6]\n",
      "Epoch 59/100 [Test]: 100%|██████████| 79/79 [00:05<00:00, 14.64it/s, loss=0.818, acc=70.6]\n"
     ]
    },
    {
     "name": "stdout",
     "output_type": "stream",
     "text": [
      "Saved best model with accuracy: 70.64%\n",
      "Epoch 59/100 - Train Loss: 0.5923, Train Acc: 83.57%, Test Loss: 1.4614, Test Acc: 70.64%\n"
     ]
    },
    {
     "name": "stderr",
     "output_type": "stream",
     "text": [
      "Epoch 60/100 [Train]: 100%|██████████| 391/391 [01:16<00:00,  5.10it/s, loss=0.663, acc=84.2]\n",
      "Epoch 60/100 [Test]: 100%|██████████| 79/79 [00:05<00:00, 14.63it/s, loss=0.739, acc=70.5]\n"
     ]
    },
    {
     "name": "stdout",
     "output_type": "stream",
     "text": [
      "Epoch 60/100 - Train Loss: 0.5659, Train Acc: 84.23%, Test Loss: 1.5418, Test Acc: 70.52%\n"
     ]
    },
    {
     "name": "stderr",
     "output_type": "stream",
     "text": [
      "Epoch 61/100 [Train]: 100%|██████████| 391/391 [01:16<00:00,  5.10it/s, loss=0.583, acc=84.5]\n",
      "Epoch 61/100 [Test]: 100%|██████████| 79/79 [00:05<00:00, 14.63it/s, loss=0.741, acc=70.5]\n"
     ]
    },
    {
     "name": "stdout",
     "output_type": "stream",
     "text": [
      "Epoch 61/100 - Train Loss: 0.5598, Train Acc: 84.52%, Test Loss: 1.4965, Test Acc: 70.54%\n"
     ]
    },
    {
     "name": "stderr",
     "output_type": "stream",
     "text": [
      "Epoch 62/100 [Train]: 100%|██████████| 391/391 [01:16<00:00,  5.10it/s, loss=0.409, acc=85.2]\n",
      "Epoch 62/100 [Test]: 100%|██████████| 79/79 [00:05<00:00, 14.65it/s, loss=1.16, acc=70.6] \n"
     ]
    },
    {
     "name": "stdout",
     "output_type": "stream",
     "text": [
      "Epoch 62/100 - Train Loss: 0.5389, Train Acc: 85.19%, Test Loss: 1.4943, Test Acc: 70.60%\n"
     ]
    },
    {
     "name": "stderr",
     "output_type": "stream",
     "text": [
      "Epoch 63/100 [Train]: 100%|██████████| 391/391 [01:16<00:00,  5.10it/s, loss=0.582, acc=85.1]\n",
      "Epoch 63/100 [Test]: 100%|██████████| 79/79 [00:05<00:00, 14.62it/s, loss=1.14, acc=71.1] \n"
     ]
    },
    {
     "name": "stdout",
     "output_type": "stream",
     "text": [
      "Saved best model with accuracy: 71.07%\n",
      "Epoch 63/100 - Train Loss: 0.5378, Train Acc: 85.15%, Test Loss: 1.4855, Test Acc: 71.07%\n"
     ]
    },
    {
     "name": "stderr",
     "output_type": "stream",
     "text": [
      "Epoch 64/100 [Train]: 100%|██████████| 391/391 [01:16<00:00,  5.10it/s, loss=0.5, acc=85.7]  \n",
      "Epoch 64/100 [Test]: 100%|██████████| 79/79 [00:05<00:00, 14.64it/s, loss=0.811, acc=71.2]\n"
     ]
    },
    {
     "name": "stdout",
     "output_type": "stream",
     "text": [
      "Saved best model with accuracy: 71.19%\n",
      "Epoch 64/100 - Train Loss: 0.5216, Train Acc: 85.72%, Test Loss: 1.4522, Test Acc: 71.19%\n"
     ]
    },
    {
     "name": "stderr",
     "output_type": "stream",
     "text": [
      "Epoch 65/100 [Train]: 100%|██████████| 391/391 [01:16<00:00,  5.10it/s, loss=0.275, acc=85.9]\n",
      "Epoch 65/100 [Test]: 100%|██████████| 79/79 [00:05<00:00, 14.61it/s, loss=1.14, acc=71.1] \n"
     ]
    },
    {
     "name": "stdout",
     "output_type": "stream",
     "text": [
      "Epoch 65/100 - Train Loss: 0.5169, Train Acc: 85.89%, Test Loss: 1.4914, Test Acc: 71.10%\n"
     ]
    },
    {
     "name": "stderr",
     "output_type": "stream",
     "text": [
      "Epoch 66/100 [Train]: 100%|██████████| 391/391 [01:16<00:00,  5.09it/s, loss=0.625, acc=85.7]\n",
      "Epoch 66/100 [Test]: 100%|██████████| 79/79 [00:05<00:00, 14.65it/s, loss=0.981, acc=70.6]\n"
     ]
    },
    {
     "name": "stdout",
     "output_type": "stream",
     "text": [
      "Epoch 66/100 - Train Loss: 0.5195, Train Acc: 85.73%, Test Loss: 1.5946, Test Acc: 70.61%\n"
     ]
    },
    {
     "name": "stderr",
     "output_type": "stream",
     "text": [
      "Epoch 67/100 [Train]: 100%|██████████| 391/391 [01:16<00:00,  5.09it/s, loss=0.341, acc=86.1]\n",
      "Epoch 67/100 [Test]: 100%|██████████| 79/79 [00:05<00:00, 14.59it/s, loss=1.06, acc=70.2] \n"
     ]
    },
    {
     "name": "stdout",
     "output_type": "stream",
     "text": [
      "Epoch 67/100 - Train Loss: 0.5060, Train Acc: 86.09%, Test Loss: 1.5462, Test Acc: 70.22%\n"
     ]
    },
    {
     "name": "stderr",
     "output_type": "stream",
     "text": [
      "Epoch 68/100 [Train]: 100%|██████████| 391/391 [01:16<00:00,  5.09it/s, loss=0.604, acc=86.4]\n",
      "Epoch 68/100 [Test]: 100%|██████████| 79/79 [00:05<00:00, 14.59it/s, loss=1.1, acc=71.2]  \n"
     ]
    },
    {
     "name": "stdout",
     "output_type": "stream",
     "text": [
      "Epoch 68/100 - Train Loss: 0.4913, Train Acc: 86.35%, Test Loss: 1.5109, Test Acc: 71.15%\n"
     ]
    },
    {
     "name": "stderr",
     "output_type": "stream",
     "text": [
      "Epoch 69/100 [Train]: 100%|██████████| 391/391 [01:16<00:00,  5.10it/s, loss=0.497, acc=86.6]\n",
      "Epoch 69/100 [Test]: 100%|██████████| 79/79 [00:05<00:00, 14.60it/s, loss=1.2, acc=70.8]  \n"
     ]
    },
    {
     "name": "stdout",
     "output_type": "stream",
     "text": [
      "Epoch 69/100 - Train Loss: 0.4851, Train Acc: 86.60%, Test Loss: 1.5665, Test Acc: 70.80%\n"
     ]
    },
    {
     "name": "stderr",
     "output_type": "stream",
     "text": [
      "Epoch 70/100 [Train]: 100%|██████████| 391/391 [01:16<00:00,  5.09it/s, loss=0.51, acc=86.7] \n",
      "Epoch 70/100 [Test]: 100%|██████████| 79/79 [00:05<00:00, 14.62it/s, loss=1.19, acc=70.8] \n"
     ]
    },
    {
     "name": "stdout",
     "output_type": "stream",
     "text": [
      "Epoch 70/100 - Train Loss: 0.4835, Train Acc: 86.75%, Test Loss: 1.6291, Test Acc: 70.78%\n"
     ]
    },
    {
     "name": "stderr",
     "output_type": "stream",
     "text": [
      "Epoch 71/100 [Train]: 100%|██████████| 391/391 [01:16<00:00,  5.09it/s, loss=0.423, acc=87.1]\n",
      "Epoch 71/100 [Test]: 100%|██████████| 79/79 [00:05<00:00, 14.55it/s, loss=0.95, acc=71.3] \n"
     ]
    },
    {
     "name": "stdout",
     "output_type": "stream",
     "text": [
      "Saved best model with accuracy: 71.26%\n",
      "Epoch 71/100 - Train Loss: 0.4736, Train Acc: 87.09%, Test Loss: 1.5267, Test Acc: 71.26%\n"
     ]
    },
    {
     "name": "stderr",
     "output_type": "stream",
     "text": [
      "Epoch 72/100 [Train]: 100%|██████████| 391/391 [01:16<00:00,  5.09it/s, loss=0.49, acc=87.5] \n",
      "Epoch 72/100 [Test]: 100%|██████████| 79/79 [00:05<00:00, 14.57it/s, loss=0.948, acc=71.4]\n"
     ]
    },
    {
     "name": "stdout",
     "output_type": "stream",
     "text": [
      "Saved best model with accuracy: 71.39%\n",
      "Epoch 72/100 - Train Loss: 0.4541, Train Acc: 87.45%, Test Loss: 1.4744, Test Acc: 71.39%\n"
     ]
    },
    {
     "name": "stderr",
     "output_type": "stream",
     "text": [
      "Epoch 73/100 [Train]: 100%|██████████| 391/391 [01:16<00:00,  5.09it/s, loss=0.383, acc=87.5]\n",
      "Epoch 73/100 [Test]: 100%|██████████| 79/79 [00:05<00:00, 14.55it/s, loss=1.18, acc=71.2] \n"
     ]
    },
    {
     "name": "stdout",
     "output_type": "stream",
     "text": [
      "Epoch 73/100 - Train Loss: 0.4577, Train Acc: 87.51%, Test Loss: 1.5496, Test Acc: 71.25%\n"
     ]
    },
    {
     "name": "stderr",
     "output_type": "stream",
     "text": [
      "Epoch 74/100 [Train]: 100%|██████████| 391/391 [01:16<00:00,  5.09it/s, loss=0.484, acc=87.6]\n",
      "Epoch 74/100 [Test]: 100%|██████████| 79/79 [00:05<00:00, 14.65it/s, loss=0.981, acc=71.2]\n"
     ]
    },
    {
     "name": "stdout",
     "output_type": "stream",
     "text": [
      "Epoch 74/100 - Train Loss: 0.4528, Train Acc: 87.59%, Test Loss: 1.4922, Test Acc: 71.24%\n"
     ]
    },
    {
     "name": "stderr",
     "output_type": "stream",
     "text": [
      "Epoch 75/100 [Train]: 100%|██████████| 391/391 [01:16<00:00,  5.10it/s, loss=0.479, acc=88.1]\n",
      "Epoch 75/100 [Test]: 100%|██████████| 79/79 [00:05<00:00, 14.64it/s, loss=1.2, acc=71.6]  \n"
     ]
    },
    {
     "name": "stdout",
     "output_type": "stream",
     "text": [
      "Saved best model with accuracy: 71.56%\n",
      "Epoch 75/100 - Train Loss: 0.4356, Train Acc: 88.07%, Test Loss: 1.6414, Test Acc: 71.56%\n"
     ]
    },
    {
     "name": "stderr",
     "output_type": "stream",
     "text": [
      "Epoch 76/100 [Train]: 100%|██████████| 391/391 [01:16<00:00,  5.09it/s, loss=0.411, acc=87.8]\n",
      "Epoch 76/100 [Test]: 100%|██████████| 79/79 [00:05<00:00, 14.65it/s, loss=1.03, acc=71.2]\n"
     ]
    },
    {
     "name": "stdout",
     "output_type": "stream",
     "text": [
      "Epoch 76/100 - Train Loss: 0.4432, Train Acc: 87.78%, Test Loss: 1.5933, Test Acc: 71.25%\n"
     ]
    },
    {
     "name": "stderr",
     "output_type": "stream",
     "text": [
      "Epoch 77/100 [Train]: 100%|██████████| 391/391 [01:16<00:00,  5.09it/s, loss=0.352, acc=88]  \n",
      "Epoch 77/100 [Test]: 100%|██████████| 79/79 [00:05<00:00, 14.59it/s, loss=0.733, acc=71.3]\n"
     ]
    },
    {
     "name": "stdout",
     "output_type": "stream",
     "text": [
      "Epoch 77/100 - Train Loss: 0.4391, Train Acc: 87.99%, Test Loss: 1.6608, Test Acc: 71.30%\n"
     ]
    },
    {
     "name": "stderr",
     "output_type": "stream",
     "text": [
      "Epoch 78/100 [Train]: 100%|██████████| 391/391 [01:16<00:00,  5.10it/s, loss=0.582, acc=88.1]\n",
      "Epoch 78/100 [Test]: 100%|██████████| 79/79 [00:05<00:00, 14.57it/s, loss=0.797, acc=71.5]\n"
     ]
    },
    {
     "name": "stdout",
     "output_type": "stream",
     "text": [
      "Epoch 78/100 - Train Loss: 0.4353, Train Acc: 88.14%, Test Loss: 1.5312, Test Acc: 71.50%\n"
     ]
    },
    {
     "name": "stderr",
     "output_type": "stream",
     "text": [
      "Epoch 79/100 [Train]: 100%|██████████| 391/391 [01:16<00:00,  5.09it/s, loss=0.744, acc=88.5]\n",
      "Epoch 79/100 [Test]: 100%|██████████| 79/79 [00:05<00:00, 14.59it/s, loss=0.875, acc=71.3]\n"
     ]
    },
    {
     "name": "stdout",
     "output_type": "stream",
     "text": [
      "Epoch 79/100 - Train Loss: 0.4220, Train Acc: 88.51%, Test Loss: 1.5095, Test Acc: 71.35%\n"
     ]
    },
    {
     "name": "stderr",
     "output_type": "stream",
     "text": [
      "Epoch 80/100 [Train]: 100%|██████████| 391/391 [01:16<00:00,  5.09it/s, loss=0.391, acc=88.7]\n",
      "Epoch 80/100 [Test]: 100%|██████████| 79/79 [00:05<00:00, 14.53it/s, loss=0.952, acc=71.5]\n"
     ]
    },
    {
     "name": "stdout",
     "output_type": "stream",
     "text": [
      "Epoch 80/100 - Train Loss: 0.4204, Train Acc: 88.72%, Test Loss: 1.5269, Test Acc: 71.47%\n"
     ]
    },
    {
     "name": "stderr",
     "output_type": "stream",
     "text": [
      "Epoch 81/100 [Train]: 100%|██████████| 391/391 [01:16<00:00,  5.09it/s, loss=0.277, acc=88.8]\n",
      "Epoch 81/100 [Test]: 100%|██████████| 79/79 [00:05<00:00, 14.62it/s, loss=0.95, acc=71.3]\n"
     ]
    },
    {
     "name": "stdout",
     "output_type": "stream",
     "text": [
      "Epoch 81/100 - Train Loss: 0.4126, Train Acc: 88.82%, Test Loss: 1.5439, Test Acc: 71.26%\n"
     ]
    },
    {
     "name": "stderr",
     "output_type": "stream",
     "text": [
      "Epoch 82/100 [Train]: 100%|██████████| 391/391 [01:16<00:00,  5.10it/s, loss=0.514, acc=89.1]\n",
      "Epoch 82/100 [Test]: 100%|██████████| 79/79 [00:05<00:00, 14.64it/s, loss=0.924, acc=71.8]\n"
     ]
    },
    {
     "name": "stdout",
     "output_type": "stream",
     "text": [
      "Saved best model with accuracy: 71.75%\n",
      "Epoch 82/100 - Train Loss: 0.4003, Train Acc: 89.08%, Test Loss: 1.5402, Test Acc: 71.75%\n"
     ]
    },
    {
     "name": "stderr",
     "output_type": "stream",
     "text": [
      "Epoch 83/100 [Train]: 100%|██████████| 391/391 [01:16<00:00,  5.10it/s, loss=0.258, acc=89.2]\n",
      "Epoch 83/100 [Test]: 100%|██████████| 79/79 [00:05<00:00, 14.64it/s, loss=1.01, acc=71.3] \n"
     ]
    },
    {
     "name": "stdout",
     "output_type": "stream",
     "text": [
      "Epoch 83/100 - Train Loss: 0.3958, Train Acc: 89.18%, Test Loss: 1.5395, Test Acc: 71.32%\n"
     ]
    },
    {
     "name": "stderr",
     "output_type": "stream",
     "text": [
      "Epoch 84/100 [Train]: 100%|██████████| 391/391 [01:16<00:00,  5.10it/s, loss=0.297, acc=89.3]\n",
      "Epoch 84/100 [Test]: 100%|██████████| 79/79 [00:05<00:00, 14.56it/s, loss=1.01, acc=72]   \n"
     ]
    },
    {
     "name": "stdout",
     "output_type": "stream",
     "text": [
      "Saved best model with accuracy: 72.03%\n",
      "Epoch 84/100 - Train Loss: 0.3930, Train Acc: 89.28%, Test Loss: 1.5023, Test Acc: 72.03%\n"
     ]
    },
    {
     "name": "stderr",
     "output_type": "stream",
     "text": [
      "Epoch 85/100 [Train]: 100%|██████████| 391/391 [01:16<00:00,  5.09it/s, loss=0.342, acc=89.1]\n",
      "Epoch 85/100 [Test]: 100%|██████████| 79/79 [00:05<00:00, 14.62it/s, loss=0.833, acc=71.8]\n"
     ]
    },
    {
     "name": "stdout",
     "output_type": "stream",
     "text": [
      "Epoch 85/100 - Train Loss: 0.3995, Train Acc: 89.09%, Test Loss: 1.5818, Test Acc: 71.81%\n"
     ]
    },
    {
     "name": "stderr",
     "output_type": "stream",
     "text": [
      "Epoch 86/100 [Train]: 100%|██████████| 391/391 [01:16<00:00,  5.10it/s, loss=0.391, acc=89.3]\n",
      "Epoch 86/100 [Test]: 100%|██████████| 79/79 [00:05<00:00, 14.64it/s, loss=0.752, acc=72.1]\n"
     ]
    },
    {
     "name": "stdout",
     "output_type": "stream",
     "text": [
      "Saved best model with accuracy: 72.09%\n",
      "Epoch 86/100 - Train Loss: 0.3902, Train Acc: 89.25%, Test Loss: 1.4990, Test Acc: 72.09%\n"
     ]
    },
    {
     "name": "stderr",
     "output_type": "stream",
     "text": [
      "Epoch 87/100 [Train]: 100%|██████████| 391/391 [01:16<00:00,  5.09it/s, loss=0.475, acc=89.5]\n",
      "Epoch 87/100 [Test]: 100%|██████████| 79/79 [00:05<00:00, 14.62it/s, loss=0.851, acc=72.2]\n"
     ]
    },
    {
     "name": "stdout",
     "output_type": "stream",
     "text": [
      "Saved best model with accuracy: 72.19%\n",
      "Epoch 87/100 - Train Loss: 0.3863, Train Acc: 89.55%, Test Loss: 1.4954, Test Acc: 72.19%\n"
     ]
    },
    {
     "name": "stderr",
     "output_type": "stream",
     "text": [
      "Epoch 88/100 [Train]: 100%|██████████| 391/391 [01:16<00:00,  5.09it/s, loss=0.759, acc=89.5]\n",
      "Epoch 88/100 [Test]:   6%|▋         | 5/79 [00:00<00:05, 12.36it/s, loss=1.59, acc=73.1]"
     ]
    }
   ],
   "source": [
    "teacher_path = './teacher_model.pth'\n",
    "if os.path.exists(teacher_path):\n",
    "    print(\"Loading pre-trained teacher model...\")\n",
    "    teacher_model.load_state_dict(torch.load(teacher_path, weights_only=True))\n",
    "else:\n",
    "    print(\"Training teacher model...\")\n",
    "    teacher_model, teacher_history = train_model(\n",
    "        teacher_model, train_loader, test_loader, epochs=100, device=device, save_path=teacher_path\n",
    "    )"
   ]
  },
  {
   "cell_type": "markdown",
   "id": "5f1d51e2",
   "metadata": {},
   "source": [
    "# Knowledge Distillation"
   ]
  },
  {
   "cell_type": "code",
   "execution_count": null,
   "id": "ee7a4199",
   "metadata": {
    "trusted": true
   },
   "outputs": [],
   "source": [
    "class DistillationLoss(nn.Module):\n",
    "    def __init__(self, alpha=0.5, temperature=4.0):\n",
    "        super(DistillationLoss, self).__init__()\n",
    "        self.alpha = alpha\n",
    "        self.temperature = temperature\n",
    "        self.criterion = nn.CrossEntropyLoss()\n",
    "    \n",
    "    def forward(self, student_outputs, teacher_outputs, targets):\n",
    "        hard_loss = self.criterion(student_outputs, targets)\n",
    "        soft_student = F.log_softmax(student_outputs / self.temperature, dim=1)\n",
    "        soft_teacher = F.softmax(teacher_outputs / self.temperature, dim=1)\n",
    "        soft_loss = F.kl_div(soft_student, soft_teacher, reduction='batchmean') * (self.temperature ** 2)\n",
    "        return (1 - self.alpha) * hard_loss + self.alpha * soft_loss"
   ]
  },
  {
   "cell_type": "markdown",
   "id": "99969b2a",
   "metadata": {},
   "source": [
    "# Training Students (From Scratch vs Distillation)"
   ]
  },
  {
   "cell_type": "code",
   "execution_count": null,
   "id": "a15a6c02",
   "metadata": {
    "trusted": true
   },
   "outputs": [],
   "source": [
    "student_model_baseline = create_student_model().to(device)\n",
    "\n",
    "print(\"Training student model from scratch without distillation...\")\n",
    "student_baseline_path = './student_baseline_model.pth'\n",
    "student_model_baseline, student_baseline_history = train_model(\n",
    "    student_model_baseline, train_loader, test_loader, epochs=100,\n",
    "    save_path=student_baseline_path, is_teacher=False\n",
    ")"
   ]
  },
  {
   "cell_type": "code",
   "execution_count": null,
   "id": "20b1fe3b",
   "metadata": {
    "trusted": true
   },
   "outputs": [],
   "source": [
    "def train_student_with_distillation(student_model, teacher_model, train_loader, test_loader, epochs, alpha=0.5, temperature=4.0, save_path=None):\n",
    "    distillation_criterion = DistillationLoss(alpha=alpha, temperature=temperature)\n",
    "    standard_criterion = nn.CrossEntropyLoss()\n",
    "    \n",
    "    optimizer = optim.AdamW(student_model.parameters(), lr=0.001, weight_decay=0.01)\n",
    "    scheduler = optim.lr_scheduler.CosineAnnealingLR(optimizer, T_max=epochs)\n",
    "    scaler = GradScaler()\n",
    "    \n",
    "    best_acc = 0.0\n",
    "    \n",
    "    history = {\n",
    "        'train_loss': [],\n",
    "        'train_acc': [],\n",
    "        'test_loss': [],\n",
    "        'test_acc': []\n",
    "    }\n",
    "    \n",
    "    for epoch in range(epochs):\n",
    "        student_model.train()\n",
    "        teacher_model.eval()\n",
    "        \n",
    "        train_loss = 0.0\n",
    "        train_correct = 0\n",
    "        train_total = 0\n",
    "        progress_bar = tqdm(train_loader, desc=f\"Epoch {epoch+1}/{epochs} [Train]\")\n",
    "        for inputs, targets in progress_bar:\n",
    "            inputs, targets = inputs.to(device), targets.to(device)\n",
    "            \n",
    "            optimizer.zero_grad()\n",
    "            \n",
    "            with autocast():\n",
    "                student_outputs = student_model(inputs)\n",
    "                with torch.no_grad():\n",
    "                    teacher_outputs = teacher_model(inputs)\n",
    "                \n",
    "                loss = distillation_criterion(student_outputs, teacher_outputs, targets)\n",
    "            \n",
    "            scaler.scale(loss).backward()\n",
    "            scaler.step(optimizer)\n",
    "            scaler.update()\n",
    "            \n",
    "            train_loss += loss.item() * inputs.size(0)\n",
    "            _, predicted = student_outputs.max(1)\n",
    "            train_total += targets.size(0)\n",
    "            train_correct += predicted.eq(targets).sum().item()\n",
    "\n",
    "            progress_bar.set_postfix(\n",
    "                {\"loss\": loss.item(), \"acc\": 100 * train_correct / train_total}\n",
    "            )\n",
    "        \n",
    "        train_loss = train_loss / len(train_loader.dataset)\n",
    "        train_acc = 100.0 * train_correct / train_total\n",
    "\n",
    "        student_model.eval()\n",
    "        test_loss = 0.0\n",
    "        test_correct = 0\n",
    "        test_total = 0\n",
    "        progress_bar = tqdm(test_loader, desc=f\"Epoch {epoch+1}/{epochs} [Valid]\")\n",
    "        with torch.no_grad():\n",
    "            for inputs, targets in progress_bar:\n",
    "                inputs, targets = inputs.to(device), targets.to(device)\n",
    "                \n",
    "                outputs = student_model(inputs)\n",
    "                loss = standard_criterion(outputs, targets)\n",
    "                \n",
    "                test_loss += loss.item() * inputs.size(0)\n",
    "                _, predicted = outputs.max(1)\n",
    "                test_total += targets.size(0)\n",
    "                test_correct += predicted.eq(targets).sum().item()\n",
    "\n",
    "                progress_bar.set_postfix(\n",
    "                    {\"loss\": loss.item(), \"acc\": 100 * test_correct / test_total}\n",
    "                )\n",
    "        \n",
    "        test_loss = test_loss / len(test_loader.dataset)\n",
    "        test_acc = 100.0 * test_correct / test_total\n",
    "        \n",
    "        scheduler.step()\n",
    "        \n",
    "        if test_acc > best_acc and save_path:\n",
    "            best_acc = test_acc\n",
    "            torch.save(student_model.state_dict(), save_path)\n",
    "            print(f\"Saved best model with accuracy: {best_acc:.2f}%\")\n",
    "        \n",
    "        history['train_loss'].append(train_loss)\n",
    "        history['train_acc'].append(train_acc)\n",
    "        history['test_loss'].append(test_loss)\n",
    "        history['test_acc'].append(test_acc)\n",
    "        \n",
    "        print(f\"Epoch {epoch+1}/{epochs} - \"\n",
    "              f\"Train Loss: {train_loss:.4f}, Train Acc: {train_acc:.2f}%, \"\n",
    "              f\"Test Loss: {test_loss:.4f}, Test Acc: {test_acc:.2f}%\")\n",
    "    \n",
    "    return student_model, history\n",
    "\n",
    "print(\"Training student model with knowledge distillation...\")\n",
    "student_distill_path = './student_distill_model.pth'\n",
    "student_model_distill, student_distill_history = train_student_with_distillation(\n",
    "    student_model, teacher_model, train_loader, test_loader, \n",
    "    epochs=100, alpha=0.5, temperature=4.0,\n",
    "    save_path=student_distill_path\n",
    ")"
   ]
  },
  {
   "cell_type": "markdown",
   "id": "ce12913c",
   "metadata": {},
   "source": [
    "# Evaluation and Comparison"
   ]
  },
  {
   "cell_type": "code",
   "execution_count": null,
   "id": "a4cfe8e6",
   "metadata": {
    "trusted": true
   },
   "outputs": [],
   "source": [
    "def evaluate_model(model, test_loader, model_name):\n",
    "    model.eval()\n",
    "    correct = 0\n",
    "    total = 0\n",
    "    \n",
    "    class_correct = list(0. for i in range(100))\n",
    "    class_total = list(0. for i in range(100))\n",
    "    \n",
    "    with torch.no_grad():\n",
    "        for inputs, targets in tqdm(test_loader, desc=f\"Evaluating {model_name}\"):\n",
    "            inputs, targets = inputs.to(device), targets.to(device)\n",
    "            outputs = model(inputs)\n",
    "            _, predicted = outputs.max(1)\n",
    "            \n",
    "            total += targets.size(0)\n",
    "            correct += predicted.eq(targets).sum().item()\n",
    "\n",
    "            c = (predicted == targets).squeeze()\n",
    "            for i in range(targets.size(0)):\n",
    "                label = targets[i].item()\n",
    "                class_correct[label] += c[i].item()\n",
    "                class_total[label] += 1\n",
    "    \n",
    "    overall_acc = 100.0 * correct / total\n",
    "    print(f\"{model_name} - Test Accuracy: {overall_acc:.2f}%\")\n",
    "    \n",
    "    class_accuracies = []\n",
    "    for i in range(100):\n",
    "        if class_total[i] > 0:\n",
    "            class_acc = 100.0 * class_correct[i] / class_total[i]\n",
    "            class_accuracies.append(class_acc)\n",
    "    \n",
    "    avg_class_acc = sum(class_accuracies) / len(class_accuracies)\n",
    "    print(f\"{model_name} - Average Class Accuracy: {avg_class_acc:.2f}%\")\n",
    "    \n",
    "    return overall_acc, avg_class_acc\n",
    "\n",
    "teacher_model.load_state_dict(torch.load(teacher_path))\n",
    "student_model_baseline.load_state_dict(torch.load(student_baseline_path))\n",
    "student_model_distill.load_state_dict(torch.load(student_distill_path))\n",
    "\n",
    "teacher_acc, teacher_class_acc = evaluate_model(teacher_model, test_loader, \"Teacher (ResNet-50)\")\n",
    "baseline_acc, baseline_class_acc = evaluate_model(student_model_baseline, test_loader, \"Student Baseline (ResNet-18)\")\n",
    "distill_acc, distill_class_acc = evaluate_model(student_model_distill, test_loader, \"Student with Distillation (ResNet-18)\")"
   ]
  },
  {
   "cell_type": "markdown",
   "id": "43a30515",
   "metadata": {},
   "source": [
    "# Visualization and Analysis"
   ]
  },
  {
   "cell_type": "code",
   "execution_count": null,
   "id": "8e1e506e",
   "metadata": {
    "trusted": true
   },
   "outputs": [],
   "source": [
    "plt.figure(figsize=(12, 5))\n",
    "\n",
    "plt.subplot(1, 2, 1)\n",
    "plt.plot(student_baseline_history['test_acc'], label='Student Baseline')\n",
    "plt.plot(student_distill_history['test_acc'], label='Student with Distillation')\n",
    "plt.axhline(y=teacher_acc, color='r', linestyle='--', label='Teacher')\n",
    "plt.title('Test Accuracy')\n",
    "plt.xlabel('Epoch')\n",
    "plt.ylabel('Accuracy (%)')\n",
    "plt.legend()\n",
    "plt.grid(True)\n",
    "\n",
    "plt.subplot(1, 2, 2)\n",
    "plt.plot(student_baseline_history['test_loss'], label='Student Baseline')\n",
    "plt.plot(student_distill_history['test_loss'], label='Student with Distillation')\n",
    "plt.title('Test Loss')\n",
    "plt.xlabel('Epoch')\n",
    "plt.ylabel('Loss')\n",
    "plt.legend()\n",
    "plt.grid(True)\n",
    "\n",
    "plt.tight_layout()\n",
    "plt.show()\n",
    "\n",
    "models = ['Teacher (ResNet-50)', 'Student Baseline (ResNet-18)', 'Student with Distillation (ResNet-18)']\n",
    "accuracies = [teacher_acc, baseline_acc, distill_acc]\n",
    "model_sizes = [count_parameters(teacher_model), count_parameters(student_model_baseline), count_parameters(student_model_distill)]\n",
    "\n",
    "plt.figure(figsize=(12, 6))\n",
    "\n",
    "plt.subplot(1, 2, 1)\n",
    "plt.bar(models, accuracies, color=['blue', 'orange', 'green'])\n",
    "plt.title('Model Accuracy Comparison')\n",
    "plt.ylabel('Accuracy (%)')\n",
    "plt.xticks(rotation=15, ha='right')\n",
    "plt.ylim(0, 100)\n",
    "for i, v in enumerate(accuracies):\n",
    "    plt.text(i, v + 1, f\"{v:.2f}%\", ha='center')\n",
    "\n",
    "plt.subplot(1, 2, 2)\n",
    "sizes_in_millions = [s / 1000000 for s in model_sizes]\n",
    "plt.bar(models, sizes_in_millions, color=['blue', 'orange', 'green'])\n",
    "plt.title('Model Size Comparison')\n",
    "plt.ylabel('Parameters (millions)')\n",
    "plt.xticks(rotation=15, ha='right')\n",
    "for i, v in enumerate(sizes_in_millions):\n",
    "    plt.text(i, v + 0.1, f\"{v:.2f}M\", ha='center')\n",
    "\n",
    "plt.tight_layout()\n",
    "plt.show()"
   ]
  },
  {
   "cell_type": "markdown",
   "id": "3a678b06",
   "metadata": {},
   "source": [
    "# Inference Speed Comparison"
   ]
  },
  {
   "cell_type": "code",
   "execution_count": null,
   "id": "3d1e9713",
   "metadata": {
    "trusted": true
   },
   "outputs": [],
   "source": [
    "def measure_inference_time(model, input_size=(128, 3, 32, 32), iterations=100):\n",
    "    model.eval()\n",
    "    x = torch.randn(input_size).to(device)\n",
    "    \n",
    "    # Warm-up\n",
    "    with torch.no_grad():\n",
    "        for _ in range(10):\n",
    "            _ = model(x)\n",
    "    \n",
    "    # Measure\n",
    "    torch.cuda.synchronize()\n",
    "    start_time = time.time()\n",
    "    \n",
    "    with torch.no_grad():\n",
    "        for _ in range(iterations):\n",
    "            _ = model(x)\n",
    "    \n",
    "    torch.cuda.synchronize()\n",
    "    end_time = time.time()\n",
    "    \n",
    "    elapsed_time = end_time - start_time\n",
    "    return elapsed_time / iterations * 1000  # Convert to ms per batch\n",
    "\n",
    "teacher_time = measure_inference_time(teacher_model)\n",
    "student_baseline_time = measure_inference_time(student_model_baseline)\n",
    "student_distill_time = measure_inference_time(student_model_distill)\n",
    "\n",
    "print(f\"Teacher (ResNet-50) inference time: {teacher_time:.2f} ms/batch\")\n",
    "print(f\"Student Baseline (ResNet-18) inference time: {student_baseline_time:.2f} ms/batch\")\n",
    "print(f\"Student with Distillation (ResNet-18) inference time: {student_distill_time:.2f} ms/batch\")\n",
    "print(f\"Speed-up: {teacher_time / student_distill_time:.2f}x\")\n",
    "\n",
    "plt.figure(figsize=(8, 6))\n",
    "inference_times = [teacher_time, student_baseline_time, student_distill_time]\n",
    "plt.bar(models, inference_times, color=['blue', 'orange', 'green'])\n",
    "plt.title('Inference Time Comparison')\n",
    "plt.ylabel('Time per batch (ms)')\n",
    "plt.xticks(rotation=15, ha='right')\n",
    "for i, v in enumerate(inference_times):\n",
    "    plt.text(i, v + 0.2, f\"{v:.2f} ms\", ha='center')\n",
    "plt.tight_layout()\n",
    "plt.show()"
   ]
  }
 ],
 "metadata": {
  "kaggle": {
   "accelerator": "gpu",
   "dataSources": [],
   "dockerImageVersionId": 31011,
   "isGpuEnabled": true,
   "isInternetEnabled": true,
   "language": "python",
   "sourceType": "notebook"
  },
  "kernelspec": {
   "display_name": "Python 3",
   "language": "python",
   "name": "python3"
  },
  "language_info": {
   "codemirror_mode": {
    "name": "ipython",
    "version": 3
   },
   "file_extension": ".py",
   "mimetype": "text/x-python",
   "name": "python",
   "nbconvert_exporter": "python",
   "pygments_lexer": "ipython3",
   "version": "3.11.11"
  }
 },
 "nbformat": 4,
 "nbformat_minor": 5
}
