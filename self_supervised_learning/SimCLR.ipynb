{
 "cells": [
  {
   "cell_type": "markdown",
   "id": "a126f588",
   "metadata": {},
   "source": [
    "# Imports"
   ]
  },
  {
   "cell_type": "code",
   "execution_count": null,
   "id": "0cb5270b",
   "metadata": {
    "execution": {
     "iopub.execute_input": "2025-04-18T20:15:15.727157Z",
     "iopub.status.busy": "2025-04-18T20:15:15.726849Z",
     "iopub.status.idle": "2025-04-18T20:15:15.731820Z",
     "shell.execute_reply": "2025-04-18T20:15:15.731069Z",
     "shell.execute_reply.started": "2025-04-18T20:15:15.727137Z"
    },
    "trusted": true
   },
   "outputs": [],
   "source": [
    "import umap\n",
    "import numpy as np\n",
    "import pandas as pd\n",
    "import seaborn as sns\n",
    "import matplotlib.pyplot as plt\n",
    "import torch\n",
    "import torch.nn as nn\n",
    "import torch.nn.functional as F\n",
    "import torchvision\n",
    "import torchvision.transforms.v2 as transforms\n",
    "from torch.amp import GradScaler, autocast\n",
    "from torch.optim.lr_scheduler import CosineAnnealingLR, LinearLR, SequentialLR\n",
    "from torch.utils.data import Dataset\n",
    "from tqdm import tqdm\n",
    "import plotly.express as px"
   ]
  },
  {
   "cell_type": "markdown",
   "id": "8b87a75e",
   "metadata": {},
   "source": [
    "# Constants"
   ]
  },
  {
   "cell_type": "code",
   "execution_count": 7,
   "id": "5656d64d",
   "metadata": {
    "execution": {
     "iopub.execute_input": "2025-04-18T20:15:17.206490Z",
     "iopub.status.busy": "2025-04-18T20:15:17.206212Z",
     "iopub.status.idle": "2025-04-18T20:15:17.211332Z",
     "shell.execute_reply": "2025-04-18T20:15:17.210559Z",
     "shell.execute_reply.started": "2025-04-18T20:15:17.206469Z"
    },
    "trusted": true
   },
   "outputs": [
    {
     "data": {
      "text/plain": [
       "device(type='cuda')"
      ]
     },
     "execution_count": 7,
     "metadata": {},
     "output_type": "execute_result"
    }
   ],
   "source": [
    "device = torch.device(\"cuda\" if torch.cuda.is_available() else \"cpu\")\n",
    "device"
   ]
  },
  {
   "cell_type": "code",
   "execution_count": 8,
   "id": "5dd944a3",
   "metadata": {
    "execution": {
     "iopub.execute_input": "2025-04-18T20:15:17.380744Z",
     "iopub.status.busy": "2025-04-18T20:15:17.380479Z",
     "iopub.status.idle": "2025-04-18T20:15:17.385460Z",
     "shell.execute_reply": "2025-04-18T20:15:17.384875Z",
     "shell.execute_reply.started": "2025-04-18T20:15:17.380723Z"
    },
    "trusted": true
   },
   "outputs": [],
   "source": [
    "IMAGE_SIZE = 32\n",
    "NUM_CLASSES = 10\n",
    "CIFAR10_MEAN = (0.4914, 0.4822, 0.4465)\n",
    "CIFAR10_STD = (0.2470, 0.2435, 0.2616)\n",
    "\n",
    "EMBEDDING_SIZE = 128\n",
    "TEMPERATURE = 0.01\n",
    "\n",
    "WARMUP_EPOCHS = 10\n",
    "PRETRAINING_EPOCHS = 100\n",
    "PRETRAINIG_SUBSET_EPOCHS = 30\n",
    "FINETUNING_EPOCHS = 50\n",
    "SUPERVISED_EPOCHS = PRETRAINING_EPOCHS + FINETUNING_EPOCHS\n",
    "SUPERVISED_SUBSET_EPOCHS = PRETRAINING_EPOCHS + PRETRAINIG_SUBSET_EPOCHS\n",
    "\n",
    "BATCH_SIZE = 512\n",
    "INITIAL_LR = 1e-3\n",
    "FINAL_LR = 3e-5\n",
    "WEIGHT_DECAY_FINETUNING = 1e-3\n",
    "WEIGHT_DECAY_SUPERVISED = 1e-2\n",
    "\n",
    "SEED = 42"
   ]
  },
  {
   "cell_type": "markdown",
   "id": "8b92d81d",
   "metadata": {},
   "source": [
    "# Data augmentation"
   ]
  },
  {
   "cell_type": "code",
   "execution_count": 9,
   "id": "1800f535",
   "metadata": {
    "execution": {
     "iopub.execute_input": "2025-04-18T20:15:18.304111Z",
     "iopub.status.busy": "2025-04-18T20:15:18.303500Z",
     "iopub.status.idle": "2025-04-18T20:15:19.130017Z",
     "shell.execute_reply": "2025-04-18T20:15:19.129397Z",
     "shell.execute_reply.started": "2025-04-18T20:15:18.304086Z"
    },
    "trusted": true
   },
   "outputs": [
    {
     "name": "stdout",
     "output_type": "stream",
     "text": [
      "Files already downloaded and verified\n"
     ]
    },
    {
     "data": {
      "text/plain": [
       "(<PIL.Image.Image image mode=RGB size=32x32>, 6)"
      ]
     },
     "execution_count": 9,
     "metadata": {},
     "output_type": "execute_result"
    }
   ],
   "source": [
    "cifar10 = torchvision.datasets.CIFAR10(root=\"../datasets\", train=True, download=True)\n",
    "cifar10[0]"
   ]
  },
  {
   "cell_type": "code",
   "execution_count": 10,
   "id": "cc49b794",
   "metadata": {
    "execution": {
     "iopub.execute_input": "2025-04-18T20:15:19.131496Z",
     "iopub.status.busy": "2025-04-18T20:15:19.131263Z",
     "iopub.status.idle": "2025-04-18T20:15:19.136704Z",
     "shell.execute_reply": "2025-04-18T20:15:19.136058Z",
     "shell.execute_reply.started": "2025-04-18T20:15:19.131479Z"
    },
    "trusted": true
   },
   "outputs": [],
   "source": [
    "contrastive_transform = transforms.Compose(\n",
    "    [\n",
    "        transforms.ToImage(),\n",
    "        transforms.ToDtype(dtype=torch.float32, scale=True),\n",
    "        torchvision.transforms.RandomHorizontalFlip(),\n",
    "        transforms.RandomResizedCrop(size=IMAGE_SIZE),\n",
    "        transforms.RandomApply(\n",
    "            [\n",
    "                transforms.ColorJitter(\n",
    "                    brightness=0.8, contrast=0.8, saturation=0.8, hue=0.2\n",
    "                ),\n",
    "            ],\n",
    "            p=0.8,\n",
    "        ),\n",
    "        transforms.RandomGrayscale(p=0.2),\n",
    "        transforms.GaussianBlur(kernel_size=3),\n",
    "        transforms.Normalize(mean=CIFAR10_MEAN, std=CIFAR10_STD),\n",
    "    ]\n",
    ")"
   ]
  },
  {
   "cell_type": "code",
   "execution_count": 11,
   "id": "f35c0700",
   "metadata": {
    "execution": {
     "iopub.execute_input": "2025-04-18T20:15:19.137646Z",
     "iopub.status.busy": "2025-04-18T20:15:19.137401Z",
     "iopub.status.idle": "2025-04-18T20:15:19.148873Z",
     "shell.execute_reply": "2025-04-18T20:15:19.148108Z",
     "shell.execute_reply.started": "2025-04-18T20:15:19.137631Z"
    },
    "trusted": true
   },
   "outputs": [],
   "source": [
    "def denormalize(x):\n",
    "    x = x * torch.tensor(CIFAR10_STD).view(3, 1, 1)\n",
    "    x = x + torch.tensor(CIFAR10_MEAN).view(3, 1, 1)\n",
    "    return x"
   ]
  },
  {
   "cell_type": "code",
   "execution_count": 12,
   "id": "c553312d",
   "metadata": {
    "execution": {
     "iopub.execute_input": "2025-04-18T20:15:19.150472Z",
     "iopub.status.busy": "2025-04-18T20:15:19.150235Z",
     "iopub.status.idle": "2025-04-18T20:15:20.100022Z",
     "shell.execute_reply": "2025-04-18T20:15:20.099204Z",
     "shell.execute_reply.started": "2025-04-18T20:15:19.150456Z"
    },
    "trusted": true
   },
   "outputs": [
    {
     "data": {
      "image/png": "[encoded data removed]",
      "text/plain": [
       "<Figure size 1500x500 with 6 Axes>"
      ]
     },
     "metadata": {},
     "output_type": "display_data"
    }
   ],
   "source": [
    "img_pil, label = cifar10[6]\n",
    "to_tensor = transforms.ToImage()\n",
    "to_pil = transforms.ToPILImage()\n",
    "\n",
    "fig, axs = plt.subplots(1, 6, figsize=(15, 5))\n",
    "\n",
    "axs[0].imshow(img_pil)\n",
    "axs[0].set_title(\"Original\")\n",
    "\n",
    "axs[1].imshow(to_pil(transforms.RandomResizedCrop(size=IMAGE_SIZE)(to_tensor(img_pil))))\n",
    "axs[1].set_title(\"RandomResizedCrop\")\n",
    "\n",
    "axs[2].imshow(to_pil(transforms.ColorJitter(hue=0.5)(to_tensor(img_pil))))\n",
    "axs[2].set_title(\"ColorJitter\")\n",
    "\n",
    "axs[3].imshow(to_pil(transforms.GaussianBlur(kernel_size=3)(to_tensor(img_pil))))\n",
    "axs[3].set_title(\"GaussianBlur\")\n",
    "\n",
    "axs[4].imshow(to_pil(denormalize(contrastive_transform(to_tensor(img_pil)))))\n",
    "axs[4].set_title(\"Augmentations (denormalized)\")\n",
    "\n",
    "axs[5].imshow(to_pil(contrastive_transform(to_tensor(img_pil))))\n",
    "axs[5].set_title(\"Augmentations (normalized)\")\n",
    "\n",
    "plt.tight_layout()\n",
    "plt.show()"
   ]
  },
  {
   "cell_type": "markdown",
   "id": "03c00fb9",
   "metadata": {},
   "source": [
    "# Contrastive dataset"
   ]
  },
  {
   "cell_type": "code",
   "execution_count": 13,
   "id": "34b4ac6c",
   "metadata": {
    "execution": {
     "iopub.execute_input": "2025-04-18T20:15:20.101277Z",
     "iopub.status.busy": "2025-04-18T20:15:20.101058Z",
     "iopub.status.idle": "2025-04-18T20:15:20.105660Z",
     "shell.execute_reply": "2025-04-18T20:15:20.104911Z",
     "shell.execute_reply.started": "2025-04-18T20:15:20.101261Z"
    },
    "trusted": true
   },
   "outputs": [],
   "source": [
    "class ContrastiveDataset(Dataset):\n",
    "    def __init__(self, dataset, augmentations):\n",
    "        self.dataset = dataset\n",
    "        self.augmentations = augmentations\n",
    "\n",
    "    def __getitem__(self, idx):\n",
    "        img, _ = self.dataset[idx]\n",
    "        return self.augmentations(img), self.augmentations(img)\n",
    "\n",
    "    def __len__(self):\n",
    "        return len(self.dataset)"
   ]
  },
  {
   "cell_type": "markdown",
   "id": "27d5760f",
   "metadata": {},
   "source": [
    "# Loss"
   ]
  },
  {
   "cell_type": "code",
   "execution_count": 14,
   "id": "75900470",
   "metadata": {
    "execution": {
     "iopub.execute_input": "2025-04-18T20:15:20.269176Z",
     "iopub.status.busy": "2025-04-18T20:15:20.268943Z",
     "iopub.status.idle": "2025-04-18T20:15:20.276480Z",
     "shell.execute_reply": "2025-04-18T20:15:20.275717Z",
     "shell.execute_reply.started": "2025-04-18T20:15:20.269160Z"
    },
    "trusted": true
   },
   "outputs": [],
   "source": [
    "class NTXent(nn.Module):\n",
    "    def __init__(self, temperature):\n",
    "        super().__init__()\n",
    "        self.temperature = temperature\n",
    "\n",
    "    def forward(self, z_i, z_j):\n",
    "        batch_size = z_i.shape[0]\n",
    "        assert batch_size == z_j.shape[0], \"Batch sizes must match\"\n",
    "\n",
    "        z_i = F.normalize(z_i, dim=-1)\n",
    "        z_j = F.normalize(z_j, dim=-1)\n",
    "\n",
    "        z = torch.cat([z_i, z_j], dim=0)  # [2 * batch_size, embedding_size]\n",
    "\n",
    "        similarity_matrix = (\n",
    "            F.cosine_similarity(z.unsqueeze(1), z.unsqueeze(0), dim=-1)\n",
    "            / self.temperature\n",
    "        )  # [2 * batch_size, 2 * batch_size]\n",
    "\n",
    "        sim_i_j = torch.diag(similarity_matrix, batch_size)  # [batch_size]\n",
    "        sim_j_i = torch.diag(similarity_matrix, -batch_size)  # [batch_size]\n",
    "\n",
    "        positive_samples = torch.cat([sim_i_j, sim_j_i], dim=0).unsqueeze(\n",
    "            1\n",
    "        )  # [2 * batch_size, 1]\n",
    "\n",
    "        # mask = torch.ones(\n",
    "        #     batch_size * 2, batch_size * 2, dtype=torch.bool\n",
    "        # ).fill_diagonal_(False)  # [2 * batch_size, 2 * batch_size]\n",
    "\n",
    "        # for i in range(batch_size):\n",
    "        #     mask[i, batch_size + i] = False\n",
    "        #     mask[batch_size + i, i] = False\n",
    "\n",
    "        mask = torch.zeros(\n",
    "            2 * batch_size,\n",
    "            2 * batch_size,\n",
    "            dtype=torch.bool,\n",
    "            device=similarity_matrix.device,\n",
    "        )\n",
    "        indices = torch.arange(batch_size, device=similarity_matrix.device)\n",
    "        mask.scatter_(1, indices, True)\n",
    "        mask.scatter_(0, indices + batch_size, True)\n",
    "\n",
    "        negative_samples = similarity_matrix[mask].view(\n",
    "            batch_size * 2, -1\n",
    "        )  # [2 * batch_size, batch_size - 2]\n",
    "        logits = torch.cat(\n",
    "            [positive_samples, negative_samples], dim=-1\n",
    "        )  # [2 * batch_size, batch_size - 1]\n",
    "        labels = torch.zeros(batch_size * 2, dtype=torch.long).to(\n",
    "            logits.device\n",
    "        )  # [2 * batch_size]\n",
    "        loss = F.cross_entropy(logits, labels, reduction=\"sum\")\n",
    "        return loss / (2 * batch_size)"
   ]
  },
  {
   "cell_type": "markdown",
   "id": "7c863959",
   "metadata": {},
   "source": [
    "# Encoder Model"
   ]
  },
  {
   "cell_type": "code",
   "execution_count": 15,
   "id": "e05566c6",
   "metadata": {
    "execution": {
     "iopub.execute_input": "2025-04-18T20:15:22.110794Z",
     "iopub.status.busy": "2025-04-18T20:15:22.110119Z",
     "iopub.status.idle": "2025-04-18T20:15:22.115567Z",
     "shell.execute_reply": "2025-04-18T20:15:22.114858Z",
     "shell.execute_reply.started": "2025-04-18T20:15:22.110771Z"
    },
    "trusted": true
   },
   "outputs": [],
   "source": [
    "class Encoder(nn.Module):\n",
    "    def __init__(self, encoder: nn.Module, projection_size: int):\n",
    "        super().__init__()\n",
    "\n",
    "        assert hasattr(encoder, \"fc\"), \"Base encoder must have a fc layer\"\n",
    "\n",
    "        self.encoder = encoder\n",
    "        self.embedding_size = self.encoder.fc.in_features\n",
    "        self.encoder.fc = nn.Identity()\n",
    "        self.projection_head = nn.Sequential(\n",
    "            nn.Linear(self.embedding_size, 1024),\n",
    "            nn.ReLU(),\n",
    "            nn.Linear(1024, projection_size),\n",
    "        )\n",
    "\n",
    "    def forward(self, x):\n",
    "        x = self.encoder(x)\n",
    "        x = self.projection_head(x)\n",
    "        return x"
   ]
  },
  {
   "cell_type": "markdown",
   "id": "634b93be",
   "metadata": {},
   "source": [
    "# Data Split"
   ]
  },
  {
   "cell_type": "code",
   "execution_count": 16,
   "id": "015b7d3a",
   "metadata": {
    "execution": {
     "iopub.execute_input": "2025-04-18T20:15:22.415884Z",
     "iopub.status.busy": "2025-04-18T20:15:22.415230Z",
     "iopub.status.idle": "2025-04-18T20:15:23.931488Z",
     "shell.execute_reply": "2025-04-18T20:15:23.930907Z",
     "shell.execute_reply.started": "2025-04-18T20:15:22.415863Z"
    },
    "trusted": true
   },
   "outputs": [
    {
     "name": "stdout",
     "output_type": "stream",
     "text": [
      "Files already downloaded and verified\n",
      "Files already downloaded and verified\n"
     ]
    }
   ],
   "source": [
    "train_dataset, valid_dataset = torch.utils.data.random_split(\n",
    "    torchvision.datasets.CIFAR10(root=\"../datasets\", train=True, download=True),\n",
    "    [45000, 5000],\n",
    "    generator=torch.Generator().manual_seed(SEED),\n",
    ")\n",
    "test_dataset = torchvision.datasets.CIFAR10(\n",
    "    root=\"../datasets\", train=False, download=True\n",
    ")"
   ]
  },
  {
   "cell_type": "code",
   "execution_count": 17,
   "id": "347fd98f",
   "metadata": {
    "execution": {
     "iopub.execute_input": "2025-04-18T20:15:23.932903Z",
     "iopub.status.busy": "2025-04-18T20:15:23.932653Z",
     "iopub.status.idle": "2025-04-18T20:15:23.936938Z",
     "shell.execute_reply": "2025-04-18T20:15:23.936281Z",
     "shell.execute_reply.started": "2025-04-18T20:15:23.932882Z"
    },
    "trusted": true
   },
   "outputs": [],
   "source": [
    "eval_transforms = transforms.Compose(\n",
    "    [\n",
    "        transforms.ToImage(),\n",
    "        transforms.ToDtype(dtype=torch.float32, scale=True),\n",
    "        transforms.Normalize(mean=CIFAR10_MEAN, std=CIFAR10_STD),\n",
    "    ]\n",
    ")"
   ]
  },
  {
   "cell_type": "markdown",
   "id": "73849d4b",
   "metadata": {},
   "source": [
    "# Self-Supervised Pretraining"
   ]
  },
  {
   "cell_type": "code",
   "execution_count": 18,
   "id": "137ca59c",
   "metadata": {
    "execution": {
     "iopub.execute_input": "2025-04-18T20:15:24.844291Z",
     "iopub.status.busy": "2025-04-18T20:15:24.843714Z",
     "iopub.status.idle": "2025-04-18T20:15:24.849508Z",
     "shell.execute_reply": "2025-04-18T20:15:24.848733Z",
     "shell.execute_reply.started": "2025-04-18T20:15:24.844267Z"
    },
    "trusted": true
   },
   "outputs": [],
   "source": [
    "train_contrastive_dataset = ContrastiveDataset(train_dataset, contrastive_transform)\n",
    "valid_contrastive_dataset = ContrastiveDataset(valid_dataset, eval_transforms)\n",
    "test_contrastive_dataset = ContrastiveDataset(test_dataset, eval_transforms)\n",
    "\n",
    "train_loader = torch.utils.data.DataLoader(\n",
    "    train_contrastive_dataset,\n",
    "    batch_size=BATCH_SIZE,\n",
    "    shuffle=True,\n",
    "    num_workers=4,\n",
    "    pin_memory=True,\n",
    "    persistent_workers=True,\n",
    "    prefetch_factor=2,\n",
    ")\n",
    "val_loader = torch.utils.data.DataLoader(\n",
    "    valid_contrastive_dataset,\n",
    "    batch_size=BATCH_SIZE,\n",
    "    shuffle=False,\n",
    "    num_workers=4,\n",
    "    pin_memory=True,\n",
    "    persistent_workers=True,\n",
    "    prefetch_factor=2,\n",
    ")\n",
    "test_loader = torch.utils.data.DataLoader(\n",
    "    test_contrastive_dataset,\n",
    "    batch_size=BATCH_SIZE,\n",
    "    shuffle=False,\n",
    "    num_workers=4,\n",
    "    pin_memory=True,\n",
    "    persistent_workers=True,\n",
    "    prefetch_factor=2,\n",
    ")"
   ]
  },
  {
   "cell_type": "code",
   "execution_count": 19,
   "id": "105a5f02-142d-4039-88e7-350d0afb91f8",
   "metadata": {
    "execution": {
     "iopub.execute_input": "2025-04-18T20:15:24.973943Z",
     "iopub.status.busy": "2025-04-18T20:15:24.973283Z",
     "iopub.status.idle": "2025-04-18T20:15:25.300593Z",
     "shell.execute_reply": "2025-04-18T20:15:25.300056Z",
     "shell.execute_reply.started": "2025-04-18T20:15:24.973922Z"
    },
    "trusted": true
   },
   "outputs": [],
   "source": [
    "encoder = Encoder(\n",
    "    encoder=torchvision.models.resnet18(weights=None),\n",
    "    projection_size=EMBEDDING_SIZE,\n",
    ").to(device)\n",
    "optimizer = torch.optim.AdamW(encoder.parameters(), lr=1e-3, weight_decay=1e-5)\n",
    "criterion = NTXent(temperature=TEMPERATURE).to(device)\n",
    "scaler = GradScaler(device=device)\n",
    "scheduler = SequentialLR(\n",
    "    optimizer,\n",
    "    schedulers=[\n",
    "        LinearLR(\n",
    "            optimizer, start_factor=0.1, end_factor=1.0, total_iters=WARMUP_EPOCHS\n",
    "        ),\n",
    "        CosineAnnealingLR(\n",
    "            optimizer, T_max=PRETRAINING_EPOCHS - WARMUP_EPOCHS, eta_min=FINAL_LR\n",
    "        ),\n",
    "    ],\n",
    "    milestones=[WARMUP_EPOCHS],\n",
    ")"
   ]
  },
  {
   "cell_type": "code",
   "execution_count": null,
   "id": "61760708",
   "metadata": {
    "trusted": true
   },
   "outputs": [],
   "source": [
    "train_losses = []\n",
    "val_losses = []\n",
    "best_val_loss = float(\"inf\")\n",
    "\n",
    "for epoch in range(PRETRAINING_EPOCHS):\n",
    "    encoder.train()\n",
    "    train_loss = 0.0\n",
    "    num_batches = 0\n",
    "    progress_bar = tqdm(\n",
    "        train_loader, desc=f\"Epoch {epoch + 1}/{PRETRAINING_EPOCHS} [Train]\"\n",
    "    )\n",
    "    for imgs_i, imgs_j in progress_bar:\n",
    "        imgs_i = imgs_i.to(device, non_blocking=True)\n",
    "        imgs_j = imgs_j.to(device, non_blocking=True)\n",
    "\n",
    "        optimizer.zero_grad()\n",
    "\n",
    "        with autocast(device_type=device.type):\n",
    "            combined = torch.cat([imgs_i, imgs_j], dim=0)\n",
    "            embeddings = encoder(combined)\n",
    "            z_i, z_j = torch.split(embeddings, BATCH_SIZE)\n",
    "            loss = criterion(z_i, z_j)\n",
    "\n",
    "        scaler.scale(loss).backward()\n",
    "        scaler.step(optimizer)\n",
    "        scaler.update()\n",
    "\n",
    "        train_loss += loss.item()\n",
    "        num_batches += 1\n",
    "        progress_bar.set_postfix({\"loss\": loss.item()})\n",
    "\n",
    "    epoch_avg_train_loss = train_loss / num_batches\n",
    "    train_losses.append(epoch_avg_train_loss)\n",
    "\n",
    "    encoder.eval()\n",
    "    val_loss = 0.0\n",
    "    num_batches = 0\n",
    "    progress_bar = tqdm(\n",
    "        val_loader, desc=f\"Epoch {epoch + 1}/{PRETRAINING_EPOCHS} [Valid]\"\n",
    "    )\n",
    "    for imgs_i, imgs_j in progress_bar:\n",
    "        imgs_i = imgs_i.to(device, non_blocking=True)\n",
    "        imgs_j = imgs_j.to(device, non_blocking=True)\n",
    "\n",
    "        with torch.no_grad():\n",
    "            with autocast(device_type=device.type):\n",
    "                combined = torch.cat([imgs_i, imgs_j], dim=0)\n",
    "                embeddings = encoder(combined)\n",
    "                z_i, z_j = torch.split(embeddings, BATCH_SIZE)\n",
    "                loss = criterion(z_i, z_j)\n",
    "\n",
    "        val_loss += loss.item()\n",
    "        num_batches += 1\n",
    "        progress_bar.set_postfix({\"loss\": loss.item()})\n",
    "\n",
    "    epoch_avg_val_loss = val_loss / num_batches\n",
    "    val_losses.append(epoch_avg_val_loss)\n",
    "\n",
    "    if epoch_avg_val_loss < best_val_loss:\n",
    "        best_val_loss = epoch_avg_val_loss\n",
    "        torch.save(encoder.state_dict(), \"cifar10_encoder_best.pth\")\n",
    "        print(f\"Saved new best model with val_loss: {best_val_loss:.4f}\")\n",
    "\n",
    "    scheduler.step()\n",
    "\n",
    "torch.save(encoder.state_dict(), \"cifar10_encoder.pth\")"
   ]
  },
  {
   "cell_type": "code",
   "execution_count": 20,
   "id": "3c81a4fe",
   "metadata": {
    "execution": {
     "iopub.execute_input": "2025-04-18T20:15:27.726071Z",
     "iopub.status.busy": "2025-04-18T20:15:27.725403Z",
     "iopub.status.idle": "2025-04-18T20:15:27.730095Z",
     "shell.execute_reply": "2025-04-18T20:15:27.729358Z",
     "shell.execute_reply.started": "2025-04-18T20:15:27.726050Z"
    },
    "trusted": true
   },
   "outputs": [],
   "source": [
    "def get_encoder(pretrained: bool):\n",
    "    encoder = Encoder(\n",
    "        encoder=torchvision.models.resnet18(weights=None),\n",
    "        projection_size=EMBEDDING_SIZE,\n",
    "    ).to(device)\n",
    "    if pretrained:\n",
    "        encoder.load_state_dict(\n",
    "            torch.load(\n",
    "                \"/kaggle/input/simclr/pytorch/default/1/cifar10_encoder.pth\",\n",
    "                weights_only=True,\n",
    "            )\n",
    "        )\n",
    "    encoder.projection_head = nn.Identity()\n",
    "    return encoder"
   ]
  },
  {
   "cell_type": "markdown",
   "id": "55819328",
   "metadata": {},
   "source": [
    "# Classifier Training Loop"
   ]
  },
  {
   "cell_type": "code",
   "execution_count": 21,
   "id": "94423e59",
   "metadata": {
    "execution": {
     "iopub.execute_input": "2025-04-18T20:15:30.206922Z",
     "iopub.status.busy": "2025-04-18T20:15:30.206401Z",
     "iopub.status.idle": "2025-04-18T20:15:30.221247Z",
     "shell.execute_reply": "2025-04-18T20:15:30.220511Z",
     "shell.execute_reply.started": "2025-04-18T20:15:30.206901Z"
    },
    "trusted": true
   },
   "outputs": [],
   "source": [
    "def train_supervised(\n",
    "    model: nn.Module,\n",
    "    train_loader: torch.utils.data.DataLoader,\n",
    "    val_loader: torch.utils.data.DataLoader,\n",
    "    test_loader: torch.utils.data.DataLoader,\n",
    "    epochs: int,\n",
    "    warmup_epochs: int,\n",
    "    initial_lr: float,\n",
    "    final_lr: float,\n",
    "    weight_decay: float,\n",
    "    experiment_name: str,\n",
    "    device=device,\n",
    "):\n",
    "    optimizer = torch.optim.AdamW(\n",
    "        model.parameters(), lr=initial_lr, weight_decay=weight_decay\n",
    "    )\n",
    "    criterion = nn.CrossEntropyLoss().to(device)\n",
    "    scaler = GradScaler(device=device)\n",
    "    scheduler = SequentialLR(\n",
    "        optimizer,\n",
    "        schedulers=[\n",
    "            LinearLR(\n",
    "                optimizer, start_factor=0.1, end_factor=1.0, total_iters=warmup_epochs\n",
    "            ),\n",
    "            CosineAnnealingLR(\n",
    "                optimizer, T_max=epochs - warmup_epochs, eta_min=final_lr\n",
    "            ),\n",
    "        ],\n",
    "        milestones=[warmup_epochs],\n",
    "    )\n",
    "\n",
    "    train_losses = []\n",
    "    val_losses = []\n",
    "    best_val_loss = float(\"inf\")\n",
    "\n",
    "    for epoch in range(epochs):\n",
    "        model.train()\n",
    "        train_loss = 0.0\n",
    "        correct = 0\n",
    "        total = 0\n",
    "        progress_bar = tqdm(train_loader, desc=f\"Epoch {epoch + 1}/{epochs} [Train]\")\n",
    "\n",
    "        for i, (imgs, labels) in enumerate(progress_bar):\n",
    "            imgs, labels = (\n",
    "                imgs.to(device, non_blocking=True),\n",
    "                labels.to(device, non_blocking=True),\n",
    "            )\n",
    "\n",
    "            optimizer.zero_grad()\n",
    "\n",
    "            with autocast(device_type=device.type):\n",
    "                logits = model(imgs)\n",
    "                loss = criterion(logits, labels)\n",
    "\n",
    "            scaler.scale(loss).backward()\n",
    "            scaler.step(optimizer)\n",
    "            scaler.update()\n",
    "\n",
    "            train_loss += loss.item()\n",
    "\n",
    "            _, predicted = torch.max(logits.data, 1)\n",
    "            total += labels.size(0)\n",
    "            correct += (predicted == labels).sum().item()\n",
    "\n",
    "            progress_bar.set_postfix(\n",
    "                {\"loss\": loss.item(), \"acc\": 100 * correct / total}\n",
    "            )\n",
    "\n",
    "        epoch_train_acc = 100 * correct / total\n",
    "        epoch_avg_train_loss = train_loss / (i + 1)\n",
    "        train_losses.append(epoch_avg_train_loss)\n",
    "\n",
    "        model.eval()\n",
    "        val_loss = 0.0\n",
    "        correct = 0\n",
    "        total = 0\n",
    "        progress_bar = tqdm(val_loader, desc=f\"Epoch {epoch + 1}/{epochs} [Valid]\")\n",
    "\n",
    "        with torch.no_grad():\n",
    "            for i, (imgs, labels) in enumerate(progress_bar):\n",
    "                imgs, labels = (\n",
    "                    imgs.to(device, non_blocking=True),\n",
    "                    labels.to(device, non_blocking=True),\n",
    "                )\n",
    "\n",
    "                with autocast(device_type=device.type):\n",
    "                    logits = model(imgs)\n",
    "                    loss = criterion(logits, labels)\n",
    "\n",
    "                val_loss += loss.item()\n",
    "\n",
    "                _, predicted = torch.max(logits.data, 1)\n",
    "                total += labels.size(0)\n",
    "                correct += (predicted == labels).sum().item()\n",
    "\n",
    "                progress_bar.set_postfix(\n",
    "                    {\"loss\": loss.item(), \"acc\": 100 * correct / total}\n",
    "                )\n",
    "\n",
    "        epoch_val_acc = 100 * correct / total\n",
    "        epoch_avg_val_loss = val_loss / (i + 1)\n",
    "        val_losses.append(epoch_avg_val_loss)\n",
    "\n",
    "        if epoch_avg_val_loss < best_val_loss:\n",
    "            best_val_loss = epoch_avg_val_loss\n",
    "            torch.save(model.state_dict(), f\"cifar10_{experiment_name}.pth\")\n",
    "\n",
    "        scheduler.step()\n",
    "\n",
    "        print(\n",
    "            f\"Epoch {epoch + 1}/{epochs}, Train Loss: {epoch_avg_train_loss:.4f}, Train Acc: {epoch_train_acc:.2f}%, \"\n",
    "            f\"Val Loss: {epoch_avg_val_loss:.4f}, Val Acc: {epoch_val_acc:.2f}%, LR: {scheduler.get_last_lr()[0]:.6f}\"\n",
    "        )\n",
    "\n",
    "    model.eval()\n",
    "    correct = 0\n",
    "    total = 0\n",
    "\n",
    "    with torch.no_grad():\n",
    "        for images, labels in test_loader:\n",
    "            images, labels = images.to(device), labels.to(device)\n",
    "            outputs = model(images)\n",
    "            _, predicted = torch.max(outputs.data, 1)\n",
    "            total += labels.size(0)\n",
    "            correct += (predicted == labels).sum().item()\n",
    "\n",
    "    test_acc = 100 * correct / total\n",
    "    print(f\"Test Accuracy ({experiment_name}): {test_acc:.2f}%\")\n",
    "\n",
    "    return train_losses, val_losses, test_acc"
   ]
  },
  {
   "cell_type": "code",
   "execution_count": 22,
   "id": "304b8ff7",
   "metadata": {
    "execution": {
     "iopub.execute_input": "2025-04-18T20:15:32.670142Z",
     "iopub.status.busy": "2025-04-18T20:15:32.669639Z",
     "iopub.status.idle": "2025-04-18T20:15:32.674907Z",
     "shell.execute_reply": "2025-04-18T20:15:32.674126Z",
     "shell.execute_reply.started": "2025-04-18T20:15:32.670121Z"
    },
    "trusted": true
   },
   "outputs": [],
   "source": [
    "class Classifier(nn.Module):\n",
    "    def __init__(self, encoder: Encoder, num_classes):\n",
    "        super().__init__()\n",
    "        self.encoder = encoder\n",
    "        self.classifier = torch.nn.Sequential(\n",
    "            nn.Linear(self.encoder.embedding_size, 512),\n",
    "            nn.ReLU(),\n",
    "            nn.Linear(512, num_classes),\n",
    "        )\n",
    "\n",
    "    def forward(self, x):\n",
    "        with torch.no_grad():\n",
    "            x = self.encoder(x)\n",
    "        x = self.classifier(x)\n",
    "        return x"
   ]
  },
  {
   "cell_type": "code",
   "execution_count": 23,
   "id": "f48af196",
   "metadata": {
    "execution": {
     "iopub.execute_input": "2025-04-18T20:15:32.707582Z",
     "iopub.status.busy": "2025-04-18T20:15:32.707386Z",
     "iopub.status.idle": "2025-04-18T20:15:32.711595Z",
     "shell.execute_reply": "2025-04-18T20:15:32.710864Z",
     "shell.execute_reply.started": "2025-04-18T20:15:32.707568Z"
    },
    "trusted": true
   },
   "outputs": [],
   "source": [
    "def create_classifier(pretrained: bool, freeze_encoder: bool):\n",
    "    classifier = Classifier(\n",
    "        encoder=get_encoder(pretrained=pretrained), num_classes=10\n",
    "    ).to(device)\n",
    "\n",
    "    if freeze_encoder:\n",
    "        for param in classifier.encoder.parameters():\n",
    "            param.requires_grad = False\n",
    "\n",
    "    return classifier"
   ]
  },
  {
   "cell_type": "markdown",
   "id": "19e2ea4f",
   "metadata": {},
   "source": [
    "# Data Preparation"
   ]
  },
  {
   "cell_type": "code",
   "execution_count": 24,
   "id": "7c826775",
   "metadata": {
    "execution": {
     "iopub.execute_input": "2025-04-18T20:15:34.217279Z",
     "iopub.status.busy": "2025-04-18T20:15:34.216757Z",
     "iopub.status.idle": "2025-04-18T20:15:34.221614Z",
     "shell.execute_reply": "2025-04-18T20:15:34.221035Z",
     "shell.execute_reply.started": "2025-04-18T20:15:34.217256Z"
    },
    "trusted": true
   },
   "outputs": [],
   "source": [
    "class TransformedDataset(Dataset):\n",
    "    def __init__(self, dataset, transform):\n",
    "        self.dataset = dataset\n",
    "        self.transform = transform\n",
    "\n",
    "    def __getitem__(self, idx):\n",
    "        img, label = self.dataset[idx]\n",
    "        return self.transform(img), label\n",
    "\n",
    "    def __len__(self):\n",
    "        return len(self.dataset)"
   ]
  },
  {
   "cell_type": "code",
   "execution_count": 25,
   "id": "19406257",
   "metadata": {
    "execution": {
     "iopub.execute_input": "2025-04-18T20:15:35.129152Z",
     "iopub.status.busy": "2025-04-18T20:15:35.128671Z",
     "iopub.status.idle": "2025-04-18T20:15:35.135861Z",
     "shell.execute_reply": "2025-04-18T20:15:35.135110Z",
     "shell.execute_reply.started": "2025-04-18T20:15:35.129129Z"
    },
    "trusted": true
   },
   "outputs": [],
   "source": [
    "train_transforms = transforms.Compose(\n",
    "    [\n",
    "        transforms.ToImage(),\n",
    "        transforms.ToDtype(dtype=torch.float32, scale=True),\n",
    "        transforms.RandomHorizontalFlip(),\n",
    "        transforms.RandomResizedCrop(size=IMAGE_SIZE, scale=(0.8, 1.0)),\n",
    "        transforms.Normalize(CIFAR10_MEAN, CIFAR10_STD),\n",
    "    ]\n",
    ")\n",
    "\n",
    "train_transformed = TransformedDataset(train_dataset, train_transforms)\n",
    "valid_transformed = TransformedDataset(valid_dataset, eval_transforms)\n",
    "test_transformed = TransformedDataset(test_dataset, eval_transforms)\n",
    "\n",
    "train_loader = torch.utils.data.DataLoader(\n",
    "    train_transformed,\n",
    "    batch_size=BATCH_SIZE,\n",
    "    shuffle=True,\n",
    "    num_workers=4,\n",
    "    pin_memory=True,\n",
    "    persistent_workers=True,\n",
    "    prefetch_factor=2,\n",
    ")\n",
    "val_loader = torch.utils.data.DataLoader(\n",
    "    valid_transformed,\n",
    "    batch_size=BATCH_SIZE,\n",
    "    shuffle=False,\n",
    "    num_workers=4,\n",
    "    pin_memory=True,\n",
    "    persistent_workers=True,\n",
    "    prefetch_factor=2,\n",
    ")\n",
    "test_loader = torch.utils.data.DataLoader(\n",
    "    test_transformed,\n",
    "    batch_size=BATCH_SIZE,\n",
    "    shuffle=False,\n",
    "    num_workers=4,\n",
    "    pin_memory=True,\n",
    "    persistent_workers=True,\n",
    "    prefetch_factor=2,\n",
    ")"
   ]
  },
  {
   "cell_type": "markdown",
   "id": "16e8b0a9",
   "metadata": {},
   "source": [
    "# Self-Supervised Learning + Fine-Tuning"
   ]
  },
  {
   "cell_type": "code",
   "execution_count": null,
   "id": "3d2cbda9-af60-4b56-907f-5eabb99e16ea",
   "metadata": {
    "trusted": true
   },
   "outputs": [],
   "source": [
    "classifier_finetuned = create_classifier(pretrained=True, freeze_encoder=True)\n",
    "\n",
    "finetuned_train_losses, finetuned_val_losses, finetuned_test_acc = train_supervised(\n",
    "    classifier_finetuned,\n",
    "    train_loader,\n",
    "    val_loader,\n",
    "    test_loader,\n",
    "    epochs=FINETUNING_EPOCHS,\n",
    "    warmup_epochs=WARMUP_EPOCHS,\n",
    "    initial_lr=INITIAL_LR,\n",
    "    final_lr=FINAL_LR,\n",
    "    weight_decay=WEIGHT_DECAY_FINETUNING,\n",
    "    experiment_name=\"finetuned\",\n",
    "    device=device,\n",
    ")"
   ]
  },
  {
   "cell_type": "markdown",
   "id": "74d799da",
   "metadata": {},
   "source": [
    "# Supervised Learninig Baseline"
   ]
  },
  {
   "cell_type": "code",
   "execution_count": null,
   "id": "10e813d9-d819-44a2-8eb5-7195c4e2221b",
   "metadata": {
    "trusted": true
   },
   "outputs": [],
   "source": [
    "supervised_model = create_classifier(pretrained=False, freeze_encoder=False)\n",
    "\n",
    "supervised_train_losses, supervised_val_losses, supervised_test_acc = train_supervised(\n",
    "    supervised_model,\n",
    "    train_loader,\n",
    "    val_loader,\n",
    "    test_loader,\n",
    "    epochs=SUPERVISED_EPOCHS,\n",
    "    warmup_epochs=WARMUP_EPOCHS,\n",
    "    initial_lr=INITIAL_LR,\n",
    "    final_lr=FINAL_LR,\n",
    "    weight_decay=WEIGHT_DECAY_SUPERVISED,\n",
    "    experiment_name=\"supervised\",\n",
    "    device=device,\n",
    ")"
   ]
  },
  {
   "cell_type": "markdown",
   "id": "c9f0f909",
   "metadata": {},
   "source": [
    "# Training on 10% of CIFAR10"
   ]
  },
  {
   "cell_type": "code",
   "execution_count": 26,
   "id": "63d135e4",
   "metadata": {
    "execution": {
     "iopub.execute_input": "2025-04-18T20:15:40.849411Z",
     "iopub.status.busy": "2025-04-18T20:15:40.848658Z",
     "iopub.status.idle": "2025-04-18T20:15:40.856318Z",
     "shell.execute_reply": "2025-04-18T20:15:40.855535Z",
     "shell.execute_reply.started": "2025-04-18T20:15:40.849385Z"
    },
    "trusted": true
   },
   "outputs": [
    {
     "name": "stdout",
     "output_type": "stream",
     "text": [
      "Full training set size: 45000, 10% subset size: 4500\n"
     ]
    }
   ],
   "source": [
    "def create_subset(dataset, fraction=0.1):\n",
    "    total_size = len(dataset)\n",
    "    subset_size = int(total_size * fraction)\n",
    "\n",
    "    indices = torch.randperm(total_size, generator=torch.Generator().manual_seed(SEED))\n",
    "    subset_indices = indices[:subset_size]\n",
    "\n",
    "    return torch.utils.data.Subset(dataset, subset_indices)\n",
    "\n",
    "\n",
    "train_subset = create_subset(train_transformed, fraction=0.1)\n",
    "print(\n",
    "    f\"Full training set size: {len(train_transformed)}, 10% subset size: {len(train_subset)}\"\n",
    ")\n",
    "\n",
    "subset_train_loader = torch.utils.data.DataLoader(\n",
    "    train_subset,\n",
    "    batch_size=BATCH_SIZE,\n",
    "    shuffle=True,\n",
    "    num_workers=4,\n",
    "    pin_memory=True,\n",
    "    persistent_workers=True,\n",
    "    prefetch_factor=2,\n",
    ")"
   ]
  },
  {
   "cell_type": "markdown",
   "id": "7c5c0926",
   "metadata": {},
   "source": [
    "## Finetuning on 10% CIFAR10"
   ]
  },
  {
   "cell_type": "code",
   "execution_count": null,
   "id": "66c4f6a2",
   "metadata": {
    "trusted": true
   },
   "outputs": [],
   "source": [
    "classifier_finetuned_10pct = create_classifier(pretrained=True, freeze_encoder=True)\n",
    "\n",
    "finetuned_10pct_train_losses, finetuned_10pct_val_losses, finetuned_10pct_test_acc = (\n",
    "    train_supervised(\n",
    "        classifier_finetuned_10pct,\n",
    "        subset_train_loader,\n",
    "        val_loader,\n",
    "        test_loader,\n",
    "        epochs=PRETRAINIG_SUBSET_EPOCHS,\n",
    "        warmup_epochs=WARMUP_EPOCHS,\n",
    "        initial_lr=INITIAL_LR,\n",
    "        final_lr=FINAL_LR,\n",
    "        experiment_name=\"finetuned_10pct\",\n",
    "        device=device,\n",
    "    )\n",
    ")"
   ]
  },
  {
   "cell_type": "markdown",
   "id": "db5846ee",
   "metadata": {},
   "source": [
    "## Supervised training on 10% CIFAR10"
   ]
  },
  {
   "cell_type": "code",
   "execution_count": null,
   "id": "f1521059-0dc4-4660-8f84-747b20876df4",
   "metadata": {
    "trusted": true
   },
   "outputs": [],
   "source": [
    "classifier_supervised_10pct = create_classifier(pretrained=False, freeze_encoder=False)\n",
    "\n",
    "(\n",
    "    supervised_10pct_train_losses,\n",
    "    supervised_10pct_val_losses,\n",
    "    supervised_10pct_test_acc,\n",
    ") = train_supervised(\n",
    "    classifier_supervised_10pct,\n",
    "    subset_train_loader,\n",
    "    val_loader,\n",
    "    test_loader,\n",
    "    warmup_epochs=WARMUP_EPOCHS,\n",
    "    epochs=SUPERVISED_SUBSET_EPOCHS,\n",
    "    initial_lr=INITIAL_LR,\n",
    "    final_lr=FINAL_LR,\n",
    "    weight_decay=WEIGHT_DECAY_SUPERVISED,\n",
    "    experiment_name=\"supervised_10pct\",\n",
    "    device=device,\n",
    ")"
   ]
  },
  {
   "cell_type": "markdown",
   "id": "a313de4c",
   "metadata": {},
   "source": [
    "# Results Comparison"
   ]
  },
  {
   "cell_type": "code",
   "execution_count": null,
   "id": "2f5059fa",
   "metadata": {
    "execution": {
     "iopub.execute_input": "2025-04-18T18:31:15.444935Z",
     "iopub.status.busy": "2025-04-18T18:31:15.444633Z",
     "iopub.status.idle": "2025-04-18T18:31:15.469900Z",
     "shell.execute_reply": "2025-04-18T18:31:15.468825Z",
     "shell.execute_reply.started": "2025-04-18T18:31:15.444914Z"
    },
    "trusted": true
   },
   "outputs": [],
   "source": [
    "sns.set_theme(style=\"whitegrid\")\n",
    "plt.rcParams.update({\"font.size\": 12})\n",
    "\n",
    "plt.figure(figsize=(12, 6))\n",
    "methods = [\"SimCLR + 100%\", \"Supervised 100%\", \"SimCLR + 10%\", \"Supervised 10%\"]\n",
    "accuracies = [\n",
    "    finetuned_test_acc,\n",
    "    supervised_test_acc,\n",
    "    finetuned_10pct_test_acc,\n",
    "    supervised_10pct_test_acc,\n",
    "]\n",
    "\n",
    "accuracy_df = pd.DataFrame(\n",
    "    {\n",
    "        \"Method\": methods,\n",
    "        \"Accuracy\": accuracies,\n",
    "        \"Color\": [\"#1f77b4\", \"#ff7f0e\", \"#2ca02c\", \"#d62728\"],\n",
    "    }\n",
    ")\n",
    "\n",
    "ax = sns.barplot(\n",
    "    x=\"Method\", y=\"Accuracy\", data=accuracy_df, palette=accuracy_df[\"Color\"]\n",
    ")\n",
    "ax.set_title(\"Test Accuracy Comparison\", fontsize=16)\n",
    "ax.set_ylabel(\"Accuracy (%)\", fontsize=14)\n",
    "ax.set_ylim(0, 100)\n",
    "\n",
    "for i, bar in enumerate(ax.patches):\n",
    "    ax.text(\n",
    "        bar.get_x() + bar.get_width() / 2,\n",
    "        bar.get_height() + 1,\n",
    "        f\"{accuracies[i]:.1f}%\",\n",
    "        ha=\"center\",\n",
    "        va=\"bottom\",\n",
    "        fontweight=\"bold\",\n",
    "    )\n",
    "\n",
    "plt.tight_layout()\n",
    "plt.savefig(\"accuracy_comparison.png\", dpi=300, bbox_inches=\"tight\")\n",
    "plt.show()\n",
    "\n",
    "plt.figure(figsize=(16, 7))\n",
    "\n",
    "epochs = range(1, len(supervised_train_losses) + 1)\n",
    "data = []\n",
    "\n",
    "for values, name in [\n",
    "    (supervised_train_losses, \"Supervised (100%)\"),\n",
    "    (finetuned_train_losses, \"SimCLR + 100% finetune\"),\n",
    "    (supervised_10pct_train_losses, \"Supervised (10%)\"),\n",
    "    (finetuned_10pct_train_losses, \"SimCLR + 10% finetune\"),\n",
    "]:\n",
    "    for epoch, value in zip(epochs, values):\n",
    "        data.append({\"Epoch\": epoch, \"Loss\": value, \"Method\": name, \"Type\": \"Training\"})\n",
    "\n",
    "for values, name in [\n",
    "    (supervised_val_losses, \"Supervised (100%)\"),\n",
    "    (finetuned_val_losses, \"SimCLR + 100% finetune\"),\n",
    "    (supervised_10pct_val_losses, \"Supervised (10%)\"),\n",
    "    (finetuned_10pct_val_losses, \"SimCLR + 10% finetune\"),\n",
    "]:\n",
    "    for epoch, value in zip(epochs, values):\n",
    "        data.append(\n",
    "            {\"Epoch\": epoch, \"Loss\": value, \"Method\": name, \"Type\": \"Validation\"}\n",
    "        )\n",
    "\n",
    "losses_df = pd.DataFrame(data)\n",
    "\n",
    "plt.subplot(1, 2, 1)\n",
    "sns.lineplot(\n",
    "    data=losses_df[losses_df[\"Type\"] == \"Training\"],\n",
    "    x=\"Epoch\",\n",
    "    y=\"Loss\",\n",
    "    hue=\"Method\",\n",
    "    palette=\"tab10\",\n",
    "    linewidth=2.5,\n",
    "    markers=True,\n",
    "    dashes=False,\n",
    ")\n",
    "plt.title(\"Training Loss Comparison\", fontsize=16)\n",
    "plt.xlabel(\"Epoch\", fontsize=14)\n",
    "plt.ylabel(\"Loss\", fontsize=14)\n",
    "plt.legend(title=None, fontsize=12)\n",
    "\n",
    "plt.subplot(1, 2, 2)\n",
    "sns.lineplot(\n",
    "    data=losses_df[losses_df[\"Type\"] == \"Validation\"],\n",
    "    x=\"Epoch\",\n",
    "    y=\"Loss\",\n",
    "    hue=\"Method\",\n",
    "    palette=\"tab10\",\n",
    "    linewidth=2.5,\n",
    "    markers=True,\n",
    "    dashes=False,\n",
    ")\n",
    "plt.title(\"Validation Loss Comparison\", fontsize=16)\n",
    "plt.xlabel(\"Epoch\", fontsize=14)\n",
    "plt.ylabel(\"Loss\", fontsize=14)\n",
    "plt.legend(title=None, fontsize=12)\n",
    "\n",
    "plt.tight_layout()\n",
    "plt.savefig(\"loss_comparison.png\", dpi=300, bbox_inches=\"tight\")\n",
    "plt.show()"
   ]
  },
  {
   "cell_type": "markdown",
   "id": "79b134e9",
   "metadata": {},
   "source": [
    "# Summary"
   ]
  },
  {
   "cell_type": "code",
   "execution_count": null,
   "id": "90e1e7c6",
   "metadata": {
    "trusted": true
   },
   "outputs": [],
   "source": [
    "results = {\n",
    "    \"Method\": [\n",
    "        \"SimCLR + 100% (frozen)\",\n",
    "        \"Supervised 100% (longer training)\",\n",
    "        \"SimCLR + 10% (frozen)\",\n",
    "        \"Supervised 10% (longer training)\",\n",
    "    ],\n",
    "    \"Test Accuracy\": [\n",
    "        finetuned_test_acc,\n",
    "        supervised_test_acc,\n",
    "        finetuned_10pct_test_acc,\n",
    "        supervised_10pct_test_acc,\n",
    "    ],\n",
    "    \"Training Epochs\": [\n",
    "        f\"{PRETRAINING_EPOCHS} + {FINETUNING_EPOCHS}\",\n",
    "        f\"{SUPERVISED_EPOCHS}\",\n",
    "        f\"{PRETRAINING_EPOCHS} + {PRETRAINIG_SUBSET_EPOCHS}\",\n",
    "        f\"{SUPERVISED_SUBSET_EPOCHS}\",\n",
    "    ],\n",
    "    \"Frozen Encoder\": [\"Yes\", \"No\", \"Yes\", \"No\"],\n",
    "    \"Trainable Parameters\": [\n",
    "        format(\n",
    "            sum(\n",
    "                p.numel() for p in classifier_finetuned.parameters() if p.requires_grad\n",
    "            ),\n",
    "            \",\",\n",
    "        ),\n",
    "        format(\n",
    "            sum(p.numel() for p in supervised_model.parameters() if p.requires_grad),\n",
    "            \",\",\n",
    "        ),\n",
    "        format(\n",
    "            sum(\n",
    "                p.numel()\n",
    "                for p in classifier_finetuned_10pct.parameters()\n",
    "                if p.requires_grad\n",
    "            ),\n",
    "            \",\",\n",
    "        ),\n",
    "        format(\n",
    "            sum(\n",
    "                p.numel()\n",
    "                for p in classifier_supervised_10pct.parameters()\n",
    "                if p.requires_grad\n",
    "            ),\n",
    "            \",\",\n",
    "        ),\n",
    "    ],\n",
    "}\n",
    "\n",
    "results_df = pd.DataFrame(results)\n",
    "results_df"
   ]
  },
  {
   "cell_type": "markdown",
   "id": "9aa10e8c",
   "metadata": {},
   "source": [
    "# Embeddings Visualization"
   ]
  },
  {
   "cell_type": "code",
   "execution_count": 57,
   "id": "c4e63a6d",
   "metadata": {
    "execution": {
     "iopub.execute_input": "2025-04-18T20:31:29.351937Z",
     "iopub.status.busy": "2025-04-18T20:31:29.351158Z",
     "iopub.status.idle": "2025-04-18T20:31:29.358470Z",
     "shell.execute_reply": "2025-04-18T20:31:29.357624Z",
     "shell.execute_reply.started": "2025-04-18T20:31:29.351903Z"
    },
    "trusted": true
   },
   "outputs": [],
   "source": [
    "def extract_embeddings(model, data_loader, num_samples=1000):\n",
    "    model.eval()\n",
    "    embeddings = []\n",
    "    labels = []\n",
    "    count = 0\n",
    "\n",
    "    with torch.no_grad():\n",
    "        for images, targets in tqdm(data_loader, desc=\"Extracting embeddings\"):\n",
    "            images = images.to(device)\n",
    "            batch_embeddings = model.encoder(images).cpu().numpy()\n",
    "            batch_labels = targets.numpy()\n",
    "\n",
    "            embeddings.append(batch_embeddings)\n",
    "            labels.append(batch_labels)\n",
    "\n",
    "            count += len(images)\n",
    "            if count >= num_samples:\n",
    "                break\n",
    "\n",
    "    embeddings = np.vstack(embeddings)[:num_samples]\n",
    "    labels = np.concatenate(labels)[:num_samples]\n",
    "\n",
    "    return embeddings, labels"
   ]
  },
  {
   "cell_type": "code",
   "execution_count": 58,
   "id": "3303be23",
   "metadata": {
    "execution": {
     "iopub.execute_input": "2025-04-18T20:31:29.685392Z",
     "iopub.status.busy": "2025-04-18T20:31:29.684581Z",
     "iopub.status.idle": "2025-04-18T20:31:30.824576Z",
     "shell.execute_reply": "2025-04-18T20:31:30.823648Z",
     "shell.execute_reply.started": "2025-04-18T20:31:29.685356Z"
    },
    "trusted": true
   },
   "outputs": [
    {
     "name": "stderr",
     "output_type": "stream",
     "text": [
      "Extracting embeddings:  45%|████▌     | 9/20 [00:00<00:01, 10.88it/s]"
     ]
    },
    {
     "name": "stdout",
     "output_type": "stream",
     "text": [
      "Embeddings shape: (5000, 512)\n",
      "Labels shape: (5000,)\n"
     ]
    },
    {
     "name": "stderr",
     "output_type": "stream",
     "text": [
      "\n"
     ]
    }
   ],
   "source": [
    "pretrained_model = create_classifier(pretrained=True, freeze_encoder=True)\n",
    "\n",
    "num_samples = 5000\n",
    "embeddings, labels = extract_embeddings(\n",
    "    pretrained_model, test_loader, num_samples=num_samples\n",
    ")\n",
    "\n",
    "print(f\"Embeddings shape: {embeddings.shape}\")\n",
    "print(f\"Labels shape: {labels.shape}\")"
   ]
  },
  {
   "cell_type": "code",
   "execution_count": null,
   "id": "3ca479f6",
   "metadata": {
    "execution": {
     "iopub.execute_input": "2025-04-18T20:49:17.147421Z",
     "iopub.status.busy": "2025-04-18T20:49:17.147142Z",
     "iopub.status.idle": "2025-04-18T20:49:21.801434Z",
     "shell.execute_reply": "2025-04-18T20:49:21.800858Z",
     "shell.execute_reply.started": "2025-04-18T20:49:17.147401Z"
    },
    "trusted": true
   },
   "outputs": [],
   "source": [
    "umap_obj = umap.UMAP(\n",
    "    n_components=3,\n",
    "    n_neighbors=30,\n",
    "    min_dist=0.1,\n",
    ")\n",
    "embeddings_reduced = umap_obj.fit_transform(embeddings)"
   ]
  },
  {
   "cell_type": "code",
   "execution_count": null,
   "id": "81edb1b2",
   "metadata": {
    "execution": {
     "iopub.execute_input": "2025-04-18T20:49:30.746525Z",
     "iopub.status.busy": "2025-04-18T20:49:30.746244Z",
     "iopub.status.idle": "2025-04-18T20:49:30.820722Z",
     "shell.execute_reply": "2025-04-18T20:49:30.820016Z",
     "shell.execute_reply.started": "2025-04-18T20:49:30.746505Z"
    },
    "trusted": true
   },
   "outputs": [
    {
     "data": {
      "text/html": [
       "<html>\n",
       "<head><meta charset=\"utf-8\" /></head>\n",
       "<body>\n",
       "    <div>            <script src=\"https://cdnjs.cloudflare.com/ajax/libs/mathjax/2.7.5/MathJax.js?config=TeX-AMS-MML_SVG\"></script><script type=\"text/javascript\">if (window.MathJax && window.MathJax.Hub && window.MathJax.Hub.Config) {window.MathJax.Hub.Config({SVG: {font: \"STIX-Web\"}});}</script>                <script type=\"text/javascript\">window.PlotlyConfig = {MathJaxConfig: 'local'};</script>\n",
       "        <script charset=\"utf-8\" src=\"https://cdn.plot.ly/plotly-2.35.2.min.js\"></script>                <div id=\"4c6cf12a-81fa-48a7-8776-ac1351db37df\" class=\"plotly-graph-div\" style=\"height:500px; width:600px;\"></div>            <script type=\"text/javascript\">                                    window.PLOTLYENV=window.PLOTLYENV || {};                                    if (document.getElementById(\"4c6cf12a-81fa-48a7-8776-ac1351db37df\")) {                    Plotly.newPlot(                        \"4c6cf12a-81fa-48a7-8776-ac1351db37df\",                        [{\"hovertemplate\":\"Class=cat\\u003cbr\\u003ex=%{x}\\u003cbr\\u003ey=%{y}\\u003cbr\\u003ez=%{z}\\u003cextra\\u003e\\u003c\\u002fextra\\u003e\",\"legendgroup\":\"cat\",\"marker\":{\"color\":\"#636EFA\",\"opacity\":0.8,\"symbol\":\"circle\"},\"mode\":\"markers\",\"name\":\"cat\",\"scene\":\"scene\",\"showlegend\":true,\"x\":[9.786994,9.29192,9.616882,8.325381,8.052515,6.261502,8.524539,9.69135,9.534521,9.385302,8.003638,8.936754,8.521126,9.503163,9.943994,10.2385645,8.265987,6.762135,8.068065,10.142038,8.466928,9.278731,9.767138,9.690533,8.374688,9.993108,9.129247,10.354635,9.339683,8.7725115,9.976578,6.6183476,8.146717,8.332322,8.053026,9.373391,6.893442,7.095126,8.243889,10.262519,10.370654,9.132376,7.369486,8.9871645,8.832243,10.01779,7.1696186,6.784873,9.9099655,6.6561103,9.302793,10.01689,8.939727,8.262793,8.032266,10.117105,9.08848,7.710686,7.9409184,10.285881,10.039796,9.705803,9.661086,6.8955035,9.252506,7.866653,9.250417,6.994183,7.5523157,9.016173,9.669796,9.289965,8.876356,8.162417,7.400445,6.729558,6.144157,6.3600187,6.5115795,8.739504,9.490272,6.931041,9.20951,8.015555,10.448237,6.679407,7.8756323,6.539111,9.127187,8.300742,7.18396,9.77382,8.87002,10.044593,7.5675507,9.290971,9.754834,9.409752,8.206605,7.0428166,9.71807,8.051085,9.754879,9.08425,6.529043,8.747441,9.472887,7.5249968,7.079418,9.678119,6.8669076,6.169127,8.653748,7.1611524,9.105454,9.343866,8.921114,7.821034,7.1801457,6.7755623,8.344307,10.002144,6.361429,6.8968606,10.05819,6.4384036,8.166989,7.132112,9.184266,7.547716,7.160827,8.346462,8.813512,8.10331,7.431561,6.9758763,7.633469,8.028813,9.285897,7.0033317,8.7046585,9.563413,8.85764,8.890505,7.6523895,9.956002,9.66654,9.111107,9.731672,7.7859755,6.5726347,9.277453,9.85137,6.9052258,7.099,6.827033,7.637604,10.256944,8.759516,6.581694,9.674137,6.237207,8.106822,7.5190606,9.448994,9.3088875,8.644385,7.9835234,9.325611,7.430589,6.3060575,8.756659,10.012497,8.843827,8.414965,8.377414,6.802321,9.33256,8.438083,8.522029,7.826158,9.652388,10.246379,8.808444,9.120853,10.363936,9.644449,10.082384,8.666003,9.335717,9.326376,6.82625,8.906036,8.145423,10.239355,6.803625,6.9028034,6.6214657,9.21002,9.675648,9.815038,9.614649,6.9854565,9.80146,9.623673,9.474344,8.676984,9.262567,9.772215,8.885287,7.2422442,6.154528,10.16542,6.758957,10.433824,6.877423,6.0703254,6.2914166,9.860098,6.523147,6.821903,8.025392,8.614472,9.024643,7.2885547,6.785199,9.60147,9.4817095,9.47296,8.672944,8.832583,6.3120403,7.0906734,7.6941395,9.606306,10.463406,7.0944176,8.033653,10.320365,9.05165,6.8908334,9.555171,7.857673,6.9302573,8.24613,9.935578,6.446579,10.011113,8.157675,8.196142,7.381082,9.376853,8.101903,9.457267,7.009919,7.981778,8.682166,6.524208,7.410335,6.8020296,8.87764,7.535267,8.027859,6.608443,9.8489485,9.237413,7.5981226,8.13739,9.0446205,8.696172,8.016233,8.940811,8.680343,6.986943,9.906741,6.711495,6.374489,9.467713,7.1438956,7.5529885,9.92342,8.294883,7.0206304,7.0875745,9.850534,9.615193,7.1366754,9.854268,7.4916844,8.784562,9.751715,9.212216,8.066327,6.533129,9.623415,8.811425,8.17011,6.4832144,8.855723,6.4380846,7.0062294,8.540085,8.166941,8.582967,9.380196,9.415414,9.3595295,10.138162,7.801149,9.470624,8.944504,8.550724,7.8916397,6.481,6.7909784,7.5207014,9.279324,8.770888,7.2629447,9.508348,8.335607,9.249305,6.4978485,10.173123,8.926182,8.924694,9.575584,9.233667,9.101666,6.9136295,9.57981,8.991456,6.5446124,9.323803,8.566756,9.774789,9.617821,6.7666297,7.926519,8.723497,9.086534,8.32658,10.015152,9.662566,9.756144,8.945544,9.140171,10.12853,9.485047,8.108923,9.358495,9.769348,8.107837,8.077384,6.7538,9.996698,10.345415,7.0023704,9.716943,6.1512346,7.351603,10.149809,9.474977,8.732583,9.704051,10.071263,10.0973215,9.265968,6.837761,9.189402,10.300113,7.9771185,10.310112,7.409613,8.055581,7.378056,10.289495,6.9180074,7.46416,9.110342,6.8359265,6.254351,8.616591,7.8950415,7.114421,8.935071,6.7798114,10.250057,10.21526,8.079039,8.258764,9.344416,6.5264244,8.059814,8.09135,9.81386,9.753639,7.8032866,7.123623,7.9907713,9.923297,7.48187,7.4050245,9.268875,7.124089,7.313496,10.038654,8.888758,6.320621,8.499044,10.173846,9.871257,9.000204,8.908734,10.180725,6.2637405,6.998549,8.989406,6.9212914,8.713833,6.490351,7.00181,9.577884,9.273461,6.8960705,10.226616,9.935443,7.914438,7.4918175,10.200124,9.914698,8.6460285,8.025391,7.138016,9.521933,6.8672576,8.621396,7.258861,6.8677106,9.64946,9.486425,8.978364,10.098393,10.367809,8.21353,6.972813,9.288284,9.265549,8.199992,8.945913,9.752294,7.9059396,8.956,7.894868,7.4407554,8.563389,6.414225,9.469868,10.208571,9.426893,9.513746,6.5681176,8.970559,6.913959,9.060964,9.504152,7.7946186,9.678751,8.378636,6.9050536,8.0941105,9.495773,6.9818535,9.696769,7.795811,9.401487,9.691762,10.184134,9.332175,6.885889,9.042563,6.2400393,10.04074,6.5398436,9.590804,7.096033,9.866539,6.153373,6.956901,8.962817,6.8676405,9.768386,9.500127,6.9681416,8.320613,8.749877,6.719255],\"y\":[9.116366,9.295207,9.175497,9.024872,10.05816,8.020244,9.717363,8.52761,10.009173,9.618798,9.495762,8.631655,10.179699,10.45122,8.995043,8.9705105,10.211237,9.813643,9.371003,9.121697,9.115568,8.580671,9.629017,9.112666,9.78087,9.12362,9.684849,9.084399,10.3923435,10.376077,9.548803,10.207541,9.434738,9.501168,9.825316,8.982747,9.919336,8.198653,10.356052,9.368571,9.108119,9.685546,7.8339176,10.1247015,9.243715,9.513965,9.231343,9.353986,9.977067,9.600705,9.754086,8.760049,9.148412,9.7429495,9.043425,9.249037,9.939431,9.314122,10.099008,9.542991,9.869931,9.122881,9.757255,10.689714,7.821592,9.028285,9.950548,9.4986515,10.202568,9.3454685,9.655514,9.772687,10.197565,10.726794,8.84883,9.618153,9.908912,9.233005,10.04049,8.829558,8.860397,10.63283,8.935532,9.141409,8.921057,10.505906,8.429461,9.752193,10.072838,9.194438,9.330515,9.914052,10.292982,9.770343,8.944899,9.894871,9.110052,10.668996,9.696566,9.837815,9.861276,10.2615595,9.08804,9.947146,10.215481,9.22938,10.024296,9.581265,10.947949,9.429801,9.752717,8.104871,10.284176,9.275312,10.492558,9.803093,9.1978245,9.103731,10.839969,9.439738,11.008193,9.459288,10.349284,9.67678,9.201221,9.542124,8.239733,7.058133,10.187936,8.46366,9.27403,9.7245035,10.514254,10.008175,9.023883,10.343668,9.742982,7.634196,10.272947,9.329015,9.751407,9.3842535,9.386433,8.261547,10.278891,10.243274,9.586732,9.160332,9.445282,10.225602,9.655284,10.670733,9.623578,7.947249,8.340641,9.35538,10.92488,8.903386,10.631722,9.716457,9.894773,10.127666,10.326132,8.74365,9.840925,9.079238,9.033579,10.260973,9.589466,7.97614,9.714699,9.746647,9.211081,10.452014,9.901984,9.954284,10.155169,10.635169,9.520423,10.203309,9.629091,8.838169,9.11754,8.999702,9.940821,9.625585,9.852381,9.133434,8.979606,9.033196,9.81693,9.023439,8.8868885,9.414842,9.53318,9.310598,10.506745,10.227889,9.232387,9.417066,9.271086,10.20009,10.306432,10.2781725,9.9679985,10.012063,9.554392,9.267686,9.964818,9.96242,7.8771033,10.233522,9.466717,10.429708,9.599358,9.297903,9.983584,10.302502,10.067679,10.261993,10.542015,10.072441,10.04501,9.34281,9.100762,9.32249,9.947149,9.043651,9.224859,9.509094,9.973871,10.10614,9.061477,10.518721,9.765259,9.406154,9.707777,8.760953,9.121572,7.6917763,10.620631,9.117075,9.505754,10.340848,10.259713,8.727339,10.415097,9.753397,9.974724,10.008329,9.938119,9.879552,9.050534,9.153094,9.229688,10.689398,8.960502,10.188936,9.031749,10.26105,10.454995,9.621532,9.298321,10.543275,8.515798,9.316572,9.204661,9.554065,10.600846,8.940268,9.625648,10.18564,10.689768,10.405799,9.571075,10.617361,9.906398,9.288833,8.4573145,8.78846,9.747495,10.4084,8.921481,8.9482355,9.743383,9.687657,9.4537945,10.1058655,10.101125,8.932286,9.789421,10.422735,8.863007,8.247451,10.567894,9.531658,8.825038,9.751097,9.96771,10.318453,9.575262,9.248908,8.34062,9.84881,9.234992,9.990204,10.234773,8.693167,10.000814,10.083454,10.039611,9.392323,9.345079,10.320378,9.767928,7.76076,10.679626,9.792479,9.125862,10.425257,9.795375,10.124275,9.730296,8.989567,10.0798025,9.693893,9.139287,9.45134,8.755475,10.303044,8.91587,9.321945,9.657532,9.818294,10.471809,9.783193,8.55948,9.972828,9.610541,10.789116,10.410533,8.617005,9.032629,9.845039,9.031434,9.33472,9.891554,9.176572,10.125279,8.839466,10.569841,9.314601,10.003768,8.65445,10.553213,10.162299,9.743447,8.800823,9.700543,10.035821,7.712489,9.36627,9.999692,8.036702,9.713299,10.131195,9.236187,10.191293,10.127204,9.838726,8.874256,9.686549,9.944895,9.173399,9.251242,10.664858,8.693243,8.999511,8.50749,10.24772,10.075827,10.240881,7.622513,9.280276,10.946572,8.860963,10.038296,9.85942,8.823867,7.9826837,10.000748,9.198883,9.883417,9.813321,10.049628,9.990802,9.649879,9.622586,8.61559,10.287377,8.841223,9.072974,9.566022,9.917851,8.43899,10.176192,9.889032,7.960303,10.292261,9.509754,9.31617,9.218974,8.17751,10.315522,9.532016,9.921405,10.791148,9.554338,9.500893,10.128195,9.979009,7.0386615,9.853535,8.652664,9.831182,9.45289,8.862111,10.050107,7.872011,9.843033,8.983306,8.402611,9.009342,10.12921,9.604099,10.782285,9.549071,10.905915,9.408064,9.493416,9.988931,10.574642,10.031346,9.525074,9.720852,8.664359,9.139295,10.46593,10.112209,9.953458,10.592916,8.050266,9.902954,8.884975,9.529625,9.6781025,10.06415,10.259777,9.838867,10.537565,9.80727,9.525605,10.168195,9.184205,8.859233,9.039936,7.347616,9.522134,10.25715,10.301205,8.571928,9.966845,10.296567,9.722257,9.809603,9.137318,10.179945,9.4665165,9.174271,10.631215,10.105968,10.259243,9.156922,9.877193,10.474705,9.540133,10.157018,10.163621,8.036708,8.924879,10.091883,8.438778,9.553092,9.94054,8.60222,10.843543,9.89409],\"z\":[0.5932781,0.57900435,0.25924465,1.4189196,0.7314449,0.089165114,1.791793,-0.5826282,-0.3553172,0.82170993,1.7959154,-0.6549207,0.60490096,-0.17733297,0.48535466,0.21218418,0.20773508,1.3496909,1.3185176,1.155355,1.6545953,-0.5692056,-0.7997492,0.19529678,0.41766605,-0.56154203,0.9883586,-0.24863315,-0.15843287,-0.036945406,0.45059562,0.014311359,0.6812451,0.98953164,0.2406953,0.3899342,1.5621992,1.9293133,0.57728034,0.11723809,0.095956646,0.19623876,1.3629687,-0.08385432,0.7294457,-0.10164203,1.6063185,1.7334014,0.33093524,1.958264,0.5887009,-0.5120195,0.6917878,1.2284554,0.19994454,1.2278292,-0.35308853,1.4019688,1.8214979,0.8000578,0.17805755,1.0925361,0.3633091,1.0272948,0.25748065,1.7328745,1.1073904,0.64272815,0.6194922,0.9935178,0.34552506,0.5440389,0.6528588,0.70855963,1.333904,1.4996307,1.0769079,0.90980804,1.0830568,0.8166552,-0.46081817,0.89142853,0.95733935,0.65808094,0.46360564,0.8846873,1.4080775,1.6929119,0.08800267,1.1077476,0.59582055,0.9672275,0.4928626,0.23347475,1.5591154,0.35257867,0.1776715,0.37571338,1.5761566,1.6647291,-0.3535408,1.2866246,0.04256268,1.3833205,1.0175904,1.4160569,-0.6761864,1.7864745,1.9854606,-0.35882014,1.8017687,-0.20318672,-0.008540363,1.6938134,0.24887352,-0.5409676,0.47925168,0.7992879,0.8660639,1.371674,1.332611,0.8174641,1.3567115,1.9036539,-0.62566286,1.5551142,1.4574102,0.21290024,-0.6497234,1.6526811,1.4569483,1.6138253,0.102521345,0.49191824,1.073006,1.0488262,0.29331154,0.23505785,0.9091371,1.8058082,1.0045698,-0.33418152,0.7319827,0.3981239,1.0842636,0.2777047,0.863023,-0.067289114,-0.6364425,0.43447873,1.7179904,0.5837554,0.35415792,1.3903322,1.5299237,1.4276584,0.7762691,0.31918174,1.2397434,1.7059844,-0.08677636,1.015858,0.6429338,1.4206588,-0.29369813,0.9005892,0.7913942,1.3369588,0.43351027,0.9292726,0.7481186,0.86862767,-0.48166892,0.19727238,0.525291,0.53684115,1.7565571,0.7159542,1.1275665,1.5309087,-0.07999837,1.0198996,0.33514446,0.8494761,0.068358295,0.111111924,0.016896218,0.27245966,1.0495472,1.2452052,0.020449983,1.903373,1.3646568,0.18962026,-0.4664339,1.1582147,0.73985004,1.1421566,-0.7911827,1.7363124,0.20830943,1.344816,0.24818747,0.42185783,-0.05749713,-0.6823302,1.112821,1.2261602,0.84895957,0.1610515,1.6789755,0.98585266,0.4974131,1.2575951,-0.30479756,1.7191595,1.128829,0.9781769,0.31362292,0.9758053,0.47845712,0.3539621,0.9256715,0.23787354,1.8225912,1.9184104,1.1460296,0.037000243,-0.20560686,-0.22425544,0.7827573,1.2192892,-0.9731255,0.5850913,-0.9278947,0.9676038,0.83009547,1.4046168,-0.3702503,0.75660795,0.79417485,0.955897,0.7331451,1.3807862,0.6611029,0.36100587,0.77422965,0.24045008,-0.6279957,-0.03834205,0.4589125,-0.77110624,0.73315567,1.1569084,1.7360221,0.18192607,1.0365679,-0.157966,1.9178013,0.090167396,-0.18483153,1.7353015,0.6126997,1.696863,0.3401921,1.5063398,1.4255285,1.5999516,0.3707434,0.81544685,1.5527476,-0.16991274,0.53110725,1.415337,-0.7353256,1.0275556,1.5920615,1.8716155,1.3409768,1.9865149,-0.74967355,0.5138903,1.8432302,1.5958223,0.8889954,0.69225216,1.642681,-0.44839168,0.5981393,-0.865471,1.0756592,1.1000824,-0.3524106,0.32214934,0.7652598,0.70733774,-0.13695204,-0.4831423,0.6299454,0.25253195,1.3003005,0.7475869,1.1624227,0.014774591,1.2996048,1.132803,0.45796084,-0.3669974,0.52942723,-0.6696969,0.36375862,1.7373332,1.0586838,1.3053147,1.6232526,1.5560851,0.20604014,-0.20541756,1.6628431,0.17177255,0.063201696,1.3701433,1.029816,0.36006382,-0.2935976,-0.9187375,0.5196435,1.6916028,1.585822,0.880863,-0.13190478,1.0770887,-0.553014,0.9184201,0.5150143,0.24001198,-0.07679536,-0.047632936,1.7175472,1.230852,-0.20119952,1.64381,-0.5531099,0.14784937,0.13935989,2.038188,1.3633674,-0.629768,1.2034638,1.118242,-0.12618458,-0.83085966,1.8474609,0.9149248,0.66612774,0.57285583,-0.21465483,1.5096207,-0.6612813,0.73514634,1.7710575,0.5164589,-0.39618418,1.107893,1.1896306,0.51802593,-0.4498587,1.0487962,0.98576003,-0.35368416,0.46997923,0.87794644,0.27746835,1.5405611,0.6406732,1.3910409,0.4005098,1.7065804,1.8808017,-0.30148277,1.1666626,1.1375494,0.21340908,0.0018511576,1.9888192,0.8499308,1.4394706,-0.03930439,0.5039614,0.0008881015,1.3406692,0.7342998,0.36639324,0.9902811,-0.5231808,0.7732969,0.11821422,2.1082945,-0.33126768,1.7921976,0.663855,1.8810056,2.0778341,-0.5243562,2.2116523,2.003167,0.99077415,0.8557493,1.0382029,0.37916848,-0.6544136,0.6418863,0.43564665,0.6455355,-0.088558845,1.2164706,1.6989454,-0.26665556,1.0298003,0.22048703,-0.4001063,1.3949554,0.874649,1.0792513,1.2576379,0.25401393,0.42172933,0.83589625,1.0096534,1.0546651,0.38080874,0.21641079,1.1015705,1.6132654,1.4929256,1.6283073,1.4420437,1.5275619,1.3274341,-0.21738508,1.2838079,0.57239014,0.54884493,0.13112152,1.4251343,1.6230277,0.9528906,-0.1853145,1.8254502,-0.6362581,0.92240345,1.101027,-0.030141005,2.0241532,1.6206491,0.85535514,0.7370744,1.0517695,-0.20968363,0.94772947,-0.7502376,-0.4760451,0.6817055,2.106741,0.93193644,-0.47407854,-0.59809357,1.1843929,1.3524479,0.13224044,1.5794653,-0.5444486,1.3083774,0.08840373,1.0844759,-0.13779248,0.8012269,-0.24357203,0.34019724,0.6122555,0.49759495,1.2349508,-0.34001788,1.7203711,0.9385421,1.6786207,-0.29895002,1.230921,1.563285,0.5817932,1.1463528,0.8330138,0.9928929,0.08378145,1.491913,0.56920546,1.4286222],\"type\":\"scatter3d\"},{\"hovertemplate\":\"Class=ship\\u003cbr\\u003ex=%{x}\\u003cbr\\u003ey=%{y}\\u003cbr\\u003ez=%{z}\\u003cextra\\u003e\\u003c\\u002fextra\\u003e\",\"legendgroup\":\"ship\",\"marker\":{\"color\":\"#EF553B\",\"opacity\":0.8,\"symbol\":\"circle\"},\"mode\":\"markers\",\"name\":\"ship\",\"scene\":\"scene\",\"showlegend\":true,\"x\":[7.035684,7.5296364,8.5529785,6.5465097,7.2901697,7.6868744,6.0684557,6.3347054,6.748722,5.764172,6.0604386,6.2228594,6.43924,9.28154,7.288845,6.2093444,7.3113155,6.776352,9.164222,7.0210843,6.4529586,7.1691256,6.736011,6.494471,8.725877,8.580642,6.3167133,9.018287,5.904885,8.186441,6.417038,8.864213,7.16162,6.519497,9.125618,6.2496367,6.5797343,7.0763063,6.387445,6.007007,6.3558607,7.526474,8.642975,8.168106,7.5437016,7.82325,6.0441213,8.44399,6.317748,6.027802,8.017493,7.7829027,6.8527555,7.6567593,5.9257145,6.071198,5.7469773,7.4634385,6.4406004,6.801341,8.565499,8.5118885,6.9400377,8.958483,6.25757,7.4742675,9.279758,9.299089,5.8734484,7.3275027,8.694814,5.8838882,6.2907367,6.6496673,6.1071324,6.279918,6.352208,5.8466644,7.12125,6.6514974,7.6382236,6.3764806,6.088874,7.768165,6.252819,6.4570956,8.303279,7.315928,6.66659,8.275819,6.338969,6.2959666,6.684584,6.72291,8.305031,6.330275,7.3140683,8.501242,8.619643,8.507273,7.355056,7.2860208,8.293605,7.845759,6.52727,6.3552847,7.3856306,6.0185175,8.413414,5.980077,6.0877347,7.309118,7.4694476,8.110999,5.859506,6.1181064,7.471027,5.7122397,7.204544,6.0696445,6.14063,7.5965743,5.719978,6.9070935,8.231452,6.992585,8.152825,7.675601,8.530572,7.032768,6.316603,7.5156364,7.93882,6.262632,8.071367,5.901744,8.31138,6.488948,7.44707,5.804111,8.596721,8.431192,8.713424,8.013846,6.2302966,7.1019835,8.641206,7.347772,5.710441,6.647173,7.3344197,6.5741186,8.960177,8.807895,6.320272,6.834072,8.732723,5.9689813,6.4444036,6.7543426,7.6176724,6.3772283,8.408368,8.520212,6.8773704,6.745494,9.387341,6.00469,7.049808,6.8259454,8.089771,6.838748,7.880127,8.027412,5.844078,6.7169585,7.047469,8.388027,8.196986,5.995748,6.706118,9.0776,7.6783967,7.7399464,7.9147587,5.9559603,8.0906515,8.752026,7.6768236,7.3005753,6.3219695,6.1069283,6.4145727,7.5317874,7.9476514,6.2841406,6.6070423,8.062668,6.2691607,7.6841383,8.812899,7.7803307,6.7036524,5.7643137,6.868528,5.690017,6.044519,6.2080097,5.848578,9.075175,6.3143215,7.7077293,6.4277377,8.070525,10.255721,7.4317117,9.178544,6.603002,7.1992426,8.581504,8.697141,7.078342,7.6965866,6.8707275,6.538256,5.793541,7.6400967,6.522887,8.579684,7.4139233,6.2319317,8.270038,7.751436,6.042003,5.736591,7.9484487,7.412295,5.8025374,8.384236,7.168562,6.0742793,6.3724594,8.478875,6.677868,8.653087,6.8121114,8.736521,6.3367233,6.7958174,6.520102,7.342507,6.0594044,6.0173492,6.6766825,6.3265285,9.419181,7.900243,6.7237735,7.7854486,7.34832,7.779843,8.596504,5.724874,7.109187,6.562893,6.1991324,8.675085,8.699939,8.5567665,6.107296,8.72876,6.3670354,6.933735,6.5312624,7.4243884,5.8298073,7.788058,8.529655,7.323798,6.4415045,7.9004354,6.797178,6.5253096,7.410623,9.105071,9.017014,6.834745,6.159311,5.9952374,6.1935496,8.433693,6.718686,7.584088,6.7341046,8.1592655,5.9068723,6.5827613,6.7626877,6.220712,8.365256,7.695233,6.2701254,6.727909,9.397503,7.244751,6.2545586,5.9119596,7.0398793,7.3692656,9.27359,6.244527,6.347885,6.076472,8.275681,6.9641495,8.39323,7.9150114,7.589835,6.45834,8.979707,6.6981936,6.1449246,9.741823,6.106501,6.4671164,7.8297553,7.995134,7.450042,6.975867,6.7291408,6.8531785,5.9069295,6.5045624,6.213366,8.178984,6.36894,7.415944,6.130569,6.095822,6.989213,6.861822,6.5415025,6.5616775,6.559134,6.6294494,8.892157,6.01538,7.6851554,6.193551,6.583458,6.629504,7.802289,6.610542,5.816064,6.1385245,6.4749217,5.8228297,6.247313,7.6900935,8.422675,9.153608,5.9008164,8.380761,6.356052,7.5782375,7.0186505,6.479209,7.7982206,6.1581573,5.7930737,5.7647443,6.4804025,8.053068,6.457938,7.1364884,8.699393,6.410037,8.491955,7.0522633,9.053172,8.180893,7.645763,7.307185,8.202105,8.168314,8.061819,6.658316,7.251871,8.177343,6.1434145,7.794273,6.3445625,7.322375,6.793024,6.245489,6.2423263,6.4005327,9.298873,5.7485237,6.1056743,7.9086566,8.800091,7.9763937,6.3376436,8.002098,6.429634,8.471018,8.179012,6.293482,8.957424,8.051283,5.832517,7.2079253,6.954991,9.227274,6.478141,7.7218075,7.840202,8.1138115,9.031001,8.218823,7.240143,6.4222293,7.249302,6.2964153,8.253972,8.066215,5.848527,6.9293737,6.6131063,6.720012,5.8668027,6.5925956,7.2028995,5.923293,5.680959,8.12101,7.8620863,6.418599,6.4066935,5.900465,7.2223034,8.750928,6.6029916,5.8719015,6.3657484,5.8716865,5.94986,7.8475876,8.245197,8.406676,6.2198668,6.7844033,5.9156575,8.986795,8.80523,6.9466653,8.102346,6.438248,7.85791,9.044487,7.261041,7.0384274,8.492224,8.337407,6.5492463,6.447663,6.1186996,6.6219444,7.216427,6.2489257,6.340646,8.607906,6.947123,7.598798,5.949809,6.765561,8.488179,5.9141064,6.3625326,8.2388115,6.219925,7.965163,7.598935,8.583612,6.687376,7.5384045,7.48576,6.164358,5.7751856,5.797113,6.9857535,7.704417,8.460263,5.779009,9.190209,6.667332,7.415327,6.6319065,7.3304243,6.04793,5.798254,9.110275,7.201684],\"y\":[7.414866,7.2246614,8.694818,7.4799333,7.532465,7.8021965,7.8816905,7.7143707,7.663468,7.3555593,7.864564,7.906069,7.5392885,9.636101,7.9056883,7.235897,7.5641365,7.656255,8.452305,8.037057,8.220107,7.455105,8.070457,7.9291744,8.671698,8.293118,7.6507025,7.947347,7.68594,8.95493,8.989916,7.8390965,7.6550245,7.8249793,7.957339,8.210057,7.1815047,9.022373,7.859284,8.418402,7.6762447,8.409214,8.137798,7.2021356,7.706136,10.216009,9.585962,6.922993,8.055424,7.662062,8.628564,7.3942943,7.712913,6.9480195,8.09483,8.271739,7.4185643,8.224574,7.3640995,7.3641157,8.124681,8.651346,7.645985,10.042691,7.8821044,7.761749,8.6626005,8.253631,7.3627057,8.14129,7.0298233,7.510442,7.5573125,8.612929,8.064577,7.3691044,8.458212,7.466874,7.4606714,7.514405,7.271697,7.7505765,7.832692,7.8539667,7.9887476,7.422275,7.7356687,7.828483,7.5829697,7.9391413,7.838871,7.9892826,8.232711,7.608866,7.6549616,7.578622,7.463882,8.376271,8.332554,7.710054,7.755293,8.161379,8.141992,8.012032,7.733477,8.382339,7.399802,7.813337,8.585398,7.826351,7.769203,8.003558,7.619124,7.9508147,7.363968,7.9381995,7.713298,7.4252486,7.6090007,8.074882,7.383942,7.4479203,7.5336967,7.2266526,8.468353,8.276484,7.945967,8.913389,7.445694,7.517757,7.81394,8.782611,7.1939273,7.4997034,7.591959,7.6174335,8.005447,7.8873143,7.9311395,7.4103374,9.200637,7.7834463,9.105708,7.150898,10.125712,7.685106,8.675735,8.002458,7.39543,7.6312666,7.793466,7.9385657,10.08039,7.4184422,7.432454,7.7460823,8.536862,7.519001,7.6551466,7.7289968,7.1684055,7.7241454,8.542529,8.002226,8.209862,7.864145,10.612245,8.048121,7.721788,8.260346,8.454129,7.629691,7.261082,9.279229,7.5740833,7.64478,7.453958,8.190697,7.78493,8.164068,8.080801,9.438219,7.834018,7.8321195,7.272917,9.291456,7.59811,7.6047134,7.317919,7.8278613,7.864394,7.9514637,7.9746184,8.1118,6.9885373,7.9770374,7.531256,7.930582,7.7800226,7.7971544,7.3384485,7.7601266,7.7714686,7.416879,7.1849265,7.390206,7.518853,8.043346,7.498466,7.569373,7.706934,7.4043293,7.8873014,7.859288,9.224327,7.890586,9.305094,7.6662197,7.682171,7.9181747,8.035815,7.740951,8.5335455,8.193232,7.4002533,7.411525,7.506395,7.7171183,8.301617,8.001089,7.6417065,7.520639,7.8531575,7.469596,7.4338274,7.7500243,7.634013,7.749232,8.464363,7.7484603,7.3012624,7.6957564,7.832814,8.144652,8.885499,7.2943263,7.9306374,7.1538773,7.6148753,8.996231,7.2181444,7.7115254,8.089312,7.6090097,8.180396,7.848222,7.4432693,7.750415,7.7467628,7.3792667,7.8962398,7.6760087,7.462856,7.6726084,7.7144,7.8602552,7.5892386,8.235377,9.261183,7.9357343,6.7487035,7.597226,9.391652,7.6618934,7.5411596,7.3984885,7.7672076,8.880258,8.893791,7.7193055,7.2576046,7.252002,7.853331,8.021463,8.529128,8.868405,7.8113894,7.3453293,8.917376,7.41368,7.5800867,7.4787803,7.309384,8.218854,7.6364183,8.154403,7.622724,7.6154695,8.615302,7.194791,7.7794642,7.3925047,7.289407,8.650552,9.481405,7.669327,7.8429303,7.659352,7.6114583,9.274692,7.5713043,9.775466,7.515943,7.520641,7.9741807,8.431121,7.799333,7.492038,7.8168745,8.260922,7.904894,10.158416,8.286279,7.955928,7.779184,7.8899603,7.972798,8.415908,8.013603,8.0156,7.413317,7.3793178,7.412036,8.128635,7.112349,7.329541,7.3817983,9.717259,9.201608,7.4867315,7.6123238,7.6184745,7.6869254,7.8289433,8.094253,7.9315414,7.6137743,7.359187,7.941728,7.6554656,7.678989,9.680718,7.7998824,7.3406124,8.280223,7.4611053,7.430929,8.017311,8.2657795,8.038837,9.426431,7.98384,8.122746,7.9500184,7.5004616,8.652786,7.970058,7.6070046,8.104175,7.595444,7.500193,7.5606737,8.822318,7.2348323,8.321402,8.32219,7.5193496,7.8076973,7.6881375,8.021976,8.096974,7.327756,7.605551,8.602603,7.577521,6.9258633,7.5570855,7.6953998,8.196573,7.957512,7.935451,7.623896,7.594583,7.291196,7.7955284,7.5657663,7.6197004,8.310151,7.938263,8.078901,7.691304,7.889611,7.7530766,7.577616,6.975306,9.690224,8.111796,8.6432705,8.12086,7.822217,8.1660185,7.429267,7.6117034,8.903514,8.450782,7.4967785,7.7027993,7.4612713,7.6578245,7.878718,8.347828,8.707804,7.7853317,7.4593363,8.132839,8.41452,8.036245,7.5525427,7.6657557,7.6482315,10.591061,7.5270686,7.6273174,9.448106,7.5322075,7.80743,7.3172455,7.7822104,7.77136,8.467482,7.342246,7.6567764,7.3388314,7.8732452,7.5533133,7.6114244,7.6937876,7.4554944,7.9485025,7.852148,7.7840652,8.149788,7.9160686,8.11494,8.053323,7.611783,7.880928,7.655067,7.560173,8.333598,8.04434,7.5253005,7.6327906,8.518087,7.7363954,7.7045646,7.6116986,8.066195,7.5588746,8.080516,7.8484373,7.7208896,7.3101773,8.597311,7.130512,7.4528284,7.8053246,7.6004868,8.015692,7.836357,8.059505,8.012871,7.788223,7.90548,8.519167,7.909363,7.65141,7.4044814,7.394994,7.4779477,7.889887,7.605563,8.519585,8.770581,7.461707,8.341641,7.4934077,7.2023215,7.169237,6.8866334,7.409589,7.4439964,10.639444,7.2248344],\"z\":[0.21852326,0.05478262,-0.5596377,0.78447944,-0.35216254,-1.0769578,-0.5185409,-0.7686635,-0.627557,-0.2537246,0.03428227,-0.09401713,-0.1367528,-0.62168956,-0.76111615,0.005944858,0.4620472,0.87447643,-0.89122945,-0.5580247,0.474816,0.4201803,-0.42177573,-0.82678044,0.7717207,0.32962996,-0.42723998,-0.20698099,-0.12516794,0.15885918,0.6856366,0.25036395,-0.8115753,0.27389538,-0.3643388,0.39031017,0.36422026,1.1578723,-0.2329379,-0.53103566,-0.12953871,-0.38457194,-0.9453348,0.08949674,-0.9208979,0.3491098,0.19887811,0.4158127,-0.5701991,-0.014481356,-0.43950224,-0.458229,-0.39654177,1.0969069,-0.5977988,-0.39843735,-0.20626083,-0.89739877,0.37743425,0.7590586,-0.9457907,-0.7315517,-0.89356536,0.38194317,-0.28395894,-0.8266202,0.34704962,-0.5399224,-0.22384359,0.23026793,0.49674565,-0.17485905,-0.18053302,0.6637893,-0.03006372,-0.28981546,-0.5331114,-0.31021047,1.7898831,-0.52361274,-0.35387853,0.9483808,-0.63217866,-1.1554787,-0.077701025,-0.15582025,0.36896497,-0.9378734,-0.07474168,-0.67198825,-0.3114644,-0.54111814,0.20108178,0.20812164,-0.72780395,-0.53602064,-0.36042908,-0.74245507,-1.0453674,-0.7099185,-0.3683172,-0.80986947,-1.0555964,-0.91824794,0.150414,0.04525298,1.1453911,-0.4644069,-0.9792456,-0.49019486,-0.60719067,-0.47513023,-0.31157446,-0.98790175,-0.24690539,-0.29008085,-0.9749804,-0.31135446,-1.0218163,-0.21761543,-0.2997411,-0.5382392,-0.02080251,0.2562491,-0.9251488,0.8185802,-0.8805169,-0.37870005,-0.067749016,0.45872298,0.09237448,-1.1008707,0.8963276,-0.38041985,-0.7864485,-0.47574598,-1.0631306,-0.35350585,-0.9002305,-0.28491512,-0.66667324,-0.75576985,-0.6377038,0.2128697,0.5770721,-1.0805699,-0.81744915,-0.89563835,-0.24642569,-0.062037475,-0.9848639,-0.22969432,0.24280715,-0.2871934,-0.26177174,-0.35679844,0.49500045,-0.3857712,0.52154934,-0.6008849,-0.013783435,0.091017224,-1.0116688,-0.8656172,-0.2451289,-0.73971885,0.51383436,-0.00003915602,-0.92639565,-0.7793332,1.5881805,-0.27340293,1.1663947,0.13281643,-0.10652145,1.14228,-0.49691087,-0.74459475,-0.8048575,-0.5356165,-0.6054904,1.5412503,-0.3922593,-1.0607185,1.0957284,0.60889906,-0.8577072,-0.67516565,-0.6187204,1.5928057,-0.33581692,-0.084907316,-0.20396209,0.379956,0.40165132,-0.65393615,-0.5146088,0.9632062,0.87038094,-0.6922594,-0.31096813,-0.8972595,-0.9978622,-0.30694312,0.91363406,-0.19848475,-0.11551279,0.5481385,-0.36810967,0.061026946,-0.02391208,-0.6653075,-0.59929097,-0.9995222,-0.2594069,1.1893996,-0.40626085,-0.2979998,-0.7870266,-0.6830549,0.13432671,-0.7022036,-0.9432892,-0.3939284,-0.53950924,-0.32608998,-0.7304645,-0.46057096,-1.0078863,-0.9114625,-0.26592356,0.39991915,-0.56603795,-0.34107298,-0.20955251,-0.8742805,-0.8357608,-0.17277056,-1.075972,-0.42430803,-0.3259581,-0.7748867,-0.8473436,-0.62012064,1.3749971,0.040287152,-0.8842887,0.019287499,0.9823177,0.4906206,1.3984628,-0.095658265,-0.09674827,-0.96922964,-0.7861081,-0.22411908,0.20436856,-0.15646122,-0.6570138,0.19807939,-0.5345842,-0.71478456,-0.37167743,-1.0999075,-0.55400044,-0.23697951,-0.5869371,-0.963791,1.4423554,-0.18237498,0.6537435,-0.24147262,2.0470655,0.832874,-0.71523184,-0.22968428,-0.7603215,-0.74476844,0.20355581,0.8260328,-0.09993317,-0.4833193,0.52353257,-0.9106413,-0.6548561,0.93360794,-0.65928817,-0.18276966,-0.342116,-0.415783,0.043417603,-0.5322538,1.0506408,0.31122056,-0.76608145,-0.5965281,0.8225054,-0.8179796,-0.48236662,-0.31196493,-0.58160436,-0.6421376,-0.6560383,0.8180763,0.8022394,-0.3488662,-0.52985775,-0.9930288,-0.8819678,-0.5666162,-0.3471818,0.29782185,-0.4649654,-0.7955915,0.09247136,0.77237487,-0.9522776,-0.4643067,-0.79077756,0.022448985,-0.6570557,0.4166178,-0.20433673,-0.6622491,1.2325227,-1.1371173,-0.83560795,0.7930485,0.89680177,0.31226057,-0.5418498,-0.2217333,0.11154028,-0.58500063,-0.17933033,-0.38301525,-0.16664617,0.027285371,-0.44996625,-0.42585367,-0.16992685,-0.95513695,-0.90072984,-0.9840592,-0.4699951,-0.72878546,-0.07767381,-0.66245055,-0.013374452,-0.5862785,-0.36011744,0.71718866,-0.119767874,-0.2797272,-0.27225512,-0.5140381,-0.41737208,-0.6849862,-0.35462835,0.1149807,0.39214596,-0.29053044,-0.63025564,-0.63999975,-0.5386513,-0.26685312,-0.15100256,-0.8105524,-0.30871463,-0.10782339,-0.2288517,-0.89506733,-0.9360206,-0.17952754,1.0492784,-0.90929025,-0.24588642,-0.7976798,-0.81951207,-0.48784113,-1.0072596,-0.5957663,-0.5056711,-0.9750566,-0.87618756,1.0909961,-0.340114,-0.53007925,0.22030447,-0.47197804,-0.41689184,-0.20811461,-0.776584,-0.49058473,-0.60388297,-0.6524576,-0.6415938,-0.5820566,-0.34793308,-0.6486999,-0.77640176,-0.7898967,-0.94461673,-0.57009745,0.50320435,0.08235629,-0.95591134,-0.720465,0.28606197,-0.40911615,-0.80374736,-0.26131186,1.3304642,-0.027602782,-0.34700498,-0.54922104,-0.8699652,-0.36517763,-0.9278366,0.37223718,-0.9457929,-0.6566605,-0.6389702,0.40227765,-0.5451429,-0.61181533,-0.6764108,-0.4367071,1.2476001,-1.0095241,1.0022238,-0.3000361,-0.48582733,-0.5202097,-0.05776467,-0.32204023,-0.5242103,-0.55886894,-0.8648445,-0.11333485,-0.08936799,0.027275587,-0.037256483,-0.11892857,-0.32425308,-0.9084018,-0.09104887,-0.22044453,-0.89808965,-0.64494884,-0.84169376,-0.60525125,-0.15662028,-0.055751465,0.37511513,-0.47470802,0.027836522,-0.9528498,-0.18265477,-0.61883104,0.21041551,-0.34792584,0.7200054,-0.8657627,-0.88682353,-0.92588496,-0.869232,0.6157532,0.30796605,0.0030094755,-0.01799745,-0.36887097,-0.15313052,-0.23689708,0.5601513,0.13156356,-0.52104294,-0.75431496,-0.5569394,-0.49845296,-1.0205045,-0.59495723,-0.92273057,0.110245064,-0.95260185,0.10327942,-0.3784014,-0.599435,-0.5799556,-0.28699505,-0.022012396,-1.0687432,-0.25582528,1.4213464,-0.35404634,0.3532892,-0.32906112,0.96651405,0.15975958,0.35078192,-0.5098898,-0.2288572,0.8898481,1.2453163],\"type\":\"scatter3d\"},{\"hovertemplate\":\"Class=airplane\\u003cbr\\u003ex=%{x}\\u003cbr\\u003ey=%{y}\\u003cbr\\u003ez=%{z}\\u003cextra\\u003e\\u003c\\u002fextra\\u003e\",\"legendgroup\":\"airplane\",\"marker\":{\"color\":\"#00CC96\",\"opacity\":0.8,\"symbol\":\"circle\"},\"mode\":\"markers\",\"name\":\"airplane\",\"scene\":\"scene\",\"showlegend\":true,\"x\":[6.4217463,8.334131,5.9045744,6.8552165,6.481473,10.385055,6.3076854,8.4048605,6.166227,6.1333647,6.281994,6.1672645,9.744321,6.941279,6.7245207,6.639276,6.289396,5.9688997,8.03799,6.254261,8.35169,6.15172,6.7245674,6.405539,6.1774135,7.4806404,6.8600426,7.3784876,6.458306,6.4519973,6.0498796,7.9271398,6.758211,6.3227525,5.782522,6.722827,6.3976693,6.077631,5.9987063,6.833365,6.178685,5.9164844,9.548376,5.8690515,6.46352,7.1462765,6.3608084,6.451501,8.923568,10.257765,5.9848485,6.350549,6.4337516,6.155172,6.08109,8.364902,5.8755255,6.3410287,6.019086,8.505758,6.378246,8.123136,7.840183,7.01556,5.7713695,8.636071,5.913234,6.3255763,6.1422257,5.9839973,7.5687222,6.426609,7.144213,8.394787,6.0307236,7.5638094,6.0282903,6.7134557,6.958336,6.3080997,8.207027,6.3948083,7.740583,5.903543,7.2746525,6.0249887,5.865502,7.629795,6.4742875,6.8211007,7.311959,9.569282,7.9907427,6.385716,6.689847,5.8617125,6.268963,7.8757596,5.994035,6.49709,6.6636043,10.064384,6.224354,8.444221,6.5021844,7.0086584,6.409772,6.820772,8.195018,7.920207,8.821471,7.9707646,6.020222,7.7797,5.8916616,6.3835015,5.7214384,6.1400356,7.7219753,6.7908373,8.366051,7.2986135,7.508839,7.876356,10.232275,7.182626,6.876413,7.9536242,6.166479,8.383659,8.336458,5.980402,6.1343,7.4197702,6.422038,8.333106,6.193578,7.0301714,7.0534697,6.080726,5.886957,5.9272976,7.606804,7.192574,8.903579,6.6494527,6.074727,8.0411005,6.030039,6.3891706,7.0477123,8.111839,7.7915277,6.9448466,8.292688,9.180499,8.068018,5.8951406,6.157865,6.150546,5.982227,7.870261,6.011474,8.935482,7.1776204,6.3631783,8.527598,6.3866005,6.22932,7.9474454,8.733422,7.2425737,8.4144335,6.0227256,6.116321,6.59207,6.5704584,5.9031515,7.027085,7.9557157,8.106903,8.277287,9.332006,5.963149,6.3708215,7.9116125,8.359347,6.0341544,6.422864,6.2670445,6.841323,6.031006,6.3704796,6.534607,7.385141,6.305431,6.9755754,5.9655604,7.5659437,7.4092507,6.0056596,6.370052,7.602145,9.429799,6.19395,8.703612,5.950581,6.8095365,9.394421,6.7215443,6.075472,7.0076394,6.0345697,7.9906287,6.685127,6.023972,7.215349,7.1741114,6.5765295,6.5147243,7.3437157,6.484617,7.2643437,7.752307,8.775323,9.224903,8.270493,7.020898,6.0248184,6.032188,7.234946,6.6989946,8.264956,9.000175,5.816346,7.2428617,5.8395147,7.8036056,8.446359,7.2485375,5.8476624,8.8636,7.2016373,8.255991,6.146424,6.1535916,5.6892953,6.635478,6.8546786,8.589202,6.18981,7.4659863,9.448582,7.1365137,6.1835995,6.3264813,7.0113444,8.650326,7.722611,8.078098,6.101782,6.158805,6.3164587,6.093027,7.1750393,6.3090286,6.1098013,6.239204,7.2401,6.3925643,8.989324,7.0892296,6.4798565,6.6926026,5.781181,6.2626853,6.9245768,8.109812,5.8041377,6.3994527,6.0411935,8.310022,6.29859,5.965514,6.45661,5.707845,5.9729652,6.247457,7.09456,6.669568,6.183234,6.362928,8.185952,6.6040998,6.465047,6.3099904,6.488012,7.208322,5.9878454,9.204117,6.093341,6.263363,6.257896,6.362959,6.560321,6.2180457,8.17362,6.0769897,5.9918084,6.6305876,6.1028624,5.988733,8.496481,7.6825166,6.8912854,9.552974,5.9088078,8.102623,8.18925,7.58675,7.746503,8.48599,6.3657055,9.893648,6.2844095,6.2218714,5.8193207,9.209666,5.9881406,6.3730755,6.836806,6.043262,6.0434113,7.8587584,5.98435,6.027034,6.9004207,9.134887,6.731291,6.106412,6.1635733,5.9678926,6.104743,8.758187,5.9402504,6.156697,5.8682027,7.1130633,7.2694316,8.203372,7.5898857,6.755056,7.355445,6.107782,5.945749,8.051259,7.1492844,6.453112,8.443582,9.061352,6.017059,6.9272404,8.669257,7.6701665,6.0724287,6.286068,8.286341,6.6259594,6.610381,7.0824327,7.6923194,7.7334995,7.96077,6.101333,5.9279513,6.2108045,5.9080634,6.007476,6.5306344,5.8978534,5.9657316,6.6621842,6.1354723,6.1199994,6.7655544,6.438547,6.852349,6.2988796,6.3201776,6.815313,6.6755004,6.0114822,6.73617,5.9051414,7.0111065,7.0372043,7.8925495,6.8199487,6.6848073,6.867876,6.232809,6.0209455,7.2943883,6.8447437,8.041295,7.0093675,5.9964924,5.9206243,6.1759977,6.5563974,5.986074,6.406693,6.3786893,5.938591,9.328588,6.404389,7.24302,6.166704,6.1940713,6.6136956,8.0426655,6.065734,8.630828,6.3279405,7.302179,6.2579103,6.5988874,7.582401,7.295829,9.938837,7.137925,6.3944936,8.340796,6.3618913,6.2172513,8.865366,5.958011,6.3667793,5.990929,6.406336,7.336736,7.0457797,6.2943697,5.9493685,5.9437823,7.444893,9.61323,6.1069307,6.3437448,5.9381957,7.094706,8.6778,6.030438,6.0271444,6.051882,6.0070844,6.9211445,7.4249806,6.4502344,5.933298,6.07548,6.391641,6.019464,7.793457,8.676697,5.77742,7.0740294,6.0581584,8.602673,8.22807,6.977766,6.0451403,5.9956985,8.906095,6.082968,6.1804957,6.8801193,6.8842134,7.598496,6.102705,6.435802,6.342923,7.2111616,8.083716,5.8161335,6.670052,5.9946327,6.281574],\"y\":[8.606438,9.007408,9.809053,9.6688385,8.168674,9.15622,8.009449,6.9514194,9.516667,9.8085985,9.272613,9.408778,9.311529,9.7029085,10.191305,7.8098836,8.543858,9.603742,7.2740555,8.707016,8.340813,9.916412,8.893737,8.345887,9.475434,8.722164,7.744675,7.626038,9.413259,10.199146,8.387818,8.8377905,7.7738237,7.8646183,9.388957,9.298499,9.751182,10.016102,9.668266,7.5378456,7.713745,8.878799,9.166157,9.6627245,7.5793023,9.262262,10.00946,8.304553,8.748643,9.187331,9.359427,8.2904415,8.056078,9.608771,8.778587,8.358663,9.444885,8.26655,8.470822,10.535667,9.117228,8.483498,7.9288454,8.677354,7.8014083,9.284816,9.160929,7.5371556,9.4975395,8.673571,9.365908,9.790211,9.350255,7.8301654,8.779084,7.0928063,9.833846,8.806434,8.477251,10.08701,7.2127557,8.596826,7.6910076,8.508208,9.099344,9.386584,9.0914755,7.9871545,9.411504,10.465739,8.365285,8.185962,10.073765,7.904235,8.903179,9.487748,8.0922165,7.280255,9.522591,9.599363,7.8992143,9.859515,9.570069,7.482664,9.104104,8.969247,9.059611,9.02912,9.217724,8.069712,8.723892,8.008023,9.90739,7.8396044,9.561291,9.134626,9.3352995,8.20381,10.899219,10.167508,7.051877,7.7735925,7.865093,8.547849,10.110782,9.49909,9.18575,8.851064,8.566663,8.656042,8.470012,9.862692,8.592659,8.148584,9.126427,8.3156805,10.253314,7.5255175,7.853608,9.213465,9.620497,9.375495,8.971101,9.044685,8.738606,9.388457,8.695877,8.057704,8.927168,8.41179,9.399163,7.838537,7.6852403,8.651959,8.723627,8.562899,9.119882,9.438334,9.591065,10.218409,9.244448,8.020781,9.446729,8.499474,8.567036,9.794982,7.646052,8.192238,7.8600125,8.74263,8.1612015,9.3465805,10.195144,8.371892,9.511552,8.104256,9.358363,9.878429,10.394232,7.991168,8.464858,10.327657,10.383796,9.364791,9.548305,7.9501123,9.290622,9.883776,7.8671064,9.4804945,7.900447,9.448739,9.6693945,9.527821,10.380809,9.791431,8.280831,9.123174,7.588642,7.8637457,10.184921,9.322482,9.908236,8.925899,9.781878,8.155861,8.128277,7.9982443,9.898986,8.052611,9.565334,9.279107,9.697743,8.030741,7.937186,8.819708,7.5601964,9.306899,9.565189,9.559055,8.825993,9.443817,8.122647,7.337918,8.634038,8.512574,7.316226,9.058078,8.909733,9.806486,9.105324,8.027405,8.808273,8.344724,9.646512,7.6714654,9.199591,8.793359,7.8864803,8.398206,9.519583,7.406958,7.7975206,7.5522656,8.110645,9.786554,7.496085,9.282281,7.637518,9.373473,9.319412,7.354132,9.811184,8.601217,9.325578,9.928246,7.6789637,8.912562,7.2987165,7.741648,9.304434,9.649662,8.56588,9.535274,8.6024275,9.45832,9.928596,9.636428,8.581792,9.697356,8.1805105,7.1713963,7.907027,10.089486,9.132116,8.70978,8.190736,9.086214,9.539958,9.858188,9.183336,9.612299,8.6293,8.14341,8.997766,7.6089315,8.88316,9.189495,8.411614,8.24341,9.058508,8.024994,8.230025,8.83548,9.657796,7.730421,8.315046,8.489291,8.352276,9.408792,9.587695,9.212676,9.692048,9.506238,9.207876,8.342518,9.461573,9.594374,8.405234,7.867087,9.199503,9.374069,8.870346,7.43575,10.00269,8.524807,9.8825865,9.445694,7.6828938,8.860526,7.5254984,9.4050665,9.3937845,10.171701,8.560836,9.742224,9.516062,9.339749,8.111962,10.307031,7.1889086,8.013053,9.067666,10.007789,10.138594,8.442203,10.437393,10.512204,7.965229,9.618782,9.734719,8.405496,9.669731,8.419919,7.836358,9.519089,9.603141,11.056514,9.071842,7.377215,7.9581103,8.969132,8.068342,9.099145,8.490207,10.620533,10.765472,8.151983,8.748332,8.78552,8.462681,9.770586,8.14176,9.751468,8.693422,8.060787,8.377056,7.949749,9.285859,8.558023,7.4114804,7.89425,8.543039,9.781187,8.418292,9.765125,8.776805,9.536977,8.899108,7.7292914,10.086051,7.4893565,8.200047,9.921609,8.029601,7.697952,8.244492,8.023087,8.275936,8.941576,8.1185465,9.420015,7.5820627,8.736245,8.040493,7.9640913,8.178677,8.707851,9.616192,8.149549,10.18806,9.429022,8.727066,8.247584,8.373775,9.166343,8.873093,8.905694,10.211536,9.585502,8.34352,9.603328,10.076296,9.272114,7.653162,9.276588,7.870452,8.305323,8.235896,9.31997,9.915048,9.474931,8.836757,9.298934,9.873903,9.913944,7.921678,8.081489,7.776319,8.883485,8.642194,8.517562,8.741306,8.8614235,9.765121,7.3717203,8.357759,9.653066,8.955485,8.206849,7.430289,9.404144,9.808559,8.859449,8.260279,7.604978,8.510134,9.652625,9.512578,9.650159,9.407313,10.873676,8.734437,9.376588,10.221378,9.573719,7.533726,8.503792,8.088948,8.62149,9.435091,7.6913185,8.229006,7.45631,7.348455,9.462849,9.565337,8.608125,9.101561,8.305403,8.980559,9.985068,8.242952,8.473999,9.619298,9.571376,9.074352,8.058196,9.458825,8.79208,8.672768,9.578806,8.077939,7.6213207,9.406369,7.9304814,8.811045,8.837058],\"z\":[-0.21720038,-0.9159881,0.23634465,1.4963385,-0.47853044,-0.27053532,0.8562204,-0.29330117,-0.6135977,0.7866491,-0.41831645,-0.20425616,1.6629765,0.7268419,0.046876892,-0.3475848,0.8775011,0.19281884,0.40892938,0.6220594,-0.9711509,0.9628808,-0.9517337,0.8721825,-0.24427503,0.41936314,-0.5567539,-0.4856737,0.27445057,0.78234345,0.257615,0.5464173,1.2035067,-0.38344905,0.033666536,0.07367814,-0.4969597,0.90492094,0.19789721,-0.55553,-0.610199,0.46136895,0.23753761,0.41892946,0.022540627,-0.71260405,1.2865919,-0.31806046,-0.9207645,0.64802986,-0.60034895,-0.1308865,0.83096665,-0.69200647,0.59150064,-0.54265416,-0.21035819,-0.04000028,0.23980428,1.0641338,-0.6998086,1.0107601,-0.18702517,-1.0356952,0.050537504,-0.55584246,0.43541124,-0.5361227,-0.7092704,0.21521083,0.6977119,1.3992505,1.8799505,0.57141775,0.5529677,0.3976598,-0.13228449,-0.8109265,-0.4326044,0.9433119,-0.26023814,0.44872722,-0.9198772,0.27716598,-0.48007813,-0.6201275,-0.25854692,-1.1012616,0.5477292,0.52838933,0.82624906,-0.21531406,1.9768677,-0.6933023,-0.24867201,0.037413448,-0.6084891,-0.62080276,0.30224603,0.44768125,-0.9606326,-0.5592807,-0.40202352,-0.6253513,-0.77894586,-1.088609,-0.13381104,0.78659916,0.014822844,-0.13514663,-0.55198675,-1.1770533,0.78193456,-0.69173735,0.520269,-0.71285975,-0.056739587,-0.52749604,0.5610495,0.6964156,0.8158634,1.6996304,-0.9377763,-0.46995583,0.29298693,0.5428023,-0.9008145,-0.2127955,0.52446383,-1.0327955,-0.68040633,0.07865021,0.7082077,-0.6038118,-0.65023744,-1.1115358,0.67397946,0.08591278,0.15197326,0.12737222,-0.09959133,-0.35163802,0.2903581,0.6165672,-0.9057955,0.32852408,0.10538756,-0.059625436,0.15367587,0.62042254,-0.50098026,0.09758195,-0.015968235,0.91610485,-0.9723393,-0.86865765,-0.40400875,0.253235,-0.6923047,0.54019564,-0.39735928,-0.50193775,0.08242362,-0.910176,-1.0979863,-0.40645078,-0.76314473,0.06391025,-0.69531167,-0.88318384,-0.45831755,0.13778459,1.5620129,0.33313155,-0.4955364,-0.76025593,-0.9187025,-0.018165234,1.5990013,-0.7053149,-0.85800093,2.0354683,1.1118125,-0.040532716,-0.00065723335,-0.073429585,0.25048304,0.5061219,-0.81661487,-0.5707466,-0.5126389,-0.5533344,0.16236553,-0.6740713,1.4907446,-0.3719845,-1.0494667,-0.16665949,0.3514907,0.046432316,0.4365728,0.2283146,1.551446,-0.79498035,-0.11315029,-0.99630463,-0.38735527,-1.0302136,0.3757011,-0.9111737,0.096179925,-0.5380379,0.25967577,1.2710465,-0.830684,-0.4760703,-0.14049152,0.25944415,-0.6255679,1.3389566,1.5395648,-0.15974353,0.10168166,-0.6309022,-0.7284977,-0.713796,-0.43356416,0.3845836,0.5729942,0.101893246,0.6072168,-0.84765905,-0.9767026,-0.8248616,0.2263008,-0.97329676,0.13770856,0.004450016,-0.9761694,-1.1991838,0.2984847,-0.16995965,-1.0597008,0.6269577,0.399406,-0.6160364,-0.070348576,-0.9186215,-0.63714504,-0.62267274,-0.6879592,-0.091762334,0.37341857,0.6122993,-0.14307706,-0.59678537,-0.016432816,-0.9406432,0.34173688,0.846342,-0.6757605,-0.73807865,-0.2366482,-0.75655454,1.5278486,0.24376222,0.9986096,0.8427938,-1.055193,0.42151782,-0.32092223,0.1285678,-0.81355965,0.24379432,-0.16153067,0.40823087,-0.638417,1.2487332,0.27178732,1.5838681,-0.27308667,-0.26678672,-0.0058760936,-0.1466173,0.27872774,-0.058257826,0.55361456,-0.7342727,-1.0483643,0.87005883,-0.5191373,0.079006225,-0.87617385,0.7332915,-0.46014008,-0.24894814,0.899609,-1.1914989,-0.571782,-0.7022803,-0.038092937,-0.18055134,0.3156207,-0.71071863,0.6645788,0.32915044,-0.45275176,-0.7647015,0.26807252,-0.9633511,-0.33583763,0.214377,-0.43275654,-0.7369421,-0.1715861,-0.1050588,-0.045235034,-0.427105,0.028532999,0.5525523,0.70978737,0.053649902,-0.5039941,0.50855917,0.3893673,-0.6862865,0.2276792,0.63381773,0.22007212,0.8721092,-0.044295643,-0.039796114,-0.14467052,0.28566638,0.35616726,-0.24565096,0.46806097,0.71990657,0.2008297,0.2080181,-0.66522855,0.33582783,-0.80152607,-1.028472,0.16264632,-0.4930558,0.022180768,1.0948145,0.63142437,0.28323102,0.030472267,-1.0147396,-0.24703597,-0.27191436,0.278555,1.3673937,1.8601867,-0.44096342,-0.6550869,-0.6835731,0.27673483,1.9076442,-0.3933759,-0.18547554,0.046364214,-0.6702585,-0.8893957,-0.24589616,1.0247306,-0.98455983,0.9821359,-0.19926189,1.1737865,0.82523185,0.19882923,-0.12515289,0.21006227,-0.7049414,-0.83400315,-0.14676802,0.43534917,-0.40171316,-0.36563295,0.7265978,-0.8699405,-0.43409514,0.34782943,-0.69023895,-0.43376577,0.62965393,-0.64326113,-0.50284475,1.0601392,-0.5383429,-0.82898563,-0.20192458,1.2275349,-0.93770427,0.84635913,-1.0126339,0.68770164,0.06581946,1.67383,0.061808288,-1.1035326,0.32509083,-0.038644303,0.27964795,1.2519925,0.19865306,-0.07309064,-0.04833193,0.9302457,-0.5177749,0.68603194,0.5094019,-1.0175987,0.102069095,-0.4441318,1.0394601,2.006474,-0.61154735,-0.813346,0.8318113,0.74946606,0.9052658,-0.9012457,-0.95801854,-1.0769234,-0.71377176,-1.1465946,-0.122874446,-0.96601874,0.16475455,-0.5736241,0.8438267,0.46883363,-0.44827285,-0.30627105,-0.13105774,2.0578244,0.2248259,-0.24045977,-0.4849192,0.47627556,-0.3672481,1.1547638,-0.40567386,0.17984313,0.2581244,1.274412,0.7136125,0.47152787,-0.3537284,0.39921263,0.27566326,0.6401176,0.36434853,-0.32398826,0.3289461,-0.45140696,-0.80063576,-0.16526504,-0.7689427,-0.09676052,0.2172569,1.9800652,0.09902646,-0.6745131,-1.0638709,0.537291,0.32650995,-0.015338892,-0.9754492,0.52518654,0.9668798,-0.9165339,-0.28682292,-0.098191954,0.6893051,-0.079868,-0.5340877,1.1561974,-0.034079235,-0.28147998,-0.996507,0.0335141,-0.67689246],\"type\":\"scatter3d\"},{\"hovertemplate\":\"Class=frog\\u003cbr\\u003ex=%{x}\\u003cbr\\u003ey=%{y}\\u003cbr\\u003ez=%{z}\\u003cextra\\u003e\\u003c\\u002fextra\\u003e\",\"legendgroup\":\"frog\",\"marker\":{\"color\":\"#AB63FA\",\"opacity\":0.8,\"symbol\":\"circle\"},\"mode\":\"markers\",\"name\":\"frog\",\"scene\":\"scene\",\"showlegend\":true,\"x\":[10.269037,10.0856285,9.844671,10.466675,9.881892,8.292633,9.515555,9.004542,8.714526,8.155556,9.445529,9.003056,8.858967,7.1755095,9.595977,9.774539,10.259959,10.248182,7.0232224,8.294026,7.002085,10.360526,8.892754,8.817473,9.439508,9.840546,8.966242,7.4060583,8.338043,9.985336,7.043477,10.000592,10.177706,10.246282,8.988362,8.434308,9.716683,8.494761,9.917675,9.368919,10.147621,9.134318,10.332655,8.989594,10.119829,9.212812,8.801914,9.581613,9.843216,6.5027013,6.8318515,8.376015,8.354779,10.330196,8.238809,9.608011,10.306111,10.569855,9.803286,9.689057,10.118887,7.328032,9.368731,8.329678,8.092608,6.920836,6.245481,10.026926,6.7846775,10.021599,10.305913,10.423433,8.22314,10.356574,10.427118,7.012936,9.532443,10.231542,9.150532,8.997729,10.611116,7.6218443,10.107557,7.2160354,8.007623,8.300258,6.8705387,10.104619,7.485861,8.409182,9.540017,10.433914,10.332361,9.287033,8.021816,7.659672,10.017653,9.523639,9.63775,6.4719615,6.824193,9.449543,10.1732025,9.046985,6.999878,10.388884,9.97205,10.008973,6.6894283,7.685646,9.435772,9.881886,9.534503,9.143828,10.561243,8.781096,10.551346,9.6806965,10.163463,10.3358135,7.9029036,10.571941,10.306274,10.29169,7.1464367,10.288399,10.496317,8.04212,9.447723,7.7584314,10.137765,10.382242,6.5615597,9.930272,6.8742795,7.512744,10.3804455,8.622141,7.692577,8.7886505,7.027478,9.945365,9.719105,9.443766,8.420411,10.029493,8.91877,8.774628,7.630555,8.754439,9.714836,10.146427,10.36197,10.579022,10.446729,10.180905,9.9637985,8.523561,9.111283,9.397239,6.817328,6.6253324,10.358247,9.940556,7.0406218,9.073152,10.059199,10.043871,9.930011,10.113005,7.68277,9.268853,10.093181,9.247806,9.3852825,8.975477,10.363825,9.250007,9.453899,8.757247,9.275385,9.811643,9.508672,10.004493,10.226527,10.003826,8.253939,10.484894,9.08953,9.917314,9.642328,9.363663,9.281906,9.027685,10.261027,9.712408,10.475117,9.86297,8.570016,9.114354,10.0188675,9.399824,10.133761,7.411399,6.781488,8.710027,9.0617075,9.176666,10.203872,10.40988,9.450528,7.1394377,9.72659,8.744384,10.370417,6.510168,8.614936,10.336379,9.700326,8.0223875,8.729575,6.7101293,10.386817,9.904987,10.015054,9.433564,10.489951,7.91107,10.2723875,10.106423,10.15371,6.169107,10.396086,6.36866,6.6874704,10.133282,9.925981,10.257261,6.4990726,9.722331,9.86272,9.704733,10.201688,10.366924,8.566821,10.148203,10.555988,10.535655,8.1944275,10.200979,8.451038,9.733996,10.231387,9.82923,8.24254,9.850528,10.023821,8.569401,9.886374,10.105655,7.015154,10.27192,10.265306,9.360752,10.23821,9.942508,9.736086,6.6591487,10.5287695,10.354408,10.565457,9.387561,9.702343,9.698924,7.0269747,9.051986,9.051419,9.587095,9.120765,10.006967,9.890419,6.8574944,6.8297243,10.099378,10.366841,9.087349,10.581144,7.575314,9.149384,10.418923,9.518769,7.5253606,10.006706,10.205147,10.091382,9.362438,7.436116,9.787822,8.180071,9.204954,10.321616,10.112886,8.438338,8.542226,8.94983,7.5400777,8.965578,9.162429,9.963244,8.798959,9.119028,9.266851,9.957038,10.203395,8.055876,8.968274,8.0822,10.066333,9.487877,9.06042,7.5361357,8.590058,6.6761336,10.448406,9.341471,8.722023,7.5930324,9.783386,9.720845,9.021485,10.308611,9.423815,9.621034,6.8474216,9.229034,6.777366,10.316702,8.164514,10.46881,10.549043,6.6711555,6.273747,9.383446,8.688513,6.2421055,10.577808,8.75979,10.531134,10.040496,9.16065,10.197953,10.016458,6.9240723,9.008195,9.729038,10.098638,10.191007,7.296018,10.005627,9.380262,9.537356,8.496838,7.1496673,6.60908,8.939526,9.748247,7.460453,6.720818,8.973454,10.069729,9.487757,9.420039,10.24491,6.7734556,10.503892,10.454464,9.729548,10.432009,7.2114305,10.133931,10.121124,8.356749,9.874079,9.769062,9.464831,10.26746,7.631014,7.239738,8.861395,9.572993,9.957365,8.601207,10.215694,10.008143,9.828785,9.316337,6.996917,10.214446,9.985446,10.011571,7.4168496,9.130959,9.406383,9.848736,9.630215,10.513603,7.3180594,9.223787,6.7860622,10.619303,9.2043,9.783891,7.2384562,6.5565915,10.370809,6.8980722,7.31836,10.5193405,9.72045,7.7414966,7.46183,9.321338,6.35394,8.697899,8.844313,8.272756,9.06065,8.822642,10.095989,8.034783,7.173141,9.759021,9.731267,8.679963,9.948717,8.871496,9.493708,9.613755,7.92152,9.173299,10.113986,7.0672927,9.774592,9.172074,10.076627,9.858616,9.453125,9.676999,8.893093,10.3548355,9.1457815,6.968445,9.659876,8.524237,7.1884823,9.469065,8.99041,10.317867,10.564751,8.667138,9.637667,8.358223,9.392477,10.031923,7.4486475,10.212167,8.311376,8.438572,6.3128805,9.835621,7.000552,10.416583,8.64309,9.642892,7.3602047,7.078023,10.629681,8.435325,9.469423,9.589369,9.956897,9.993383,7.859722,10.545337,6.760078,9.899332,9.530793,10.468021,9.478624,9.818828,10.369663],\"y\":[9.542901,8.952871,9.44687,9.260179,9.431679,9.503646,9.309252,10.119729,9.533422,9.535198,7.6638517,9.699114,8.93961,9.599237,9.72678,9.653593,8.977142,9.118714,9.431601,9.513882,9.561182,9.29656,9.470887,8.074192,9.254377,9.178572,9.888156,9.502903,10.22307,8.718792,10.436083,9.509719,9.586201,9.199149,9.486944,9.924458,9.074253,9.282007,9.610152,9.45,9.528096,8.960725,9.146658,9.77417,9.253701,9.114958,9.376019,10.140495,9.354757,10.102914,7.524444,9.547568,9.65081,9.058983,9.397022,9.602305,9.6543045,9.1841135,9.990404,9.274364,9.994053,9.148847,9.401453,9.3841305,9.698169,9.244242,9.912512,9.012456,9.157121,9.378586,8.790216,9.669431,9.99729,8.9470215,9.2150955,9.3313055,9.990536,9.134215,9.792569,10.376673,9.378207,10.4665,9.068258,9.7650385,9.885081,9.415559,9.581448,8.853514,9.490223,10.098625,8.549777,9.207198,9.198489,9.706241,9.350332,9.236801,8.876994,10.1300955,9.64954,9.941419,9.744869,9.615124,9.584513,9.061012,9.570123,9.387553,9.507888,10.001586,9.437424,9.341937,8.457242,9.35157,10.579439,9.12691,9.114117,9.631641,9.215099,9.690007,9.705589,8.855227,9.780924,9.112108,9.094413,9.015771,9.08188,8.96804,9.470026,9.581752,9.8396225,8.961774,8.972724,9.636851,9.9915,10.227096,9.504251,7.9933496,9.079768,9.703634,8.958979,9.13208,9.557924,8.913958,9.071609,9.448624,9.97741,9.006816,10.406829,9.455448,9.643788,9.667037,8.766772,9.552827,9.684746,9.060072,9.068094,9.19727,8.962394,10.329012,9.251586,9.361812,9.662649,9.568265,9.011768,9.215203,9.183063,9.432421,9.604922,8.891183,9.4208,9.930501,9.398026,9.534421,8.915016,9.101976,9.606881,9.403443,8.897364,9.892799,9.033751,8.776245,9.513363,9.774035,8.858393,8.912755,8.978356,9.265476,9.206278,9.264694,8.286717,9.040725,8.788915,9.314414,9.42536,9.6419935,8.914534,9.5202465,9.227144,8.768537,8.479844,9.295686,9.633621,8.851583,8.9810505,9.342901,9.875118,10.433467,8.273679,9.253718,9.343196,8.985134,10.704402,9.539974,10.000414,9.381405,9.399105,9.529898,8.497897,9.682125,8.602531,9.165632,9.250073,9.335641,8.952033,8.4676695,9.301816,9.087573,9.226844,8.788335,9.713288,8.722872,9.337289,10.033893,9.789448,9.999204,9.751963,9.487985,9.143123,9.14021,9.605233,9.164659,9.654773,9.121843,9.561844,8.953409,9.836092,9.135157,9.132632,9.6901,9.835808,9.330122,9.433407,9.4486065,8.58615,9.155932,9.643432,8.891529,9.743712,8.564214,9.508092,8.608508,10.282935,9.047622,8.965949,9.035451,8.888834,9.144455,8.287669,9.370194,9.223895,9.002559,9.461264,9.348201,9.88152,9.807853,9.747165,9.714026,10.013163,9.857032,9.23189,8.807503,9.629289,9.709178,9.714193,9.348742,8.850098,9.592578,9.24785,8.825751,9.228599,9.754452,8.474233,8.971359,9.6614065,9.001018,9.325583,8.689299,8.510491,8.597843,9.281438,9.335878,9.670814,9.620807,9.540237,10.013981,9.730994,8.717641,9.237686,8.978564,9.200848,7.653289,9.307431,8.910904,8.67462,9.375566,8.121983,10.39925,10.057061,9.506294,9.385028,9.772466,8.636618,9.605606,9.577246,9.098582,10.125696,9.597176,9.070626,9.130932,8.924771,9.169029,9.807559,8.390553,10.070522,9.293879,9.967044,9.483265,8.826308,7.8468723,9.194212,9.474825,9.651393,9.850777,9.201462,8.982654,9.903457,9.213601,9.022734,9.522578,9.316112,9.598267,9.263334,8.676074,9.358176,9.436926,9.652852,9.526247,8.788611,9.692909,8.958833,9.587572,9.122074,10.244615,10.421431,10.662006,9.698247,9.97507,9.548479,8.221534,9.652134,9.388786,10.124048,9.786871,9.726896,9.225522,9.384145,9.391967,8.854755,9.6661825,9.629308,10.1124325,8.813175,9.783107,10.15868,10.040051,9.509455,9.107097,9.255114,9.066607,8.922611,7.5683193,9.451947,9.536229,9.470796,9.345481,10.157122,9.340956,9.02608,9.279354,9.537827,8.963744,9.903553,9.099766,8.743022,8.76883,9.590009,9.253528,9.430581,9.467646,9.671925,8.967836,8.646084,10.3419895,9.692186,9.87013,9.5592575,9.708315,9.818058,8.894622,9.668852,9.456852,9.058868,9.387045,9.781895,8.886513,9.509,9.274778,9.483847,8.588861,9.395248,9.985586,8.728665,8.761277,9.733098,9.310855,9.7126875,9.272856,9.213325,10.057341,9.425313,9.118445,9.850187,7.382268,9.6747265,9.109883,8.98164,9.454898,8.7638235,8.960737,9.977134,9.16561,9.910274,9.288729,8.472453,9.180587,9.568209,9.52773,8.880646,8.974825,9.075365,9.858253,7.645321,9.472263,9.769258,9.076809,9.074878,9.170838,9.459907,8.953974,9.815204,8.814553,9.50366,9.033414,8.802283,8.852064,8.1968975,10.535183,9.263408,9.460677,10.002511,10.088679,9.324213,9.490634,8.8716345,8.944027,8.909917,8.890776,9.678296,9.333854,9.041016,8.716205,9.141053],\"z\":[1.19826,0.8281368,0.15593217,0.7179014,0.921049,1.2164899,0.4369245,1.6848669,1.567948,0.575637,0.24561356,1.685228,1.175589,1.7771734,0.92600113,1.633107,-0.34116098,1.2385817,0.6758636,0.9505765,2.07307,0.31198156,1.8085464,1.0457321,1.3086406,-0.027696867,0.22359806,1.6628777,1.6907134,0.65070844,0.99136615,1.5263816,0.7252599,1.0679432,1.7848144,1.9861915,-0.33485684,-0.055103403,1.2140529,1.5424892,1.439955,1.5014304,1.0524119,1.55569,0.9710871,1.7038565,1.2781407,1.12243,1.2385759,1.7158499,0.6814155,1.8261907,1.6335876,1.00613,1.9088194,1.6825622,0.3723773,0.018185055,0.87458646,1.5174738,0.80866784,2.0862408,1.7623667,1.890329,1.9847773,1.9017599,1.4828175,1.1599274,2.0300143,1.1622437,0.9126158,0.7529558,1.9604559,0.66985655,-0.1598661,1.7864838,0.8888689,-0.31495407,1.5795557,1.4696133,0.5371197,1.0641129,0.26926348,1.8938223,0.9727078,0.07599373,1.9382952,0.5492538,1.4382737,2.0157003,-0.47342157,1.1238215,0.8251626,1.7042654,0.73297244,1.7489498,0.9621812,0.98333144,1.6654246,1.5084198,1.7327329,1.7747502,0.15675506,1.7920489,1.4154284,0.39244932,1.5701369,-0.21282704,-0.724972,1.9548274,0.7673225,0.08891677,0.7022882,1.7449691,0.41105637,1.6691805,0.7139094,0.37060103,-0.0393297,0.1604922,1.9562103,0.15941624,1.2129228,0.9013923,2.190215,0.017709881,0.64354587,2.0913947,1.3631718,1.6660068,0.22611144,0.7344929,1.2370772,0.5828846,2.1176863,1.9937518,1.1173782,0.4408388,1.8417596,1.2490288,2.0523355,0.34981084,1.0872455,0.00059636135,2.0058525,-0.47856247,1.6716172,1.9557098,1.8805867,1.4663906,1.0768044,0.71203506,0.5167373,0.41887793,0.46132648,1.1929835,0.6642411,1.8082055,0.5529521,1.6755072,1.8651713,1.9714108,1.0792636,1.4768519,2.0841,1.9745853,1.4763497,0.6747199,0.9601255,0.6349209,2.1247957,1.945814,0.7347562,0.455291,1.6802912,0.5290177,1.0552117,1.2026161,-0.1388108,1.1822023,1.8626939,1.5240291,1.1065167,0.9688438,0.8412111,0.7136579,1.2775592,-0.020521138,1.5803735,0.48496705,0.6539822,1.3960242,0.38516212,1.4794687,0.5438755,0.078513816,0.21685046,1.101544,0.27835017,1.7409803,1.0255274,1.5075499,0.31246024,1.676874,0.16484344,1.0214574,1.6310585,1.7210505,-0.1716232,0.9573461,1.1783152,2.031369,0.7894517,1.2493982,-0.30209184,1.8015338,1.5312675,0.40403065,-0.27694046,1.5509132,1.7114913,1.857989,0.9354296,0.69496953,-0.5904864,1.7351245,1.1002891,0.13374604,0.38049194,1.0926558,1.4131446,1.1557299,0.9185503,1.3849072,0.33291698,1.5275604,0.25348613,0.94292104,1.6409727,-0.013818414,-0.15941876,-0.23111658,-0.08506546,0.502694,1.5135205,1.2732898,0.7050586,0.119759925,1.4836102,0.9182862,1.6342704,1.1269262,0.36970177,1.3280355,0.6545784,1.0229458,1.2870718,0.30773276,0.2702401,0.62837744,1.0061406,0.89481306,1.1200854,1.4470536,0.9177849,-0.32807565,0.6331853,1.9186431,0.6295474,1.0600216,0.6210448,1.8474724,1.3558661,1.6131033,1.4642733,1.8876743,1.6153169,1.0124493,1.7294081,0.93661696,0.16061558,0.17249107,1.9378626,0.6654428,0.6915261,0.70246094,0.15657702,-0.899361,1.3621778,0.8265465,0.051538233,0.9883254,1.4300478,1.226432,1.281117,0.9158281,1.6185055,0.07450379,1.4487681,1.9944502,0.7059314,1.4141179,1.865554,1.870652,1.8749281,1.8886067,1.8904891,1.6737416,1.3912396,0.4836544,1.8810672,1.494446,-0.49236232,1.0800232,1.2526618,1.5850793,1.9526976,1.2221639,0.69968283,0.86641127,2.052352,1.8492142,1.9850143,0.60468835,-0.36935604,1.7665728,1.9330966,0.7956491,1.4146396,1.8555229,0.6788437,-0.32243598,1.4603131,1.4041044,1.3827429,2.0802326,0.763437,-1.0359032,0.89067245,0.68977517,1.8383161,1.5981413,0.8467186,1.5004174,1.4535211,0.6718249,1.4099569,0.5772234,1.3431249,1.9564716,1.2878162,-0.11015611,1.4432181,1.7773916,1.6542165,0.986642,-0.57064176,0.6738614,0.8329916,1.7731465,1.7687876,1.7403568,0.28396064,0.92010915,1.8118509,1.2973169,2.1280751,0.26359764,1.4523282,0.6166081,0.3051781,1.4780192,-0.31318793,1.6614026,-0.015182638,0.35027546,1.1924242,0.38456857,1.2251862,0.41933814,0.72721416,1.7358034,1.2620097,0.89801884,1.5136353,1.1990632,0.8438426,2.2024415,1.0739362,0.3601093,0.9095062,1.1717817,1.2659836,0.9558391,0.86016,1.578249,2.1759048,0.5136346,1.5633584,1.1637244,1.4599977,1.3294134,0.9083127,0.87295103,1.5384215,0.0897435,2.0974238,1.5186028,1.9051282,0.44022194,1.4719496,0.6724899,2.0043335,1.2732117,0.5413972,1.6012985,1.9457846,0.6066466,1.6647758,0.16243829,2.0042796,1.3471446,1.303081,0.6537633,-0.27562833,0.07053247,1.64805,1.6669463,0.016813785,1.899508,2.2050867,-0.382065,0.6683814,1.4593854,1.5530185,-0.41710415,1.8169672,1.276809,1.8912992,-0.61612606,0.6743951,0.741697,1.6097424,1.52756,-0.44795182,0.29648837,1.0114053,1.3801795,1.7072508,1.0843114,1.6691167,2.1034448,0.87368375,1.6231954,2.101779,1.568899,0.061772157,0.71242386,0.3621461,1.9367006,0.34518903,2.0100574,1.4112302,1.4148549,-0.52997756,1.3145813,1.7361524,0.85102516,1.5118756,0.9826543,2.1493976,0.4923717,1.3511777,-0.3448772,1.7543617,0.8795341,0.6323491,0.24590191,1.3713548,1.5409334,1.318981,1.574271,1.6352245,0.5228857,-0.7953934,1.2978002,1.1491841,-0.23353687,1.2822864,1.1577369,-0.010093801],\"type\":\"scatter3d\"},{\"hovertemplate\":\"Class=automobile\\u003cbr\\u003ex=%{x}\\u003cbr\\u003ey=%{y}\\u003cbr\\u003ez=%{z}\\u003cextra\\u003e\\u003c\\u002fextra\\u003e\",\"legendgroup\":\"automobile\",\"marker\":{\"color\":\"#FFA15A\",\"opacity\":0.8,\"symbol\":\"circle\"},\"mode\":\"markers\",\"name\":\"automobile\",\"scene\":\"scene\",\"showlegend\":true,\"x\":[9.216049,7.5860195,8.21168,6.9767776,8.335169,8.388964,8.633676,6.5580063,7.148273,8.342753,6.970988,7.227758,9.111046,9.164095,7.173696,8.666262,7.0123634,9.010414,7.672773,8.696979,8.70332,7.3177314,9.64526,8.810919,5.9434314,8.957474,8.449168,8.683959,8.61768,8.436021,8.390663,8.8988695,8.2568,6.626135,8.581968,8.697986,8.855712,8.75487,8.779051,9.08273,6.796709,7.2566338,8.240027,6.825823,8.324731,7.9736423,8.807699,7.2596393,8.879411,8.655588,7.147477,6.802025,9.332123,8.139588,7.354915,7.478144,8.314216,8.56786,7.3019285,8.948198,7.349246,8.559743,7.3689547,8.450665,9.0792265,10.103929,8.659812,8.730219,7.330981,8.998075,8.203294,8.746431,8.639308,8.604519,8.973783,8.069197,7.3394856,8.286365,8.12675,9.015128,8.529676,8.442026,7.7496953,8.400976,9.067072,8.465233,8.79241,8.575812,7.786069,8.909334,8.960615,6.6840606,9.1932745,8.559754,8.755702,6.718848,8.304972,8.060964,7.468566,8.729153,8.30355,6.9952264,8.4200325,8.903684,6.090019,8.742775,8.376514,7.2419667,8.063383,6.869576,7.8273854,8.120156,8.476724,9.114487,8.8237295,9.1397705,8.613665,7.2062135,6.817034,8.951095,10.092819,7.655651,7.3243265,8.877337,8.23835,8.623118,7.6901083,7.408412,6.8189626,6.8028955,8.158621,6.3437433,7.7817063,7.28005,6.9569397,8.055571,8.856555,8.401625,8.794424,9.019132,8.962477,7.776379,8.610866,7.208496,7.5200734,8.753126,8.810558,7.15681,8.075758,9.013128,10.126994,8.102791,7.467896,7.7496266,8.252657,6.8419623,8.905458,8.962394,8.7708845,8.471819,9.207373,8.296244,6.8588314,6.810334,8.537826,7.2449527,8.461373,5.9083257,9.572418,7.65692,9.046898,8.740762,8.918749,7.458623,8.761756,7.3782053,7.9261007,8.527858,8.326027,8.363137,8.416294,8.29487,8.818181,8.148331,8.887934,8.688783,7.253501,8.552298,6.0548763,6.9790797,8.169255,8.174238,7.6720066,6.51562,9.005603,7.146672,9.964863,8.965527,8.984189,7.4136543,8.894497,7.1074066,8.816769,7.369001,8.326061,6.928494,9.388477,8.742907,8.525751,8.272327,6.9701896,8.1681795,8.810271,7.6746864,6.7367525,9.241239,8.530556,8.633143,8.530634,8.859334,9.8955,8.950469,8.884055,8.075655,9.025896,8.225091,9.141306,8.382234,8.4258375,9.907513,8.28536,6.8158393,9.171958,9.808484,7.762838,7.326351,6.3506174,8.469894,8.900234,10.565642,8.74546,8.501875,8.987018,8.718279,8.530595,8.661028,8.784685,8.824455,8.672229,6.94476,8.321908,8.715835,7.440515,8.40735,8.441732,6.835933,8.578612,7.994303,9.100321,6.642372,8.406741,9.635795,7.2190185,7.223917,7.1803193,8.257899,9.171407,6.4011073,6.8766503,8.341502,8.408406,6.051669,9.668573,9.667693,8.611711,7.6643305,6.927268,6.8263955,8.231974,8.932499,8.907255,6.8142667,8.370723,6.825685,7.601595,7.57524,9.493856,9.040897,9.030003,8.861997,8.927944,8.886736,7.249162,6.898497,8.223512,9.432593,8.730481,6.235186,8.970076,8.4095125,6.4427977,6.653076,7.349865,8.908306,8.858536,7.121821,7.685538,8.646939,8.19857,8.978741,10.228113,7.7652926,6.9498653,8.969621,8.600574,8.838005,6.9719834,8.737669,6.844612,8.848431,7.0922103,8.369321,8.986764,8.811327,8.861347,8.608651,8.047421,9.612388,8.125009,8.803822,8.681034,8.483936,7.0344505,7.828167,6.825584,8.200708,6.5394773,6.79635,8.10378,8.574899,7.5449686,8.787878,7.0888634,8.688922,7.3819284,6.825487,7.1385922,8.82821,8.330133,7.330853,7.7333875,6.313161,6.588185,8.53471,7.2357926,7.663663,7.912417,7.4674683,7.386482,8.33887,9.452603,6.424309,8.988237,7.0043545,9.361432,6.8209734,8.439206,7.158499,8.370569,8.16872,7.137532,8.250735,8.5350065,6.32096,8.683093,8.984745,7.43127,8.903672,6.8507257,8.952867,8.380619,7.263341,7.809926,7.926468,8.875282,7.556818,7.934944,8.616186,9.5689745,8.35991,7.0432982,8.326823,9.151263,8.154045,8.883184,8.089391,8.779748,8.788291,8.277731,8.699265,6.8826113,8.688081,8.959069,9.003831,8.120715,8.987849,8.224623,9.497048,8.464134,8.543921,8.675877,7.735113,8.779623,8.760137,7.6411905,6.7963796,8.80844,7.704369,8.856762,8.314387,8.773499,8.423965,8.199108,8.900282,8.362516,8.47794,8.550052,6.7717338,6.8664966,9.119724,8.768095,8.843046,7.22812,8.918983,7.8925247,9.07104,6.8359137,7.147446,6.371876,7.98623,8.495964,8.752216,8.72866,6.766495,9.83776,8.38066,7.6731195,6.953168,8.833197,8.35644,6.833853,7.3273425,8.78734,8.798816,8.383399,6.827568,8.4350195,8.430602,8.125359,8.818066,7.5867977,7.087571,8.77794,8.719217,8.711039,7.456695,8.460759,6.85504,8.28416,8.542674,8.3433895,9.585616,6.9862905,9.026968,7.971348,6.394243,8.363233,7.739986,7.230812,8.07074,6.9188538,9.243172,6.808862,7.3643594,8.850386,7.546116,7.7741876,8.613883,7.8272486,8.57688,7.4870563,8.899006,7.597677,8.514997,7.1300054,8.845691,7.9740577,8.24239,8.802415,7.1857324,7.8445373,6.9576283,8.079986,7.110425,8.264464],\"y\":[9.49104,7.3104296,6.9700375,7.1803274,7.9474792,6.8344502,6.947533,7.437367,8.781139,6.954847,7.0973454,8.048239,7.1485763,7.8410654,7.480474,7.138201,7.432972,7.398577,7.3588767,10.111752,7.0449543,7.354649,8.081941,7.2425423,7.6365433,6.932482,7.1683006,7.394104,7.0738187,7.4943457,9.377063,6.9474688,7.2083545,7.8213344,7.156178,7.69584,6.8655972,7.07695,6.7801456,7.0012846,7.513237,7.345822,6.9396515,6.7325597,7.2333646,6.823627,6.749263,7.345431,6.7888556,8.44423,7.616303,6.7026978,7.3164988,8.428396,7.448941,8.296843,6.8870163,7.973247,7.466378,6.909587,7.4037995,6.9999723,7.296411,7.0220103,7.149138,9.258844,7.7174997,7.791986,8.210169,7.3021936,6.846814,7.441434,6.9866424,7.3950825,7.0339985,7.0873504,7.179536,6.759761,8.9549885,7.3856864,7.330172,7.0922413,7.569095,7.1626873,7.4191008,7.262546,7.1363378,7.043154,7.044263,7.006817,7.0189166,7.7226243,7.884134,7.281354,7.266871,7.3282704,7.224682,7.1660914,7.445595,9.003179,6.9708652,7.394365,7.004474,6.841526,7.4760656,7.1240153,6.871459,7.3806915,7.352779,7.5224285,7.6930494,6.964128,7.049006,7.09487,7.1324363,6.9782405,7.0067434,7.7168884,8.892546,6.89663,8.44166,7.3236394,8.393053,7.1069555,7.0498395,9.972716,7.0453916,7.7873244,6.821942,6.866634,6.9082303,7.766061,8.10387,7.0978217,7.5385523,7.047492,7.384665,8.981113,7.0001283,7.0431643,7.0736194,7.319029,7.095547,7.6058993,8.504091,7.262984,7.1175876,7.390265,6.8703966,7.573498,8.581151,7.0883894,7.277244,7.3348517,7.84851,7.3236694,7.0955863,7.286733,7.28741,6.8178368,8.3350315,7.59449,7.2606173,7.2564993,6.886053,7.4908957,7.694002,7.401079,7.9470925,7.5837345,7.2827096,6.9783916,7.92997,7.2275457,6.915054,7.8944745,7.8934693,6.7932076,7.2070208,7.0693893,7.634612,6.8582687,6.79592,7.018441,6.941608,7.841109,9.892548,7.3962064,7.2519975,7.2979054,9.633457,7.183553,7.2330484,7.6755047,7.1355643,8.802445,9.979046,6.986306,7.9259386,7.238616,6.8192225,7.062533,9.530565,7.5203314,6.9482007,7.7709646,7.324433,6.917606,8.632317,6.8922634,7.346945,7.3676524,6.9781747,6.9743094,7.3438067,8.649932,6.7862835,6.9824715,7.81444,7.7260175,10.303856,6.9054756,7.024626,8.0657425,6.969188,7.744022,7.7231193,7.902386,6.854022,8.376091,7.2702312,6.771809,7.5503764,8.3217125,7.0977206,8.715275,7.7352715,6.960167,6.886724,8.976099,6.9855075,6.9174166,7.354579,6.984122,7.4342947,7.684368,6.9652805,7.317175,7.0406127,9.3265915,6.8600535,7.0953236,9.282108,6.8164687,7.182618,7.5428567,7.0764446,7.1040187,7.0864162,8.978833,7.255299,8.607023,7.384399,7.3753905,7.223543,7.02314,7.3939395,7.6876173,7.2677937,6.9304504,7.0240726,9.088214,8.642664,8.7392435,7.4040246,7.7801723,8.456481,6.765391,6.8957887,7.3136168,6.808843,6.733455,6.946569,7.2402797,7.810453,7.1941414,9.870932,7.0349083,8.505423,7.2146883,6.9134393,6.891815,7.6492434,7.630946,8.5525675,7.6098557,6.7963357,7.780636,6.9206367,6.821775,9.167885,9.399691,8.56356,6.8646035,7.17207,8.308385,7.414907,7.120942,6.9730835,6.993821,9.370908,7.4936213,7.561924,6.8870044,7.3763204,6.9605856,7.593808,6.929268,6.8159275,6.798083,7.2740397,7.1469455,6.951905,6.914451,7.167046,6.875793,7.5267925,8.63689,7.4987235,7.044236,6.974085,6.7945337,7.73577,7.2907696,7.6049314,7.355768,9.218026,6.7412796,7.4914865,6.760489,7.3610487,7.5691285,7.6322513,7.0556664,7.054431,6.8511057,7.3445697,6.9865856,7.1982813,7.29846,7.010592,8.731456,7.6898937,6.972934,6.9182677,7.714567,7.5193253,6.9065604,7.9125834,6.8836203,7.876208,7.496559,10.196691,7.5610676,7.56904,6.747585,7.812025,7.2775464,8.514189,7.531675,7.306743,7.006219,6.94816,10.376784,7.4005527,7.044572,7.3492503,7.0183554,7.5351925,7.8029575,7.3049064,7.1261115,7.134647,6.9881697,6.973904,7.375956,6.9397492,6.9302087,8.911687,7.0785847,7.3520846,7.772339,8.41064,7.0650935,7.3738885,7.471344,7.7063646,7.007951,6.818979,6.945004,7.459283,7.0186644,6.8966117,8.487002,9.281282,6.9636874,7.6135044,9.506402,7.5085797,7.3798995,6.950913,7.0678005,6.965152,7.176968,7.2708983,6.729578,7.117884,7.3483686,8.811509,7.347671,7.2066054,6.8090186,7.93228,6.831246,7.792814,6.8865724,7.0314884,7.746935,7.2895775,8.4395485,7.079612,6.844742,7.136689,6.9087176,7.7586126,7.3196816,6.8966684,7.156398,7.6554365,6.9631104,7.283595,7.121134,7.0959716,9.073867,8.848479,8.189435,7.147705,7.62682,6.892269,6.9311256,7.6173673,7.3518577,6.830596,6.901294,6.99762,7.4193354,7.02469,6.7749743,7.0698056,6.7732925,8.164222,7.2470427,6.7185235,7.228204,7.3354936,7.712059,7.117692,7.8340836,7.1346226,7.0055456,6.908621,7.5870004,7.551781,7.374944,6.9158206,7.5854526,7.0006785,7.331868,7.88039,7.47005,7.4352536,10.547381,6.8492594,7.5534754,6.7062397,7.6184983,7.287485,6.7669725,7.3737187,7.019986,7.4350815,6.831253,7.2241,7.161644,7.489146,6.964396,6.7862887,7.0807357,7.0807853,7.3683186,7.057202,7.8349867,7.1769114,7.190112,6.833528],\"z\":[-0.4199216,1.2366935,0.33060044,-0.4156996,-0.937169,0.6181964,-0.20008829,0.44871092,1.3739574,0.9984845,1.5648596,1.9978635,0.3420644,0.3047328,-0.2717394,1.1081238,2.107435,-0.11565004,0.9484284,1.6815872,0.47332975,2.0100384,-0.24011408,0.82836175,-0.48506024,0.45388994,0.9548355,-0.09035555,1.2591319,-0.17329115,1.5265361,0.5917099,0.71899533,0.8524491,0.4881745,1.3215022,0.5810331,0.98850936,0.3900717,0.26112363,0.115443215,1.5673349,0.92345464,1.2878094,-0.05952028,0.7501833,0.69032174,1.8571903,0.54221004,0.7565806,2.1083267,1.3457726,0.36001307,1.5382254,1.3309785,1.3986216,0.75128424,0.54243076,1.6294066,0.08920419,2.0823524,0.5888217,1.5582021,-0.37628064,0.52990913,0.3763454,0.53690475,0.019371366,0.015226296,0.10537907,0.36024362,0.7836209,-0.24364379,0.75494814,-0.08907631,0.7843461,-0.20599471,0.5484785,1.7092481,-0.46332315,-0.19857739,0.83508486,1.1811088,1.366084,0.50265074,1.1444278,0.35735163,0.18199962,0.2972511,0.23004965,0.64095694,1.9697009,0.20796795,1.0284722,-0.07738969,0.93285596,1.1582574,1.4714043,1.9147005,1.1721505,0.9847555,1.2566154,1.1759424,0.13800761,0.23885386,-0.37790802,1.0117234,1.8729892,-0.23094566,0.16761458,-0.28608462,1.2642784,0.53293514,0.121556856,0.73553956,0.26965615,0.43826845,2.0461943,1.1584802,0.62186104,0.34252316,1.6918464,1.888581,-0.014058535,1.345174,-0.19706982,0.7195651,0.30390275,1.2305849,1.249675,0.6890886,0.10951174,0.9149461,1.5183488,1.6515391,0.90177137,0.011213148,-0.446495,0.9253204,0.24596734,0.34616962,1.7143683,-0.04523455,2.1566684,-0.1932647,0.401554,0.43870327,-0.36491063,0.78847164,0.6822761,0.0943027,0.5788358,1.0052063,1.0600641,0.4114059,1.9204128,0.28767484,0.2386336,-0.48097372,0.3596796,0.99231434,1.0023786,1.8662328,1.8128386,-0.13164383,1.629915,0.8735668,-0.1979413,0.16845505,1.7993314,-0.006997886,0.1953105,1.0112123,1.5670639,-0.14197157,1.1477599,1.3802559,0.79241306,0.70143324,0.44879285,0.3718218,0.37803286,0.602764,-0.13054292,0.64762646,-0.22688177,0.27663383,-0.29456857,0.0063934014,2.011169,1.5889212,0.14761537,1.620901,0.38778162,0.32923272,2.133693,1.0920814,0.6513588,1.4633262,1.6459649,0.16983303,1.4624679,1.6713557,0.5556028,1.019362,2.172995,0.3860459,0.5343126,1.3731675,0.5105282,1.1700402,0.7288854,0.9693495,0.7145605,1.8870885,1.0565084,0.5736635,1.2478894,0.64958185,-0.725954,1.2531284,-0.019951444,0.32601997,0.49537662,0.2879006,-0.23418918,0.53351325,0.8658186,0.07566844,0.6083735,-0.28580022,1.2918267,0.4143889,0.21332595,1.5058303,1.9820278,-0.005466773,1.3390095,0.0023512149,0.33709922,-0.28778937,0.24609838,0.12860057,0.5636873,0.70375246,-0.5388286,-0.023816353,1.0321461,0.48302802,0.3930249,0.4197149,-0.2902986,1.6766001,0.8395853,1.0350198,1.8373356,1.2657548,0.19631562,0.64396477,0.6947158,-0.10814214,-0.14399247,2.0025365,2.0486596,1.7651179,0.21502638,0.5016404,0.48025888,1.7452596,0.5956314,1.3376961,-0.21877167,0.22243452,0.95990545,1.0731357,-0.22870007,1.4860889,1.2655472,0.5059627,0.7160928,0.520548,1.3123338,0.6311448,1.843444,0.6120099,-0.061347686,0.20273644,0.7776044,0.55106175,-0.10666327,0.35249755,0.6671237,1.286051,0.97641915,0.42564926,0.08538377,0.7451466,-0.045630716,0.008492645,0.90899557,0.63164747,0.19665706,0.45021868,0.011597979,-0.10393539,1.8489598,1.220761,0.3920551,1.1729554,0.5375562,1.0902501,1.5698925,2.1872284,0.18677229,0.81767106,0.79136,1.051278,-0.10302089,1.2953212,0.29656425,1.8893566,0.10691671,0.20804016,-0.17269515,-0.23972678,-0.2205521,0.5720572,0.60539466,0.7736355,0.785577,0.68916726,0.7552205,2.0062647,-0.027840018,1.5664308,0.49844903,0.87054545,1.3621715,0.8783621,0.7337661,-0.054573927,0.28730312,0.547561,1.0591431,0.67657065,1.4428957,1.2880214,-0.14674287,1.1612456,1.0698354,0.9121601,1.541032,0.87033963,0.60552853,0.60088784,1.8974205,1.2125328,1.4760851,2.1990547,0.846007,-0.26021007,0.079721324,1.6494383,2.1519191,0.19652964,1.3618071,-0.9353388,1.9245118,-0.40414742,-0.3385343,2.01294,1.1040975,1.1240114,1.399249,0.40082762,0.38843846,0.51112086,0.62828225,2.1105785,0.14037952,0.3085733,1.750148,0.6522135,0.20187713,0.03569267,1.8824303,0.9956311,-0.19322944,-0.1669175,-0.11775328,1.342901,0.7432497,0.6074811,1.155895,0.13591163,0.62572545,0.7311205,-0.29413882,0.4966518,0.42671764,1.9976257,-0.33573082,0.13185507,0.84665745,-0.33287618,-0.033264704,0.61471945,0.981165,0.15215513,0.5100331,-0.2273025,1.2427728,-0.017065477,-0.4239331,0.53345203,1.3630474,0.81325006,1.802947,0.5558246,0.33525375,0.23059088,0.94966245,1.123822,0.47888938,1.4852419,-0.18843491,-0.40569115,0.87864226,1.81305,0.9049064,0.6277787,0.22015844,1.7767054,0.23585106,1.1166376,0.121554516,1.4040179,1.644759,0.038491383,0.037882455,0.8846021,-0.10942322,-0.4310876,1.1401278,-0.48670286,-1.1693897,-0.047383916,1.8588406,0.8854551,1.2789874,0.83006245,2.0487044,0.40558112,0.30841273,0.7567792,2.0943856,-0.12596495,0.8426066,1.0283519,0.47165433,0.09552708,1.8844526,0.6251345,0.80803657,0.20882754,0.57563823,1.1200478,1.4697666,0.59726715,-0.2850173,1.0667405,0.15933307,2.1580539,0.7959349,1.1172174,-0.35159868,0.83941984,1.7817026,2.1931815,1.4922695,1.8436326,0.03689928,1.2978616,1.5025775,0.51973933,1.4497219,1.7760848,0.63293725,1.3022063,0.9463892,1.249832,0.5666365,-0.13591388,0.21897274,2.1453075,0.76675135,0.91615057,0.06416573,-0.2703571,0.9860669,0.2504233,0.79118997,0.8080271,1.7494015,0.16346376],\"type\":\"scatter3d\"},{\"hovertemplate\":\"Class=truck\\u003cbr\\u003ex=%{x}\\u003cbr\\u003ey=%{y}\\u003cbr\\u003ez=%{z}\\u003cextra\\u003e\\u003c\\u002fextra\\u003e\",\"legendgroup\":\"truck\",\"marker\":{\"color\":\"#19D3F3\",\"opacity\":0.8,\"symbol\":\"circle\"},\"mode\":\"markers\",\"name\":\"truck\",\"scene\":\"scene\",\"showlegend\":true,\"x\":[7.4190664,7.3422484,8.348327,7.695127,7.1891513,7.455618,7.7229342,9.874298,7.0957136,6.6862407,6.5815115,7.409568,7.704614,6.390299,9.065143,7.054601,7.290801,6.929941,7.5671625,7.796182,7.2503076,6.988574,7.156877,7.035471,7.4480133,7.1916327,7.336325,6.111348,8.706027,7.894284,9.146668,7.2268023,6.975955,7.0704355,8.862484,7.149663,7.956156,8.182966,8.99148,7.8536696,6.6422067,7.401941,7.0976605,6.79531,7.8515954,7.07134,6.623608,7.240158,7.490928,7.3299546,7.2771335,7.4047403,6.3944216,6.4554186,6.80305,8.366741,7.186332,6.7711067,6.8546505,7.3246307,6.0667963,8.672962,6.32267,6.9248753,7.9758673,6.8487334,7.06999,6.929297,8.504887,8.155476,7.384469,6.9490414,6.843178,7.672305,7.2353187,8.425554,8.00579,7.5889597,7.15893,8.542886,8.18809,7.072262,9.071314,9.174403,6.9534206,8.839835,7.942639,7.7955065,6.6203737,7.4113903,7.3760448,6.7873874,7.4936743,6.9281273,7.7283564,8.171531,7.3953185,7.370144,8.162437,7.0998073,8.971782,8.389505,6.850388,7.5474434,6.5470862,7.101092,7.3623905,8.184489,7.1392083,8.734057,6.984818,9.107109,9.286436,6.584339,7.498541,7.1388655,7.7763934,7.3419166,8.651865,6.830501,7.304376,6.990103,8.202864,9.373538,7.086323,8.561734,8.1861,8.662179,7.04209,6.4601903,8.108908,7.052851,6.8802667,6.6904426,7.2852426,7.538539,7.6444693,7.642857,7.1922903,9.161053,7.5731688,7.2439885,6.956244,7.7623277,8.358805,7.6497974,7.0406337,6.663292,6.4574466,7.047226,7.6044784,7.036075,8.549896,6.843734,7.3363667,7.0077944,8.568179,7.198962,7.0103483,6.7321033,8.116113,7.1875963,6.6902676,7.6829014,7.0017915,8.848134,7.008419,7.18772,7.548964,8.0143175,7.602427,6.993893,8.021102,6.7749333,7.414254,8.616733,8.877521,9.9365425,7.247688,7.9635715,7.483282,8.950759,6.8491488,7.5540605,7.7172346,8.993746,7.785049,7.327102,7.2780466,6.9011383,6.507363,7.342673,6.690125,6.887332,6.9449615,7.2301993,6.964041,9.9324665,7.3019557,8.35944,7.7362847,7.0782676,6.7632647,7.0434318,7.182178,6.9229374,7.9685493,8.7513485,7.9329686,7.531379,6.7126193,6.8967957,6.6364536,7.819594,7.5316777,7.590313,6.838222,6.3112216,7.3153796,7.602774,9.032834,6.739633,8.428402,7.1956763,7.7127576,8.35457,7.1050935,7.482428,7.1356587,8.156423,7.3943267,7.5620675,7.3162746,6.6945605,8.678073,7.154975,7.4278307,7.7339926,7.292188,7.7929044,6.2782383,8.203247,7.944513,7.209225,6.6034813,6.367167,7.812093,6.9121356,7.423065,6.536214,7.3646173,7.457832,7.5322957,6.3902993,8.315055,9.221569,7.3471723,7.0372486,7.9299664,7.51498,9.871649,6.880379,7.0399466,7.098878,7.219238,8.891087,6.0682282,6.9658384,7.298604,7.4059114,8.1600895,6.702085,6.936123,7.100709,7.892512,8.233187,10.030083,7.5651045,7.403233,7.516959,7.326187,8.27493,7.5894523,7.395855,6.599951,7.7629313,7.214763,7.3674355,6.9077573,6.9634433,7.1840906,7.8239865,7.0017505,6.393243,7.0178494,7.8729706,8.3701935,7.3010497,6.960558,8.156325,7.3636456,7.5060854,8.983235,6.7304945,8.19748,7.052412,7.1471224,7.1799393,8.261115,8.463082,7.454705,6.813769,9.183378,7.3612323,8.389044,6.2988696,7.257585,7.091676,6.9904113,8.913306,8.101165,7.894377,7.0105233,9.0605955,6.7981863,7.216897,7.3209333,8.797628,7.356102,7.2873244,8.758391,7.0996494,8.603339,8.466178,7.1537814,8.591535,7.1340785,7.563118,6.7952127,7.228099,8.633155,7.345398,9.283857,8.152909,6.9275885,7.3819222,6.4494324,6.4546847,7.410154,9.226045,7.7672887,7.390966,9.117092,7.7949433,7.1882806,7.3216343,8.650253,8.114367,7.376986,7.5375104,7.5136385,7.1253076,9.793557,6.940885,7.3200755,7.573395,7.21968,7.1752257,7.4135804,7.1805725,6.807723,7.412116,8.847742,7.4587126,7.3860655,8.661296,7.378052,7.7431197,7.896405,7.407192,7.036157,6.7707,7.740807,8.412079,8.738921,7.3457203,6.3212614,8.070004,7.360595,8.542966,7.562011,6.9225855,7.0548286,8.12066,7.596615,7.6664925,7.3903284,10.06695,9.251106,7.111279,6.9240327,8.458533,6.6544805,7.3334527,7.2617283,6.580482,5.8944006,7.027308,7.1197205,8.44295,8.624961,7.0001807,7.402727,7.370477,7.1632648,7.4540186,6.869176,7.3119874,7.280257,7.1232758,7.5394692,7.437649,7.6861234,7.5003886,5.928023,6.93742,7.6396194,7.2706814,7.871615,7.275353,6.952365,7.0943885,8.379523,8.681994,9.069753,7.5893574,8.945279,6.8092012,7.1085563,6.5090394,7.390427,7.0973625,7.305792,8.1434965,6.9697185,7.0435853,7.732927,7.381248,7.3951054,8.255706,7.479295,7.455664,8.450653,8.299149,7.040058,7.981388,8.954258,6.6241503,7.0784216,7.3372407,6.8689585,7.084867,6.477774,8.522759,6.8385835,8.605619,7.1455207,8.249663,7.8172255,7.425756,8.387248,7.2298393,6.7787204,7.082193,8.626018,7.3742476,7.071095,7.4532437,7.1484346,7.488302,6.6918297,7.3348646,7.5373383,6.992445,7.3853726,7.016928,7.0231934,8.366375,7.597174,6.944557,6.5973606,7.147198,7.814492,5.8992696,6.928148,7.38819,7.556633,6.962525,6.424772,6.968959,8.666815,7.204055,7.739422,7.1161056,7.100761,7.410794,7.675492,8.291028,8.522261,7.777326,7.195119,7.080283,8.516682],\"y\":[7.136485,7.688074,7.715018,8.013506,7.2937365,7.693819,7.0354495,9.615854,8.76597,8.846107,7.7521176,7.658573,8.578418,7.538029,7.293906,7.0847964,8.004449,9.152237,7.4754477,7.5060534,7.351617,7.0208383,8.499076,7.328314,6.9376583,7.3094473,7.2274485,7.7833757,7.735648,7.9514914,10.572491,7.5730934,7.777388,7.422469,7.2418156,7.250134,7.611492,6.9439692,7.1315627,8.34728,7.850849,7.1898804,7.8130174,7.92118,7.5829544,7.5531497,7.888774,7.012567,7.204302,7.0831923,6.854727,7.1477876,7.7610593,8.096365,7.6373377,7.8753476,8.067525,8.089979,8.248015,8.327455,7.707655,7.706089,7.5684667,7.6994963,7.9860163,7.970889,7.68866,9.994876,7.0613127,7.758965,6.827763,7.652073,7.7227106,7.2632375,7.449869,7.6667185,7.389083,7.1342497,7.785215,7.829737,6.83608,7.6844664,8.276486,8.12491,7.050684,8.397417,7.765094,9.394648,7.6920123,7.472762,7.3164744,7.458848,7.79506,8.045885,7.405837,6.9361324,7.386015,7.2171326,9.025422,7.692653,7.903378,7.7766724,7.632813,7.1274776,7.9331517,7.5855117,7.765361,7.0601854,7.105996,7.842772,7.0693884,10.395778,7.4556465,7.739597,7.565026,7.907009,7.9416223,7.450325,6.957824,8.660351,7.5790377,7.1113157,7.2766695,8.428825,9.022858,9.274752,8.651852,7.3579926,7.01335,7.820389,6.82058,7.6359806,7.763649,7.7453065,6.988943,7.0567126,7.658429,7.708019,7.3192844,7.79355,6.8902245,7.920766,7.7390933,7.552702,7.0673995,7.3346934,7.0322595,7.859587,8.001385,8.452507,7.5594587,7.086608,6.9501214,8.090456,7.4832726,7.406184,7.4120283,7.271463,7.150318,8.081587,9.158764,7.360961,7.607176,7.090516,7.0410147,7.0559278,7.2623577,7.440817,7.124256,7.71067,7.6794143,7.3924193,7.578843,7.429801,7.706252,7.2661448,8.356705,9.042886,6.945336,7.391264,7.2626004,7.032631,7.1703863,6.989482,7.510646,9.384682,6.9719768,7.67569,7.495381,7.394256,7.6892395,7.083764,7.453791,9.803692,8.154901,7.608886,7.322198,8.904399,9.256871,7.2387943,7.645581,7.108082,9.687507,7.385545,9.10984,7.871981,8.390966,9.052904,7.1535225,7.3917885,7.746655,7.654244,7.443873,7.0910764,7.0893493,7.210365,7.2719626,7.634156,7.4750433,7.577508,8.245545,7.738304,7.235716,6.9590673,7.229413,7.517066,8.028416,7.5851917,7.6229787,7.92906,7.595784,6.9539695,7.402077,7.625247,6.9985275,7.9165645,8.932719,9.779119,7.622054,8.009603,7.7132015,6.9821806,7.49858,7.057115,7.681297,8.288518,7.516244,9.06494,7.8306828,7.926383,7.246188,7.740062,7.5350294,7.631603,6.806901,10.596699,7.615399,7.7894435,8.785858,7.9619374,9.692615,9.036541,7.6240864,7.457009,7.8067374,7.3135104,9.950706,7.6737447,8.149664,8.536091,7.4911175,8.064802,7.3915925,7.221393,8.304687,7.715747,8.584564,8.590237,6.8610716,7.2808948,7.522355,8.478872,10.998217,7.627203,7.6309342,10.142441,7.8820777,10.259844,7.960486,7.2187853,7.056227,7.8018093,7.1632066,7.809105,7.060565,7.6520314,6.9849668,7.9589086,7.804707,7.1744194,10.211355,9.378625,10.715005,7.691553,7.0390472,7.074539,6.9154534,7.4058404,6.953272,7.7142267,6.99417,8.233469,10.452456,7.5195813,7.9795213,7.794831,7.6762137,7.6972957,7.5524526,7.999049,7.945898,7.413394,6.9547324,7.6329756,7.7285094,7.825496,7.569192,7.6741548,7.3082385,7.2267065,8.947962,7.7548337,7.668067,7.327304,7.3638673,9.105715,7.488264,7.470048,7.676237,7.559079,9.448538,7.43856,8.03862,9.314068,8.053251,7.7374377,7.928551,7.538887,6.968569,9.78086,6.800855,7.385442,7.7221084,7.8527718,7.7740912,7.4942403,7.4493246,6.924668,7.6634684,7.689104,7.079956,7.4563694,8.279908,7.8997264,8.527875,7.2953296,7.093597,7.4451017,7.464394,7.2978535,7.5691266,7.145848,7.4519787,7.831474,8.476367,7.5133147,7.4463663,7.1447425,7.721612,7.4851832,7.4052715,7.5398293,7.175201,8.503282,7.7868185,7.2049737,8.036682,9.488231,8.008677,7.844374,7.314275,7.6049137,7.7956333,7.611888,7.1770124,7.8221984,7.546284,8.781422,8.979541,7.6251006,7.7229347,7.304065,7.380286,7.4878263,6.9604764,7.8720174,7.652057,7.0361776,7.458754,9.691223,10.634028,7.406361,9.388055,7.0462813,7.2130136,7.857836,8.587379,7.1273355,7.348917,6.920516,7.4173007,7.843922,7.0522065,6.851949,8.697374,7.7226267,7.752493,7.6560636,8.273305,7.463528,8.33893,7.3772407,7.950764,7.297567,8.885767,7.1914325,8.236999,7.5173397,7.0199637,9.470956,7.4493637,7.434531,6.98048,7.176054,7.313766,7.8083777,7.1654305,8.806896,7.520613,6.9378185,7.7936096,7.8775516,7.194761,7.109899,7.999287,7.9157934,7.3402495,8.271617,8.463534,7.067295,9.486131,7.775247,8.00488,8.320372,7.675937,8.432494,10.085789,10.247969,7.6130815,7.607028,7.4025574,7.1791234,7.603865,7.705347,6.967737,7.879541,9.603537,7.482618,7.6871333,7.312605,8.014314,7.437209,7.533504,7.760379,9.827931,7.646426,7.717858,8.692865,7.9925694,7.567176,8.169333,7.8514767,7.030329,7.6183844,7.500666,6.8758817,7.4679103,7.6823397,7.7498016,8.37899,7.408618,7.6107507,7.612104,7.815873,7.347952,7.228319,6.9427595,7.4899073,6.8043895,7.463688,7.5798745,7.77197,7.8222027],\"z\":[1.069023,1.4712744,1.3321027,1.2743813,0.9157242,1.1898695,0.29339182,0.45831767,1.100848,0.6297717,0.66703206,1.6192412,1.5874953,-0.35754395,0.20533049,0.7681596,0.54263556,1.9252039,1.3685219,0.8075676,1.0372428,0.5185897,1.435046,1.1047509,0.40644428,1.8285481,0.666255,-0.33424735,0.87869716,1.157446,0.8918746,-0.33210948,0.71973395,0.9106051,0.025597746,1.5463198,0.87277436,1.043727,0.32315302,1.0365905,1.0093763,0.9554266,1.5094694,0.68801934,1.5610338,1.9822074,-0.99493426,0.8833776,0.60015416,0.9826767,0.5899406,1.0099498,1.115564,0.46932492,1.3761626,0.98364514,1.6882607,0.6622177,1.6212527,1.7864957,-0.079440564,1.221831,0.28214353,1.8552209,1.5011328,1.3419247,0.75949657,1.5602778,-0.32944208,0.5589033,0.5170984,1.8901577,1.1177092,1.4934083,1.5954708,0.36800438,1.1056949,1.0626514,1.6369632,0.6492855,0.9654043,2.1522338,-0.54413855,0.5101794,0.32446003,1.3116652,0.8068576,0.039154533,1.131146,1.7638032,1.3446661,1.0312943,1.4761494,0.752411,1.5094854,0.43275616,1.389029,1.0019703,1.9502444,1.8094504,0.60452455,1.1006941,1.5931126,1.1230571,1.2487016,0.7195592,1.1616803,1.0038534,0.7518439,0.68006223,0.81715107,1.0502644,0.106266506,1.3770357,1.3946997,1.5950226,1.639177,1.0909153,0.27418,1.563843,1.406582,0.7706988,1.2874283,0.4325942,2.0301292,0.581017,1.0967121,0.77774036,0.3655619,0.14768976,0.29163483,1.9590979,1.1239688,1.0702013,0.46598804,0.59011376,0.8446491,1.5627593,1.6917493,0.09221867,0.61949736,1.6979787,1.5621091,1.2445366,0.98583233,1.5398511,0.08077417,1.3956771,0.97793114,2.1249354,1.6102711,0.63101435,-0.17968222,1.0729028,1.4920629,1.8509712,0.99649334,1.6943424,0.54035765,1.3636032,0.4281417,1.4000865,1.3214333,0.19368458,0.025493586,0.55875456,1.0840645,1.7528806,0.7789375,1.4248887,1.4378017,1.20875,1.2450655,0.9974993,1.2876877,0.06362191,0.85617405,-0.6782388,0.33010274,1.4733388,0.633673,-0.098748855,0.8914584,1.1349068,1.3521562,1.6791328,0.77086395,1.4301707,1.1909105,0.3782005,0.48034495,1.0010567,0.96106434,1.6192538,1.8578837,1.6117126,0.5983391,-0.38886917,1.786721,-0.19769989,1.3667127,0.78189987,1.5788766,1.7940013,2.0664835,1.3718214,1.3288673,-0.3855679,0.3737114,0.95881635,1.2518315,2.1229098,0.9652103,1.3331455,0.58182156,1.1703403,1.4414591,-0.062499855,1.5504457,-0.23776369,0.8563607,1.4049225,0.98481697,0.8711325,1.1975479,0.22313546,1.6328418,1.1603203,0.68972313,1.2233869,-0.0033003222,0.48675692,1.2860881,0.83557427,0.8126641,1.6528003,1.1153454,1.6024204,1.4136593,-0.15949166,1.1063598,0.348568,1.0628756,0.709602,0.73309046,0.58605444,1.7502164,2.0506084,1.0167284,1.2895623,1.0116013,1.1584828,1.7373401,-0.5086329,0.23981702,0.53378516,1.5317838,-1.0673527,1.5834022,1.2503105,-0.2664027,1.5655689,1.8832077,1.7022732,1.9128293,0.25651565,1.1826228,1.2203004,1.2755961,1.8879894,0.8405845,-0.026183026,0.8995396,0.80955017,1.5693055,1.1985638,-0.35438636,0.899541,0.56302506,1.0041918,1.5007799,1.0512388,1.7637204,1.2317727,1.3928716,1.2974368,1.4952974,1.7434689,2.152506,0.69301784,0.756554,1.5957919,0.2126531,1.1327387,0.5721155,1.5260715,1.1802492,1.7239319,1.451646,0.76937777,1.8414748,1.1409078,1.2614825,1.1586154,0.9892828,0.84318423,0.4776968,1.0130377,1.0816153,1.2246208,0.76196843,1.7556334,0.7319215,0.99454,1.5536897,0.07639582,1.4595165,1.4032079,1.4662979,0.7204192,1.1243595,0.57888216,0.7606363,0.1334585,0.40536472,1.672007,1.4721042,1.0079819,1.2443358,1.0175321,0.8237601,1.89487,0.06640438,0.882027,1.8158808,0.6686498,0.56915224,1.3222501,1.401462,1.3460581,0.85793823,2.0567937,0.48120457,-0.29710227,1.6172538,1.8632606,1.25653,0.66625774,0.3664829,1.3837931,0.52489847,0.5874375,0.6556026,1.6732093,2.061144,0.956025,0.9271649,0.8283257,1.504018,1.0972291,0.99098486,1.8152009,0.4732219,1.0348971,1.6482584,0.82934415,0.189868,1.3951387,1.2005252,1.5259354,1.2985843,0.73930734,0.20364004,1.6065348,1.7669556,0.33084056,1.1241248,0.3256764,1.1863636,1.1600657,1.8993145,1.3553149,0.23752312,-0.9924877,0.54834074,1.392288,1.1922183,0.87136537,1.645728,1.3862717,1.2192448,1.5359414,2.007621,1.4790239,0.83802,1.6512073,1.5150794,0.35200462,0.9106374,2.006934,1.9532001,0.23429751,0.6689906,1.4307114,0.3509255,1.393293,-0.14281842,0.11234723,0.8149167,1.2336153,1.0290419,1.1802806,1.7343092,0.96819144,1.4488963,1.4755008,1.7307976,0.43419817,1.6918635,0.3005589,1.1287752,1.8292996,0.6695168,0.66330993,0.30942413,1.620798,1.2312055,1.8532809,1.9331279,1.4360764,1.6982769,1.1237427,0.6081838,1.0184035,1.3155735,1.1259167,-0.14626701,1.1958754,0.93982375,1.5284121,1.5589918,0.94542664,0.32109386,-0.07967608,0.9602954,1.3438674,0.61642706,0.51764244,1.6269422,0.015636094,1.6341314,0.7106584,0.8020712,0.19414376,0.6086116,1.5862201,-0.044322394,1.2380023,1.2523876,0.7027296,2.0431628,0.72033626,1.3176427,-0.8023502,0.5495298,0.7543258,1.776983,0.45806298,1.2227157,1.6305704,-0.3758889,0.2518417,0.34417447,2.06087,0.6454803,1.5868012,1.6153257,1.3978847,1.5909331,1.7351038,1.383339,1.3325574,1.7017083,1.5564736,0.9184472,2.1409576,2.2100842,-0.09077531,1.7421665,1.2892574,1.3581184,1.9751123,0.33521962,0.15490219,1.2484647,0.18104541,-0.56224895,1.1628398,0.9557493,1.7810357,0.73563176,1.169924,0.9782058,1.9257728,1.4172926,0.28134042,0.33416092,0.9544931,-0.025353951,0.91526365,1.6077595,2.0935938,1.0795783],\"type\":\"scatter3d\"},{\"hovertemplate\":\"Class=dog\\u003cbr\\u003ex=%{x}\\u003cbr\\u003ey=%{y}\\u003cbr\\u003ez=%{z}\\u003cextra\\u003e\\u003c\\u002fextra\\u003e\",\"legendgroup\":\"dog\",\"marker\":{\"color\":\"#FF6692\",\"opacity\":0.8,\"symbol\":\"circle\"},\"mode\":\"markers\",\"name\":\"dog\",\"scene\":\"scene\",\"showlegend\":true,\"x\":[10.493606,9.738294,7.199001,7.423226,7.7946596,8.845093,7.345766,6.9185553,9.60075,7.194833,9.019036,10.498307,9.3258095,7.991591,7.2960443,8.040746,7.4397035,8.852093,7.449376,9.059746,6.2437105,9.128534,9.304147,7.1713214,6.661902,7.771144,7.680852,7.115288,9.140893,9.125902,9.57466,8.150584,9.963144,8.49143,9.82604,8.365408,9.517413,10.22829,9.116607,9.774201,8.4559965,9.144503,9.503716,9.078804,7.8840733,8.906275,7.4044795,8.312442,9.148365,9.032768,8.307179,7.1498747,9.040155,10.199174,9.0606365,9.007093,9.6944275,8.309507,6.098797,9.176837,9.122868,9.5455675,8.055954,8.328269,7.7428913,9.466391,9.734527,8.582869,7.495287,8.53881,8.444924,8.102285,9.819117,8.125244,8.684744,6.32021,9.156692,6.287564,8.193826,9.622978,10.371925,9.107099,9.729673,10.292341,9.371633,8.323817,9.621058,9.433884,7.551706,9.080979,7.981718,8.62508,8.389304,6.8100924,8.499093,7.0741725,8.987627,7.882908,10.109238,8.468145,9.030961,7.6622696,6.488831,9.748662,6.6415286,10.191501,9.26366,6.855526,9.380733,9.011796,7.152493,9.714159,6.639341,7.7371035,7.373391,9.4872875,7.8451324,8.13188,8.421068,9.890811,9.109836,8.8035,9.654565,8.948159,9.695421,8.240489,7.945096,7.441095,7.993133,9.174229,7.66088,9.912619,8.412211,9.155275,9.743694,9.15878,8.188503,9.987273,8.560932,9.277218,9.121869,9.654202,9.24242,8.125746,8.985363,9.301688,8.0034275,8.792468,10.07895,8.966068,7.3991914,9.855612,9.93472,8.335586,7.6180015,9.764615,8.806766,6.3037724,6.2329597,7.461107,8.37216,8.894939,8.909029,9.274876,7.643184,8.323089,8.009224,8.119578,9.170179,9.877334,9.530899,10.213554,6.592877,8.341555,6.5357537,9.784695,9.176767,8.985338,6.1079283,9.512381,8.962788,10.095017,8.2052355,9.82175,7.3314276,7.912823,10.489955,10.176914,9.805677,8.53299,8.051824,9.435995,9.893438,9.544362,7.82884,8.33439,6.478555,9.925292,9.7253,9.928516,9.949911,8.802509,8.640649,10.285174,9.682983,9.353978,7.5647573,6.459707,10.037804,8.8496475,7.3489704,9.083012,8.550863,9.001241,7.961445,9.827952,8.965888,8.679503,8.9220295,9.276146,9.706945,9.222857,8.382998,8.846184,7.5574694,8.052305,7.21242,8.225627,8.203393,8.915574,9.965758,8.949899,9.374188,10.236597,6.576379,7.919248,8.134926,9.053343,9.302461,7.03871,9.4221945,7.067076,7.523422,9.424069,7.288155,7.8994346,9.829166,9.66491,8.734836,7.5197334,10.211308,6.4689875,6.538546,8.847602,8.636408,6.8708043,7.227024,7.5380845,7.545312,8.880612,9.12389,7.0971913,6.158015,8.885029,7.631963,7.9129887,6.2584553,8.600137,9.050642,9.711053,8.641905,9.566078,8.672575,8.8020525,9.016075,7.1260796,8.648769,9.64747,8.879771,9.305564,8.954186,10.017281,8.49682,6.2527394,7.7935452,6.350919,10.093156,6.823807,8.699435,7.5758443,9.4585285,7.4367824,9.85548,9.628505,6.459719,7.428003,8.609949,7.3990393,7.128647,9.559885,9.086866,6.827144,7.5897503,9.537409,8.556303,9.526182,7.3673224,7.219112,9.796895,9.717167,9.656322,8.72738,7.9895973,7.1272144,8.708041,9.672344,8.2027445,8.212606,8.445746,8.844935,7.439328,9.910115,9.111172,7.4380693,9.671157,8.441187,7.92917,6.642642,9.551613,7.079173,9.805567,8.662208,9.728183,6.523674,9.048985,8.553655,8.561808,8.813632,8.637962,9.180415,7.5109134,8.54327,9.703266,8.418196,9.052841,7.83247,9.972385,8.338977,7.271913,9.872744,8.977563,7.931604,10.180497,8.625346,9.724,9.8500805,8.752483,9.601914,8.586068,6.2950826,8.969807,9.928981,9.868618,7.147368,7.415076,8.173101,8.447448,9.943256,9.286979,9.638413,8.217366,8.637091,9.560859,9.591881,8.442594,9.485306,9.073213,7.8871846,9.731362,7.0858917,7.936124,7.733718,8.536112,9.206491,9.813351,9.114274,9.101086,10.151255,7.755027,9.423965,9.33666,9.198694,8.6162615,9.416657,7.6207495,9.614592,7.308677,8.483553,6.704094,9.066838,8.347685,9.522868,6.372819,8.873108,8.607096,7.7574654,9.893855,9.138935,8.708196,8.060583,9.609386,7.517057,7.8774166,10.285685,9.847883,8.6086,8.099237,10.065118,9.987884,10.104479,10.544702,9.466101,10.26995,9.44808,9.50904,10.534696,9.254504,8.2034025,10.194786,8.956289,8.416403,7.0173626,8.340564,9.068881,9.818561,10.012631,9.774594,8.184795,9.799583,6.654469,10.315099,6.6736517,7.6623607,9.475055,10.10843,9.928398,9.640604,9.240779,9.483791,7.7563562,8.503522,8.168954,7.3836093,10.175048,8.937266,7.543805,10.370268,9.773856,9.047601,8.163476,8.633902,8.357721,8.061536,9.409692,9.479347,6.820241,9.678334,8.910613,7.7550745,9.915917,7.8651752,8.33055,10.051573,8.61997,9.446891,8.050117,7.0368195,7.0830636,8.314222,8.278431,8.89296,6.704382,6.763159,7.68494,6.7650847,7.7661624,8.6492,10.101371],\"y\":[8.927186,9.347583,10.330101,10.825218,9.202849,8.931691,10.499542,10.496613,10.283258,10.361974,9.955477,9.320076,9.529362,9.698243,9.705015,10.030111,10.0938015,9.497076,9.854339,10.0369835,10.0345335,10.621635,10.093207,9.423438,9.291617,10.453223,7.2579546,10.78145,9.873745,10.077464,9.783106,9.500002,10.198554,10.187848,8.983136,10.581946,9.766573,8.730356,9.87655,9.157816,8.760341,9.463892,10.210438,10.47124,9.942725,9.744967,9.494834,9.260935,9.450277,9.736249,10.553892,8.096313,10.053784,8.655599,9.473162,9.689477,9.737661,10.312402,10.152702,9.966002,8.784559,9.281813,9.830806,9.7085705,10.200188,9.942338,9.930047,10.054182,9.356004,9.554768,9.836723,9.810982,10.244584,10.411122,9.668767,10.124676,10.449752,10.119027,10.93165,9.753743,8.984397,10.04728,9.567672,9.453619,9.947283,10.161632,9.164396,8.118011,10.293769,9.288347,10.468221,9.569728,9.074736,9.931494,9.572485,9.772114,9.529423,10.545511,8.731887,9.709912,9.453069,9.000112,10.308653,9.068988,8.901297,9.560626,9.592595,8.4721,9.310327,9.437612,10.141338,9.487251,9.976116,9.171352,10.505936,9.960214,9.682973,10.018922,9.598329,9.593286,9.568151,9.264955,9.076673,9.988838,9.710682,10.444625,11.209162,7.916303,9.23629,10.191606,10.336543,10.530099,9.618484,10.077794,9.027953,8.982834,10.029266,9.879908,9.652771,9.487833,8.3635435,9.033134,8.91166,8.967782,10.044966,9.768116,9.828186,9.214408,9.098601,9.472297,9.640441,8.550636,8.876156,9.191942,9.352583,9.509021,10.257575,9.758751,9.646109,9.210484,10.121119,9.171856,10.561746,9.48716,9.037882,10.043196,9.098292,9.959687,10.013142,9.441552,9.163139,9.3305,8.035935,9.398203,9.896439,9.708839,10.267641,9.488421,10.076248,9.373621,9.322515,9.082344,9.837952,9.535243,9.048111,9.62004,9.063112,8.893837,9.543903,9.787777,9.546559,9.968356,9.948303,10.663063,8.726836,10.479774,10.045032,9.6001215,10.06448,9.088648,9.466345,9.803552,10.395334,9.609672,8.420541,8.017487,9.171066,9.9459505,8.658,9.171681,10.259865,10.532206,9.658838,9.987393,9.829412,10.277064,9.036537,10.980152,10.3027115,10.122258,9.993835,9.019783,10.433132,9.692565,9.508355,10.2127075,9.601203,10.132557,9.919777,9.606422,10.045203,9.757005,8.919029,9.867443,9.889996,9.7107525,9.654787,9.687881,8.938094,10.285441,10.048503,10.77353,9.286296,9.726039,9.77477,9.9774885,9.322607,8.763327,7.9915504,9.97952,9.0866165,7.843161,8.827888,10.385477,9.672139,9.798435,8.874464,9.418341,9.3492565,9.625351,10.774425,10.106694,10.17117,9.922577,10.041179,11.206039,10.067743,9.682665,9.319891,9.712311,9.639032,9.99376,9.696543,8.942076,9.684098,9.988899,9.662701,9.68476,10.252583,9.584993,9.944806,8.747488,10.701054,8.093869,9.658666,10.137265,9.356471,10.39202,9.683922,9.836886,9.490911,10.793004,9.715768,9.248502,10.238255,10.303511,10.448653,8.975229,10.208781,8.598636,10.2467375,9.711645,9.596387,9.105014,9.527219,8.392298,10.512661,9.262703,8.657481,10.343512,9.08127,10.095297,9.731787,10.702296,10.965389,9.539095,8.165571,10.070418,9.6659355,9.122615,10.234341,9.394656,10.013046,8.797826,8.862893,9.63007,9.434139,10.291684,10.02556,9.260433,9.064931,10.015854,9.610741,10.333086,9.479244,10.079756,9.334259,10.173054,9.707856,10.104944,10.080156,9.67396,9.424898,9.265234,10.164194,8.334067,9.440862,9.632033,10.37665,9.99929,9.956055,8.501705,8.683377,10.587993,10.545652,9.648483,10.403576,9.6743765,10.089174,10.256133,11.0085335,9.837217,9.135934,9.637911,10.299785,10.103021,9.958575,8.989634,10.224099,9.627884,9.19004,9.205509,9.87967,9.688251,9.815311,9.79325,9.446778,10.072728,8.977858,9.684548,10.596543,10.105753,10.162675,9.69687,9.622543,10.640591,10.607199,10.168334,8.686053,9.548623,8.754012,8.453257,9.039112,9.786957,9.697756,9.741189,10.433851,8.84839,9.719203,10.179199,10.728018,8.521926,10.121341,8.894184,8.197461,9.492496,9.817926,9.047846,9.189413,8.997256,9.074511,9.854312,10.382726,9.530731,10.238771,10.429585,9.332975,9.365475,9.354787,8.665016,9.035516,9.7131,9.2829895,10.016485,9.297071,9.12534,9.583626,10.466603,9.681834,9.080831,9.078234,10.479565,10.102711,9.847915,9.980148,8.791333,10.263126,9.421706,9.29894,10.043862,9.732189,9.645409,9.270786,9.973985,8.899491,9.916263,9.972954,9.326351,10.261863,10.010988,10.179637,9.984066,9.295432,9.464198,9.061152,8.882072,9.514327,10.033232,9.655172,9.997424,9.779502,9.556851,9.340664,10.015622,10.25616,10.155373,10.389466,9.561151,9.973197,9.717091,10.176548,10.296312,8.989019,10.323484,9.919756,10.335075,8.098938,9.166929,9.642014,9.976437,8.675229,9.921022,9.710473,10.244944,9.80666,9.338374,10.557562,9.107127],\"z\":[0.4138448,0.16670169,0.8224089,0.89452595,1.940606,-0.024612378,1.4153832,1.6993234,0.9147638,0.13995901,-0.73809487,0.60840404,0.3962836,0.1282202,2.0714955,0.303775,0.49052918,0.9059266,1.0438149,0.027428545,0.34058708,0.23914367,0.043958455,1.9335543,1.9361596,1.769893,1.4785697,1.141683,0.1567285,0.0016026286,-0.68905556,0.7718501,0.52531064,-0.08434929,0.019494627,0.74425274,0.9082225,0.2329079,0.5126885,-0.16433378,0.29636526,0.45701325,-0.062469523,-0.14692365,0.5203095,-0.27442902,1.9894437,0.8124526,-0.5840901,-0.8533026,0.07520244,1.664217,0.4711903,0.17492956,-0.787991,-0.9431913,-0.85131544,0.08063721,0.6108496,1.064943,1.310998,-0.04078164,-0.1601382,-0.44168907,0.5876044,-0.5174725,-0.5120694,-0.5745941,1.2619301,1.7394625,0.9685304,1.7508092,-0.093380906,-0.094029374,1.8946617,0.61829865,0.16111884,0.34183893,0.8553633,-0.74102503,0.17782114,0.10369532,0.75964916,-0.4219213,-0.728205,0.31006977,-0.74193853,0.21731317,0.33610097,0.5494629,1.2668521,1.507422,0.31397426,0.075159445,0.6754645,1.6173571,-0.8298329,1.4848057,0.102965616,-0.051200178,-0.7534872,1.255185,0.7316623,-0.36304244,1.1522866,-0.24387984,0.036035575,1.6932222,0.22313091,-0.3298691,1.185808,-0.75001085,1.4709854,0.55562896,1.0609745,-0.44529894,1.6748655,1.5250062,-0.6810531,-0.5109698,-0.3250139,0.74756277,-0.2857988,1.1764128,1.0821887,0.024160521,1.5098499,1.3899362,1.868704,0.1251365,0.3490546,0.5022609,1.5746862,0.22776598,-0.3920292,1.3381878,-0.49579978,0.06285945,-0.55309874,0.03239266,-0.17479536,-0.28618935,1.0551431,0.034071032,1.4410206,-0.8667038,-0.47152317,-0.38935247,0.44106483,1.160266,0.21390544,-0.2521775,-0.23077089,1.7210989,1.7865121,0.089065425,0.33421344,1.2104095,-0.76543176,1.5017862,0.4533432,1.0038469,0.1321667,0.5802817,0.96483964,0.9464206,1.1675318,-0.14316967,-0.27338278,-0.6667896,-0.59975415,-0.28277838,-0.2352502,0.23510623,-0.7685129,-0.6944032,0.022233289,-0.1274236,1.1973504,-0.88822603,0.87801415,-0.4123286,-0.13595055,-0.83357286,0.34056604,0.7815835,0.24316642,-0.041815653,-0.31326303,1.859628,1.2334095,1.375849,-0.33535755,0.41188654,2.0968893,1.0210357,0.79397756,-0.45679224,-0.4774184,-0.6869591,0.23728134,-0.4246619,0.022324177,-0.060155448,0.39043632,-0.4970514,0.14862731,0.5123751,-0.52359897,1.0865394,0.27578935,0.18969332,-0.5363811,-0.29291034,0.593247,-0.07376411,-0.5293107,1.2072849,0.64385974,-0.3822552,-0.61905515,0.878744,0.35529882,0.73235035,1.6296082,0.12902275,-0.014509235,-0.40497112,1.3796319,-0.8483598,-0.43365192,-0.46290615,0.47231278,-0.2821727,1.6871716,1.8771216,-0.20339432,-0.9589254,0.28581673,1.1355529,-0.43479583,1.3574811,1.7266943,-0.6530337,0.23748489,1.716169,0.6557686,-0.4044531,0.92362905,1.6394372,-0.0076817945,0.47013313,0.26176924,0.05707785,0.014500796,1.6765051,1.9640793,1.1228727,1.8293867,0.8917865,1.0814694,0.1675367,1.1838295,0.55014676,-0.4819953,1.5428097,1.1027318,-0.37833896,-0.2170428,-0.5603098,-0.7494423,0.3205251,-0.73602474,0.9027888,-0.225204,1.6811773,1.6958537,-0.974825,-0.23756249,0.8816258,-0.6658626,0.478201,0.039813027,0.09733349,0.050502524,0.6955632,-0.5933372,0.8410219,-0.8662077,1.0751059,-0.9086098,0.7424154,-0.44585028,1.0551112,0.72162765,1.9379276,0.6589485,0.75147736,0.7833191,1.3818086,-0.29315373,1.381067,-0.019149456,1.0796183,1.7707012,0.5131344,0.8191466,1.3800981,-0.5074697,0.5934038,-0.22758685,0.6533999,1.0039657,0.8857538,0.71534866,-0.17908031,0.84128255,0.002377027,-0.61946267,0.7571202,0.038812496,-0.7175005,0.32047787,1.7809792,-0.7105775,-0.6828812,0.639063,1.3167261,0.710698,0.31813812,0.15324561,-0.39764577,-0.55887884,0.68648684,1.4704688,-0.015108128,0.4117982,0.44927448,-0.8924716,-0.5423858,-0.5521144,-0.7217894,-0.8716322,1.492423,-0.35844025,1.4825872,-0.721662,-0.6218926,0.39012334,-0.41319922,1.2231877,-1.0742993,-0.2618708,-0.04206822,0.77112275,-0.81178653,0.43810824,-0.60043925,1.4377984,1.5372722,0.7817231,-0.5252756,0.34317175,1.8898331,1.4548928,0.15623303,0.661246,-0.27386305,-0.49931982,-0.7016672,0.92831725,-0.5826668,0.31228638,-0.73799336,-0.090802036,-0.7593005,1.4647392,0.95286,-0.24965166,0.0026120842,0.1726631,1.3885242,-0.068402745,0.65165365,0.7446671,0.29574248,0.27114818,0.07785307,1.9221609,1.1894498,1.0526632,0.73522764,1.4695284,-0.8027242,1.9527436,-0.94034666,1.2209394,0.1708409,0.6997257,-0.31342354,1.8303622,0.9190134,1.437937,-0.7747544,1.629356,1.8863243,0.34484944,-0.41346487,-0.46696958,1.8022547,-0.63684934,0.52396184,0.364378,-0.42601478,-0.5767828,0.61510736,1.6548814,-0.19696598,-0.43272233,-0.056413174,0.226665,-0.1793217,-0.1739631,-0.4312985,-0.86078924,0.37844786,-0.9503211,1.1551653,0.878451,-0.2816951,-0.0756254,1.3744844,0.54469484,0.80936825,-0.346023,0.6026826,0.057238467,-0.4832467,0.008064002,1.6574011,-0.39833596,-0.066926084,1.9253322,1.4130274,-0.10836344,0.6856029,-0.59318316,-0.5091998,-0.47971463,1.2114874,0.29636168,1.7820139,1.5358379,0.041993514,-0.8062727,-0.18687816,0.75079125,-0.31459266,-0.43526152,-0.6700224,-0.13631094,0.3069847,1.8133092,-0.75187165,1.301967,1.2784407,0.6741489,1.6124378,1.5082524,-0.8400162,1.9275787,1.0134692,0.15649788,0.8740544,-0.826117,1.1146927,2.1952953,1.6070172,-0.6687693,-0.022837741,-0.71430033,1.2659643,1.5507647,0.7645207,1.7907923,1.4879134,0.056090012,-0.4043037],\"type\":\"scatter3d\"},{\"hovertemplate\":\"Class=horse\\u003cbr\\u003ex=%{x}\\u003cbr\\u003ey=%{y}\\u003cbr\\u003ez=%{z}\\u003cextra\\u003e\\u003c\\u002fextra\\u003e\",\"legendgroup\":\"horse\",\"marker\":{\"color\":\"#B6E880\",\"opacity\":0.8,\"symbol\":\"circle\"},\"mode\":\"markers\",\"name\":\"horse\",\"scene\":\"scene\",\"showlegend\":true,\"x\":[10.470844,8.596059,7.8179317,8.577099,9.585522,9.531584,8.242105,7.556932,7.175324,6.3917937,7.0174565,9.925779,9.928118,7.68019,7.584807,8.406416,7.887018,7.1126103,8.229258,7.4847236,7.132743,6.5870905,7.3842645,7.4379196,9.720106,7.531591,6.4149823,10.185877,7.9627542,7.405817,7.6216183,8.937422,6.8522477,8.880949,7.96655,7.399366,7.670951,7.603332,8.9989195,7.222985,9.154131,9.335333,9.224795,10.396677,8.246508,8.666429,7.4800735,7.970493,6.896302,7.243653,6.7961254,8.23615,7.5103893,7.9390955,7.3119006,7.3720694,7.1190877,8.58587,8.854133,7.9452114,9.41271,7.9784117,7.114776,7.072443,8.71023,8.103243,8.657768,7.07238,7.2738385,8.187191,7.021516,7.8762684,5.885342,9.860512,8.157903,7.5386086,7.8390975,8.225201,6.9700637,7.7801733,7.684375,8.493858,7.270525,8.669936,7.9058657,7.0185266,7.90249,9.866038,6.706871,7.241615,7.279046,8.544072,7.3484554,6.9179473,8.232066,8.854302,6.878289,7.063162,7.4395623,7.241992,6.1508536,9.049843,7.8418436,9.964498,9.415175,6.9169116,7.28875,9.2548275,7.806971,7.3400807,7.722997,8.397415,9.14715,7.2887015,7.239278,7.309252,7.8740463,7.9149513,7.709827,9.916424,8.539031,9.514413,9.315371,10.14819,7.3912897,7.0351505,7.023737,8.045801,9.998388,6.92858,7.97093,8.671293,7.7447157,6.953121,8.209512,9.078607,7.375211,6.9276147,7.2484837,9.929114,6.972188,7.337426,7.2914076,7.075294,8.551376,7.0509634,6.941149,10.1989765,9.941175,7.829013,8.821949,7.7986784,7.16755,7.6859093,8.644118,8.642696,6.690794,9.742919,6.3341775,7.8818226,9.549085,8.139106,7.275953,7.417478,7.2899947,7.205275,8.679524,9.563415,9.949726,6.889988,10.162993,9.090777,7.4296117,8.58419,7.6960835,7.8261366,7.0136166,7.0905733,7.2690377,7.9731812,7.0589557,7.766282,8.623489,7.968994,7.334114,6.852878,8.329456,7.3419623,6.918598,8.574001,7.9662704,9.243938,7.4236107,7.0143256,8.171716,9.549262,6.7889876,9.278208,8.455692,7.209005,7.7180176,6.9480915,6.956357,7.3726683,10.05778,8.423044,9.600228,7.653253,7.573757,9.709253,7.0000443,6.5233088,9.997866,7.286168,7.720054,7.713849,9.92883,7.1360755,8.774266,7.8796287,9.133483,8.670568,7.1619296,9.722916,10.005986,7.7397304,7.2150283,9.368392,7.7760086,6.879926,8.112393,7.0738273,8.9937,7.278577,7.4020104,8.551273,8.294114,7.0205965,6.9341235,8.769976,8.548204,7.0788217,9.31814,8.091076,6.3860173,7.956867,8.221371,7.456678,10.160772,8.100388,7.08087,7.2672606,6.8434014,7.39297,9.010964,8.280237,10.321966,7.457056,7.9502287,9.839686,6.19259,9.727494,9.625167,8.115641,7.3561916,7.756871,8.136713,7.0570073,7.335795,8.533703,8.368847,8.3494625,7.5285654,10.341072,9.522125,10.437039,10.100667,9.554474,9.068626,9.183134,9.933349,8.600253,9.129878,6.893711,7.762517,9.953496,7.326189,8.3624,6.9977455,8.293703,7.141971,7.3795624,7.0208,8.0444565,10.315032,8.707017,7.36494,6.94841,7.928416,7.1458273,6.370788,8.819999,7.1488166,10.144875,9.998638,7.6978436,6.3334723,7.140488,7.60639,8.65156,7.127262,6.8799043,7.3685784,7.0833383,8.298646,7.427078,7.0490212,6.8283257,9.986822,7.481446,7.0919886,7.966036,8.986032,7.472269,8.895117,9.075095,7.8710456,8.688749,7.265345,10.52175,6.8297067,7.371518,6.93668,7.5308223,10.278108,8.663458,8.119394,9.553399,6.866429,7.6138225,7.5765176,8.598233,9.989246,10.264509,7.562261,7.4663744,9.705035,8.165473,8.683059,9.02225,7.021415,7.2285366,8.556052,10.351189,7.344249,8.879612,9.255786,5.8997183,7.059198,8.35526,7.0094304,9.829443,6.850838,7.025734,8.335952,6.99826,7.7226405,8.362072,8.625443,8.658954,8.596409,7.683504,7.7848988,6.8904047,7.72088,7.096822,7.5503855,9.990299,7.3370504,6.8716326,7.9267793,8.937944,10.066548,9.199968,9.212408,8.035446,8.341656,6.623195,8.275677,7.4036765,9.223524,7.884029,8.7802305,7.6593328,7.9435062,9.96693,8.939943,9.40399,10.064989,6.895744,5.9614725,8.688814,9.415414,9.567281,7.542422,6.3074217,9.987989,7.4417253,6.7538996,7.94566,10.214301,7.896996,6.887865,8.105748,7.058368,7.192396,6.873148,8.350555,7.1995726,7.009411,6.165736,7.0746818,6.8668647,8.117371,6.620338,7.4410906,8.898843,9.805436,9.637296,7.0356793,8.911262,7.4809756,8.776955,6.9666653,6.730774,8.670904,8.090119,7.7710648,7.277966,8.317681,8.512518,6.934045,9.406647,8.65166,7.116737,7.7555604,7.7833066,9.596017,7.127248,9.769998,9.360161,7.500343,7.4105234,7.2897243,8.0033865,8.6074505,9.856056,8.634733,7.8033485,10.15424,9.863113,8.081838,9.019025,7.847766,7.333624,7.953291,6.8197284,8.151614,8.819885,7.594812,7.6759624,6.5391674,9.542723,6.9179387,7.409772,8.036682,7.800377,8.011417,9.856323,8.203963,10.571868,6.010666,7.0891867,6.944052,8.491356,10.62661,8.444529,8.038125,7.312659,8.373739,10.266327,8.205604,8.6265745,6.942823,7.179422],\"y\":[8.820563,9.886779,10.206982,10.661422,9.702143,8.454318,11.182084,8.462422,10.740984,8.024138,9.325467,9.273076,10.015437,9.224928,9.671468,10.366419,9.691162,10.230797,10.808314,10.916594,9.526587,10.513609,11.105748,9.691956,8.838886,10.607084,10.460941,9.553631,10.333056,8.889877,10.298222,9.287004,10.610362,9.929187,9.439533,9.064565,8.948138,9.394262,7.2908134,9.108684,9.056535,10.833607,10.269673,9.020695,10.529937,10.675034,11.108242,9.571925,10.600428,10.830696,10.03667,10.420147,11.003767,9.295366,10.989797,10.966134,8.617332,9.927632,7.0775905,11.154982,10.413575,11.208875,10.85638,10.828562,10.745255,9.595788,9.769382,9.885114,11.032667,11.102658,10.595071,10.0542,8.064166,10.2524605,8.810129,10.872867,10.307696,10.51642,10.623651,11.057845,10.820846,9.083146,10.806418,10.64572,10.996863,10.750512,10.8978,9.212269,10.321364,10.349743,11.192342,11.070539,11.065516,10.548973,11.068991,9.400324,10.299824,10.012356,10.66018,10.70666,9.810746,10.960421,10.458275,9.96533,8.519679,10.673346,9.757286,8.735015,11.021088,10.743494,10.42604,8.201965,7.1542997,10.634431,11.12903,10.116387,11.12226,10.472969,10.680949,10.235756,10.0052805,9.860472,9.381573,9.975739,10.970086,7.9358106,10.6520195,10.718437,8.870288,10.96604,9.476681,11.099928,9.484458,8.366464,10.320491,10.652796,10.669448,10.568569,10.4423,10.229097,10.148165,9.92952,8.246894,10.75921,11.123873,10.807733,9.395823,8.797331,9.059404,10.970661,10.852906,10.938741,11.044606,10.941127,10.874899,10.786046,9.585755,9.243951,9.849144,9.2708235,9.830688,11.076211,10.379912,10.999753,10.820026,11.154981,11.0559845,9.204794,10.080889,10.462699,9.608368,10.258175,9.423797,8.952446,10.833376,9.716593,9.969195,10.97924,10.597174,10.824731,11.030948,10.649281,10.934855,10.1016865,10.669337,8.837312,9.004863,10.401199,9.335879,9.915931,10.694012,10.17317,11.205606,11.03433,11.25787,9.255556,9.594671,8.962519,11.06478,10.743481,11.1072645,11.02087,8.375232,9.10842,9.622641,11.098291,10.551692,10.251589,9.070054,9.712942,9.936861,10.435787,10.316939,10.556627,9.942794,9.956199,10.163696,10.254493,10.432136,9.146975,9.014824,11.130826,10.874146,8.166898,8.631674,9.517313,10.190024,8.9821,6.804187,8.280616,11.20264,10.761386,9.36123,10.126355,10.869667,10.643422,7.9826236,10.361567,8.978141,10.80153,10.501797,10.688094,8.715678,11.047649,10.099105,9.484608,11.196222,10.991077,9.195999,11.195413,9.685941,10.487881,8.910282,9.055191,10.838506,11.097575,8.778738,11.018021,11.254076,10.184183,8.691321,8.472608,10.55461,10.945814,11.120975,8.784366,8.831685,9.8739,10.757764,11.007837,11.091142,9.497932,9.332718,9.01056,10.511027,9.530484,9.252411,9.950517,9.454198,9.080769,10.353767,10.572588,9.945927,7.936437,9.488967,8.619942,10.962878,10.508942,9.147856,10.336079,10.985328,10.2517605,10.941928,9.154252,8.900046,8.836197,11.270294,9.967463,11.236468,11.064464,10.148456,11.062776,10.704461,9.865791,8.539387,11.090749,8.624699,11.089804,9.314166,9.227347,11.08504,10.15857,9.8381605,10.863363,11.085797,11.075182,10.890254,10.720478,8.573059,10.589121,10.781363,11.178075,8.930525,9.204465,9.094451,10.991552,11.019342,10.6899185,9.556564,9.524419,10.201868,11.066183,10.627641,9.311842,9.775199,9.453987,8.95697,8.968371,8.349957,10.629791,11.070193,10.850018,8.419206,9.89841,10.853442,7.4322553,9.563904,10.906207,9.15312,10.254401,10.908332,11.0676775,11.020193,8.758727,10.350999,9.567128,8.993107,8.034695,10.690181,10.257088,9.355583,9.22064,10.609629,8.52518,11.24713,10.307674,10.903711,9.157333,11.036371,11.049188,9.03839,11.17865,10.981707,10.672892,8.919297,10.896783,11.133541,9.754677,11.227054,10.299623,10.753071,10.8688345,8.731189,9.139139,9.717188,7.8343625,9.455029,10.564366,9.539847,11.119723,9.023455,11.022859,11.043249,10.950021,10.412387,8.626306,7.0653715,10.588741,8.600789,8.8991585,7.8564873,9.078229,9.722205,10.171582,11.046264,7.808873,8.526889,10.783631,8.574094,11.085118,9.857421,10.132033,10.274848,10.862136,10.715382,10.277181,10.622685,10.834289,10.856282,10.606347,10.39798,9.150815,9.249895,8.919976,8.379735,11.261034,10.760386,8.448138,8.769083,10.750151,10.100979,10.439119,9.765356,10.52847,8.724991,9.034829,10.955796,10.958006,11.1149025,10.9296665,9.803904,10.306652,10.754761,11.139106,11.0609255,9.170347,10.462558,9.251831,10.807918,9.097063,10.814677,10.452407,10.162676,10.24615,9.609632,11.136371,9.050908,10.975541,10.942,9.710417,9.498325,9.264451,9.062124,9.873309,9.09726,11.050891,9.4631605,9.033173,8.985095,7.367369,7.546586,10.213796,8.472681,10.198926,11.14946,11.223072,10.667592,11.079775,8.739076,10.432503,9.528482,9.38699,10.95341,10.735008,11.035453,8.95464,9.381241,10.06751,8.867903,8.540877,9.695942,8.980409,9.1884,8.911594,10.785522],\"z\":[0.17923784,1.4863839,1.3071308,1.1695664,0.49812153,-0.1753713,1.2889096,0.90219253,1.8828853,0.089632794,1.9753163,-0.7161586,-0.19640696,0.79274553,1.8834823,1.3570127,1.7003161,1.7490542,1.7007948,1.770747,1.2502155,1.6627059,1.7662818,1.9127302,1.184215,1.7716757,1.3105156,-0.16446799,1.4437175,0.6432731,0.7642495,0.9427001,1.7233742,-0.04030635,0.9923309,0.63737476,1.7133496,0.7614036,0.12851955,1.5393227,-0.053268865,0.99171305,1.2602965,0.27146676,1.0315988,1.2794785,1.7028654,1.8057224,1.7431318,1.7922955,1.7435114,1.0890286,1.7730911,1.6630392,1.7639048,1.2562969,1.396382,0.6751457,-0.35454458,1.0413094,0.5892224,1.6843351,1.5221534,2.059967,1.1595632,0.60219556,1.135889,1.8066723,2.0643895,1.2692176,1.8319724,1.2924929,-0.014885247,-0.41907683,0.8055799,1.5419693,0.12246658,0.90039873,2.0447893,1.4575174,1.5161185,0.1752092,1.9403675,1.1175895,0.8004291,1.9648414,1.7024077,-0.5203304,1.6831797,1.7500916,1.7704545,1.0074105,1.422768,1.1396359,1.7488142,0.47665295,1.8694668,1.6364392,1.6667655,1.937282,-0.13432838,0.8289534,1.2815675,-0.24270132,0.0918123,1.883245,1.6672586,-0.8009895,0.7736708,1.8995891,1.4695201,0.9949564,0.17423443,1.8748642,1.7623626,2.120844,1.8068576,0.3614162,1.5433294,-0.5460307,1.0869853,0.16534927,0.41290998,-0.4433757,1.2144542,1.3959568,1.6394404,1.9123628,1.1312869,1.8292505,1.4600962,1.2530211,0.64306754,0.75701225,1.3518562,1.0188485,0.6950876,1.9213004,1.9794147,-0.54974353,1.2549214,0.63133866,1.5174654,1.7687808,1.2153728,1.8371304,1.108482,0.35092026,-0.58215374,0.77609605,1.5430273,1.7079642,1.9081479,1.2013481,0.7406654,1.3215189,1.883035,-0.726449,1.6185951,0.5516074,0.07341375,1.8037694,1.3578256,1.6045073,1.5276122,1.8116006,1.2553792,0.5936217,-0.5680612,1.9189559,-0.45714742,0.85418093,1.2886742,0.36411023,0.7172168,-0.50322247,1.8063618,2.0273905,1.8215387,1.6264836,2.0157554,1.328807,1.2123613,0.5365619,1.8744056,0.6072913,-0.7357892,1.9164251,1.6414236,1.2846707,1.5493383,1.2916336,1.6795175,2.008275,1.3622006,-0.5190359,1.1864755,-0.0016164698,0.87553525,1.9162707,1.8742855,1.9719905,1.1065784,0.5840767,-0.15665485,1.2533553,0.6546158,1.4296726,1.5882535,-0.40883985,1.7683802,1.7300643,0.089503765,1.6391631,1.3032477,1.6675923,-0.5336748,1.9366223,1.0716261,0.43363786,-0.756036,1.4143097,2.0331771,0.40725258,0.30568612,1.5463595,1.9286633,-0.2867391,0.32750422,-0.07649853,1.6783788,1.9423316,-0.5786013,1.6839949,0.9908976,1.1254101,0.15823895,1.8914635,0.8570459,1.0043852,1.0921252,1.968643,-0.6091954,1.8120826,1.5823953,1.2224814,1.3296833,1.7399607,0.29383466,1.6485229,1.5991511,1.9565256,1.6907138,0.4515573,1.2246199,0.9892788,0.07733459,1.696661,1.6762426,-0.5962375,1.1021022,-0.20939237,0.89154536,1.8026342,1.7461017,0.8696751,1.4878953,1.7413412,1.3431647,1.1872454,1.4840344,0.20641783,1.8297371,0.10238578,0.7597013,-0.15689492,-0.54418766,-0.08474876,0.0056426856,0.32776636,0.097718,1.3876208,1.2217855,-0.21770991,1.9343016,-0.18846208,1.3291248,1.1972929,1.7135875,-0.042334016,1.9837912,1.4205495,1.8746203,0.82954156,0.13325958,0.861653,1.7045525,1.8817165,1.7305698,1.972131,0.43598196,0.9990966,0.7267378,-0.46349734,-0.29934326,1.7855585,0.75715,1.8734977,1.8419877,-0.6017395,1.6958373,1.8257948,-0.4361165,1.9826899,1.5378048,1.6301321,1.8145044,1.7657537,0.44841763,1.9910862,2.0109377,1.7443835,0.6203647,0.66286075,0.2081004,1.2188531,1.2312258,0.37146485,-0.08789745,-0.13637777,1.8227488,1.8429122,1.6235123,1.1178005,-0.46960714,-0.23406039,0.7411705,0.5810672,1.752991,1.0568917,1.6156869,0.22976954,0.092528306,-0.37854877,0.7226722,-0.7312327,-0.75818974,0.78993845,-0.31391382,1.4709085,1.8030058,1.8716054,1.5494665,0.10146441,1.9616284,1.3705316,-0.50351757,0.28982523,1.8286825,1.2080412,2.0958996,-0.7572291,1.8671265,1.4852384,1.4835668,1.9144502,0.9649624,1.3189392,1.5412418,1.3796705,0.074818425,1.712971,0.71061736,1.8980459,1.743358,1.9761268,1.8410571,-0.3248618,1.7242087,1.586394,0.78662586,0.8708112,-0.2608863,-0.09997333,-0.09343187,1.2070754,-0.2169747,1.2702223,-0.09841759,1.8035347,-0.5081479,1.3985084,1.1073995,0.7285379,1.5283663,-0.43839398,-0.0004811654,0.56874514,-0.13997692,1.7085102,-0.032942884,0.016102904,1.1392466,0.072341815,1.105717,0.1954807,-0.09031516,0.90266806,0.08096755,1.8819929,0.33851212,1.2602439,1.8354793,1.4657816,1.9121029,1.7016829,1.9636881,0.6495513,1.857846,1.9992571,0.6059235,1.6683327,1.5862834,0.71765953,1.334833,1.612885,0.9512865,0.24545868,-0.3849087,1.9617262,0.7815372,0.38525295,0.27679852,2.0705214,2.0678675,1.0163467,1.4898359,2.0030227,1.7500331,1.0576162,0.7203114,1.9330642,1.2507832,1.467765,2.016586,0.5885293,1.6508137,-0.82301855,1.27178,-0.7084641,1.0839089,1.7210361,0.21695402,1.6667042,1.4902333,1.166386,-0.589335,1.3859323,0.7597693,-0.0124283945,-0.65566385,0.43143362,1.4800568,1.0764717,0.84388155,1.197857,1.8350698,1.744203,-0.07102205,0.14943114,1.4446839,1.734953,0.17548496,-0.03281064,1.7994922,1.517794,1.9172894,1.8477231,-0.31551227,1.6853948,-0.15929364,-0.28888988,1.9395651,1.0354779,1.2134733,0.5134389,1.0288957,1.1033865,0.703623,1.0617704,-0.3663133,1.7806255,0.012123418,1.0694091,1.9517604],\"type\":\"scatter3d\"},{\"hovertemplate\":\"Class=deer\\u003cbr\\u003ex=%{x}\\u003cbr\\u003ey=%{y}\\u003cbr\\u003ez=%{z}\\u003cextra\\u003e\\u003c\\u002fextra\\u003e\",\"legendgroup\":\"deer\",\"marker\":{\"color\":\"#FF97FF\",\"opacity\":0.8,\"symbol\":\"circle\"},\"mode\":\"markers\",\"name\":\"deer\",\"scene\":\"scene\",\"showlegend\":true,\"x\":[8.756891,9.004598,9.769481,7.4195123,8.034538,8.771292,8.255403,8.091612,10.246524,7.4738417,8.329144,6.5235806,7.1524343,8.471908,6.2491817,7.2740493,10.041288,6.686076,9.813083,7.611266,9.744271,7.898425,6.622422,9.257583,9.959118,7.5311923,8.077461,6.003633,7.73943,7.430422,9.474866,9.620694,9.591682,8.125173,7.869352,9.864476,9.545739,8.288394,8.891991,6.9349484,9.448158,9.248558,8.209655,9.603706,8.067664,7.2782145,9.99896,9.780989,9.786901,9.186832,8.015389,8.191911,8.534408,8.826741,7.810877,7.7891994,8.339284,8.496966,7.1945043,10.619409,9.69009,9.182805,9.319198,7.7942705,9.082517,7.2006226,6.772926,6.5856943,9.384454,7.276947,7.6262364,6.7828293,8.886217,8.196244,8.688905,9.286671,8.287371,8.2849245,10.474209,8.977686,9.821979,9.907812,9.1334,8.335227,9.59938,8.913169,9.511882,9.60591,9.051095,7.5369964,7.341451,8.609806,8.768247,10.51593,9.758938,7.489945,8.760403,8.780906,9.052438,8.819223,8.694828,8.572993,7.778922,6.113388,6.3531723,7.8105626,7.3416114,7.987215,8.636208,7.860565,8.671449,8.083422,7.807157,9.150743,8.101344,8.794524,6.2481465,8.342686,8.460357,9.503131,8.143896,9.529059,8.611263,7.592169,8.74914,9.149109,8.097986,7.4774513,7.817564,9.401916,9.693121,9.33229,8.281249,8.569929,8.893965,8.738673,9.197355,7.565096,8.424274,9.34803,10.118616,10.511753,9.922246,7.2121115,9.021076,7.7580233,9.65947,7.702468,7.205237,9.435807,9.567332,8.9880495,10.560392,9.043208,9.678021,6.642975,7.341481,9.621652,10.386314,9.621149,8.348734,9.623795,7.2222743,9.08779,9.177981,8.130491,8.228451,8.049364,7.771116,8.963223,7.0880585,7.1376595,8.005812,7.1460776,10.427998,10.220947,9.607196,9.446333,8.173312,7.357594,8.399764,9.626889,9.875074,9.376759,9.662548,7.25599,8.973282,9.313757,9.503012,7.734999,9.137615,9.427311,6.9684362,7.8154445,9.45354,9.324914,8.738455,7.30909,7.254456,8.130431,8.412938,10.412912,8.901825,8.664579,7.0704284,8.401877,8.73977,9.532383,8.729824,9.6241865,9.393013,7.404442,8.286889,6.905884,7.9454803,7.3146524,9.879349,9.287771,9.968667,8.806788,8.207305,9.408638,6.270407,9.540929,9.98213,8.862127,9.005568,9.457406,7.3829265,8.205961,7.7699537,9.483915,9.464557,8.213294,8.781981,9.6721945,9.727765,9.390724,9.432937,9.118483,8.984909,9.709883,9.116547,8.283045,6.804277,9.223177,9.323102,8.661173,8.784633,9.153424,7.2255387,9.614877,9.436897,9.357979,7.438734,10.217813,9.522239,9.179622,9.40858,9.9930725,9.543554,9.233186,7.4058924,6.528777,8.706465,9.616592,9.46611,9.620387,8.07429,8.7964945,9.172805,7.399159,8.803104,9.72826,9.29661,8.963326,9.770748,10.360857,7.383182,9.930203,8.409201,10.317079,8.123122,7.5033913,9.338088,8.118843,6.5713162,9.743806,7.4389844,9.148597,8.781098,9.092014,8.411901,8.868977,10.544054,9.7476425,8.601911,8.863721,7.8465347,9.351951,9.316028,9.407309,9.127698,9.642255,7.714882,9.172367,7.937649,9.401161,10.24433,7.606885,10.120041,8.967009,8.270468,9.991299,8.472019,8.951986,8.286699,7.494198,8.446021,10.33347,7.3944087,9.119419,8.324663,9.557686,8.302637,9.80025,9.594331,9.436012,7.8023624,9.584196,7.5026283,10.172701,9.312676,10.502263,8.017344,9.639394,7.2010126,10.231029,8.504327,8.33842,9.590098,7.342053,9.149617,9.694477,6.9504304,8.901033,7.1992025,9.739821,9.858272,9.025588,7.3364344,7.376077,7.526195,9.239875,9.193044,9.78654,9.334134,9.611871,8.822614,10.648332,8.057874,10.019721,7.0195,8.265861,7.930586,6.440773,7.929049,8.42376,9.389101,8.515461,8.086448,7.3733215,9.609306,7.8192205,9.612356,9.075466,9.301324,9.86562,9.290792,8.575792,6.5466638,9.658016,7.4212565,9.150163,8.643678,8.833738,8.442275,9.325396,9.64133,8.444558,8.447033,7.479332,9.687642,7.7277374,7.261242,8.664629,9.572059,8.461954,9.388974,7.5398436,7.606629,7.7646575,7.3239303,6.947504,9.719101,7.832148,8.832675,9.550968,9.372376,9.707527,8.768287,9.333193,7.3382454,10.138267,9.335144,8.400906,7.050202,9.449757,7.382666,9.705989,9.717696,8.219281,8.792672,8.183229,8.711912,9.868543,7.3871846,9.478116,9.25458,6.9374228,9.515085,7.40499,9.219186,7.8263264,9.551064,9.126351,8.330461,6.5411787,10.466208,8.252045,9.511488,8.664893,7.7168884,7.7567825,8.314737,9.925537,9.50008,9.690665,8.509029,9.984081,9.534706,9.54478,8.436454,10.198236,8.031727,9.109977,9.050914,9.286273,7.97741,9.400255,9.391682,8.932835,10.0907545,9.416339,8.779742,8.813224,9.626317,9.071164,8.80924,6.0935407,10.403316,10.15578,10.109125,8.905303,7.556696,9.41024,8.44237,8.146351,9.279546,7.695691,8.889129,9.813682,9.32902,9.246735,6.771409,9.1307125,8.439803,8.072987,6.5478935,9.567027,7.7533073,8.0113325,9.782041,5.9047027,9.148386,9.057643,8.976056,7.9316916,8.959618,8.025932,7.681053,9.482834,9.666353,9.573964,9.99268,9.61818,7.9389386],\"y\":[9.828061,10.5075655,9.96522,10.321198,7.894148,9.343331,9.600419,10.342021,9.303893,9.462847,10.766286,8.134441,10.677611,9.012437,10.137294,7.620976,10.0657425,9.688178,9.413449,9.168215,9.830165,10.452905,9.39725,10.148756,9.313405,9.377281,11.126521,7.892608,9.386311,9.835884,9.620338,9.553517,10.29738,10.551882,9.813088,10.053834,10.066228,9.789009,10.9477,8.3533945,9.112035,9.690637,10.336793,10.259873,8.022763,10.421698,10.255344,9.261392,8.401104,9.672287,10.897411,7.7848077,9.106588,10.900172,10.885314,10.686857,10.390673,10.75379,10.6087055,9.548981,9.920465,9.04188,10.476001,8.192962,10.479676,9.115458,10.300929,9.205923,10.127632,8.998055,9.002141,9.647458,9.103866,10.288285,9.474153,10.191431,10.152738,11.003859,9.697862,10.293429,10.643637,9.175652,10.393785,10.051157,10.695321,9.64118,10.540567,10.492762,9.988463,10.400471,10.793107,9.688149,6.9677515,9.306973,10.620116,10.915689,9.215309,10.91948,10.472702,10.15147,9.9234705,10.965425,10.71733,8.95419,8.066232,10.241039,10.816514,10.018425,10.812323,10.760003,10.90625,10.053032,8.890792,10.606292,9.847947,7.312177,9.528383,9.334697,9.71213,9.473192,9.593844,9.459822,10.698436,10.777728,9.573481,9.247552,10.490908,10.271565,10.892587,10.717766,10.21603,9.523567,9.583319,10.681807,10.2637005,10.029444,8.869589,10.801801,9.261773,10.542169,10.170525,8.893343,9.889264,10.810402,9.35332,10.631154,8.828201,9.644653,9.779502,9.938816,9.400705,9.41406,9.462646,10.208226,10.135417,9.54805,10.137318,9.2062845,8.923087,10.434504,10.381233,10.769811,10.918538,9.076015,10.665069,7.420544,10.448628,7.1668625,9.55453,9.159013,10.356344,10.371095,9.093878,9.69442,9.076424,9.02801,10.586107,9.627484,9.904941,10.455609,8.912392,10.624818,9.98093,10.958107,10.12529,11.026212,11.010661,10.079969,9.222899,10.719412,10.429869,9.099091,11.091277,10.778975,10.87074,9.848068,9.246938,10.915752,10.495572,10.3492155,9.775379,8.845554,10.286539,11.145399,9.072042,9.282021,8.680862,10.08918,10.63794,10.588363,10.191525,10.198862,10.298306,10.476119,10.340446,10.785078,9.299893,9.993326,10.522828,10.938858,10.423055,9.467723,8.661584,10.156834,10.27987,10.546193,9.719219,10.436127,7.2322865,9.278876,10.967157,9.284823,8.354093,9.634868,9.283957,9.252617,9.921807,9.409294,9.170569,9.197027,9.535455,10.350639,9.351222,9.257009,10.446161,8.968088,10.620589,11.080011,9.288698,10.094559,9.900782,10.6402025,7.985608,9.353162,10.350505,8.5341625,9.644332,9.192913,10.749256,10.162822,9.71355,9.770756,10.888346,9.86323,10.428113,9.911726,10.426193,10.665299,10.358886,9.707507,10.634711,10.833045,10.917815,10.1587925,10.898668,9.652622,9.777871,9.668435,10.447767,10.241311,8.842788,9.221323,9.708118,8.812668,8.968845,10.892845,8.187239,10.557466,8.7238035,10.983665,10.046526,7.9670634,10.558769,10.974632,8.960463,10.546215,10.104968,9.954545,10.770948,10.928874,9.652804,10.652972,9.996023,9.703861,8.174548,9.795049,10.156871,10.410714,9.465646,10.073141,8.665473,9.220728,9.462416,10.304381,9.624085,10.720404,9.861198,10.694955,7.554162,9.46345,10.397476,10.987417,11.080326,10.090192,9.178781,10.504844,8.270881,10.135592,9.778612,8.016415,7.389215,9.90793,8.92736,9.679587,10.361092,10.148104,10.6803055,9.355219,10.690098,10.46645,10.384692,9.322512,10.790851,8.539607,10.184989,9.673034,8.16383,9.57294,10.157625,7.9432216,10.413724,10.627178,10.759627,9.270357,10.31931,8.683479,10.726838,10.8372755,10.575865,9.392445,6.998349,8.930552,10.43637,10.692511,9.861545,10.499324,10.28386,11.137294,10.159152,10.4846945,10.583638,8.223905,8.228966,9.419914,9.383402,10.705383,8.703376,9.988113,10.497583,9.69681,9.512764,10.081511,11.188633,9.129564,9.397334,9.483757,10.745979,9.383971,9.524021,9.311876,10.757943,10.26383,10.6589155,10.620147,10.353682,9.3652935,10.71053,9.491134,9.764557,10.32388,10.419571,9.853454,10.424544,10.1749,10.197293,9.58245,10.337466,10.545481,9.250335,10.458218,10.026418,9.5065975,10.385808,9.833803,9.8335495,10.55167,10.737509,10.787335,10.0411415,10.330571,10.445232,9.537363,9.175522,10.078647,10.148937,10.292744,10.05907,10.698109,10.89466,10.457586,9.522363,10.688329,9.990504,10.772246,10.380665,10.90365,10.583712,9.479572,9.714644,8.378821,9.766886,11.00866,10.490693,10.029265,9.920751,10.317288,10.767066,9.072005,9.561313,10.253532,9.841218,10.465449,9.449626,9.321291,10.592629,8.63197,10.880373,10.596302,9.854849,10.245452,10.1175,9.83303,9.82618,9.7331,9.8349495,10.69006,10.518404,10.565201,11.039592,9.506827,8.473072,8.539149,9.455475,10.510192,10.706015,9.922039,9.767867,10.414326,10.596438,10.8562975,10.93862,9.464151,9.9177065,9.494274,10.655248,8.155854,10.326639,10.162712,10.47959,10.263153,11.123542,10.892416,9.061622,7.7117767,9.766626,9.92157,9.255377,10.985685,9.549646,9.958461,9.385388,10.7625265,9.387818,10.317845,9.257264,9.832465,9.927823],\"z\":[1.1231246,1.6348474,0.68006635,1.3777353,0.27746046,0.6514247,0.4873567,0.40570638,1.0695823,1.4569724,1.5900018,-0.09206405,1.4449601,0.39799133,1.3475335,-0.49092057,-0.32133102,0.4083641,0.3594333,0.94408077,0.657495,1.8705553,-0.0013812659,0.6691983,0.49942005,0.52129173,0.94608647,0.1654571,0.83901143,0.99149346,1.0368068,0.32481894,0.73068273,1.8547951,0.5272641,1.1559168,0.039458588,1.783503,1.2924995,0.009944376,1.1289811,0.77970177,0.9385741,1.1162362,-0.49306926,1.1980102,0.20935293,0.6453575,-0.1866021,0.7653834,1.3653629,0.8980386,1.6397058,1.2643995,1.287452,0.8024378,1.4275452,1.603129,1.8186198,-0.082715295,0.19448617,0.97171074,1.075727,1.5853595,1.031254,0.060514357,0.30289316,0.96095425,0.9448708,0.5913366,1.6216166,-0.5603462,1.5517591,0.80719,1.519721,1.3504908,0.76175845,1.6344564,-0.17898497,1.3288102,0.7564461,0.9662197,0.9053659,1.2919527,0.70451677,1.3457172,1.250289,0.5816645,0.605632,2.008312,0.84629804,1.6347634,0.11665832,0.06968341,0.92907953,0.89788705,0.65809023,1.6014588,1.0286121,1.2959741,1.5036063,1.4310602,1.3994898,-0.33719695,-0.5855217,1.1561419,0.61571556,1.8097678,1.1408944,1.4855173,1.3374282,1.893434,1.5384568,0.3863926,1.0732899,0.01038528,-0.45127526,0.73799765,1.1984261,0.70663595,0.8060958,0.419558,1.0179409,1.0834258,0.18871151,1.2158103,0.9135888,0.5361654,1.4119017,0.6193218,0.8725388,1.1483334,1.9587346,1.000056,0.8615171,0.78903514,1.3145931,0.7545597,0.5617054,0.7980853,0.5221882,0.35085654,0.33275083,1.4400705,1.0772368,1.4708939,1.3035303,0.32053524,1.6635567,1.1142573,0.46601433,1.505788,-0.09686209,1.3244684,1.015424,0.14053984,1.0481569,1.3649956,-0.03309703,0.6514135,0.7418327,0.9781021,1.4807293,1.5402087,0.6519622,-0.31441188,1.243759,0.19189368,1.9558513,1.6554059,0.81905,0.39977065,0.9678598,0.9002771,-0.0095471125,0.61953735,1.0372092,1.6589959,1.5604249,1.5213633,0.91106915,0.81580454,1.3561265,1.0965942,1.233894,1.4667537,1.3176022,1.4910487,0.7793883,1.6353312,1.1963437,0.91139513,1.8465465,1.0312577,1.0628637,1.0860398,1.4634188,1.6930693,0.39760274,1.6985852,1.2256024,0.51138,1.4143856,1.253136,1.4071183,1.0365617,-0.7302946,1.3120618,1.2355344,0.8492789,0.3079771,0.6537326,0.8062682,0.99685156,0.9091387,0.61477256,0.9370833,0.5188658,0.7517896,1.0588248,2.0140438,1.4551435,0.33956894,0.41004038,0.5740819,1.2352141,1.5233393,0.7192561,0.24461891,0.8074319,1.1192813,-0.38665006,0.535862,0.9998721,1.771311,0.26310778,0.97167933,1.3538374,1.1114901,1.89665,0.04682021,0.9634924,-0.18999848,1.4929035,1.5238031,1.3678762,0.72255105,1.4710392,1.5463122,0.6442477,1.5094459,0.8461899,0.51908046,0.1614295,0.9935644,0.29045442,-0.025635805,0.9910525,0.65647376,0.31388533,0.9572326,0.7525944,0.83575255,0.031737372,1.5345306,0.62900597,0.79076284,0.93439966,0.83413494,0.33797482,0.8134312,0.89052016,1.0852984,1.0397196,0.93218124,1.4318813,1.1062467,0.48098674,0.7937214,0.91381955,0.81812084,0.25094128,1.3287861,1.723732,0.976741,0.8282518,-0.47058737,1.0231925,0.856918,1.1901644,1.5385187,0.7547613,1.2612138,0.789311,0.42342266,0.75849175,1.0695446,1.2306843,1.4173235,1.0674194,0.8851183,1.1304873,1.7453666,0.6878147,-0.0989176,0.17827189,1.8431399,0.58558494,0.97486806,1.0111823,-0.05012932,0.732708,0.27401057,0.529094,1.1510139,1.5441047,1.5895495,1.9723381,1.1564451,1.0326653,0.6505342,1.1118301,1.2938924,0.3257594,1.3494855,0.79277617,0.1886084,1.2132677,1.1117353,0.5819093,0.6176888,-0.332608,-0.52901214,-0.19201992,0.4618769,1.371024,0.65501595,1.0815243,0.96040696,1.756815,1.0384301,0.6371736,0.8689339,-0.3214979,0.053166606,0.25693786,0.1619763,0.78196317,1.042124,-0.11458255,1.3235602,1.243011,0.76216364,0.6957073,1.5770639,0.86037356,1.0496838,0.85744685,1.6138095,-0.08675082,0.99310446,0.84275866,0.74094766,0.7656807,-0.27323532,1.0243248,1.567365,1.0004059,0.20809317,1.6415133,1.4499689,1.7270262,0.8465797,0.7329404,0.40300322,0.64104337,1.0341024,0.5072969,1.3360444,1.2914544,-0.3569034,1.3335537,1.5669525,1.4996133,0.81663406,1.0969104,1.7289845,1.4272052,0.46063766,1.7287706,1.3202026,1.5190858,1.0772601,1.5577966,1.9452467,1.329527,0.96052194,1.1285604,1.090682,0.5248956,0.8810905,1.8119383,0.9068795,0.8762914,1.1791552,0.38534573,1.0187588,0.51777565,1.0347182,0.91430295,1.271403,1.7806611,1.9986211,0.2680962,1.1623868,0.95757717,0.63665783,0.9810974,0.7724293,1.1873386,0.7663294,0.7451609,1.0521582,1.8837385,0.63188547,0.7439378,1.2418708,1.0741535,1.1346761,0.3971055,0.6699307,0.4581829,0.625946,1.5073595,1.2179093,1.2157701,1.591464,0.23400345,0.49393186,1.3886219,-0.1966664,1.3854856,1.7015805,1.2221295,1.1211905,1.1388248,0.6742911,0.86391556,1.3942758,0.59304285,1.4725235,0.55584234,1.3031853,0.9839154,1.2766454,0.7050719,1.204703,0.03757639,1.2598444,1.3478168,1.2349119,1.9921104,0.3576087,0.90566605,0.4976231,1.3717031,0.9661154,1.5231711,0.8647976,-0.33807543,0.023409352,0.35465696,0.8167767,0.6781625,1.229508,1.2936304,1.2366526,1.951631,0.44916922,0.88984513,1.2961255,0.61564904,0.6201973,0.6750812,1.2535589,0.5708339,1.5842015,1.5761722,0.5842518,1.1660082,1.3641335,1.1256171,0.48046955,-0.19821155,0.24902496,1.0206789,1.4629334,0.80077624,1.006957,1.7687198,1.1818483,0.8413861,0.7685782,-0.20185603,0.7548688,0.9911234,0.6833573],\"type\":\"scatter3d\"},{\"hovertemplate\":\"Class=bird\\u003cbr\\u003ex=%{x}\\u003cbr\\u003ey=%{y}\\u003cbr\\u003ez=%{z}\\u003cextra\\u003e\\u003c\\u002fextra\\u003e\",\"legendgroup\":\"bird\",\"marker\":{\"color\":\"#FECB52\",\"opacity\":0.8,\"symbol\":\"circle\"},\"mode\":\"markers\",\"name\":\"bird\",\"scene\":\"scene\",\"showlegend\":true,\"x\":[7.598291,10.410781,9.14636,6.2343698,7.2436514,6.674956,6.407338,8.57642,6.4469624,9.817034,6.913216,6.518489,9.417753,10.112099,10.24137,9.891249,6.5931015,6.0113993,9.864536,8.64788,8.944046,8.339804,9.578359,8.688462,8.8496685,9.210506,9.563582,9.23838,7.037028,9.631018,9.472467,6.2476616,6.1300573,8.790213,7.3992743,9.0976515,9.545,9.922224,9.809439,6.863827,10.0241375,8.960733,6.17044,8.251311,7.8041077,7.700757,8.052963,6.1194816,6.946967,6.3229303,7.10169,8.972472,9.369501,6.708367,8.969123,9.048611,8.55441,6.826178,9.102163,7.499348,8.064057,6.9655247,6.4177127,9.266476,6.056008,6.2524314,9.352165,7.174416,5.9466524,8.953534,6.116454,8.685674,7.2765965,6.8741884,6.672933,8.073326,6.447726,7.060162,8.651385,8.305943,8.918983,8.988626,7.8399353,7.3384857,8.628285,7.511206,6.063261,8.550626,9.529002,7.460844,6.241253,6.3109627,9.868986,6.715022,7.946713,6.104427,7.775131,7.336854,8.325915,9.250638,6.3425717,8.056277,6.3685594,8.851793,9.011427,9.554045,9.128995,6.647117,9.235855,6.0572968,6.1048594,8.499607,8.437139,9.876029,9.613269,7.111287,7.32332,9.518529,10.021773,10.111041,9.828767,9.012594,6.213963,8.856519,7.5638175,7.788828,6.29736,6.3226933,6.6638446,9.028844,8.502897,7.940187,9.184071,7.2606506,8.885469,6.1831303,6.2294664,6.7345705,6.021025,9.074869,9.233878,9.008643,6.1909657,6.1346436,5.962916,8.938635,9.861202,6.6003304,9.719769,7.188244,7.975102,6.0684266,8.0087385,5.92595,9.906089,8.6748705,7.5529675,6.2641215,9.283143,8.90298,10.18668,7.4362607,7.153561,9.168566,8.221995,8.15323,9.815906,7.401724,8.509499,9.554104,7.260623,6.9601984,8.658607,6.1719475,9.434202,6.3985214,9.839185,6.2672105,9.106617,9.986844,7.4968657,8.739874,6.4028893,9.846797,8.924653,10.035183,7.478902,8.420606,8.910013,7.6342053,6.5308204,7.8726563,8.191159,6.007317,8.282425,7.7641435,9.401794,8.123197,10.399079,8.450974,9.030658,7.5202055,6.1119127,10.043405,6.151129,9.465612,6.320953,8.345626,8.296499,10.3220825,7.1923704,7.0257144,8.430871,10.022381,8.486297,6.55748,8.648307,6.531538,7.9811687,6.018018,6.2689266,9.142175,6.0011673,9.888357,8.310714,6.954351,9.175146,8.643662,10.255248,9.489121,8.757228,7.109261,8.895373,6.6841946,9.486211,6.4651837,6.6618667,8.772771,6.9595513,5.9538693,8.692306,7.960002,7.3810277,6.3005867,9.497143,7.106947,8.816506,6.332847,10.252734,6.4007936,6.2017126,6.6884117,9.388613,8.91876,6.1078973,8.907448,10.217673,9.456405,6.5166006,9.816898,8.4727125,6.721019,8.954958,8.96766,6.742568,9.903671,8.296488,6.1675677,9.130806,6.2172966,8.0213175,8.895895,9.585707,6.5660157,7.052067,7.341219,9.722649,7.0622864,9.50196,8.441598,9.662473,9.791135,7.2304773,9.052782,7.225245,7.2392535,7.843071,9.897685,6.606255,6.9656415,10.098925,9.647898,8.965759,8.544363,8.025449,8.1048,9.839533,6.249021,9.767065,8.159968,8.82021,8.927324,8.341747,8.014603,6.4780374,6.2664647,6.1170835,9.131845,6.7792397,8.794024,6.1434655,6.7987785,8.554399,6.969073,8.803653,7.43385,6.957633,9.850248,7.4482484,9.600775,9.604685,7.041731,6.1076183,9.289139,8.997233,6.1673765,6.2209187,7.9904785,6.6100616,7.8835554,7.848007,8.326418,7.327327,9.826744,6.5600357,9.456691,8.370321,8.076113,7.6978474,9.6696825,6.295589,9.333087,7.3829646,9.616451,8.991457,7.796347,8.49879,8.538341,7.844394,8.008802,8.281999,6.3340335,6.0855103,8.81826,10.079128,8.082131,7.9227786,7.1528063,6.1455793,6.088096,7.0464826,7.6183867,8.5697975,6.4623137,9.677256,8.812827,9.851677,8.068601,9.259121,6.996793,9.72147,7.151976,7.4937134,9.471886,9.808542,8.3980665,8.554862,6.071352,6.1908774,7.331127,10.097896,6.076477,7.4244385,6.984066,7.900032,6.215218,7.594622,6.915107,6.6906776,6.348585,9.423565,6.064198,9.362522,8.046687,9.947654,8.114826,8.510026,6.820866,9.232313,6.4133496,9.363566,8.157979,8.382095,8.156378,6.2352057,8.890114,9.798637,7.746947,7.1559415,6.1995587,6.3389525,9.76503,7.0363874,7.4583507,7.3141646,5.96316,8.284314,7.902746,7.504129,9.494956,8.208705,8.760303,9.869354,9.153261,8.273853,8.637933,9.896591,6.685578,9.330601,6.703878,10.247493,7.13101,8.274534,8.863127,9.248226,7.0284657,8.68812,9.166417,7.631909,7.1160803,6.2046905,9.151434,9.857908,8.781139,9.462814,7.8047123,6.6092415,5.691377,6.9239926,8.156339,9.063956,6.357736,8.69295,7.432384,8.231427,8.776768,7.5874453,6.040832,9.029659,7.809815,6.636341,8.542743,9.973116,9.480239,9.013373,6.1136866,9.104521,9.121877,6.2260146,9.813007,9.3695755,6.706762,7.314316,8.933729,9.6101055,10.022607,9.183961,6.12622,7.216521,8.6664505,6.9332323,10.169724,8.316026,9.417387,9.50054,8.009791,7.633536,6.7987304,6.9166746,9.838386,6.6080313,8.788132,8.930402,8.169205,8.806591,6.989492,7.6813755,10.314359,9.631346,6.1666846,9.556141,6.2964625,6.7228074,7.402256,8.977979,6.64183,8.711794,8.885157,9.003175,8.989488,9.854075,9.879074],\"y\":[9.696245,9.10943,9.380529,9.467852,9.708981,10.101438,9.95195,9.298518,9.94974,9.009787,10.710475,9.461398,9.165779,9.507964,8.921718,9.1328125,10.216844,10.022829,9.421883,9.238755,9.761771,10.968028,9.489907,8.089489,9.435754,10.394276,9.620784,9.324567,9.257944,9.065628,10.095418,9.776231,10.103643,9.261555,9.43809,8.998613,9.55258,10.079849,10.234454,9.474665,9.669402,9.387029,10.070369,9.829221,10.662574,9.267208,10.212681,9.875824,9.885769,9.853063,10.475393,9.86065,9.040171,9.984374,9.089932,7.744809,10.194263,10.152342,9.076453,9.154514,9.270544,8.032876,9.671054,9.55511,10.170774,9.578485,9.918641,8.904942,9.163854,7.380968,9.716832,10.1009865,10.561487,9.243776,10.158168,9.3220625,8.415724,10.130304,10.952207,10.267676,9.827031,9.470323,10.475022,10.192855,10.135675,10.909462,10.192709,9.249809,9.324551,9.539931,9.750436,9.925884,10.027935,9.930294,9.46889,10.169396,9.579325,10.10922,9.949559,9.711986,10.063771,9.855615,9.696452,8.999954,9.438038,9.151379,9.428899,10.125481,9.098034,10.187286,9.473098,9.242081,11.190418,9.018768,10.385738,10.277038,10.259205,9.230777,9.4767,9.318169,10.478987,10.559859,10.012635,10.19195,8.771821,10.373319,9.877915,9.796034,9.348624,9.391777,9.880685,9.268617,10.722676,9.579128,8.979227,9.696979,10.248545,9.821275,9.562472,9.003347,9.845129,9.418361,7.413671,10.1281185,9.839074,9.279328,9.575319,10.108808,9.935159,7.752242,9.993727,10.23656,9.230068,9.803767,9.280928,9.347334,9.283409,9.720869,9.701591,7.9306183,9.116178,9.5881195,8.241113,8.924035,10.43261,10.2491255,10.589461,8.588729,10.815792,10.177215,10.405622,8.572029,9.816608,10.413629,9.21266,9.768378,9.4222555,9.789566,9.0122175,8.707791,9.857709,10.214582,10.467641,9.706111,8.738783,9.663278,10.768617,8.846189,9.435903,9.894918,8.483613,9.786341,9.433939,9.101494,10.224271,9.946443,10.725692,10.46228,9.386569,10.877034,8.917728,8.155881,9.982368,9.180758,9.866087,8.69561,9.868741,7.614662,9.84909,9.654425,10.146929,9.427868,9.749253,9.423354,9.17689,10.119808,9.17326,10.094956,10.032804,10.190734,10.318761,9.77279,8.936994,9.307403,10.070115,9.8027,9.238837,9.070459,9.423231,10.860791,9.91229,10.654409,10.36613,9.923394,9.124191,9.838543,10.132751,8.079104,10.769928,10.184312,10.202506,10.247897,8.939722,9.760668,9.288887,10.325293,8.981155,9.870759,9.161649,9.745996,9.997066,10.041065,9.280992,8.33832,9.623088,8.3245,8.844914,9.443551,10.05104,8.784059,10.367267,10.233269,9.774137,8.543486,10.179558,8.757247,9.462405,9.92941,8.9164,9.936082,9.065703,8.961622,9.24925,10.002734,10.558929,10.496951,9.421903,9.240261,9.3527,9.588039,10.32254,9.949414,10.312759,9.48953,9.583874,8.41105,9.455195,9.217813,10.353964,10.145158,8.769053,10.2030945,10.278478,8.988322,9.967595,7.999132,8.657743,10.154707,9.447721,10.604549,9.94506,10.08701,10.149343,10.196212,10.171686,9.570911,10.137298,9.903146,9.922227,9.3773775,9.677254,9.956962,10.044327,7.0534306,9.531856,10.560897,7.524219,9.011688,9.083218,9.493561,9.570177,9.78212,9.7213545,9.334715,9.722392,9.767186,7.740833,7.8141065,9.241404,9.557527,9.8108835,9.380507,10.666676,9.530332,9.078798,9.440207,9.203785,9.008205,9.444509,9.461736,9.272204,9.412567,9.298675,9.268906,9.467512,9.914475,10.972814,7.561104,10.012232,10.252271,9.443996,9.83759,10.239334,8.9806185,8.996087,9.324102,9.514754,10.17069,9.687551,8.913055,9.980751,9.675357,7.470471,10.281727,9.402684,9.593155,9.205077,10.0033655,9.605424,9.476386,10.411691,9.063766,9.677917,8.823048,9.647863,11.00317,9.132742,10.192358,9.765099,10.801816,9.45954,9.797829,9.8754,11.022227,10.2050295,7.999358,9.930918,9.968619,10.261881,9.036219,9.266743,9.847717,9.572291,9.441866,9.038928,8.972068,9.486726,9.475736,9.089021,9.460153,9.05351,9.486806,9.992142,10.273754,9.829914,7.661063,9.001727,8.920851,10.344835,10.026791,9.908625,8.6861725,10.400835,10.097465,10.7183695,10.17116,9.073642,10.511317,10.457442,9.585465,10.35494,9.768787,9.220169,9.329789,10.273217,10.14497,10.071258,9.919207,9.364782,9.851812,9.885026,9.750355,10.078318,9.26537,9.0619335,10.436235,8.819556,8.544418,9.273878,10.872075,10.283752,9.895615,9.605341,10.44781,9.798854,9.272438,8.822331,8.02964,9.935521,10.544488,10.635026,9.789778,9.806133,8.903498,10.138534,8.9163,9.532987,9.58569,9.611398,10.303322,10.678117,9.364502,9.96621,10.296313,10.870364,10.101122,9.99183,9.164552,10.120298,9.167772,10.055392,9.182372,10.716803,9.436975,9.058874,9.210732,9.003359,9.757398,7.716666,10.85759,10.804152,9.152033,9.747817,10.0164175,9.330486,10.877907,9.408583,10.036617,10.253198,9.144369,9.907045,9.8246565,9.276253,10.140853,9.683486,9.857129,9.824804,9.16317,10.5747385,10.202104,9.103008,9.622705,10.620777,9.437607,9.038121,9.63621,9.222508,9.819631,9.661264,8.637116,9.575603,9.592023],\"z\":[0.78563076,0.40875268,1.2572626,-0.2773177,0.43208465,0.011531048,0.45023838,-0.2861583,0.17015521,-0.51400346,0.91577744,0.57130617,0.9415932,0.23022327,-0.08161888,-0.51654047,0.30865902,0.38589206,0.44847816,1.2318274,0.0009080725,1.5784298,0.92074716,-0.8919996,1.1350144,1.2675035,-0.039324693,-0.4633801,1.0494323,-0.2643996,0.91853285,-0.26636004,0.40500686,1.2643329,1.5637918,1.0635769,0.06442071,-0.4454902,-0.12469083,-0.7626908,-0.56070805,0.6673612,0.49737614,0.5059431,1.4235541,0.9243549,0.3864266,-0.13155067,1.06045,-0.4254549,0.40302998,1.5497072,0.9730029,-0.20837161,1.1796812,0.6226908,1.6758593,0.4518997,-0.4755675,0.78731257,0.90255463,-0.078701265,-0.4041584,0.0481218,0.6316794,-0.12218294,0.7716693,0.6519692,-0.23013058,0.5728007,0.099778906,-0.22839281,0.61485,-0.9140995,0.18835945,-0.8776943,0.4464849,0.25873414,1.2181625,1.0784789,1.4622262,-0.41272733,0.6085145,0.66701686,-0.32837334,1.204119,0.41004288,0.07581602,0.104662605,0.058470786,-0.23053229,0.49884856,-0.35274023,0.50363845,1.2973393,0.27658093,0.30672246,0.985448,-0.33353212,0.8397937,0.18725507,1.2175529,-0.05542568,-0.52700895,1.8960546,-0.24826306,1.2713193,0.15682523,-0.16659467,0.54233414,-0.626469,1.2524234,1.347251,-0.4358625,1.0769581,0.3632611,1.0465592,-0.13860351,-0.5501999,-0.51806384,0.6183675,0.6561648,0.21334608,-0.18358578,1.8947468,0.77733356,0.4891156,-0.45899478,1.7868607,1.0646375,1.635919,1.7763993,1.3163136,1.8202575,-0.591177,-0.24283366,0.87856185,0.31498,-0.56047475,-0.54551697,1.3004439,0.5873654,-0.13969888,0.86952835,-0.188974,-0.2242193,0.34287614,-0.02541012,0.1773759,1.0155548,-0.09786951,0.51889783,0.35696548,0.075917915,-0.5264451,1.146803,1.6761626,-0.4516831,-0.8190652,0.81340724,0.7947741,0.44517702,1.8081025,-0.5088205,1.9221935,1.7559856,0.69577247,0.36299232,1.399154,-0.0018679843,0.48232555,1.2410527,1.6371115,0.64958876,1.3402635,-0.5114046,-0.1213466,0.24557209,-0.69097775,-0.22083363,0.23538373,1.164998,0.962568,-0.51257205,1.0626957,0.72256225,1.593876,-0.9787279,0.14521827,0.7493203,0.7579073,1.0030706,0.3706903,-0.022773977,1.9829347,0.19145451,0.50819176,0.17742714,-0.050031994,1.577566,-0.7198133,0.7794969,0.23114292,-0.07846146,0.14606091,-0.49511242,-0.45184144,1.013671,1.3021797,-0.3352054,1.6071552,1.5236753,1.0083255,0.017579375,1.0338566,0.3829661,-0.6641016,-0.02099876,0.26444373,0.4318339,0.9886545,0.8712553,-0.2299716,1.5016413,0.07588793,-0.21196403,1.4239802,-0.8354725,0.5274398,0.85570145,1.2988062,0.64118433,0.41003734,-0.14546786,0.6780919,-0.4438295,0.088420615,1.0053865,1.2424462,0.33475804,0.43573973,0.38093626,1.5931427,-0.36251864,0.3394329,0.18708742,0.3074027,0.10697202,0.3742428,-0.50743383,-0.13685647,0.016927104,0.77245826,-0.41575217,0.35818085,0.6055709,0.0064761653,1.521359,-0.22751637,0.87234753,0.11161657,0.93083197,0.46075076,-0.95719665,0.18508787,0.65999615,1.5307204,0.068266004,1.1324575,1.2150601,1.5059247,0.98407406,-0.2387546,-0.043774076,0.9078421,0.86250865,0.86327964,1.7065251,0.8511832,1.5954901,1.0782351,0.912255,0.69921726,1.9485111,1.5458359,0.6158355,0.3336161,0.39223418,0.6141522,0.046395212,-0.41380122,0.09793043,0.3667197,1.7322718,-0.010084588,1.043429,0.41396534,0.31529027,0.4168664,0.956614,0.7781895,1.8481554,0.69353145,0.41038296,0.21509565,0.10016104,0.30724522,1.355902,-0.2313566,0.23092292,-0.57246137,-0.04292847,0.37651998,0.6492594,1.7640439,1.7061967,0.20790543,-0.48402444,1.2790384,1.1462846,1.1515739,-0.20994034,-0.65976065,0.30131721,1.4254063,-0.6410821,-0.35337174,1.121098,0.849575,-0.14601955,-0.32679346,1.3736093,1.5419995,1.2072575,0.37225208,0.76980793,1.2976366,0.6064491,-0.30809748,-0.38765082,0.07947135,1.3701575,1.6579068,-0.08651115,0.45759532,0.19539352,0.9995404,1.1586609,0.020210067,1.7724675,-0.24067314,-0.41495794,0.72208613,1.5112879,0.43829465,0.8738152,1.8792827,0.078388646,-0.012123499,0.3285103,-0.033031628,-0.14415792,0.92004424,0.014317486,-0.22114238,0.95205945,0.5717289,0.77616644,0.58014953,0.32106242,0.19002983,0.6219946,0.09285081,-0.43467057,0.063218884,0.8933467,0.6192927,0.51353323,0.04474061,0.97229487,1.4865363,-0.14152819,0.3594597,1.096191,1.9183844,-0.53377175,0.5428546,-0.18694569,0.5011087,-0.18750198,-0.4082602,-0.36793163,0.056539427,0.3376357,0.9374898,-0.03135367,0.55200213,1.708675,-0.80934364,0.039420746,-0.17536247,0.6595385,-0.49861726,1.0143127,-0.10218532,0.7743575,0.6114487,1.6955712,0.74722016,0.78542644,-0.34650046,-0.62641144,0.70281357,1.9104258,1.4372871,0.42952305,0.96852225,1.5756043,0.68152547,0.98349845,2.0190034,1.4617753,1.0422701,0.38455343,2.0221348,1.1284189,1.2466904,-0.10615213,-0.8097992,-0.4174763,-0.25416115,-0.24605589,0.36530814,1.1421283,-0.5123128,0.6386358,0.22273326,-0.75153345,0.22272484,0.8367184,0.5879578,1.5878781,-0.2440247,1.4947917,0.50351006,0.69910324,-0.3969135,-0.22275165,-0.18723686,0.66174805,1.0652572,-0.44200486,-0.6737941,0.04167574,1.8246557,-0.5479837,0.7440907,-0.18609287,0.6363098,1.8072084,1.3421338,1.3618569,-0.49914274,-0.23636724,1.2185005,0.39541113,0.6558195,1.1018667,0.52008724,-0.17783323,-0.54762447,2.0405302,0.5520631,0.74945194,0.82595736,1.2989545,-0.68091756,-0.6181816,-0.5551071,0.99517506,0.802162,0.075829305,0.014242459,1.3732883,-0.2685117,0.7786297,0.08764855,-0.05130538,0.5689064,0.99244446,-0.4183035,0.28801903,1.0362828,1.2777771,1.0784394,1.0519338,-0.0050894744,0.009921901,0.8254843,0.9471301,0.1191982,0.41484785,0.54341775,-0.06203675,-0.6732082,0.314206,-0.66105586,0.18763193,1.3825257,-0.89825714,1.6595874,-0.86262405],\"type\":\"scatter3d\"}],                        {\"template\":{\"data\":{\"histogram2dcontour\":[{\"type\":\"histogram2dcontour\",\"colorbar\":{\"outlinewidth\":0,\"ticks\":\"\"},\"colorscale\":[[0.0,\"#0d0887\"],[0.1111111111111111,\"#46039f\"],[0.2222222222222222,\"#7201a8\"],[0.3333333333333333,\"#9c179e\"],[0.4444444444444444,\"#bd3786\"],[0.5555555555555556,\"#d8576b\"],[0.6666666666666666,\"#ed7953\"],[0.7777777777777778,\"#fb9f3a\"],[0.8888888888888888,\"#fdca26\"],[1.0,\"#f0f921\"]]}],\"choropleth\":[{\"type\":\"choropleth\",\"colorbar\":{\"outlinewidth\":0,\"ticks\":\"\"}}],\"histogram2d\":[{\"type\":\"histogram2d\",\"colorbar\":{\"outlinewidth\":0,\"ticks\":\"\"},\"colorscale\":[[0.0,\"#0d0887\"],[0.1111111111111111,\"#46039f\"],[0.2222222222222222,\"#7201a8\"],[0.3333333333333333,\"#9c179e\"],[0.4444444444444444,\"#bd3786\"],[0.5555555555555556,\"#d8576b\"],[0.6666666666666666,\"#ed7953\"],[0.7777777777777778,\"#fb9f3a\"],[0.8888888888888888,\"#fdca26\"],[1.0,\"#f0f921\"]]}],\"heatmap\":[{\"type\":\"heatmap\",\"colorbar\":{\"outlinewidth\":0,\"ticks\":\"\"},\"colorscale\":[[0.0,\"#0d0887\"],[0.1111111111111111,\"#46039f\"],[0.2222222222222222,\"#7201a8\"],[0.3333333333333333,\"#9c179e\"],[0.4444444444444444,\"#bd3786\"],[0.5555555555555556,\"#d8576b\"],[0.6666666666666666,\"#ed7953\"],[0.7777777777777778,\"#fb9f3a\"],[0.8888888888888888,\"#fdca26\"],[1.0,\"#f0f921\"]]}],\"heatmapgl\":[{\"type\":\"heatmapgl\",\"colorbar\":{\"outlinewidth\":0,\"ticks\":\"\"},\"colorscale\":[[0.0,\"#0d0887\"],[0.1111111111111111,\"#46039f\"],[0.2222222222222222,\"#7201a8\"],[0.3333333333333333,\"#9c179e\"],[0.4444444444444444,\"#bd3786\"],[0.5555555555555556,\"#d8576b\"],[0.6666666666666666,\"#ed7953\"],[0.7777777777777778,\"#fb9f3a\"],[0.8888888888888888,\"#fdca26\"],[1.0,\"#f0f921\"]]}],\"contourcarpet\":[{\"type\":\"contourcarpet\",\"colorbar\":{\"outlinewidth\":0,\"ticks\":\"\"}}],\"contour\":[{\"type\":\"contour\",\"colorbar\":{\"outlinewidth\":0,\"ticks\":\"\"},\"colorscale\":[[0.0,\"#0d0887\"],[0.1111111111111111,\"#46039f\"],[0.2222222222222222,\"#7201a8\"],[0.3333333333333333,\"#9c179e\"],[0.4444444444444444,\"#bd3786\"],[0.5555555555555556,\"#d8576b\"],[0.6666666666666666,\"#ed7953\"],[0.7777777777777778,\"#fb9f3a\"],[0.8888888888888888,\"#fdca26\"],[1.0,\"#f0f921\"]]}],\"surface\":[{\"type\":\"surface\",\"colorbar\":{\"outlinewidth\":0,\"ticks\":\"\"},\"colorscale\":[[0.0,\"#0d0887\"],[0.1111111111111111,\"#46039f\"],[0.2222222222222222,\"#7201a8\"],[0.3333333333333333,\"#9c179e\"],[0.4444444444444444,\"#bd3786\"],[0.5555555555555556,\"#d8576b\"],[0.6666666666666666,\"#ed7953\"],[0.7777777777777778,\"#fb9f3a\"],[0.8888888888888888,\"#fdca26\"],[1.0,\"#f0f921\"]]}],\"mesh3d\":[{\"type\":\"mesh3d\",\"colorbar\":{\"outlinewidth\":0,\"ticks\":\"\"}}],\"scatter\":[{\"fillpattern\":{\"fillmode\":\"overlay\",\"size\":10,\"solidity\":0.2},\"type\":\"scatter\"}],\"parcoords\":[{\"type\":\"parcoords\",\"line\":{\"colorbar\":{\"outlinewidth\":0,\"ticks\":\"\"}}}],\"scatterpolargl\":[{\"type\":\"scatterpolargl\",\"marker\":{\"colorbar\":{\"outlinewidth\":0,\"ticks\":\"\"}}}],\"bar\":[{\"error_x\":{\"color\":\"#2a3f5f\"},\"error_y\":{\"color\":\"#2a3f5f\"},\"marker\":{\"line\":{\"color\":\"#E5ECF6\",\"width\":0.5},\"pattern\":{\"fillmode\":\"overlay\",\"size\":10,\"solidity\":0.2}},\"type\":\"bar\"}],\"scattergeo\":[{\"type\":\"scattergeo\",\"marker\":{\"colorbar\":{\"outlinewidth\":0,\"ticks\":\"\"}}}],\"scatterpolar\":[{\"type\":\"scatterpolar\",\"marker\":{\"colorbar\":{\"outlinewidth\":0,\"ticks\":\"\"}}}],\"histogram\":[{\"marker\":{\"pattern\":{\"fillmode\":\"overlay\",\"size\":10,\"solidity\":0.2}},\"type\":\"histogram\"}],\"scattergl\":[{\"type\":\"scattergl\",\"marker\":{\"colorbar\":{\"outlinewidth\":0,\"ticks\":\"\"}}}],\"scatter3d\":[{\"type\":\"scatter3d\",\"line\":{\"colorbar\":{\"outlinewidth\":0,\"ticks\":\"\"}},\"marker\":{\"colorbar\":{\"outlinewidth\":0,\"ticks\":\"\"}}}],\"scattermapbox\":[{\"type\":\"scattermapbox\",\"marker\":{\"colorbar\":{\"outlinewidth\":0,\"ticks\":\"\"}}}],\"scatterternary\":[{\"type\":\"scatterternary\",\"marker\":{\"colorbar\":{\"outlinewidth\":0,\"ticks\":\"\"}}}],\"scattercarpet\":[{\"type\":\"scattercarpet\",\"marker\":{\"colorbar\":{\"outlinewidth\":0,\"ticks\":\"\"}}}],\"carpet\":[{\"aaxis\":{\"endlinecolor\":\"#2a3f5f\",\"gridcolor\":\"white\",\"linecolor\":\"white\",\"minorgridcolor\":\"white\",\"startlinecolor\":\"#2a3f5f\"},\"baxis\":{\"endlinecolor\":\"#2a3f5f\",\"gridcolor\":\"white\",\"linecolor\":\"white\",\"minorgridcolor\":\"white\",\"startlinecolor\":\"#2a3f5f\"},\"type\":\"carpet\"}],\"table\":[{\"cells\":{\"fill\":{\"color\":\"#EBF0F8\"},\"line\":{\"color\":\"white\"}},\"header\":{\"fill\":{\"color\":\"#C8D4E3\"},\"line\":{\"color\":\"white\"}},\"type\":\"table\"}],\"barpolar\":[{\"marker\":{\"line\":{\"color\":\"#E5ECF6\",\"width\":0.5},\"pattern\":{\"fillmode\":\"overlay\",\"size\":10,\"solidity\":0.2}},\"type\":\"barpolar\"}],\"pie\":[{\"automargin\":true,\"type\":\"pie\"}]},\"layout\":{\"autotypenumbers\":\"strict\",\"colorway\":[\"#636efa\",\"#EF553B\",\"#00cc96\",\"#ab63fa\",\"#FFA15A\",\"#19d3f3\",\"#FF6692\",\"#B6E880\",\"#FF97FF\",\"#FECB52\"],\"font\":{\"color\":\"#2a3f5f\"},\"hovermode\":\"closest\",\"hoverlabel\":{\"align\":\"left\"},\"paper_bgcolor\":\"white\",\"plot_bgcolor\":\"#E5ECF6\",\"polar\":{\"bgcolor\":\"#E5ECF6\",\"angularaxis\":{\"gridcolor\":\"white\",\"linecolor\":\"white\",\"ticks\":\"\"},\"radialaxis\":{\"gridcolor\":\"white\",\"linecolor\":\"white\",\"ticks\":\"\"}},\"ternary\":{\"bgcolor\":\"#E5ECF6\",\"aaxis\":{\"gridcolor\":\"white\",\"linecolor\":\"white\",\"ticks\":\"\"},\"baxis\":{\"gridcolor\":\"white\",\"linecolor\":\"white\",\"ticks\":\"\"},\"caxis\":{\"gridcolor\":\"white\",\"linecolor\":\"white\",\"ticks\":\"\"}},\"coloraxis\":{\"colorbar\":{\"outlinewidth\":0,\"ticks\":\"\"}},\"colorscale\":{\"sequential\":[[0.0,\"#0d0887\"],[0.1111111111111111,\"#46039f\"],[0.2222222222222222,\"#7201a8\"],[0.3333333333333333,\"#9c179e\"],[0.4444444444444444,\"#bd3786\"],[0.5555555555555556,\"#d8576b\"],[0.6666666666666666,\"#ed7953\"],[0.7777777777777778,\"#fb9f3a\"],[0.8888888888888888,\"#fdca26\"],[1.0,\"#f0f921\"]],\"sequentialminus\":[[0.0,\"#0d0887\"],[0.1111111111111111,\"#46039f\"],[0.2222222222222222,\"#7201a8\"],[0.3333333333333333,\"#9c179e\"],[0.4444444444444444,\"#bd3786\"],[0.5555555555555556,\"#d8576b\"],[0.6666666666666666,\"#ed7953\"],[0.7777777777777778,\"#fb9f3a\"],[0.8888888888888888,\"#fdca26\"],[1.0,\"#f0f921\"]],\"diverging\":[[0,\"#8e0152\"],[0.1,\"#c51b7d\"],[0.2,\"#de77ae\"],[0.3,\"#f1b6da\"],[0.4,\"#fde0ef\"],[0.5,\"#f7f7f7\"],[0.6,\"#e6f5d0\"],[0.7,\"#b8e186\"],[0.8,\"#7fbc41\"],[0.9,\"#4d9221\"],[1,\"#276419\"]]},\"xaxis\":{\"gridcolor\":\"white\",\"linecolor\":\"white\",\"ticks\":\"\",\"title\":{\"standoff\":15},\"zerolinecolor\":\"white\",\"automargin\":true,\"zerolinewidth\":2},\"yaxis\":{\"gridcolor\":\"white\",\"linecolor\":\"white\",\"ticks\":\"\",\"title\":{\"standoff\":15},\"zerolinecolor\":\"white\",\"automargin\":true,\"zerolinewidth\":2},\"scene\":{\"xaxis\":{\"backgroundcolor\":\"#E5ECF6\",\"gridcolor\":\"white\",\"linecolor\":\"white\",\"showbackground\":true,\"ticks\":\"\",\"zerolinecolor\":\"white\",\"gridwidth\":2},\"yaxis\":{\"backgroundcolor\":\"#E5ECF6\",\"gridcolor\":\"white\",\"linecolor\":\"white\",\"showbackground\":true,\"ticks\":\"\",\"zerolinecolor\":\"white\",\"gridwidth\":2},\"zaxis\":{\"backgroundcolor\":\"#E5ECF6\",\"gridcolor\":\"white\",\"linecolor\":\"white\",\"showbackground\":true,\"ticks\":\"\",\"zerolinecolor\":\"white\",\"gridwidth\":2}},\"shapedefaults\":{\"line\":{\"color\":\"#2a3f5f\"}},\"annotationdefaults\":{\"arrowcolor\":\"#2a3f5f\",\"arrowhead\":0,\"arrowwidth\":1},\"geo\":{\"bgcolor\":\"white\",\"landcolor\":\"#E5ECF6\",\"subunitcolor\":\"white\",\"showland\":true,\"showlakes\":true,\"lakecolor\":\"white\"},\"title\":{\"x\":0.05},\"mapbox\":{\"style\":\"light\"}}},\"scene\":{\"domain\":{\"x\":[0.0,1.0],\"y\":[0.0,1.0]},\"xaxis\":{\"title\":{\"text\":\"x\"},\"showticklabels\":false},\"yaxis\":{\"title\":{\"text\":\"y\"},\"showticklabels\":false},\"zaxis\":{\"title\":{\"text\":\"z\"},\"showticklabels\":false}},\"legend\":{\"title\":{\"text\":\"Class\"},\"tracegroupgap\":0,\"itemsizing\":\"constant\"},\"title\":{\"text\":\"3D Visualization of Embeddings using UMAP\"},\"margin\":{\"r\":0,\"l\":0,\"b\":0,\"t\":40},\"height\":500,\"width\":600},                        {\"responsive\": true}                    ).then(function(){\n",
       "                            \n",
       "var gd = document.getElementById('4c6cf12a-81fa-48a7-8776-ac1351db37df');\n",
       "var x = new MutationObserver(function (mutations, observer) {{\n",
       "        var display = window.getComputedStyle(gd).display;\n",
       "        if (!display || display === 'none') {{\n",
       "            console.log([gd, 'removed!']);\n",
       "            Plotly.purge(gd);\n",
       "            observer.disconnect();\n",
       "        }}\n",
       "}});\n",
       "\n",
       "// Listen for the removal of the full notebook cells\n",
       "var notebookContainer = gd.closest('#notebook-container');\n",
       "if (notebookContainer) {{\n",
       "    x.observe(notebookContainer, {childList: true});\n",
       "}}\n",
       "\n",
       "// Listen for the clearing of the current output cell\n",
       "var outputEl = gd.closest('.output');\n",
       "if (outputEl) {{\n",
       "    x.observe(outputEl, {childList: true});\n",
       "}}\n",
       "\n",
       "                        })                };                            </script>        </div>\n",
       "</body>\n",
       "</html>"
      ]
     },
     "metadata": {},
     "output_type": "display_data"
    }
   ],
   "source": [
    "class_names = [\n",
    "    \"airplane\",\n",
    "    \"automobile\",\n",
    "    \"bird\",\n",
    "    \"cat\",\n",
    "    \"deer\",\n",
    "    \"dog\",\n",
    "    \"frog\",\n",
    "    \"horse\",\n",
    "    \"ship\",\n",
    "    \"truck\",\n",
    "]\n",
    "\n",
    "df = pd.DataFrame(\n",
    "    {\n",
    "        \"x\": embeddings_reduced[:, 0],\n",
    "        \"y\": embeddings_reduced[:, 1],\n",
    "        \"z\": embeddings_reduced[:, 2],\n",
    "        \"label\": [class_names[label] for label in labels],\n",
    "    }\n",
    ")\n",
    "\n",
    "fig = px.scatter_3d(\n",
    "    df,\n",
    "    x=\"x\",\n",
    "    y=\"y\",\n",
    "    z=\"z\",\n",
    "    color=\"label\",\n",
    "    title=\"3D Visualization of Embeddings\",\n",
    "    labels={\"label\": \"Class\"},\n",
    "    color_discrete_sequence=px.colors.qualitative.Plotly,\n",
    "    opacity=0.8,\n",
    ")\n",
    "\n",
    "fig.update_layout(\n",
    "    scene=dict(\n",
    "        xaxis=dict(showticklabels=False),\n",
    "        yaxis=dict(showticklabels=False),\n",
    "        zaxis=dict(showticklabels=False),\n",
    "    ),\n",
    "    legend=dict(itemsizing=\"constant\"),\n",
    "    margin=dict(r=0, l=0, b=0, t=40),\n",
    "    height=500,\n",
    "    width=600,\n",
    ")\n",
    "fig.show()"
   ]
  }
 ],
 "metadata": {
  "kaggle": {
   "accelerator": "gpu",
   "dataSources": [
    {
     "isSourceIdPinned": true,
     "modelId": 308698,
     "modelInstanceId": 287914,
     "sourceId": 344357,
     "sourceType": "modelInstanceVersion"
    }
   ],
   "dockerImageVersionId": 31011,
   "isGpuEnabled": true,
   "isInternetEnabled": true,
   "language": "python",
   "sourceType": "notebook"
  },
  "kernelspec": {
   "display_name": "Python 3",
   "language": "python",
   "name": "python3"
  },
  "language_info": {
   "codemirror_mode": {
    "name": "ipython",
    "version": 3
   },
   "file_extension": ".py",
   "mimetype": "text/x-python",
   "name": "python",
   "nbconvert_exporter": "python",
   "pygments_lexer": "ipython3",
   "version": "3.11.0"
  }
 },
 "nbformat": 4,
 "nbformat_minor": 5
}
