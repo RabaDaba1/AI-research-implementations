{
 "cells": [
  {
   "cell_type": "markdown",
   "id": "a126f588",
   "metadata": {},
   "source": [
    "# Imports"
   ]
  },
  {
   "cell_type": "code",
   "execution_count": null,
   "id": "0cb5270b",
   "metadata": {
    "execution": {
     "iopub.execute_input": "2025-04-17T00:47:37.730002Z",
     "iopub.status.busy": "2025-04-17T00:47:37.729215Z",
     "iopub.status.idle": "2025-04-17T00:47:40.914884Z",
     "shell.execute_reply": "2025-04-17T00:47:40.914332Z",
     "shell.execute_reply.started": "2025-04-17T00:47:37.729974Z"
    },
    "trusted": true
   },
   "outputs": [],
   "source": [
    "import numpy as np\n",
    "import pandas as pd\n",
    "import seaborn as sns\n",
    "import matplotlib.pyplot as plt\n",
    "import torch\n",
    "import torch.nn as nn\n",
    "import torch.nn.functional as F\n",
    "import torchvision\n",
    "import torchvision.transforms.v2 as transforms\n",
    "from torch.amp import GradScaler, autocast\n",
    "from torch.optim.lr_scheduler import CosineAnnealingLR, LinearLR, SequentialLR\n",
    "from torch.utils.data import Dataset\n",
    "from tqdm import tqdm"
   ]
  },
  {
   "cell_type": "markdown",
   "id": "8b87a75e",
   "metadata": {},
   "source": [
    "# Constants"
   ]
  },
  {
   "cell_type": "code",
   "execution_count": null,
   "id": "5656d64d",
   "metadata": {
    "execution": {
     "iopub.execute_input": "2025-04-17T00:47:40.916289Z",
     "iopub.status.busy": "2025-04-17T00:47:40.915979Z",
     "iopub.status.idle": "2025-04-17T00:47:40.977642Z",
     "shell.execute_reply": "2025-04-17T00:47:40.976898Z",
     "shell.execute_reply.started": "2025-04-17T00:47:40.916270Z"
    },
    "trusted": true
   },
   "outputs": [
    {
     "data": {
      "text/plain": [
       "device(type='cuda')"
      ]
     },
     "execution_count": 3,
     "metadata": {},
     "output_type": "execute_result"
    }
   ],
   "source": [
    "device = torch.device(\"cuda\" if torch.cuda.is_available() else \"cpu\")\n",
    "device"
   ]
  },
  {
   "cell_type": "code",
   "execution_count": 4,
   "id": "5dd944a3",
   "metadata": {
    "execution": {
     "iopub.execute_input": "2025-04-17T00:47:41.707052Z",
     "iopub.status.busy": "2025-04-17T00:47:41.706758Z",
     "iopub.status.idle": "2025-04-17T00:47:41.711243Z",
     "shell.execute_reply": "2025-04-17T00:47:41.710481Z",
     "shell.execute_reply.started": "2025-04-17T00:47:41.707030Z"
    },
    "trusted": true
   },
   "outputs": [],
   "source": [
    "IMAGE_SIZE = 32\n",
    "\n",
    "EMBEDDING_SIZE = 128\n",
    "TEMPERATURE = 0.01\n",
    "\n",
    "PRETRAINING_EPOCHS = 100\n",
    "FULL_DATA_EPOCHS = 50\n",
    "SUBSET_DATA_EPOCHS = 30\n",
    "\n",
    "BATCH_SIZE = 512\n",
    "INITIAL_LR = 1e-3\n",
    "FINAL_LR = 1e-5\n",
    "WARMUP_EPOCHS = 10\n",
    "\n",
    "SEED = 42"
   ]
  },
  {
   "cell_type": "markdown",
   "id": "8b92d81d",
   "metadata": {},
   "source": [
    "# Data augmentation"
   ]
  },
  {
   "cell_type": "code",
   "execution_count": 5,
   "id": "1800f535",
   "metadata": {
    "execution": {
     "iopub.execute_input": "2025-04-17T00:47:42.717163Z",
     "iopub.status.busy": "2025-04-17T00:47:42.716531Z",
     "iopub.status.idle": "2025-04-17T00:47:54.899514Z",
     "shell.execute_reply": "2025-04-17T00:47:54.898891Z",
     "shell.execute_reply.started": "2025-04-17T00:47:42.717124Z"
    },
    "trusted": true
   },
   "outputs": [
    {
     "name": "stdout",
     "output_type": "stream",
     "text": [
      "Downloading https://www.cs.toronto.edu/~kriz/cifar-10-python.tar.gz to ../datasets/cifar-10-python.tar.gz\n"
     ]
    },
    {
     "name": "stderr",
     "output_type": "stream",
     "text": [
      "100%|██████████| 170M/170M [00:09<00:00, 18.4MB/s] \n"
     ]
    },
    {
     "name": "stdout",
     "output_type": "stream",
     "text": [
      "Extracting ../datasets/cifar-10-python.tar.gz to ../datasets\n"
     ]
    },
    {
     "data": {
      "text/plain": [
       "(<PIL.Image.Image image mode=RGB size=32x32>, 6)"
      ]
     },
     "execution_count": 5,
     "metadata": {},
     "output_type": "execute_result"
    }
   ],
   "source": [
    "cifar10 = torchvision.datasets.CIFAR10(root=\"../datasets\", train=True, download=True)\n",
    "cifar10[0]"
   ]
  },
  {
   "cell_type": "code",
   "execution_count": 6,
   "id": "cc49b794",
   "metadata": {
    "execution": {
     "iopub.execute_input": "2025-04-17T00:47:54.900950Z",
     "iopub.status.busy": "2025-04-17T00:47:54.900744Z",
     "iopub.status.idle": "2025-04-17T00:47:54.931960Z",
     "shell.execute_reply": "2025-04-17T00:47:54.931413Z",
     "shell.execute_reply.started": "2025-04-17T00:47:54.900934Z"
    },
    "trusted": true
   },
   "outputs": [],
   "source": [
    "contrastive_transform = transforms.Compose(\n",
    "    [\n",
    "        transforms.ToImage(),\n",
    "        transforms.ToDtype(dtype=torch.float32, scale=True),\n",
    "        torchvision.transforms.RandomHorizontalFlip(),\n",
    "        transforms.RandomResizedCrop(size=IMAGE_SIZE),\n",
    "        transforms.RandomApply(\n",
    "            [\n",
    "                transforms.ColorJitter(\n",
    "                    brightness=0.8, contrast=0.8, saturation=0.8, hue=0.2\n",
    "                ),\n",
    "            ],\n",
    "            p=0.8,\n",
    "        ),\n",
    "        transforms.RandomGrayscale(p=0.2),\n",
    "        transforms.GaussianBlur(kernel_size=3),\n",
    "        transforms.Normalize(\n",
    "            mean=[0.4914, 0.4822, 0.4465], std=[0.2470, 0.2435, 0.2616]\n",
    "        ),\n",
    "    ]\n",
    ")"
   ]
  },
  {
   "cell_type": "code",
   "execution_count": 7,
   "id": "f35c0700",
   "metadata": {
    "execution": {
     "iopub.execute_input": "2025-04-17T00:47:54.932743Z",
     "iopub.status.busy": "2025-04-17T00:47:54.932560Z",
     "iopub.status.idle": "2025-04-17T00:47:55.413717Z",
     "shell.execute_reply": "2025-04-17T00:47:55.412729Z",
     "shell.execute_reply.started": "2025-04-17T00:47:54.932728Z"
    },
    "trusted": true
   },
   "outputs": [],
   "source": [
    "def denormalize(x):\n",
    "    x = x * torch.tensor([0.2470, 0.2435, 0.2616]).view(3, 1, 1)\n",
    "    x = x + torch.tensor([0.4914, 0.4822, 0.4465]).view(3, 1, 1)\n",
    "    return x"
   ]
  },
  {
   "cell_type": "code",
   "execution_count": 8,
   "id": "c553312d",
   "metadata": {
    "execution": {
     "iopub.execute_input": "2025-04-17T00:47:55.415658Z",
     "iopub.status.busy": "2025-04-17T00:47:55.415320Z",
     "iopub.status.idle": "2025-04-17T00:47:56.426663Z",
     "shell.execute_reply": "2025-04-17T00:47:56.425933Z",
     "shell.execute_reply.started": "2025-04-17T00:47:55.415623Z"
    },
    "trusted": true
   },
   "outputs": [
    {
     "data": {
      "image/png": "[encoded data removed]",
      "text/plain": [
       "<Figure size 1500x500 with 6 Axes>"
      ]
     },
     "metadata": {},
     "output_type": "display_data"
    }
   ],
   "source": [
    "img_pil, label = cifar10[6]\n",
    "to_tensor = transforms.ToImage()\n",
    "to_pil = transforms.ToPILImage()\n",
    "\n",
    "fig, axs = plt.subplots(1, 6, figsize=(15, 5))\n",
    "\n",
    "axs[0].imshow(img_pil)\n",
    "axs[0].set_title(\"Original\")\n",
    "\n",
    "axs[1].imshow(to_pil(transforms.RandomResizedCrop(size=IMAGE_SIZE)(to_tensor(img_pil))))\n",
    "axs[1].set_title(\"RandomResizedCrop\")\n",
    "\n",
    "axs[2].imshow(to_pil(transforms.ColorJitter(hue=0.5)(to_tensor(img_pil))))\n",
    "axs[2].set_title(\"ColorJitter\")\n",
    "\n",
    "axs[3].imshow(to_pil(transforms.GaussianBlur(kernel_size=3)(to_tensor(img_pil))))\n",
    "axs[3].set_title(\"GaussianBlur\")\n",
    "\n",
    "axs[4].imshow(to_pil(denormalize(contrastive_transform(to_tensor(img_pil)))))\n",
    "axs[4].set_title(\"Augmentations (denormalized)\")\n",
    "\n",
    "axs[5].imshow(to_pil(contrastive_transform(to_tensor(img_pil))))\n",
    "axs[5].set_title(\"Augmentations (normalized)\")\n",
    "\n",
    "plt.tight_layout()\n",
    "plt.show()"
   ]
  },
  {
   "cell_type": "markdown",
   "id": "03c00fb9",
   "metadata": {},
   "source": [
    "# Contrastive dataset"
   ]
  },
  {
   "cell_type": "code",
   "execution_count": 9,
   "id": "34b4ac6c",
   "metadata": {
    "execution": {
     "iopub.execute_input": "2025-04-17T00:47:58.424472Z",
     "iopub.status.busy": "2025-04-17T00:47:58.423818Z",
     "iopub.status.idle": "2025-04-17T00:47:58.428839Z",
     "shell.execute_reply": "2025-04-17T00:47:58.428194Z",
     "shell.execute_reply.started": "2025-04-17T00:47:58.424440Z"
    },
    "trusted": true
   },
   "outputs": [],
   "source": [
    "class ContrastiveDataset(Dataset):\n",
    "    def __init__(self, dataset, augmentations):\n",
    "        self.dataset = dataset\n",
    "        self.augmentations = augmentations\n",
    "\n",
    "    def __getitem__(self, idx):\n",
    "        img, _ = self.dataset[idx]\n",
    "        return self.augmentations(img), self.augmentations(img)\n",
    "\n",
    "    def __len__(self):\n",
    "        return len(self.dataset)"
   ]
  },
  {
   "cell_type": "markdown",
   "id": "27d5760f",
   "metadata": {},
   "source": [
    "# Loss"
   ]
  },
  {
   "cell_type": "code",
   "execution_count": 10,
   "id": "75900470",
   "metadata": {
    "execution": {
     "iopub.execute_input": "2025-04-17T00:47:59.393380Z",
     "iopub.status.busy": "2025-04-17T00:47:59.392849Z",
     "iopub.status.idle": "2025-04-17T00:47:59.401958Z",
     "shell.execute_reply": "2025-04-17T00:47:59.401082Z",
     "shell.execute_reply.started": "2025-04-17T00:47:59.393353Z"
    },
    "trusted": true
   },
   "outputs": [],
   "source": [
    "class NTXent(nn.Module):\n",
    "    def __init__(self, temperature):\n",
    "        super().__init__()\n",
    "        self.temperature = temperature\n",
    "\n",
    "    def forward(self, z_i, z_j):\n",
    "        batch_size = z_i.shape[0]\n",
    "        assert batch_size == z_j.shape[0], \"Batch sizes must match\"\n",
    "\n",
    "        z_i = F.normalize(z_i, dim=-1)\n",
    "        z_j = F.normalize(z_j, dim=-1)\n",
    "\n",
    "        z = torch.cat([z_i, z_j], dim=0)  # [2 * batch_size, embedding_size]\n",
    "\n",
    "        similarity_matrix = (\n",
    "            F.cosine_similarity(z.unsqueeze(1), z.unsqueeze(0), dim=-1)\n",
    "            / self.temperature\n",
    "        )  # [2 * batch_size, 2 * batch_size]\n",
    "\n",
    "        sim_i_j = torch.diag(similarity_matrix, batch_size)  # [batch_size]\n",
    "        sim_j_i = torch.diag(similarity_matrix, -batch_size)  # [batch_size]\n",
    "\n",
    "        positive_samples = torch.cat([sim_i_j, sim_j_i], dim=0).unsqueeze(\n",
    "            1\n",
    "        )  # [2 * batch_size, 1]\n",
    "\n",
    "        # mask = torch.ones(\n",
    "        #     batch_size * 2, batch_size * 2, dtype=torch.bool\n",
    "        # ).fill_diagonal_(False)  # [2 * batch_size, 2 * batch_size]\n",
    "\n",
    "        # for i in range(batch_size):\n",
    "        #     mask[i, batch_size + i] = False\n",
    "        #     mask[batch_size + i, i] = False\n",
    "\n",
    "        mask = torch.zeros(\n",
    "            2 * batch_size,\n",
    "            2 * batch_size,\n",
    "            dtype=torch.bool,\n",
    "            device=similarity_matrix.device,\n",
    "        )\n",
    "        indices = torch.arange(batch_size, device=similarity_matrix.device)\n",
    "        mask.scatter_(1, indices, True)\n",
    "        mask.scatter_(0, indices + batch_size, True)\n",
    "\n",
    "        negative_samples = similarity_matrix[mask].view(\n",
    "            batch_size * 2, -1\n",
    "        )  # [2 * batch_size, batch_size - 2]\n",
    "        logits = torch.cat(\n",
    "            [positive_samples, negative_samples], dim=-1\n",
    "        )  # [2 * batch_size, batch_size - 1]\n",
    "        labels = torch.zeros(batch_size * 2, dtype=torch.long).to(\n",
    "            logits.device\n",
    "        )  # [2 * batch_size]\n",
    "        loss = F.cross_entropy(logits, labels, reduction=\"sum\")\n",
    "        return loss / (2 * batch_size)"
   ]
  },
  {
   "cell_type": "markdown",
   "id": "7c863959",
   "metadata": {},
   "source": [
    "# Encoder Model"
   ]
  },
  {
   "cell_type": "code",
   "execution_count": 11,
   "id": "e05566c6",
   "metadata": {
    "execution": {
     "iopub.execute_input": "2025-04-17T00:48:00.294592Z",
     "iopub.status.busy": "2025-04-17T00:48:00.294058Z",
     "iopub.status.idle": "2025-04-17T00:48:00.299697Z",
     "shell.execute_reply": "2025-04-17T00:48:00.298953Z",
     "shell.execute_reply.started": "2025-04-17T00:48:00.294566Z"
    },
    "trusted": true
   },
   "outputs": [],
   "source": [
    "class Encoder(nn.Module):\n",
    "    def __init__(self, encoder: nn.Module, projection_size: int):\n",
    "        super().__init__()\n",
    "\n",
    "        assert hasattr(encoder, \"fc\"), \"Base encoder must have a fc layer\"\n",
    "\n",
    "        self.encoder = encoder\n",
    "        self.embedding_size = self.encoder.fc.in_features\n",
    "        self.encoder.fc = nn.Identity()\n",
    "        self.projection_head = nn.Sequential(\n",
    "            nn.Linear(self.embedding_size, 1024),\n",
    "            nn.ReLU(),\n",
    "            nn.Linear(1024, projection_size),\n",
    "        )\n",
    "\n",
    "    def forward(self, x):\n",
    "        x = self.encoder(x)\n",
    "        x = self.projection_head(x)\n",
    "        return x"
   ]
  },
  {
   "cell_type": "markdown",
   "id": "634b93be",
   "metadata": {},
   "source": [
    "# Data Split"
   ]
  },
  {
   "cell_type": "code",
   "execution_count": 15,
   "id": "015b7d3a",
   "metadata": {
    "execution": {
     "iopub.execute_input": "2025-04-17T00:48:14.298983Z",
     "iopub.status.busy": "2025-04-17T00:48:14.298655Z",
     "iopub.status.idle": "2025-04-17T00:48:15.820926Z",
     "shell.execute_reply": "2025-04-17T00:48:15.820385Z",
     "shell.execute_reply.started": "2025-04-17T00:48:14.298964Z"
    },
    "trusted": true
   },
   "outputs": [
    {
     "name": "stdout",
     "output_type": "stream",
     "text": [
      "Files already downloaded and verified\n",
      "Files already downloaded and verified\n"
     ]
    }
   ],
   "source": [
    "train_dataset, valid_dataset = torch.utils.data.random_split(\n",
    "    torchvision.datasets.CIFAR10(root=\"../datasets\", train=True, download=True),\n",
    "    [45000, 5000],\n",
    "    generator=torch.Generator().manual_seed(SEED),\n",
    ")\n",
    "test_dataset = torchvision.datasets.CIFAR10(\n",
    "    root=\"../datasets\", train=False, download=True\n",
    ")"
   ]
  },
  {
   "cell_type": "code",
   "execution_count": 16,
   "id": "347fd98f",
   "metadata": {
    "execution": {
     "iopub.execute_input": "2025-04-17T00:48:16.633310Z",
     "iopub.status.busy": "2025-04-17T00:48:16.632993Z",
     "iopub.status.idle": "2025-04-17T00:48:16.638490Z",
     "shell.execute_reply": "2025-04-17T00:48:16.637776Z",
     "shell.execute_reply.started": "2025-04-17T00:48:16.633288Z"
    },
    "trusted": true
   },
   "outputs": [],
   "source": [
    "eval_transform = transforms.Compose(\n",
    "    [\n",
    "        transforms.ToImage(),\n",
    "        transforms.ToDtype(dtype=torch.float32, scale=True),\n",
    "        transforms.Resize(size=IMAGE_SIZE),\n",
    "        transforms.Normalize(\n",
    "            mean=[0.4914, 0.4822, 0.4465], std=[0.2470, 0.2435, 0.2616]\n",
    "        ),\n",
    "    ]\n",
    ")"
   ]
  },
  {
   "cell_type": "markdown",
   "id": "73849d4b",
   "metadata": {},
   "source": [
    "# Self-Supervised Pretraining"
   ]
  },
  {
   "cell_type": "code",
   "execution_count": 17,
   "id": "137ca59c",
   "metadata": {
    "execution": {
     "iopub.execute_input": "2025-04-17T00:48:18.244541Z",
     "iopub.status.busy": "2025-04-17T00:48:18.243792Z",
     "iopub.status.idle": "2025-04-17T00:48:18.250675Z",
     "shell.execute_reply": "2025-04-17T00:48:18.249949Z",
     "shell.execute_reply.started": "2025-04-17T00:48:18.244514Z"
    },
    "trusted": true
   },
   "outputs": [],
   "source": [
    "train_contrastive_dataset = ContrastiveDataset(train_dataset, contrastive_transform)\n",
    "valid_contrastive_dataset = ContrastiveDataset(valid_dataset, eval_transform)\n",
    "test_contrastive_dataset = ContrastiveDataset(test_dataset, eval_transform)\n",
    "\n",
    "train_loader = torch.utils.data.DataLoader(\n",
    "    train_contrastive_dataset,\n",
    "    batch_size=BATCH_SIZE,\n",
    "    shuffle=True,\n",
    "    num_workers=4,\n",
    "    pin_memory=True,\n",
    "    persistent_workers=True,\n",
    "    prefetch_factor=2,\n",
    ")\n",
    "val_loader = torch.utils.data.DataLoader(\n",
    "    valid_contrastive_dataset,\n",
    "    batch_size=BATCH_SIZE,\n",
    "    shuffle=False,\n",
    "    num_workers=4,\n",
    "    pin_memory=True,\n",
    "    persistent_workers=True,\n",
    "    prefetch_factor=2,\n",
    ")\n",
    "test_loader = torch.utils.data.DataLoader(\n",
    "    test_contrastive_dataset,\n",
    "    batch_size=BATCH_SIZE,\n",
    "    shuffle=False,\n",
    "    num_workers=4,\n",
    "    pin_memory=True,\n",
    "    persistent_workers=True,\n",
    "    prefetch_factor=2,\n",
    ")"
   ]
  },
  {
   "cell_type": "code",
   "execution_count": 19,
   "id": "105a5f02-142d-4039-88e7-350d0afb91f8",
   "metadata": {
    "execution": {
     "iopub.execute_input": "2025-04-17T00:48:30.787667Z",
     "iopub.status.busy": "2025-04-17T00:48:30.787067Z",
     "iopub.status.idle": "2025-04-17T00:48:31.111475Z",
     "shell.execute_reply": "2025-04-17T00:48:31.110888Z",
     "shell.execute_reply.started": "2025-04-17T00:48:30.787642Z"
    },
    "trusted": true
   },
   "outputs": [],
   "source": [
    "encoder = Encoder(\n",
    "    encoder=torchvision.models.resnet18(weights=None),\n",
    "    projection_size=EMBEDDING_SIZE,\n",
    ").to(device)\n",
    "optimizer = torch.optim.AdamW(encoder.parameters(), lr=1e-3, weight_decay=1e-5)\n",
    "criterion = NTXent(temperature=TEMPERATURE).to(device)\n",
    "scaler = GradScaler(device=device)\n",
    "scheduler = SequentialLR(\n",
    "    optimizer,\n",
    "    schedulers=[\n",
    "        LinearLR(\n",
    "            optimizer, start_factor=0.1, end_factor=1.0, total_iters=WARMUP_EPOCHS\n",
    "        ),\n",
    "        CosineAnnealingLR(\n",
    "            optimizer, T_max=PRETRAINING_EPOCHS - WARMUP_EPOCHS, eta_min=FINAL_LR\n",
    "        ),\n",
    "    ],\n",
    "    milestones=[WARMUP_EPOCHS],\n",
    ")"
   ]
  },
  {
   "cell_type": "code",
   "execution_count": null,
   "id": "61760708",
   "metadata": {
    "trusted": true
   },
   "outputs": [],
   "source": [
    "train_losses = []\n",
    "val_losses = []\n",
    "best_val_loss = float(\"inf\")\n",
    "\n",
    "for epoch in range(PRETRAINING_EPOCHS):\n",
    "    encoder.train()\n",
    "    train_loss = 0.0\n",
    "    num_batches = 0\n",
    "    progress_bar = tqdm(\n",
    "        train_loader, desc=f\"Epoch {epoch + 1}/{PRETRAINING_EPOCHS} [Train]\"\n",
    "    )\n",
    "    for imgs_i, imgs_j in progress_bar:\n",
    "        imgs_i = imgs_i.to(device, non_blocking=True)\n",
    "        imgs_j = imgs_j.to(device, non_blocking=True)\n",
    "\n",
    "        optimizer.zero_grad()\n",
    "\n",
    "        with autocast(device_type=device.type):\n",
    "            combined = torch.cat([imgs_i, imgs_j], dim=0)\n",
    "            embeddings = encoder(combined)\n",
    "            z_i, z_j = torch.split(embeddings, BATCH_SIZE)\n",
    "            loss = criterion(z_i, z_j)\n",
    "\n",
    "        scaler.scale(loss).backward()\n",
    "        scaler.step(optimizer)\n",
    "        scaler.update()\n",
    "\n",
    "        train_loss += loss.item()\n",
    "        num_batches += 1\n",
    "        progress_bar.set_postfix({\"loss\": loss.item()})\n",
    "\n",
    "    epoch_avg_train_loss = train_loss / num_batches\n",
    "    train_losses.append(epoch_avg_train_loss)\n",
    "\n",
    "    encoder.eval()\n",
    "    val_loss = 0.0\n",
    "    num_batches = 0\n",
    "    progress_bar = tqdm(\n",
    "        val_loader, desc=f\"Epoch {epoch + 1}/{PRETRAINING_EPOCHS} [Valid]\"\n",
    "    )\n",
    "    for imgs_i, imgs_j in progress_bar:\n",
    "        imgs_i = imgs_i.to(device, non_blocking=True)\n",
    "        imgs_j = imgs_j.to(device, non_blocking=True)\n",
    "\n",
    "        with torch.no_grad():\n",
    "            with autocast(device_type=device.type):\n",
    "                combined = torch.cat([imgs_i, imgs_j], dim=0)\n",
    "                embeddings = encoder(combined)\n",
    "                z_i, z_j = torch.split(embeddings, BATCH_SIZE)\n",
    "                loss = criterion(z_i, z_j)\n",
    "\n",
    "        val_loss += loss.item()\n",
    "        num_batches += 1\n",
    "        progress_bar.set_postfix({\"loss\": loss.item()})\n",
    "\n",
    "    epoch_avg_val_loss = val_loss / num_batches\n",
    "    val_losses.append(epoch_avg_val_loss)\n",
    "\n",
    "    if epoch_avg_val_loss < best_val_loss:\n",
    "        best_val_loss = epoch_avg_val_loss\n",
    "        torch.save(encoder.state_dict(), \"cifar10_encoder_best.pth\")\n",
    "        print(f\"Saved new best model with val_loss: {best_val_loss:.4f}\")\n",
    "\n",
    "    scheduler.step()\n",
    "\n",
    "torch.save(encoder.state_dict(), \"cifar10_encoder.pth\")"
   ]
  },
  {
   "cell_type": "code",
   "execution_count": null,
   "id": "3c81a4fe",
   "metadata": {
    "execution": {
     "iopub.execute_input": "2025-04-17T00:50:13.841275Z",
     "iopub.status.busy": "2025-04-17T00:50:13.840526Z",
     "iopub.status.idle": "2025-04-17T00:50:13.845236Z",
     "shell.execute_reply": "2025-04-17T00:50:13.844544Z",
     "shell.execute_reply.started": "2025-04-17T00:50:13.841250Z"
    },
    "trusted": true
   },
   "outputs": [],
   "source": [
    "def get_encoder(pretrained: bool):\n",
    "    encoder = Encoder(\n",
    "        encoder=torchvision.models.resnet18(weights=None),\n",
    "        projection_size=EMBEDDING_SIZE,\n",
    "    ).to(device)\n",
    "    if pretrained:\n",
    "        encoder.load_state_dict(\n",
    "            torch.load(\n",
    "                \"/kaggle/input/cifar10_encoder3/pytorch/default/1/cifar10_encoder.pth\",\n",
    "                weights_only=True,\n",
    "            )\n",
    "        )\n",
    "    encoder.projection_head = nn.Identity()\n",
    "    return encoder"
   ]
  },
  {
   "cell_type": "markdown",
   "id": "55819328",
   "metadata": {},
   "source": [
    "# Classifier Training Loop"
   ]
  },
  {
   "cell_type": "code",
   "execution_count": 21,
   "id": "94423e59",
   "metadata": {
    "execution": {
     "iopub.execute_input": "2025-04-17T00:48:39.462562Z",
     "iopub.status.busy": "2025-04-17T00:48:39.461937Z",
     "iopub.status.idle": "2025-04-17T00:48:39.475052Z",
     "shell.execute_reply": "2025-04-17T00:48:39.474216Z",
     "shell.execute_reply.started": "2025-04-17T00:48:39.462535Z"
    },
    "trusted": true
   },
   "outputs": [],
   "source": [
    "def train_supervised(\n",
    "    model: nn.Module,\n",
    "    train_loader: torch.utils.data.DataLoader,\n",
    "    val_loader: torch.utils.data.DataLoader,\n",
    "    test_loader: torch.utils.data.DataLoader,\n",
    "    epochs: int,\n",
    "    warmup_epochs: int,\n",
    "    initial_lr: float,\n",
    "    final_lr: float,\n",
    "    experiment_name: str,\n",
    "    device=device,\n",
    "):\n",
    "    optimizer = torch.optim.AdamW(model.parameters(), lr=initial_lr, weight_decay=1e-5)\n",
    "    criterion = nn.CrossEntropyLoss().to(device)\n",
    "    scaler = GradScaler(device=device)\n",
    "    scheduler = SequentialLR(\n",
    "        optimizer,\n",
    "        schedulers=[\n",
    "            LinearLR(\n",
    "                optimizer, start_factor=0.1, end_factor=1.0, total_iters=warmup_epochs\n",
    "            ),\n",
    "            CosineAnnealingLR(\n",
    "                optimizer, T_max=epochs - warmup_epochs, eta_min=final_lr\n",
    "            ),\n",
    "        ],\n",
    "        milestones=[warmup_epochs],\n",
    "    )\n",
    "\n",
    "    train_losses = []\n",
    "    val_losses = []\n",
    "    best_val_loss = float(\"inf\")\n",
    "\n",
    "    for epoch in range(epochs):\n",
    "        model.train()\n",
    "        train_loss = 0.0\n",
    "        correct = 0\n",
    "        total = 0\n",
    "        progress_bar = tqdm(train_loader, desc=f\"Epoch {epoch + 1}/{epochs} [Train]\")\n",
    "\n",
    "        for i, (imgs, labels) in enumerate(progress_bar):\n",
    "            imgs, labels = imgs.to(device), labels.to(device)\n",
    "\n",
    "            optimizer.zero_grad()\n",
    "\n",
    "            with autocast(device_type=device.type):\n",
    "                logits = model(imgs)\n",
    "                loss = criterion(logits, labels)\n",
    "\n",
    "            scaler.scale(loss).backward()\n",
    "            scaler.step(optimizer)\n",
    "            scaler.update()\n",
    "\n",
    "            train_loss += loss.item()\n",
    "\n",
    "            _, predicted = torch.max(logits.data, 1)\n",
    "            total += labels.size(0)\n",
    "            correct += (predicted == labels).sum().item()\n",
    "\n",
    "            progress_bar.set_postfix(\n",
    "                {\"loss\": loss.item(), \"acc\": 100 * correct / total}\n",
    "            )\n",
    "\n",
    "        epoch_train_acc = 100 * correct / total\n",
    "        epoch_avg_train_loss = train_loss / (i + 1)\n",
    "        train_losses.append(epoch_avg_train_loss)\n",
    "\n",
    "        model.eval()\n",
    "        val_loss = 0.0\n",
    "        correct = 0\n",
    "        total = 0\n",
    "        progress_bar = tqdm(val_loader, desc=f\"Epoch {epoch + 1}/{epochs} [Valid]\")\n",
    "\n",
    "        with torch.no_grad():\n",
    "            for i, (imgs, labels) in enumerate(progress_bar):\n",
    "                imgs, labels = imgs.to(device), labels.to(device)\n",
    "\n",
    "                with autocast(device_type=device.type):\n",
    "                    logits = model(imgs)\n",
    "                    loss = criterion(logits, labels)\n",
    "\n",
    "                val_loss += loss.item()\n",
    "\n",
    "                _, predicted = torch.max(logits.data, 1)\n",
    "                total += labels.size(0)\n",
    "                correct += (predicted == labels).sum().item()\n",
    "\n",
    "                progress_bar.set_postfix(\n",
    "                    {\"loss\": loss.item(), \"acc\": 100 * correct / total}\n",
    "                )\n",
    "\n",
    "        epoch_val_acc = 100 * correct / total\n",
    "        epoch_avg_val_loss = val_loss / (i + 1)\n",
    "        val_losses.append(epoch_avg_val_loss)\n",
    "\n",
    "        if epoch_avg_val_loss < best_val_loss:\n",
    "            best_val_loss = epoch_avg_val_loss\n",
    "            torch.save(model.state_dict(), f\"cifar10_{experiment_name}.pth\")\n",
    "\n",
    "        scheduler.step()\n",
    "\n",
    "        print(\n",
    "            f\"Epoch {epoch + 1}/{epochs}, Train Loss: {epoch_avg_train_loss:.4f}, Train Acc: {epoch_train_acc:.2f}%, \"\n",
    "            f\"Val Loss: {epoch_avg_val_loss:.4f}, Val Acc: {epoch_val_acc:.2f}%, LR: {scheduler.get_last_lr()[0]:.6f}\"\n",
    "        )\n",
    "\n",
    "    model.eval()\n",
    "    correct = 0\n",
    "    total = 0\n",
    "\n",
    "    with torch.no_grad():\n",
    "        for images, labels in test_loader:\n",
    "            images, labels = images.to(device), labels.to(device)\n",
    "            outputs = model(images)\n",
    "            _, predicted = torch.max(outputs.data, 1)\n",
    "            total += labels.size(0)\n",
    "            correct += (predicted == labels).sum().item()\n",
    "\n",
    "    test_acc = 100 * correct / total\n",
    "    print(f\"Test Accuracy ({experiment_name}): {test_acc:.2f}%\")\n",
    "\n",
    "    return train_losses, val_losses, test_acc"
   ]
  },
  {
   "cell_type": "code",
   "execution_count": 22,
   "id": "304b8ff7",
   "metadata": {
    "execution": {
     "iopub.execute_input": "2025-04-17T00:48:41.664815Z",
     "iopub.status.busy": "2025-04-17T00:48:41.664044Z",
     "iopub.status.idle": "2025-04-17T00:48:41.669475Z",
     "shell.execute_reply": "2025-04-17T00:48:41.668661Z",
     "shell.execute_reply.started": "2025-04-17T00:48:41.664787Z"
    },
    "trusted": true
   },
   "outputs": [],
   "source": [
    "class Classifier(nn.Module):\n",
    "    def __init__(self, encoder: Encoder, num_classes):\n",
    "        super().__init__()\n",
    "        self.encoder = encoder\n",
    "        self.classifier = torch.nn.Sequential(\n",
    "            nn.Linear(self.encoder.embedding_size, 512),\n",
    "            nn.ReLU(),\n",
    "            nn.Linear(512, num_classes),\n",
    "        )\n",
    "\n",
    "    def forward(self, x):\n",
    "        with torch.no_grad():\n",
    "            x = self.encoder(x)\n",
    "        x = self.classifier(x)\n",
    "        return x"
   ]
  },
  {
   "cell_type": "markdown",
   "id": "19e2ea4f",
   "metadata": {},
   "source": [
    "# Data Preparation"
   ]
  },
  {
   "cell_type": "code",
   "execution_count": 23,
   "id": "7c826775",
   "metadata": {
    "execution": {
     "iopub.execute_input": "2025-04-17T00:48:43.000730Z",
     "iopub.status.busy": "2025-04-17T00:48:43.000441Z",
     "iopub.status.idle": "2025-04-17T00:48:43.005318Z",
     "shell.execute_reply": "2025-04-17T00:48:43.004596Z",
     "shell.execute_reply.started": "2025-04-17T00:48:43.000707Z"
    },
    "trusted": true
   },
   "outputs": [],
   "source": [
    "class TransformedDataset(Dataset):\n",
    "    def __init__(self, dataset, transform):\n",
    "        self.dataset = dataset\n",
    "        self.transform = transform\n",
    "\n",
    "    def __getitem__(self, idx):\n",
    "        img, label = self.dataset[idx]\n",
    "        return self.transform(img), label\n",
    "\n",
    "    def __len__(self):\n",
    "        return len(self.dataset)"
   ]
  },
  {
   "cell_type": "code",
   "execution_count": null,
   "id": "19406257",
   "metadata": {
    "execution": {
     "iopub.execute_input": "2025-04-17T00:49:26.689814Z",
     "iopub.status.busy": "2025-04-17T00:49:26.689210Z",
     "iopub.status.idle": "2025-04-17T00:49:26.697421Z",
     "shell.execute_reply": "2025-04-17T00:49:26.696684Z",
     "shell.execute_reply.started": "2025-04-17T00:49:26.689790Z"
    },
    "trusted": true
   },
   "outputs": [],
   "source": [
    "train_transform = transforms.Compose(\n",
    "    [\n",
    "        transforms.ToImage(),\n",
    "        transforms.ToDtype(dtype=torch.float32, scale=True),\n",
    "        transforms.RandomHorizontalFlip(),\n",
    "        transforms.RandomResizedCrop(size=IMAGE_SIZE, scale=(0.5, 1.0)),\n",
    "        transforms.RandomApply(\n",
    "            [\n",
    "                transforms.ColorJitter(\n",
    "                    brightness=0.4, contrast=0.4, saturation=0.4, hue=0.1\n",
    "                )\n",
    "            ],\n",
    "            p=0.8,\n",
    "        ),\n",
    "        transforms.RandomGrayscale(p=0.2),\n",
    "        transforms.RandomApply([transforms.GaussianBlur(kernel_size=3)], p=0.3),\n",
    "        transforms.Normalize(\n",
    "            mean=[0.4914, 0.4822, 0.4465], std=[0.2470, 0.2435, 0.2616]\n",
    "        ),\n",
    "    ]\n",
    ")\n",
    "train_transformed = TransformedDataset(train_dataset, train_transform)\n",
    "valid_transformed = TransformedDataset(valid_dataset, eval_transform)\n",
    "test_transformed = TransformedDataset(test_dataset, eval_transform)\n",
    "\n",
    "train_loader = torch.utils.data.DataLoader(\n",
    "    train_transformed,\n",
    "    batch_size=BATCH_SIZE,\n",
    "    shuffle=True,\n",
    "    num_workers=4,\n",
    "    pin_memory=True,\n",
    "    persistent_workers=True,\n",
    "    prefetch_factor=2,\n",
    ")\n",
    "val_loader = torch.utils.data.DataLoader(\n",
    "    valid_transformed,\n",
    "    batch_size=BATCH_SIZE,\n",
    "    shuffle=False,\n",
    "    num_workers=4,\n",
    "    pin_memory=True,\n",
    "    persistent_workers=True,\n",
    "    prefetch_factor=2,\n",
    ")\n",
    "test_loader = torch.utils.data.DataLoader(\n",
    "    test_transformed,\n",
    "    batch_size=BATCH_SIZE,\n",
    "    shuffle=False,\n",
    "    num_workers=4,\n",
    "    pin_memory=True,\n",
    "    persistent_workers=True,\n",
    "    prefetch_factor=2,\n",
    ")"
   ]
  },
  {
   "cell_type": "markdown",
   "id": "16e8b0a9",
   "metadata": {},
   "source": [
    "# Self-Supervised Learning + Fine-Tuning"
   ]
  },
  {
   "cell_type": "code",
   "execution_count": null,
   "id": "f48af196",
   "metadata": {
    "execution": {
     "iopub.execute_input": "2025-04-17T00:50:16.710368Z",
     "iopub.status.busy": "2025-04-17T00:50:16.709816Z",
     "iopub.status.idle": "2025-04-17T01:16:41.398368Z",
     "shell.execute_reply": "2025-04-17T01:16:41.397006Z",
     "shell.execute_reply.started": "2025-04-17T00:50:16.710342Z"
    },
    "trusted": true
   },
   "outputs": [
    {
     "data": {
      "application/vnd.jupyter.widget-view+json": {
       "model_id": "6c606e4a8ad6444ea06f5ee4754a8437",
       "version_major": 2,
       "version_minor": 0
      },
      "text/plain": [
       "Epoch 1/50 [Train]:   0%|          | 0/88 [00:00<?, ?it/s]"
      ]
     },
     "metadata": {},
     "output_type": "display_data"
    },
    {
     "data": {
      "application/vnd.jupyter.widget-view+json": {
       "model_id": "665f8030f07e42eebddfbe986309ef3a",
       "version_major": 2,
       "version_minor": 0
      },
      "text/plain": [
       "Epoch 1/50 [Valid]:   0%|          | 0/10 [00:00<?, ?it/s]"
      ]
     },
     "metadata": {},
     "output_type": "display_data"
    },
    {
     "name": "stdout",
     "output_type": "stream",
     "text": [
      "Epoch 1/50, Train Loss: 1.6139, Train Acc: 47.39%, Val Loss: 1.1818, Val Acc: 58.86%, LR: 0.000190\n"
     ]
    },
    {
     "data": {
      "application/vnd.jupyter.widget-view+json": {
       "model_id": "5a751751a70f4357a677d1161db21f96",
       "version_major": 2,
       "version_minor": 0
      },
      "text/plain": [
       "Epoch 2/50 [Train]:   0%|          | 0/88 [00:00<?, ?it/s]"
      ]
     },
     "metadata": {},
     "output_type": "display_data"
    },
    {
     "data": {
      "application/vnd.jupyter.widget-view+json": {
       "model_id": "167423ad522a432dbca6eef7b95ff898",
       "version_major": 2,
       "version_minor": 0
      },
      "text/plain": [
       "Epoch 2/50 [Valid]:   0%|          | 0/10 [00:00<?, ?it/s]"
      ]
     },
     "metadata": {},
     "output_type": "display_data"
    },
    {
     "name": "stdout",
     "output_type": "stream",
     "text": [
      "Epoch 2/50, Train Loss: 1.1874, Train Acc: 58.70%, Val Loss: 1.0659, Val Acc: 62.52%, LR: 0.000280\n"
     ]
    },
    {
     "data": {
      "application/vnd.jupyter.widget-view+json": {
       "model_id": "337ff80d4c164babaae1ff5d4ba7c448",
       "version_major": 2,
       "version_minor": 0
      },
      "text/plain": [
       "Epoch 3/50 [Train]:   0%|          | 0/88 [00:00<?, ?it/s]"
      ]
     },
     "metadata": {},
     "output_type": "display_data"
    },
    {
     "data": {
      "application/vnd.jupyter.widget-view+json": {
       "model_id": "8f5da78c273f4c4ebede944428ede875",
       "version_major": 2,
       "version_minor": 0
      },
      "text/plain": [
       "Epoch 3/50 [Valid]:   0%|          | 0/10 [00:00<?, ?it/s]"
      ]
     },
     "metadata": {},
     "output_type": "display_data"
    },
    {
     "name": "stdout",
     "output_type": "stream",
     "text": [
      "Epoch 3/50, Train Loss: 1.1349, Train Acc: 60.19%, Val Loss: 1.0443, Val Acc: 62.74%, LR: 0.000370\n"
     ]
    },
    {
     "data": {
      "application/vnd.jupyter.widget-view+json": {
       "model_id": "a40e8f4cf8104cb2bf3c6cfce25bd876",
       "version_major": 2,
       "version_minor": 0
      },
      "text/plain": [
       "Epoch 4/50 [Train]:   0%|          | 0/88 [00:00<?, ?it/s]"
      ]
     },
     "metadata": {},
     "output_type": "display_data"
    },
    {
     "data": {
      "application/vnd.jupyter.widget-view+json": {
       "model_id": "9e84c46d602d499d99ef86ef856acbfd",
       "version_major": 2,
       "version_minor": 0
      },
      "text/plain": [
       "Epoch 4/50 [Valid]:   0%|          | 0/10 [00:00<?, ?it/s]"
      ]
     },
     "metadata": {},
     "output_type": "display_data"
    },
    {
     "name": "stdout",
     "output_type": "stream",
     "text": [
      "Epoch 4/50, Train Loss: 1.1008, Train Acc: 61.19%, Val Loss: 1.0352, Val Acc: 63.30%, LR: 0.000460\n"
     ]
    },
    {
     "data": {
      "application/vnd.jupyter.widget-view+json": {
       "model_id": "c00ddc97d1424e339950c3d74af66eb6",
       "version_major": 2,
       "version_minor": 0
      },
      "text/plain": [
       "Epoch 5/50 [Train]:   0%|          | 0/88 [00:00<?, ?it/s]"
      ]
     },
     "metadata": {},
     "output_type": "display_data"
    },
    {
     "data": {
      "application/vnd.jupyter.widget-view+json": {
       "model_id": "85f4cf37833c4b5bb28197f21ce3b1d0",
       "version_major": 2,
       "version_minor": 0
      },
      "text/plain": [
       "Epoch 5/50 [Valid]:   0%|          | 0/10 [00:00<?, ?it/s]"
      ]
     },
     "metadata": {},
     "output_type": "display_data"
    },
    {
     "name": "stdout",
     "output_type": "stream",
     "text": [
      "Epoch 5/50, Train Loss: 1.0833, Train Acc: 62.07%, Val Loss: 0.9932, Val Acc: 64.30%, LR: 0.000550\n"
     ]
    },
    {
     "data": {
      "application/vnd.jupyter.widget-view+json": {
       "model_id": "4b8f56b6cbc94246963abebc548b85e6",
       "version_major": 2,
       "version_minor": 0
      },
      "text/plain": [
       "Epoch 6/50 [Train]:   0%|          | 0/88 [00:00<?, ?it/s]"
      ]
     },
     "metadata": {},
     "output_type": "display_data"
    },
    {
     "data": {
      "application/vnd.jupyter.widget-view+json": {
       "model_id": "9f574b8d15ac4396866179f417821cda",
       "version_major": 2,
       "version_minor": 0
      },
      "text/plain": [
       "Epoch 6/50 [Valid]:   0%|          | 0/10 [00:00<?, ?it/s]"
      ]
     },
     "metadata": {},
     "output_type": "display_data"
    },
    {
     "name": "stdout",
     "output_type": "stream",
     "text": [
      "Epoch 6/50, Train Loss: 1.0639, Train Acc: 62.70%, Val Loss: 0.9833, Val Acc: 65.24%, LR: 0.000640\n"
     ]
    },
    {
     "data": {
      "application/vnd.jupyter.widget-view+json": {
       "model_id": "14eb8145600a4d87a6722b410f1f60d9",
       "version_major": 2,
       "version_minor": 0
      },
      "text/plain": [
       "Epoch 7/50 [Train]:   0%|          | 0/88 [00:00<?, ?it/s]"
      ]
     },
     "metadata": {},
     "output_type": "display_data"
    },
    {
     "data": {
      "application/vnd.jupyter.widget-view+json": {
       "model_id": "954a385c65204380a409241f3fd59cbd",
       "version_major": 2,
       "version_minor": 0
      },
      "text/plain": [
       "Epoch 7/50 [Valid]:   0%|          | 0/10 [00:00<?, ?it/s]"
      ]
     },
     "metadata": {},
     "output_type": "display_data"
    },
    {
     "name": "stdout",
     "output_type": "stream",
     "text": [
      "Epoch 7/50, Train Loss: 1.0396, Train Acc: 63.39%, Val Loss: 0.9672, Val Acc: 66.36%, LR: 0.000730\n"
     ]
    },
    {
     "data": {
      "application/vnd.jupyter.widget-view+json": {
       "model_id": "20d07274f8b44bff9bac5d0bebde16d9",
       "version_major": 2,
       "version_minor": 0
      },
      "text/plain": [
       "Epoch 8/50 [Train]:   0%|          | 0/88 [00:00<?, ?it/s]"
      ]
     },
     "metadata": {},
     "output_type": "display_data"
    },
    {
     "data": {
      "application/vnd.jupyter.widget-view+json": {
       "model_id": "74b83593b12e47cd9791c0b2622ddfc7",
       "version_major": 2,
       "version_minor": 0
      },
      "text/plain": [
       "Epoch 8/50 [Valid]:   0%|          | 0/10 [00:00<?, ?it/s]"
      ]
     },
     "metadata": {},
     "output_type": "display_data"
    },
    {
     "name": "stdout",
     "output_type": "stream",
     "text": [
      "Epoch 8/50, Train Loss: 1.0257, Train Acc: 64.09%, Val Loss: 0.9620, Val Acc: 65.68%, LR: 0.000820\n"
     ]
    },
    {
     "data": {
      "application/vnd.jupyter.widget-view+json": {
       "model_id": "2ccb68caefa844c0b7eaba34d425cffc",
       "version_major": 2,
       "version_minor": 0
      },
      "text/plain": [
       "Epoch 9/50 [Train]:   0%|          | 0/88 [00:00<?, ?it/s]"
      ]
     },
     "metadata": {},
     "output_type": "display_data"
    },
    {
     "data": {
      "application/vnd.jupyter.widget-view+json": {
       "model_id": "2a3af8614c584207a7d8c4117919c3fc",
       "version_major": 2,
       "version_minor": 0
      },
      "text/plain": [
       "Epoch 9/50 [Valid]:   0%|          | 0/10 [00:00<?, ?it/s]"
      ]
     },
     "metadata": {},
     "output_type": "display_data"
    },
    {
     "name": "stdout",
     "output_type": "stream",
     "text": [
      "Epoch 9/50, Train Loss: 1.0128, Train Acc: 64.45%, Val Loss: 0.9874, Val Acc: 65.26%, LR: 0.000910\n"
     ]
    },
    {
     "data": {
      "application/vnd.jupyter.widget-view+json": {
       "model_id": "7ae26f9960cc452aa5b7380e2c70c121",
       "version_major": 2,
       "version_minor": 0
      },
      "text/plain": [
       "Epoch 10/50 [Train]:   0%|          | 0/88 [00:00<?, ?it/s]"
      ]
     },
     "metadata": {},
     "output_type": "display_data"
    },
    {
     "data": {
      "application/vnd.jupyter.widget-view+json": {
       "model_id": "956255771c564a0fb22831721ab02efb",
       "version_major": 2,
       "version_minor": 0
      },
      "text/plain": [
       "Epoch 10/50 [Valid]:   0%|          | 0/10 [00:00<?, ?it/s]"
      ]
     },
     "metadata": {},
     "output_type": "display_data"
    },
    {
     "name": "stdout",
     "output_type": "stream",
     "text": [
      "Epoch 10/50, Train Loss: 1.0066, Train Acc: 64.64%, Val Loss: 0.9691, Val Acc: 65.52%, LR: 0.001000\n"
     ]
    },
    {
     "name": "stderr",
     "output_type": "stream",
     "text": [
      "/usr/local/lib/python3.11/dist-packages/torch/optim/lr_scheduler.py:240: UserWarning: The epoch parameter in `scheduler.step()` was not necessary and is being deprecated where possible. Please use `scheduler.step()` to step the scheduler. During the deprecation, if epoch is different from None, the closed form is used instead of the new chainable form, where available. Please open an issue if you are unable to replicate your use case: https://github.com/pytorch/pytorch/issues/new/choose.\n",
      "  warnings.warn(EPOCH_DEPRECATION_WARNING, UserWarning)\n"
     ]
    },
    {
     "data": {
      "application/vnd.jupyter.widget-view+json": {
       "model_id": "c4a83be7764642dab8213f1b99acf8e6",
       "version_major": 2,
       "version_minor": 0
      },
      "text/plain": [
       "Epoch 11/50 [Train]:   0%|          | 0/88 [00:00<?, ?it/s]"
      ]
     },
     "metadata": {},
     "output_type": "display_data"
    },
    {
     "data": {
      "application/vnd.jupyter.widget-view+json": {
       "model_id": "af33acd0fcc147e594b6434af061d8d4",
       "version_major": 2,
       "version_minor": 0
      },
      "text/plain": [
       "Epoch 11/50 [Valid]:   0%|          | 0/10 [00:00<?, ?it/s]"
      ]
     },
     "metadata": {},
     "output_type": "display_data"
    },
    {
     "name": "stdout",
     "output_type": "stream",
     "text": [
      "Epoch 11/50, Train Loss: 1.0017, Train Acc: 64.76%, Val Loss: 0.9431, Val Acc: 66.80%, LR: 0.000998\n"
     ]
    },
    {
     "data": {
      "application/vnd.jupyter.widget-view+json": {
       "model_id": "298d827034ea4ba98129924708916e72",
       "version_major": 2,
       "version_minor": 0
      },
      "text/plain": [
       "Epoch 12/50 [Train]:   0%|          | 0/88 [00:00<?, ?it/s]"
      ]
     },
     "metadata": {},
     "output_type": "display_data"
    },
    {
     "data": {
      "application/vnd.jupyter.widget-view+json": {
       "model_id": "f0eb61115a6a42478f39be43bcc93322",
       "version_major": 2,
       "version_minor": 0
      },
      "text/plain": [
       "Epoch 12/50 [Valid]:   0%|          | 0/10 [00:00<?, ?it/s]"
      ]
     },
     "metadata": {},
     "output_type": "display_data"
    },
    {
     "name": "stdout",
     "output_type": "stream",
     "text": [
      "Epoch 12/50, Train Loss: 0.9780, Train Acc: 65.61%, Val Loss: 0.9350, Val Acc: 66.98%, LR: 0.000994\n"
     ]
    },
    {
     "data": {
      "application/vnd.jupyter.widget-view+json": {
       "model_id": "0c2ac59de8674964a8e376e27bc4a86a",
       "version_major": 2,
       "version_minor": 0
      },
      "text/plain": [
       "Epoch 13/50 [Train]:   0%|          | 0/88 [00:00<?, ?it/s]"
      ]
     },
     "metadata": {},
     "output_type": "display_data"
    },
    {
     "data": {
      "application/vnd.jupyter.widget-view+json": {
       "model_id": "9d2c8edaa05047a7a7714316b3f2da85",
       "version_major": 2,
       "version_minor": 0
      },
      "text/plain": [
       "Epoch 13/50 [Valid]:   0%|          | 0/10 [00:00<?, ?it/s]"
      ]
     },
     "metadata": {},
     "output_type": "display_data"
    },
    {
     "name": "stdout",
     "output_type": "stream",
     "text": [
      "Epoch 13/50, Train Loss: 0.9657, Train Acc: 66.02%, Val Loss: 0.9480, Val Acc: 66.84%, LR: 0.000986\n"
     ]
    },
    {
     "data": {
      "application/vnd.jupyter.widget-view+json": {
       "model_id": "26a795ef7698422180578841241ed38a",
       "version_major": 2,
       "version_minor": 0
      },
      "text/plain": [
       "Epoch 14/50 [Train]:   0%|          | 0/88 [00:00<?, ?it/s]"
      ]
     },
     "metadata": {},
     "output_type": "display_data"
    },
    {
     "data": {
      "application/vnd.jupyter.widget-view+json": {
       "model_id": "bae00ba1a5154d22945302f4636936bf",
       "version_major": 2,
       "version_minor": 0
      },
      "text/plain": [
       "Epoch 14/50 [Valid]:   0%|          | 0/10 [00:00<?, ?it/s]"
      ]
     },
     "metadata": {},
     "output_type": "display_data"
    },
    {
     "name": "stdout",
     "output_type": "stream",
     "text": [
      "Epoch 14/50, Train Loss: 0.9513, Train Acc: 66.61%, Val Loss: 0.9727, Val Acc: 66.06%, LR: 0.000976\n"
     ]
    },
    {
     "data": {
      "application/vnd.jupyter.widget-view+json": {
       "model_id": "4618588b5ce440f2a8e5d97a498d8281",
       "version_major": 2,
       "version_minor": 0
      },
      "text/plain": [
       "Epoch 15/50 [Train]:   0%|          | 0/88 [00:00<?, ?it/s]"
      ]
     },
     "metadata": {},
     "output_type": "display_data"
    },
    {
     "data": {
      "application/vnd.jupyter.widget-view+json": {
       "model_id": "328ecd18a83b46d59c7eded28350998b",
       "version_major": 2,
       "version_minor": 0
      },
      "text/plain": [
       "Epoch 15/50 [Valid]:   0%|          | 0/10 [00:00<?, ?it/s]"
      ]
     },
     "metadata": {},
     "output_type": "display_data"
    },
    {
     "name": "stdout",
     "output_type": "stream",
     "text": [
      "Epoch 15/50, Train Loss: 0.9492, Train Acc: 66.36%, Val Loss: 0.9254, Val Acc: 68.20%, LR: 0.000962\n"
     ]
    },
    {
     "data": {
      "application/vnd.jupyter.widget-view+json": {
       "model_id": "fa3155f3572c4889bb329c617a4347e9",
       "version_major": 2,
       "version_minor": 0
      },
      "text/plain": [
       "Epoch 16/50 [Train]:   0%|          | 0/88 [00:00<?, ?it/s]"
      ]
     },
     "metadata": {},
     "output_type": "display_data"
    },
    {
     "data": {
      "application/vnd.jupyter.widget-view+json": {
       "model_id": "5fc289b2b6a74f7f9348bf5686e6809d",
       "version_major": 2,
       "version_minor": 0
      },
      "text/plain": [
       "Epoch 16/50 [Valid]:   0%|          | 0/10 [00:00<?, ?it/s]"
      ]
     },
     "metadata": {},
     "output_type": "display_data"
    },
    {
     "name": "stdout",
     "output_type": "stream",
     "text": [
      "Epoch 16/50, Train Loss: 0.9384, Train Acc: 66.96%, Val Loss: 0.9231, Val Acc: 67.74%, LR: 0.000946\n"
     ]
    },
    {
     "data": {
      "application/vnd.jupyter.widget-view+json": {
       "model_id": "09a53d8e79a945deaa0f6b4f3d5d8095",
       "version_major": 2,
       "version_minor": 0
      },
      "text/plain": [
       "Epoch 17/50 [Train]:   0%|          | 0/88 [00:00<?, ?it/s]"
      ]
     },
     "metadata": {},
     "output_type": "display_data"
    },
    {
     "data": {
      "application/vnd.jupyter.widget-view+json": {
       "model_id": "e77f67fddbdf46bf9394f8d265ce46f0",
       "version_major": 2,
       "version_minor": 0
      },
      "text/plain": [
       "Epoch 17/50 [Valid]:   0%|          | 0/10 [00:00<?, ?it/s]"
      ]
     },
     "metadata": {},
     "output_type": "display_data"
    },
    {
     "name": "stdout",
     "output_type": "stream",
     "text": [
      "Epoch 17/50, Train Loss: 0.9338, Train Acc: 67.06%, Val Loss: 0.9168, Val Acc: 68.08%, LR: 0.000927\n"
     ]
    },
    {
     "data": {
      "application/vnd.jupyter.widget-view+json": {
       "model_id": "6155aea0baf6462fb32fd1b25115ac2b",
       "version_major": 2,
       "version_minor": 0
      },
      "text/plain": [
       "Epoch 18/50 [Train]:   0%|          | 0/88 [00:00<?, ?it/s]"
      ]
     },
     "metadata": {},
     "output_type": "display_data"
    },
    {
     "data": {
      "application/vnd.jupyter.widget-view+json": {
       "model_id": "c3f69bdb1fc84fd09a4623244496cd22",
       "version_major": 2,
       "version_minor": 0
      },
      "text/plain": [
       "Epoch 18/50 [Valid]:   0%|          | 0/10 [00:00<?, ?it/s]"
      ]
     },
     "metadata": {},
     "output_type": "display_data"
    },
    {
     "name": "stdout",
     "output_type": "stream",
     "text": [
      "Epoch 18/50, Train Loss: 0.9167, Train Acc: 67.86%, Val Loss: 0.9459, Val Acc: 67.22%, LR: 0.000905\n"
     ]
    },
    {
     "data": {
      "application/vnd.jupyter.widget-view+json": {
       "model_id": "910d5a65cf944d28b3285b09524987a9",
       "version_major": 2,
       "version_minor": 0
      },
      "text/plain": [
       "Epoch 19/50 [Train]:   0%|          | 0/88 [00:00<?, ?it/s]"
      ]
     },
     "metadata": {},
     "output_type": "display_data"
    },
    {
     "data": {
      "application/vnd.jupyter.widget-view+json": {
       "model_id": "b49b27fb2fb2412b886b37134b018688",
       "version_major": 2,
       "version_minor": 0
      },
      "text/plain": [
       "Epoch 19/50 [Valid]:   0%|          | 0/10 [00:00<?, ?it/s]"
      ]
     },
     "metadata": {},
     "output_type": "display_data"
    },
    {
     "name": "stdout",
     "output_type": "stream",
     "text": [
      "Epoch 19/50, Train Loss: 0.9074, Train Acc: 68.02%, Val Loss: 0.9128, Val Acc: 68.04%, LR: 0.000881\n"
     ]
    },
    {
     "data": {
      "application/vnd.jupyter.widget-view+json": {
       "model_id": "a8784f6a9ee44501b2ec07c4848cf029",
       "version_major": 2,
       "version_minor": 0
      },
      "text/plain": [
       "Epoch 20/50 [Train]:   0%|          | 0/88 [00:00<?, ?it/s]"
      ]
     },
     "metadata": {},
     "output_type": "display_data"
    },
    {
     "data": {
      "application/vnd.jupyter.widget-view+json": {
       "model_id": "0ef9e1dc6ecf4cc28d021cb95997bf16",
       "version_major": 2,
       "version_minor": 0
      },
      "text/plain": [
       "Epoch 20/50 [Valid]:   0%|          | 0/10 [00:00<?, ?it/s]"
      ]
     },
     "metadata": {},
     "output_type": "display_data"
    },
    {
     "name": "stdout",
     "output_type": "stream",
     "text": [
      "Epoch 20/50, Train Loss: 0.9039, Train Acc: 68.00%, Val Loss: 0.9109, Val Acc: 68.04%, LR: 0.000855\n"
     ]
    },
    {
     "data": {
      "application/vnd.jupyter.widget-view+json": {
       "model_id": "529fcc8085754596bbb7a1bdbcf9f788",
       "version_major": 2,
       "version_minor": 0
      },
      "text/plain": [
       "Epoch 21/50 [Train]:   0%|          | 0/88 [00:00<?, ?it/s]"
      ]
     },
     "metadata": {},
     "output_type": "display_data"
    },
    {
     "data": {
      "application/vnd.jupyter.widget-view+json": {
       "model_id": "4974d3a2d30c459fb0efe2ba308faed2",
       "version_major": 2,
       "version_minor": 0
      },
      "text/plain": [
       "Epoch 21/50 [Valid]:   0%|          | 0/10 [00:00<?, ?it/s]"
      ]
     },
     "metadata": {},
     "output_type": "display_data"
    },
    {
     "name": "stdout",
     "output_type": "stream",
     "text": [
      "Epoch 21/50, Train Loss: 0.8919, Train Acc: 68.50%, Val Loss: 0.9206, Val Acc: 68.28%, LR: 0.000826\n"
     ]
    },
    {
     "data": {
      "application/vnd.jupyter.widget-view+json": {
       "model_id": "7a6777f624cd4d849ae57ad636e495fb",
       "version_major": 2,
       "version_minor": 0
      },
      "text/plain": [
       "Epoch 22/50 [Train]:   0%|          | 0/88 [00:00<?, ?it/s]"
      ]
     },
     "metadata": {},
     "output_type": "display_data"
    },
    {
     "data": {
      "application/vnd.jupyter.widget-view+json": {
       "model_id": "9be2ec5016604ed39fbca88f98df2d7a",
       "version_major": 2,
       "version_minor": 0
      },
      "text/plain": [
       "Epoch 22/50 [Valid]:   0%|          | 0/10 [00:00<?, ?it/s]"
      ]
     },
     "metadata": {},
     "output_type": "display_data"
    },
    {
     "name": "stdout",
     "output_type": "stream",
     "text": [
      "Epoch 22/50, Train Loss: 0.8904, Train Acc: 68.62%, Val Loss: 0.9137, Val Acc: 68.18%, LR: 0.000796\n"
     ]
    },
    {
     "data": {
      "application/vnd.jupyter.widget-view+json": {
       "model_id": "75bad249b7bd4e2ea6943a3162eb9f8a",
       "version_major": 2,
       "version_minor": 0
      },
      "text/plain": [
       "Epoch 23/50 [Train]:   0%|          | 0/88 [00:00<?, ?it/s]"
      ]
     },
     "metadata": {},
     "output_type": "display_data"
    },
    {
     "data": {
      "application/vnd.jupyter.widget-view+json": {
       "model_id": "5e611c87b28a48d28255301c6977a53a",
       "version_major": 2,
       "version_minor": 0
      },
      "text/plain": [
       "Epoch 23/50 [Valid]:   0%|          | 0/10 [00:00<?, ?it/s]"
      ]
     },
     "metadata": {},
     "output_type": "display_data"
    },
    {
     "name": "stdout",
     "output_type": "stream",
     "text": [
      "Epoch 23/50, Train Loss: 0.8841, Train Acc: 68.80%, Val Loss: 0.9109, Val Acc: 68.38%, LR: 0.000764\n"
     ]
    },
    {
     "data": {
      "application/vnd.jupyter.widget-view+json": {
       "model_id": "3c9d3c4ce0f24fddaec965e1456d5b54",
       "version_major": 2,
       "version_minor": 0
      },
      "text/plain": [
       "Epoch 24/50 [Train]:   0%|          | 0/88 [00:00<?, ?it/s]"
      ]
     },
     "metadata": {},
     "output_type": "display_data"
    },
    {
     "data": {
      "application/vnd.jupyter.widget-view+json": {
       "model_id": "4121787640394c0083a0120525854918",
       "version_major": 2,
       "version_minor": 0
      },
      "text/plain": [
       "Epoch 24/50 [Valid]:   0%|          | 0/10 [00:00<?, ?it/s]"
      ]
     },
     "metadata": {},
     "output_type": "display_data"
    },
    {
     "name": "stdout",
     "output_type": "stream",
     "text": [
      "Epoch 24/50, Train Loss: 0.8752, Train Acc: 69.13%, Val Loss: 0.9103, Val Acc: 68.46%, LR: 0.000730\n"
     ]
    },
    {
     "data": {
      "application/vnd.jupyter.widget-view+json": {
       "model_id": "814bc404b9bf4dd893f4e77ce17cc33d",
       "version_major": 2,
       "version_minor": 0
      },
      "text/plain": [
       "Epoch 25/50 [Train]:   0%|          | 0/88 [00:00<?, ?it/s]"
      ]
     },
     "metadata": {},
     "output_type": "display_data"
    },
    {
     "data": {
      "application/vnd.jupyter.widget-view+json": {
       "model_id": "c558da834700427ab55d3278f835c09f",
       "version_major": 2,
       "version_minor": 0
      },
      "text/plain": [
       "Epoch 25/50 [Valid]:   0%|          | 0/10 [00:00<?, ?it/s]"
      ]
     },
     "metadata": {},
     "output_type": "display_data"
    },
    {
     "name": "stdout",
     "output_type": "stream",
     "text": [
      "Epoch 25/50, Train Loss: 0.8604, Train Acc: 69.82%, Val Loss: 0.9003, Val Acc: 68.88%, LR: 0.000694\n"
     ]
    },
    {
     "data": {
      "application/vnd.jupyter.widget-view+json": {
       "model_id": "0806b52222fc4b62a43a2e55a575b640",
       "version_major": 2,
       "version_minor": 0
      },
      "text/plain": [
       "Epoch 26/50 [Train]:   0%|          | 0/88 [00:00<?, ?it/s]"
      ]
     },
     "metadata": {},
     "output_type": "display_data"
    },
    {
     "data": {
      "application/vnd.jupyter.widget-view+json": {
       "model_id": "80049caaaf0b4c49b4775945131cf43c",
       "version_major": 2,
       "version_minor": 0
      },
      "text/plain": [
       "Epoch 26/50 [Valid]:   0%|          | 0/10 [00:00<?, ?it/s]"
      ]
     },
     "metadata": {},
     "output_type": "display_data"
    },
    {
     "name": "stdout",
     "output_type": "stream",
     "text": [
      "Epoch 26/50, Train Loss: 0.8572, Train Acc: 70.09%, Val Loss: 0.9244, Val Acc: 68.08%, LR: 0.000658\n"
     ]
    },
    {
     "data": {
      "application/vnd.jupyter.widget-view+json": {
       "model_id": "141841b6751444c683a96e85e9b2715d",
       "version_major": 2,
       "version_minor": 0
      },
      "text/plain": [
       "Epoch 27/50 [Train]:   0%|          | 0/88 [00:00<?, ?it/s]"
      ]
     },
     "metadata": {},
     "output_type": "display_data"
    },
    {
     "data": {
      "application/vnd.jupyter.widget-view+json": {
       "model_id": "f0b3f0dac97746b288d04d100baafdd9",
       "version_major": 2,
       "version_minor": 0
      },
      "text/plain": [
       "Epoch 27/50 [Valid]:   0%|          | 0/10 [00:00<?, ?it/s]"
      ]
     },
     "metadata": {},
     "output_type": "display_data"
    },
    {
     "name": "stdout",
     "output_type": "stream",
     "text": [
      "Epoch 27/50, Train Loss: 0.8517, Train Acc: 70.02%, Val Loss: 0.9318, Val Acc: 67.72%, LR: 0.000621\n"
     ]
    },
    {
     "data": {
      "application/vnd.jupyter.widget-view+json": {
       "model_id": "da194c25344145d8a37f36050567fdc1",
       "version_major": 2,
       "version_minor": 0
      },
      "text/plain": [
       "Epoch 28/50 [Train]:   0%|          | 0/88 [00:00<?, ?it/s]"
      ]
     },
     "metadata": {},
     "output_type": "display_data"
    },
    {
     "data": {
      "application/vnd.jupyter.widget-view+json": {
       "model_id": "d4fdad7ff5a14b63a2b6f34a42f63287",
       "version_major": 2,
       "version_minor": 0
      },
      "text/plain": [
       "Epoch 28/50 [Valid]:   0%|          | 0/10 [00:00<?, ?it/s]"
      ]
     },
     "metadata": {},
     "output_type": "display_data"
    },
    {
     "name": "stdout",
     "output_type": "stream",
     "text": [
      "Epoch 28/50, Train Loss: 0.8458, Train Acc: 70.31%, Val Loss: 0.8859, Val Acc: 68.78%, LR: 0.000582\n"
     ]
    },
    {
     "data": {
      "application/vnd.jupyter.widget-view+json": {
       "model_id": "524b8132bf1b4b9fb45fbf7364bb6bc6",
       "version_major": 2,
       "version_minor": 0
      },
      "text/plain": [
       "Epoch 29/50 [Train]:   0%|          | 0/88 [00:00<?, ?it/s]"
      ]
     },
     "metadata": {},
     "output_type": "display_data"
    },
    {
     "data": {
      "application/vnd.jupyter.widget-view+json": {
       "model_id": "9162b34400a346af854fbe0802599a82",
       "version_major": 2,
       "version_minor": 0
      },
      "text/plain": [
       "Epoch 29/50 [Valid]:   0%|          | 0/10 [00:00<?, ?it/s]"
      ]
     },
     "metadata": {},
     "output_type": "display_data"
    },
    {
     "name": "stdout",
     "output_type": "stream",
     "text": [
      "Epoch 29/50, Train Loss: 0.8362, Train Acc: 70.59%, Val Loss: 0.8977, Val Acc: 69.16%, LR: 0.000544\n"
     ]
    },
    {
     "data": {
      "application/vnd.jupyter.widget-view+json": {
       "model_id": "a86173d30d034baeba5931902823d34c",
       "version_major": 2,
       "version_minor": 0
      },
      "text/plain": [
       "Epoch 30/50 [Train]:   0%|          | 0/88 [00:00<?, ?it/s]"
      ]
     },
     "metadata": {},
     "output_type": "display_data"
    },
    {
     "data": {
      "application/vnd.jupyter.widget-view+json": {
       "model_id": "e8291e68c0274d83b4e2af121cc21f7a",
       "version_major": 2,
       "version_minor": 0
      },
      "text/plain": [
       "Epoch 30/50 [Valid]:   0%|          | 0/10 [00:00<?, ?it/s]"
      ]
     },
     "metadata": {},
     "output_type": "display_data"
    },
    {
     "name": "stdout",
     "output_type": "stream",
     "text": [
      "Epoch 30/50, Train Loss: 0.8252, Train Acc: 70.96%, Val Loss: 0.8998, Val Acc: 69.24%, LR: 0.000505\n"
     ]
    },
    {
     "data": {
      "application/vnd.jupyter.widget-view+json": {
       "model_id": "7ed3986c98fa488dbe7cf3c2e1366a20",
       "version_major": 2,
       "version_minor": 0
      },
      "text/plain": [
       "Epoch 31/50 [Train]:   0%|          | 0/88 [00:00<?, ?it/s]"
      ]
     },
     "metadata": {},
     "output_type": "display_data"
    },
    {
     "data": {
      "application/vnd.jupyter.widget-view+json": {
       "model_id": "166486a860234c7a9fa644d790c31091",
       "version_major": 2,
       "version_minor": 0
      },
      "text/plain": [
       "Epoch 31/50 [Valid]:   0%|          | 0/10 [00:00<?, ?it/s]"
      ]
     },
     "metadata": {},
     "output_type": "display_data"
    },
    {
     "name": "stdout",
     "output_type": "stream",
     "text": [
      "Epoch 31/50, Train Loss: 0.8226, Train Acc: 70.86%, Val Loss: 0.8919, Val Acc: 69.28%, LR: 0.000466\n"
     ]
    },
    {
     "data": {
      "application/vnd.jupyter.widget-view+json": {
       "model_id": "5b67daf74dd44b7cb715f7a9a6c544ac",
       "version_major": 2,
       "version_minor": 0
      },
      "text/plain": [
       "Epoch 32/50 [Train]:   0%|          | 0/88 [00:00<?, ?it/s]"
      ]
     },
     "metadata": {},
     "output_type": "display_data"
    },
    {
     "data": {
      "application/vnd.jupyter.widget-view+json": {
       "model_id": "00799c6f52e147ccbe1bf2afd95be5d9",
       "version_major": 2,
       "version_minor": 0
      },
      "text/plain": [
       "Epoch 32/50 [Valid]:   0%|          | 0/10 [00:00<?, ?it/s]"
      ]
     },
     "metadata": {},
     "output_type": "display_data"
    },
    {
     "name": "stdout",
     "output_type": "stream",
     "text": [
      "Epoch 32/50, Train Loss: 0.8193, Train Acc: 71.20%, Val Loss: 0.8889, Val Acc: 69.40%, LR: 0.000428\n"
     ]
    },
    {
     "data": {
      "application/vnd.jupyter.widget-view+json": {
       "model_id": "221d64dea3674fb985a4af7e03b6fefb",
       "version_major": 2,
       "version_minor": 0
      },
      "text/plain": [
       "Epoch 33/50 [Train]:   0%|          | 0/88 [00:00<?, ?it/s]"
      ]
     },
     "metadata": {},
     "output_type": "display_data"
    },
    {
     "data": {
      "application/vnd.jupyter.widget-view+json": {
       "model_id": "badd46911de64456860d0f8e28b220df",
       "version_major": 2,
       "version_minor": 0
      },
      "text/plain": [
       "Epoch 33/50 [Valid]:   0%|          | 0/10 [00:00<?, ?it/s]"
      ]
     },
     "metadata": {},
     "output_type": "display_data"
    },
    {
     "name": "stdout",
     "output_type": "stream",
     "text": [
      "Epoch 33/50, Train Loss: 0.8098, Train Acc: 71.41%, Val Loss: 0.8983, Val Acc: 69.24%, LR: 0.000389\n"
     ]
    },
    {
     "data": {
      "application/vnd.jupyter.widget-view+json": {
       "model_id": "32858ab699784dddb746f12cb9b21e65",
       "version_major": 2,
       "version_minor": 0
      },
      "text/plain": [
       "Epoch 34/50 [Train]:   0%|          | 0/88 [00:00<?, ?it/s]"
      ]
     },
     "metadata": {},
     "output_type": "display_data"
    },
    {
     "data": {
      "application/vnd.jupyter.widget-view+json": {
       "model_id": "05190496af1d49f1a21815c5626d6697",
       "version_major": 2,
       "version_minor": 0
      },
      "text/plain": [
       "Epoch 34/50 [Valid]:   0%|          | 0/10 [00:00<?, ?it/s]"
      ]
     },
     "metadata": {},
     "output_type": "display_data"
    },
    {
     "name": "stdout",
     "output_type": "stream",
     "text": [
      "Epoch 34/50, Train Loss: 0.7939, Train Acc: 71.98%, Val Loss: 0.8853, Val Acc: 69.84%, LR: 0.000352\n"
     ]
    },
    {
     "data": {
      "application/vnd.jupyter.widget-view+json": {
       "model_id": "f77ebc6f1f9b4645aa9ea732edf8feb9",
       "version_major": 2,
       "version_minor": 0
      },
      "text/plain": [
       "Epoch 35/50 [Train]:   0%|          | 0/88 [00:00<?, ?it/s]"
      ]
     },
     "metadata": {},
     "output_type": "display_data"
    },
    {
     "data": {
      "application/vnd.jupyter.widget-view+json": {
       "model_id": "718261135c5e4c53b604650a0c7955c2",
       "version_major": 2,
       "version_minor": 0
      },
      "text/plain": [
       "Epoch 35/50 [Valid]:   0%|          | 0/10 [00:00<?, ?it/s]"
      ]
     },
     "metadata": {},
     "output_type": "display_data"
    },
    {
     "name": "stdout",
     "output_type": "stream",
     "text": [
      "Epoch 35/50, Train Loss: 0.7956, Train Acc: 71.98%, Val Loss: 0.8975, Val Acc: 69.18%, LR: 0.000316\n"
     ]
    },
    {
     "data": {
      "application/vnd.jupyter.widget-view+json": {
       "model_id": "a8d928e2ecda4b70a0634cb850a67070",
       "version_major": 2,
       "version_minor": 0
      },
      "text/plain": [
       "Epoch 36/50 [Train]:   0%|          | 0/88 [00:00<?, ?it/s]"
      ]
     },
     "metadata": {},
     "output_type": "display_data"
    },
    {
     "data": {
      "application/vnd.jupyter.widget-view+json": {
       "model_id": "2aa18299a20d483d9ee95f42adfeab43",
       "version_major": 2,
       "version_minor": 0
      },
      "text/plain": [
       "Epoch 36/50 [Valid]:   0%|          | 0/10 [00:00<?, ?it/s]"
      ]
     },
     "metadata": {},
     "output_type": "display_data"
    },
    {
     "name": "stdout",
     "output_type": "stream",
     "text": [
      "Epoch 36/50, Train Loss: 0.7889, Train Acc: 72.38%, Val Loss: 0.8779, Val Acc: 69.84%, LR: 0.000280\n"
     ]
    },
    {
     "data": {
      "application/vnd.jupyter.widget-view+json": {
       "model_id": "7e3899bc619b4efc997920cdeb018049",
       "version_major": 2,
       "version_minor": 0
      },
      "text/plain": [
       "Epoch 37/50 [Train]:   0%|          | 0/88 [00:00<?, ?it/s]"
      ]
     },
     "metadata": {},
     "output_type": "display_data"
    },
    {
     "data": {
      "application/vnd.jupyter.widget-view+json": {
       "model_id": "5ae02a847e414250895f776c18348105",
       "version_major": 2,
       "version_minor": 0
      },
      "text/plain": [
       "Epoch 37/50 [Valid]:   0%|          | 0/10 [00:00<?, ?it/s]"
      ]
     },
     "metadata": {},
     "output_type": "display_data"
    },
    {
     "name": "stdout",
     "output_type": "stream",
     "text": [
      "Epoch 37/50, Train Loss: 0.7903, Train Acc: 72.22%, Val Loss: 0.8863, Val Acc: 70.12%, LR: 0.000246\n"
     ]
    },
    {
     "data": {
      "application/vnd.jupyter.widget-view+json": {
       "model_id": "e0d296b77d574a538ab80a33095c7eed",
       "version_major": 2,
       "version_minor": 0
      },
      "text/plain": [
       "Epoch 38/50 [Train]:   0%|          | 0/88 [00:00<?, ?it/s]"
      ]
     },
     "metadata": {},
     "output_type": "display_data"
    },
    {
     "data": {
      "application/vnd.jupyter.widget-view+json": {
       "model_id": "8318f704975c49f98eaa4b3e7dbf56e3",
       "version_major": 2,
       "version_minor": 0
      },
      "text/plain": [
       "Epoch 38/50 [Valid]:   0%|          | 0/10 [00:00<?, ?it/s]"
      ]
     },
     "metadata": {},
     "output_type": "display_data"
    },
    {
     "name": "stdout",
     "output_type": "stream",
     "text": [
      "Epoch 38/50, Train Loss: 0.7847, Train Acc: 72.49%, Val Loss: 0.8901, Val Acc: 69.36%, LR: 0.000214\n"
     ]
    },
    {
     "data": {
      "application/vnd.jupyter.widget-view+json": {
       "model_id": "2cfc2bfd197943bab7f1937eb2389d32",
       "version_major": 2,
       "version_minor": 0
      },
      "text/plain": [
       "Epoch 39/50 [Train]:   0%|          | 0/88 [00:00<?, ?it/s]"
      ]
     },
     "metadata": {},
     "output_type": "display_data"
    },
    {
     "data": {
      "application/vnd.jupyter.widget-view+json": {
       "model_id": "0bcac4ec7c95473fbe1ecda5e5c3988d",
       "version_major": 2,
       "version_minor": 0
      },
      "text/plain": [
       "Epoch 39/50 [Valid]:   0%|          | 0/10 [00:00<?, ?it/s]"
      ]
     },
     "metadata": {},
     "output_type": "display_data"
    },
    {
     "name": "stdout",
     "output_type": "stream",
     "text": [
      "Epoch 39/50, Train Loss: 0.7799, Train Acc: 72.53%, Val Loss: 0.8873, Val Acc: 69.60%, LR: 0.000184\n"
     ]
    },
    {
     "data": {
      "application/vnd.jupyter.widget-view+json": {
       "model_id": "da5e33e1ba4f4629a28e0b267b589e7a",
       "version_major": 2,
       "version_minor": 0
      },
      "text/plain": [
       "Epoch 40/50 [Train]:   0%|          | 0/88 [00:00<?, ?it/s]"
      ]
     },
     "metadata": {},
     "output_type": "display_data"
    },
    {
     "data": {
      "application/vnd.jupyter.widget-view+json": {
       "model_id": "1c86b3c5c346413e9b9ddfae141d5870",
       "version_major": 2,
       "version_minor": 0
      },
      "text/plain": [
       "Epoch 40/50 [Valid]:   0%|          | 0/10 [00:00<?, ?it/s]"
      ]
     },
     "metadata": {},
     "output_type": "display_data"
    },
    {
     "name": "stdout",
     "output_type": "stream",
     "text": [
      "Epoch 40/50, Train Loss: 0.7764, Train Acc: 72.68%, Val Loss: 0.8940, Val Acc: 69.80%, LR: 0.000155\n"
     ]
    },
    {
     "data": {
      "application/vnd.jupyter.widget-view+json": {
       "model_id": "22b439e939874a7aaaf014cd03a4d883",
       "version_major": 2,
       "version_minor": 0
      },
      "text/plain": [
       "Epoch 41/50 [Train]:   0%|          | 0/88 [00:00<?, ?it/s]"
      ]
     },
     "metadata": {},
     "output_type": "display_data"
    },
    {
     "data": {
      "application/vnd.jupyter.widget-view+json": {
       "model_id": "717d35a4a39c4e22ac1bbd1d3c15bd6e",
       "version_major": 2,
       "version_minor": 0
      },
      "text/plain": [
       "Epoch 41/50 [Valid]:   0%|          | 0/10 [00:00<?, ?it/s]"
      ]
     },
     "metadata": {},
     "output_type": "display_data"
    },
    {
     "name": "stdout",
     "output_type": "stream",
     "text": [
      "Epoch 41/50, Train Loss: 0.7707, Train Acc: 72.73%, Val Loss: 0.8819, Val Acc: 70.02%, LR: 0.000129\n"
     ]
    },
    {
     "data": {
      "application/vnd.jupyter.widget-view+json": {
       "model_id": "bbd07a3cd35a4181856be32c3eef6149",
       "version_major": 2,
       "version_minor": 0
      },
      "text/plain": [
       "Epoch 42/50 [Train]:   0%|          | 0/88 [00:00<?, ?it/s]"
      ]
     },
     "metadata": {},
     "output_type": "display_data"
    },
    {
     "data": {
      "application/vnd.jupyter.widget-view+json": {
       "model_id": "eddaf1f5d0ba4ed8969aa6dd18239fd8",
       "version_major": 2,
       "version_minor": 0
      },
      "text/plain": [
       "Epoch 42/50 [Valid]:   0%|          | 0/10 [00:00<?, ?it/s]"
      ]
     },
     "metadata": {},
     "output_type": "display_data"
    },
    {
     "name": "stdout",
     "output_type": "stream",
     "text": [
      "Epoch 42/50, Train Loss: 0.7667, Train Acc: 73.21%, Val Loss: 0.8861, Val Acc: 69.88%, LR: 0.000105\n"
     ]
    },
    {
     "data": {
      "application/vnd.jupyter.widget-view+json": {
       "model_id": "9d8358a7c36546e693876713e722e558",
       "version_major": 2,
       "version_minor": 0
      },
      "text/plain": [
       "Epoch 43/50 [Train]:   0%|          | 0/88 [00:00<?, ?it/s]"
      ]
     },
     "metadata": {},
     "output_type": "display_data"
    },
    {
     "data": {
      "application/vnd.jupyter.widget-view+json": {
       "model_id": "91272ff927ba4af49dea9441035b0a9b",
       "version_major": 2,
       "version_minor": 0
      },
      "text/plain": [
       "Epoch 43/50 [Valid]:   0%|          | 0/10 [00:00<?, ?it/s]"
      ]
     },
     "metadata": {},
     "output_type": "display_data"
    },
    {
     "name": "stdout",
     "output_type": "stream",
     "text": [
      "Epoch 43/50, Train Loss: 0.7642, Train Acc: 73.18%, Val Loss: 0.8875, Val Acc: 69.50%, LR: 0.000083\n"
     ]
    },
    {
     "data": {
      "application/vnd.jupyter.widget-view+json": {
       "model_id": "3612264f8fcf46c68145fdc079289ec0",
       "version_major": 2,
       "version_minor": 0
      },
      "text/plain": [
       "Epoch 44/50 [Train]:   0%|          | 0/88 [00:00<?, ?it/s]"
      ]
     },
     "metadata": {},
     "output_type": "display_data"
    },
    {
     "data": {
      "application/vnd.jupyter.widget-view+json": {
       "model_id": "4c8401707567401082aee2b4a1b3624a",
       "version_major": 2,
       "version_minor": 0
      },
      "text/plain": [
       "Epoch 44/50 [Valid]:   0%|          | 0/10 [00:00<?, ?it/s]"
      ]
     },
     "metadata": {},
     "output_type": "display_data"
    },
    {
     "name": "stdout",
     "output_type": "stream",
     "text": [
      "Epoch 44/50, Train Loss: 0.7626, Train Acc: 73.31%, Val Loss: 0.8887, Val Acc: 69.80%, LR: 0.000064\n"
     ]
    },
    {
     "data": {
      "application/vnd.jupyter.widget-view+json": {
       "model_id": "8eca5f54fca4428c8b9ed191660a6424",
       "version_major": 2,
       "version_minor": 0
      },
      "text/plain": [
       "Epoch 45/50 [Train]:   0%|          | 0/88 [00:00<?, ?it/s]"
      ]
     },
     "metadata": {},
     "output_type": "display_data"
    },
    {
     "data": {
      "application/vnd.jupyter.widget-view+json": {
       "model_id": "2481a3c1c2764d6088aff5ff44b81f4a",
       "version_major": 2,
       "version_minor": 0
      },
      "text/plain": [
       "Epoch 45/50 [Valid]:   0%|          | 0/10 [00:00<?, ?it/s]"
      ]
     },
     "metadata": {},
     "output_type": "display_data"
    },
    {
     "name": "stdout",
     "output_type": "stream",
     "text": [
      "Epoch 45/50, Train Loss: 0.7536, Train Acc: 73.40%, Val Loss: 0.8833, Val Acc: 70.08%, LR: 0.000048\n"
     ]
    },
    {
     "data": {
      "application/vnd.jupyter.widget-view+json": {
       "model_id": "d71ab06389d54adabdf10094428a33da",
       "version_major": 2,
       "version_minor": 0
      },
      "text/plain": [
       "Epoch 46/50 [Train]:   0%|          | 0/88 [00:00<?, ?it/s]"
      ]
     },
     "metadata": {},
     "output_type": "display_data"
    },
    {
     "data": {
      "application/vnd.jupyter.widget-view+json": {
       "model_id": "3d28b4aab9d744eda69f88dcd0bcb977",
       "version_major": 2,
       "version_minor": 0
      },
      "text/plain": [
       "Epoch 46/50 [Valid]:   0%|          | 0/10 [00:00<?, ?it/s]"
      ]
     },
     "metadata": {},
     "output_type": "display_data"
    },
    {
     "name": "stdout",
     "output_type": "stream",
     "text": [
      "Epoch 46/50, Train Loss: 0.7558, Train Acc: 73.43%, Val Loss: 0.8855, Val Acc: 69.78%, LR: 0.000034\n"
     ]
    },
    {
     "data": {
      "application/vnd.jupyter.widget-view+json": {
       "model_id": "a06c56314dcd405dacb03aec61ca2292",
       "version_major": 2,
       "version_minor": 0
      },
      "text/plain": [
       "Epoch 47/50 [Train]:   0%|          | 0/88 [00:00<?, ?it/s]"
      ]
     },
     "metadata": {},
     "output_type": "display_data"
    },
    {
     "data": {
      "application/vnd.jupyter.widget-view+json": {
       "model_id": "80b55335cb9044219f68deb682723889",
       "version_major": 2,
       "version_minor": 0
      },
      "text/plain": [
       "Epoch 47/50 [Valid]:   0%|          | 0/10 [00:00<?, ?it/s]"
      ]
     },
     "metadata": {},
     "output_type": "display_data"
    },
    {
     "name": "stdout",
     "output_type": "stream",
     "text": [
      "Epoch 47/50, Train Loss: 0.7564, Train Acc: 73.36%, Val Loss: 0.8860, Val Acc: 69.82%, LR: 0.000024\n"
     ]
    },
    {
     "data": {
      "application/vnd.jupyter.widget-view+json": {
       "model_id": "aa15a1d2a2354fe2975eeac033a4c415",
       "version_major": 2,
       "version_minor": 0
      },
      "text/plain": [
       "Epoch 48/50 [Train]:   0%|          | 0/88 [00:00<?, ?it/s]"
      ]
     },
     "metadata": {},
     "output_type": "display_data"
    },
    {
     "data": {
      "application/vnd.jupyter.widget-view+json": {
       "model_id": "5d5cf4ab2a4e439b958a439626a21f36",
       "version_major": 2,
       "version_minor": 0
      },
      "text/plain": [
       "Epoch 48/50 [Valid]:   0%|          | 0/10 [00:00<?, ?it/s]"
      ]
     },
     "metadata": {},
     "output_type": "display_data"
    },
    {
     "name": "stdout",
     "output_type": "stream",
     "text": [
      "Epoch 48/50, Train Loss: 0.7525, Train Acc: 73.74%, Val Loss: 0.8851, Val Acc: 69.76%, LR: 0.000016\n"
     ]
    },
    {
     "data": {
      "application/vnd.jupyter.widget-view+json": {
       "model_id": "c38efe1298894c08af7a0b8a1aa3947a",
       "version_major": 2,
       "version_minor": 0
      },
      "text/plain": [
       "Epoch 49/50 [Train]:   0%|          | 0/88 [00:00<?, ?it/s]"
      ]
     },
     "metadata": {},
     "output_type": "display_data"
    },
    {
     "data": {
      "application/vnd.jupyter.widget-view+json": {
       "model_id": "f534f351aaf94e17baad9150424f7190",
       "version_major": 2,
       "version_minor": 0
      },
      "text/plain": [
       "Epoch 49/50 [Valid]:   0%|          | 0/10 [00:00<?, ?it/s]"
      ]
     },
     "metadata": {},
     "output_type": "display_data"
    },
    {
     "name": "stdout",
     "output_type": "stream",
     "text": [
      "Epoch 49/50, Train Loss: 0.7538, Train Acc: 73.49%, Val Loss: 0.8827, Val Acc: 69.86%, LR: 0.000012\n"
     ]
    },
    {
     "data": {
      "application/vnd.jupyter.widget-view+json": {
       "model_id": "4f30c5b938e44d0d899c00f5ad93fa5c",
       "version_major": 2,
       "version_minor": 0
      },
      "text/plain": [
       "Epoch 50/50 [Train]:   0%|          | 0/88 [00:00<?, ?it/s]"
      ]
     },
     "metadata": {},
     "output_type": "display_data"
    },
    {
     "data": {
      "application/vnd.jupyter.widget-view+json": {
       "model_id": "c66dfcf4475d4ce78a3c5bb0ff11b341",
       "version_major": 2,
       "version_minor": 0
      },
      "text/plain": [
       "Epoch 50/50 [Valid]:   0%|          | 0/10 [00:00<?, ?it/s]"
      ]
     },
     "metadata": {},
     "output_type": "display_data"
    },
    {
     "name": "stdout",
     "output_type": "stream",
     "text": [
      "Epoch 50/50, Train Loss: 0.7498, Train Acc: 73.79%, Val Loss: 0.8843, Val Acc: 69.98%, LR: 0.000010\n"
     ]
    },
    {
     "name": "stderr",
     "output_type": "stream",
     "text": [
      "/tmp/ipykernel_73/3313409929.py:106: FutureWarning: You are using `torch.load` with `weights_only=False` (the current default value), which uses the default pickle module implicitly. It is possible to construct malicious pickle data which will execute arbitrary code during unpickling (See https://github.com/pytorch/pytorch/blob/main/SECURITY.md#untrusted-models for more details). In a future release, the default value for `weights_only` will be flipped to `True`. This limits the functions that could be executed during unpickling. Arbitrary objects will no longer be allowed to be loaded via this mode unless they are explicitly allowlisted by the user via `torch.serialization.add_safe_globals`. We recommend you start setting `weights_only=True` for any use case where you don't have full control of the loaded file. Please open an issue on GitHub for any issues related to this experimental feature.\n",
      "  model.load_state_dict(torch.load(f\"cifar10_{experiment_name}.pth\"))\n"
     ]
    },
    {
     "name": "stdout",
     "output_type": "stream",
     "text": [
      "Test Accuracy (finetuned): 69.37%\n"
     ]
    }
   ],
   "source": [
    "classifier_finetuned = Classifier(\n",
    "    encoder=get_encoder(pretrained=True), num_classes=10\n",
    ").to(device)\n",
    "for param in classifier_finetuned.encoder.parameters():\n",
    "    param.requires_grad = False\n",
    "\n",
    "finetuned_train_losses, finetuned_val_losses, finetuned_test_acc = train_supervised(\n",
    "    classifier_finetuned,\n",
    "    train_loader,\n",
    "    val_loader,\n",
    "    test_loader,\n",
    "    epochs=FULL_DATA_EPOCHS,\n",
    "    warmup_epochs=WARMUP_EPOCHS,\n",
    "    initial_lr=INITIAL_LR,\n",
    "    final_lr=FINAL_LR,\n",
    "    experiment_name=\"finetuned\",\n",
    "    device=device,\n",
    ")"
   ]
  },
  {
   "cell_type": "markdown",
   "id": "74d799da",
   "metadata": {},
   "source": [
    "# Supervised Learninig Baseline"
   ]
  },
  {
   "cell_type": "code",
   "execution_count": 30,
   "id": "4aac3c61",
   "metadata": {
    "execution": {
     "iopub.execute_input": "2025-04-17T01:16:41.401304Z",
     "iopub.status.busy": "2025-04-17T01:16:41.400962Z",
     "iopub.status.idle": "2025-04-17T01:43:04.792221Z",
     "shell.execute_reply": "2025-04-17T01:43:04.791544Z",
     "shell.execute_reply.started": "2025-04-17T01:16:41.401265Z"
    },
    "trusted": true
   },
   "outputs": [
    {
     "data": {
      "application/vnd.jupyter.widget-view+json": {
       "model_id": "1eeb8fbaef18429883eaaec55c1733bf",
       "version_major": 2,
       "version_minor": 0
      },
      "text/plain": [
       "Epoch 1/50 [Train]:   0%|          | 0/88 [00:00<?, ?it/s]"
      ]
     },
     "metadata": {},
     "output_type": "display_data"
    },
    {
     "data": {
      "application/vnd.jupyter.widget-view+json": {
       "model_id": "528b7ce5e1474f9096d011598c28829a",
       "version_major": 2,
       "version_minor": 0
      },
      "text/plain": [
       "Epoch 1/50 [Valid]:   0%|          | 0/10 [00:00<?, ?it/s]"
      ]
     },
     "metadata": {},
     "output_type": "display_data"
    },
    {
     "name": "stdout",
     "output_type": "stream",
     "text": [
      "Epoch 1/50, Train Loss: 2.2431, Train Acc: 16.56%, Val Loss: 2.1265, Val Acc: 24.06%, LR: 0.000190\n"
     ]
    },
    {
     "data": {
      "application/vnd.jupyter.widget-view+json": {
       "model_id": "fb4595b4a8eb48cbb55836635947cec7",
       "version_major": 2,
       "version_minor": 0
      },
      "text/plain": [
       "Epoch 2/50 [Train]:   0%|          | 0/88 [00:00<?, ?it/s]"
      ]
     },
     "metadata": {},
     "output_type": "display_data"
    },
    {
     "data": {
      "application/vnd.jupyter.widget-view+json": {
       "model_id": "67b7bd3022044d138db1d5692ac7fced",
       "version_major": 2,
       "version_minor": 0
      },
      "text/plain": [
       "Epoch 2/50 [Valid]:   0%|          | 0/10 [00:00<?, ?it/s]"
      ]
     },
     "metadata": {},
     "output_type": "display_data"
    },
    {
     "name": "stdout",
     "output_type": "stream",
     "text": [
      "Epoch 2/50, Train Loss: 2.1355, Train Acc: 22.26%, Val Loss: 2.0246, Val Acc: 27.34%, LR: 0.000280\n"
     ]
    },
    {
     "data": {
      "application/vnd.jupyter.widget-view+json": {
       "model_id": "c5d0bfcd90e8457bb08411e505b72169",
       "version_major": 2,
       "version_minor": 0
      },
      "text/plain": [
       "Epoch 3/50 [Train]:   0%|          | 0/88 [00:00<?, ?it/s]"
      ]
     },
     "metadata": {},
     "output_type": "display_data"
    },
    {
     "data": {
      "application/vnd.jupyter.widget-view+json": {
       "model_id": "e18c1af522d845448653e3454ee1c75b",
       "version_major": 2,
       "version_minor": 0
      },
      "text/plain": [
       "Epoch 3/50 [Valid]:   0%|          | 0/10 [00:00<?, ?it/s]"
      ]
     },
     "metadata": {},
     "output_type": "display_data"
    },
    {
     "name": "stdout",
     "output_type": "stream",
     "text": [
      "Epoch 3/50, Train Loss: 2.0915, Train Acc: 23.78%, Val Loss: 1.9728, Val Acc: 29.14%, LR: 0.000370\n"
     ]
    },
    {
     "data": {
      "application/vnd.jupyter.widget-view+json": {
       "model_id": "37b5179624f14ded8ad75f52159ae086",
       "version_major": 2,
       "version_minor": 0
      },
      "text/plain": [
       "Epoch 4/50 [Train]:   0%|          | 0/88 [00:00<?, ?it/s]"
      ]
     },
     "metadata": {},
     "output_type": "display_data"
    },
    {
     "data": {
      "application/vnd.jupyter.widget-view+json": {
       "model_id": "f891d2b6d98d46739dd300a5efddcc8b",
       "version_major": 2,
       "version_minor": 0
      },
      "text/plain": [
       "Epoch 4/50 [Valid]:   0%|          | 0/10 [00:00<?, ?it/s]"
      ]
     },
     "metadata": {},
     "output_type": "display_data"
    },
    {
     "name": "stdout",
     "output_type": "stream",
     "text": [
      "Epoch 4/50, Train Loss: 2.0703, Train Acc: 24.61%, Val Loss: 1.9611, Val Acc: 29.24%, LR: 0.000460\n"
     ]
    },
    {
     "data": {
      "application/vnd.jupyter.widget-view+json": {
       "model_id": "2c0031449b5a48b6aa64fb40052a827a",
       "version_major": 2,
       "version_minor": 0
      },
      "text/plain": [
       "Epoch 5/50 [Train]:   0%|          | 0/88 [00:00<?, ?it/s]"
      ]
     },
     "metadata": {},
     "output_type": "display_data"
    },
    {
     "data": {
      "application/vnd.jupyter.widget-view+json": {
       "model_id": "ff7cb82273dc49a893f1dbacadbbc16d",
       "version_major": 2,
       "version_minor": 0
      },
      "text/plain": [
       "Epoch 5/50 [Valid]:   0%|          | 0/10 [00:00<?, ?it/s]"
      ]
     },
     "metadata": {},
     "output_type": "display_data"
    },
    {
     "name": "stdout",
     "output_type": "stream",
     "text": [
      "Epoch 5/50, Train Loss: 2.0531, Train Acc: 25.73%, Val Loss: 1.9484, Val Acc: 30.00%, LR: 0.000550\n"
     ]
    },
    {
     "data": {
      "application/vnd.jupyter.widget-view+json": {
       "model_id": "2847ad811c4e41fe8204568689950a3c",
       "version_major": 2,
       "version_minor": 0
      },
      "text/plain": [
       "Epoch 6/50 [Train]:   0%|          | 0/88 [00:00<?, ?it/s]"
      ]
     },
     "metadata": {},
     "output_type": "display_data"
    },
    {
     "data": {
      "application/vnd.jupyter.widget-view+json": {
       "model_id": "989cfa20f412435e98f712bec6d75b02",
       "version_major": 2,
       "version_minor": 0
      },
      "text/plain": [
       "Epoch 6/50 [Valid]:   0%|          | 0/10 [00:00<?, ?it/s]"
      ]
     },
     "metadata": {},
     "output_type": "display_data"
    },
    {
     "name": "stdout",
     "output_type": "stream",
     "text": [
      "Epoch 6/50, Train Loss: 2.0442, Train Acc: 25.95%, Val Loss: 1.9345, Val Acc: 30.50%, LR: 0.000640\n"
     ]
    },
    {
     "data": {
      "application/vnd.jupyter.widget-view+json": {
       "model_id": "0e190af247124f8785981da0fdd992a6",
       "version_major": 2,
       "version_minor": 0
      },
      "text/plain": [
       "Epoch 7/50 [Train]:   0%|          | 0/88 [00:00<?, ?it/s]"
      ]
     },
     "metadata": {},
     "output_type": "display_data"
    },
    {
     "data": {
      "application/vnd.jupyter.widget-view+json": {
       "model_id": "5a4115b0081c439aaece840c90bc2b64",
       "version_major": 2,
       "version_minor": 0
      },
      "text/plain": [
       "Epoch 7/50 [Valid]:   0%|          | 0/10 [00:00<?, ?it/s]"
      ]
     },
     "metadata": {},
     "output_type": "display_data"
    },
    {
     "name": "stdout",
     "output_type": "stream",
     "text": [
      "Epoch 7/50, Train Loss: 2.0333, Train Acc: 26.31%, Val Loss: 1.9272, Val Acc: 30.64%, LR: 0.000730\n"
     ]
    },
    {
     "data": {
      "application/vnd.jupyter.widget-view+json": {
       "model_id": "04f71f5c232944f6bae9fc03240e844b",
       "version_major": 2,
       "version_minor": 0
      },
      "text/plain": [
       "Epoch 8/50 [Train]:   0%|          | 0/88 [00:00<?, ?it/s]"
      ]
     },
     "metadata": {},
     "output_type": "display_data"
    },
    {
     "data": {
      "application/vnd.jupyter.widget-view+json": {
       "model_id": "db9b4f01e66f44fabad4ed888e12cf71",
       "version_major": 2,
       "version_minor": 0
      },
      "text/plain": [
       "Epoch 8/50 [Valid]:   0%|          | 0/10 [00:00<?, ?it/s]"
      ]
     },
     "metadata": {},
     "output_type": "display_data"
    },
    {
     "name": "stdout",
     "output_type": "stream",
     "text": [
      "Epoch 8/50, Train Loss: 2.0289, Train Acc: 26.43%, Val Loss: 1.9285, Val Acc: 31.22%, LR: 0.000820\n"
     ]
    },
    {
     "data": {
      "application/vnd.jupyter.widget-view+json": {
       "model_id": "ef8fc99ecdb34e4a9b04202d92fd9bbd",
       "version_major": 2,
       "version_minor": 0
      },
      "text/plain": [
       "Epoch 9/50 [Train]:   0%|          | 0/88 [00:00<?, ?it/s]"
      ]
     },
     "metadata": {},
     "output_type": "display_data"
    },
    {
     "data": {
      "application/vnd.jupyter.widget-view+json": {
       "model_id": "344df9888597417c9882bd0ca0e034cd",
       "version_major": 2,
       "version_minor": 0
      },
      "text/plain": [
       "Epoch 9/50 [Valid]:   0%|          | 0/10 [00:00<?, ?it/s]"
      ]
     },
     "metadata": {},
     "output_type": "display_data"
    },
    {
     "name": "stdout",
     "output_type": "stream",
     "text": [
      "Epoch 9/50, Train Loss: 2.0183, Train Acc: 26.47%, Val Loss: 1.9220, Val Acc: 31.30%, LR: 0.000910\n"
     ]
    },
    {
     "data": {
      "application/vnd.jupyter.widget-view+json": {
       "model_id": "48809f6d0ba748179f62036a6684b38a",
       "version_major": 2,
       "version_minor": 0
      },
      "text/plain": [
       "Epoch 10/50 [Train]:   0%|          | 0/88 [00:00<?, ?it/s]"
      ]
     },
     "metadata": {},
     "output_type": "display_data"
    },
    {
     "data": {
      "application/vnd.jupyter.widget-view+json": {
       "model_id": "1a147a74847b4557ad863c1ee38c7533",
       "version_major": 2,
       "version_minor": 0
      },
      "text/plain": [
       "Epoch 10/50 [Valid]:   0%|          | 0/10 [00:00<?, ?it/s]"
      ]
     },
     "metadata": {},
     "output_type": "display_data"
    },
    {
     "name": "stdout",
     "output_type": "stream",
     "text": [
      "Epoch 10/50, Train Loss: 2.0095, Train Acc: 26.98%, Val Loss: 1.9246, Val Acc: 30.62%, LR: 0.001000\n"
     ]
    },
    {
     "data": {
      "application/vnd.jupyter.widget-view+json": {
       "model_id": "24615c7230354cdf9cb5a16c228cfbbb",
       "version_major": 2,
       "version_minor": 0
      },
      "text/plain": [
       "Epoch 11/50 [Train]:   0%|          | 0/88 [00:00<?, ?it/s]"
      ]
     },
     "metadata": {},
     "output_type": "display_data"
    },
    {
     "data": {
      "application/vnd.jupyter.widget-view+json": {
       "model_id": "3c51ac80436e41a6834ad225e5790f57",
       "version_major": 2,
       "version_minor": 0
      },
      "text/plain": [
       "Epoch 11/50 [Valid]:   0%|          | 0/10 [00:00<?, ?it/s]"
      ]
     },
     "metadata": {},
     "output_type": "display_data"
    },
    {
     "name": "stdout",
     "output_type": "stream",
     "text": [
      "Epoch 11/50, Train Loss: 2.0070, Train Acc: 27.12%, Val Loss: 1.8995, Val Acc: 32.02%, LR: 0.000998\n"
     ]
    },
    {
     "data": {
      "application/vnd.jupyter.widget-view+json": {
       "model_id": "13621270c59d4fcdb41412dd763eeb4b",
       "version_major": 2,
       "version_minor": 0
      },
      "text/plain": [
       "Epoch 12/50 [Train]:   0%|          | 0/88 [00:00<?, ?it/s]"
      ]
     },
     "metadata": {},
     "output_type": "display_data"
    },
    {
     "data": {
      "application/vnd.jupyter.widget-view+json": {
       "model_id": "28bc607f733c4b5c8143cf01850ad4ac",
       "version_major": 2,
       "version_minor": 0
      },
      "text/plain": [
       "Epoch 12/50 [Valid]:   0%|          | 0/10 [00:00<?, ?it/s]"
      ]
     },
     "metadata": {},
     "output_type": "display_data"
    },
    {
     "name": "stdout",
     "output_type": "stream",
     "text": [
      "Epoch 12/50, Train Loss: 1.9957, Train Acc: 27.23%, Val Loss: 1.8880, Val Acc: 32.44%, LR: 0.000994\n"
     ]
    },
    {
     "data": {
      "application/vnd.jupyter.widget-view+json": {
       "model_id": "bd2adf701093432f9c81b550d2391cb2",
       "version_major": 2,
       "version_minor": 0
      },
      "text/plain": [
       "Epoch 13/50 [Train]:   0%|          | 0/88 [00:00<?, ?it/s]"
      ]
     },
     "metadata": {},
     "output_type": "display_data"
    },
    {
     "data": {
      "application/vnd.jupyter.widget-view+json": {
       "model_id": "cde40457cad74fccbe5ad4cde6f1429c",
       "version_major": 2,
       "version_minor": 0
      },
      "text/plain": [
       "Epoch 13/50 [Valid]:   0%|          | 0/10 [00:00<?, ?it/s]"
      ]
     },
     "metadata": {},
     "output_type": "display_data"
    },
    {
     "name": "stdout",
     "output_type": "stream",
     "text": [
      "Epoch 13/50, Train Loss: 1.9924, Train Acc: 27.85%, Val Loss: 1.8958, Val Acc: 31.18%, LR: 0.000986\n"
     ]
    },
    {
     "data": {
      "application/vnd.jupyter.widget-view+json": {
       "model_id": "7da261375a0648afaa1396d41527b302",
       "version_major": 2,
       "version_minor": 0
      },
      "text/plain": [
       "Epoch 14/50 [Train]:   0%|          | 0/88 [00:00<?, ?it/s]"
      ]
     },
     "metadata": {},
     "output_type": "display_data"
    },
    {
     "data": {
      "application/vnd.jupyter.widget-view+json": {
       "model_id": "e2ba0a3cfccf4af6b233289cdb47bf8b",
       "version_major": 2,
       "version_minor": 0
      },
      "text/plain": [
       "Epoch 14/50 [Valid]:   0%|          | 0/10 [00:00<?, ?it/s]"
      ]
     },
     "metadata": {},
     "output_type": "display_data"
    },
    {
     "name": "stdout",
     "output_type": "stream",
     "text": [
      "Epoch 14/50, Train Loss: 1.9891, Train Acc: 28.00%, Val Loss: 1.8831, Val Acc: 31.68%, LR: 0.000976\n"
     ]
    },
    {
     "data": {
      "application/vnd.jupyter.widget-view+json": {
       "model_id": "88e1814facf7410fb2d55ec4f9e7f84c",
       "version_major": 2,
       "version_minor": 0
      },
      "text/plain": [
       "Epoch 15/50 [Train]:   0%|          | 0/88 [00:00<?, ?it/s]"
      ]
     },
     "metadata": {},
     "output_type": "display_data"
    },
    {
     "data": {
      "application/vnd.jupyter.widget-view+json": {
       "model_id": "009181e0b5584d05a9b9a21e941e084e",
       "version_major": 2,
       "version_minor": 0
      },
      "text/plain": [
       "Epoch 15/50 [Valid]:   0%|          | 0/10 [00:00<?, ?it/s]"
      ]
     },
     "metadata": {},
     "output_type": "display_data"
    },
    {
     "name": "stdout",
     "output_type": "stream",
     "text": [
      "Epoch 15/50, Train Loss: 1.9826, Train Acc: 28.29%, Val Loss: 1.8818, Val Acc: 32.38%, LR: 0.000962\n"
     ]
    },
    {
     "data": {
      "application/vnd.jupyter.widget-view+json": {
       "model_id": "e9efcef4d1b54b33a1bc3ce28af99ffb",
       "version_major": 2,
       "version_minor": 0
      },
      "text/plain": [
       "Epoch 16/50 [Train]:   0%|          | 0/88 [00:00<?, ?it/s]"
      ]
     },
     "metadata": {},
     "output_type": "display_data"
    },
    {
     "data": {
      "application/vnd.jupyter.widget-view+json": {
       "model_id": "d5f841c0ab7a4a0da2905c34f5f69571",
       "version_major": 2,
       "version_minor": 0
      },
      "text/plain": [
       "Epoch 16/50 [Valid]:   0%|          | 0/10 [00:00<?, ?it/s]"
      ]
     },
     "metadata": {},
     "output_type": "display_data"
    },
    {
     "name": "stdout",
     "output_type": "stream",
     "text": [
      "Epoch 16/50, Train Loss: 1.9718, Train Acc: 28.52%, Val Loss: 1.8911, Val Acc: 31.90%, LR: 0.000946\n"
     ]
    },
    {
     "data": {
      "application/vnd.jupyter.widget-view+json": {
       "model_id": "2ac8e94af5424121af411bf0ec549452",
       "version_major": 2,
       "version_minor": 0
      },
      "text/plain": [
       "Epoch 17/50 [Train]:   0%|          | 0/88 [00:00<?, ?it/s]"
      ]
     },
     "metadata": {},
     "output_type": "display_data"
    },
    {
     "data": {
      "application/vnd.jupyter.widget-view+json": {
       "model_id": "68bd1ebe8ede47e6a8606551eb5a53a8",
       "version_major": 2,
       "version_minor": 0
      },
      "text/plain": [
       "Epoch 17/50 [Valid]:   0%|          | 0/10 [00:00<?, ?it/s]"
      ]
     },
     "metadata": {},
     "output_type": "display_data"
    },
    {
     "name": "stdout",
     "output_type": "stream",
     "text": [
      "Epoch 17/50, Train Loss: 1.9690, Train Acc: 28.57%, Val Loss: 1.8688, Val Acc: 32.18%, LR: 0.000927\n"
     ]
    },
    {
     "data": {
      "application/vnd.jupyter.widget-view+json": {
       "model_id": "ffd7aa7b228b4df7b178d4d722e74cf4",
       "version_major": 2,
       "version_minor": 0
      },
      "text/plain": [
       "Epoch 18/50 [Train]:   0%|          | 0/88 [00:00<?, ?it/s]"
      ]
     },
     "metadata": {},
     "output_type": "display_data"
    },
    {
     "data": {
      "application/vnd.jupyter.widget-view+json": {
       "model_id": "4933c6c519e34d8ea9043e71c4f55b87",
       "version_major": 2,
       "version_minor": 0
      },
      "text/plain": [
       "Epoch 18/50 [Valid]:   0%|          | 0/10 [00:00<?, ?it/s]"
      ]
     },
     "metadata": {},
     "output_type": "display_data"
    },
    {
     "name": "stdout",
     "output_type": "stream",
     "text": [
      "Epoch 18/50, Train Loss: 1.9717, Train Acc: 28.34%, Val Loss: 1.8611, Val Acc: 33.12%, LR: 0.000905\n"
     ]
    },
    {
     "data": {
      "application/vnd.jupyter.widget-view+json": {
       "model_id": "be73efec56fe40b89f8b8ed37e71eb11",
       "version_major": 2,
       "version_minor": 0
      },
      "text/plain": [
       "Epoch 19/50 [Train]:   0%|          | 0/88 [00:00<?, ?it/s]"
      ]
     },
     "metadata": {},
     "output_type": "display_data"
    },
    {
     "data": {
      "application/vnd.jupyter.widget-view+json": {
       "model_id": "e4983292875e463bbff9958d4fe8b8f2",
       "version_major": 2,
       "version_minor": 0
      },
      "text/plain": [
       "Epoch 19/50 [Valid]:   0%|          | 0/10 [00:00<?, ?it/s]"
      ]
     },
     "metadata": {},
     "output_type": "display_data"
    },
    {
     "name": "stdout",
     "output_type": "stream",
     "text": [
      "Epoch 19/50, Train Loss: 1.9669, Train Acc: 28.97%, Val Loss: 1.8578, Val Acc: 33.54%, LR: 0.000881\n"
     ]
    },
    {
     "data": {
      "application/vnd.jupyter.widget-view+json": {
       "model_id": "4f07a5b491dc459e8a1059707d5a420a",
       "version_major": 2,
       "version_minor": 0
      },
      "text/plain": [
       "Epoch 20/50 [Train]:   0%|          | 0/88 [00:00<?, ?it/s]"
      ]
     },
     "metadata": {},
     "output_type": "display_data"
    },
    {
     "data": {
      "application/vnd.jupyter.widget-view+json": {
       "model_id": "95065eba674b4c449ac8fe866fb7f44f",
       "version_major": 2,
       "version_minor": 0
      },
      "text/plain": [
       "Epoch 20/50 [Valid]:   0%|          | 0/10 [00:00<?, ?it/s]"
      ]
     },
     "metadata": {},
     "output_type": "display_data"
    },
    {
     "name": "stdout",
     "output_type": "stream",
     "text": [
      "Epoch 20/50, Train Loss: 1.9575, Train Acc: 28.92%, Val Loss: 1.8607, Val Acc: 33.66%, LR: 0.000855\n"
     ]
    },
    {
     "data": {
      "application/vnd.jupyter.widget-view+json": {
       "model_id": "bed8d3fee12c40bebbfafe179c39cae7",
       "version_major": 2,
       "version_minor": 0
      },
      "text/plain": [
       "Epoch 21/50 [Train]:   0%|          | 0/88 [00:00<?, ?it/s]"
      ]
     },
     "metadata": {},
     "output_type": "display_data"
    },
    {
     "data": {
      "application/vnd.jupyter.widget-view+json": {
       "model_id": "7385d91e2f6741fea944ab09946d3785",
       "version_major": 2,
       "version_minor": 0
      },
      "text/plain": [
       "Epoch 21/50 [Valid]:   0%|          | 0/10 [00:00<?, ?it/s]"
      ]
     },
     "metadata": {},
     "output_type": "display_data"
    },
    {
     "name": "stdout",
     "output_type": "stream",
     "text": [
      "Epoch 21/50, Train Loss: 1.9560, Train Acc: 28.98%, Val Loss: 1.8515, Val Acc: 33.82%, LR: 0.000826\n"
     ]
    },
    {
     "data": {
      "application/vnd.jupyter.widget-view+json": {
       "model_id": "c2de9ea738284a758af08f8d4948f628",
       "version_major": 2,
       "version_minor": 0
      },
      "text/plain": [
       "Epoch 22/50 [Train]:   0%|          | 0/88 [00:00<?, ?it/s]"
      ]
     },
     "metadata": {},
     "output_type": "display_data"
    },
    {
     "data": {
      "application/vnd.jupyter.widget-view+json": {
       "model_id": "630a176bd43443a28816085a9686f072",
       "version_major": 2,
       "version_minor": 0
      },
      "text/plain": [
       "Epoch 22/50 [Valid]:   0%|          | 0/10 [00:00<?, ?it/s]"
      ]
     },
     "metadata": {},
     "output_type": "display_data"
    },
    {
     "name": "stdout",
     "output_type": "stream",
     "text": [
      "Epoch 22/50, Train Loss: 1.9561, Train Acc: 29.14%, Val Loss: 1.8598, Val Acc: 32.70%, LR: 0.000796\n"
     ]
    },
    {
     "data": {
      "application/vnd.jupyter.widget-view+json": {
       "model_id": "b1cfd3048af84696a37fa8f98d7b0b67",
       "version_major": 2,
       "version_minor": 0
      },
      "text/plain": [
       "Epoch 23/50 [Train]:   0%|          | 0/88 [00:00<?, ?it/s]"
      ]
     },
     "metadata": {},
     "output_type": "display_data"
    },
    {
     "data": {
      "application/vnd.jupyter.widget-view+json": {
       "model_id": "f71210b2a13145b8a909363bb98ed3f1",
       "version_major": 2,
       "version_minor": 0
      },
      "text/plain": [
       "Epoch 23/50 [Valid]:   0%|          | 0/10 [00:00<?, ?it/s]"
      ]
     },
     "metadata": {},
     "output_type": "display_data"
    },
    {
     "name": "stdout",
     "output_type": "stream",
     "text": [
      "Epoch 23/50, Train Loss: 1.9525, Train Acc: 29.50%, Val Loss: 1.8608, Val Acc: 33.70%, LR: 0.000764\n"
     ]
    },
    {
     "data": {
      "application/vnd.jupyter.widget-view+json": {
       "model_id": "b70f44ff114e41e4803fe37d3a1fd99c",
       "version_major": 2,
       "version_minor": 0
      },
      "text/plain": [
       "Epoch 24/50 [Train]:   0%|          | 0/88 [00:00<?, ?it/s]"
      ]
     },
     "metadata": {},
     "output_type": "display_data"
    },
    {
     "data": {
      "application/vnd.jupyter.widget-view+json": {
       "model_id": "73cde595118a46d98b7ab5bb31eaa4af",
       "version_major": 2,
       "version_minor": 0
      },
      "text/plain": [
       "Epoch 24/50 [Valid]:   0%|          | 0/10 [00:00<?, ?it/s]"
      ]
     },
     "metadata": {},
     "output_type": "display_data"
    },
    {
     "name": "stdout",
     "output_type": "stream",
     "text": [
      "Epoch 24/50, Train Loss: 1.9429, Train Acc: 29.52%, Val Loss: 1.8364, Val Acc: 34.18%, LR: 0.000730\n"
     ]
    },
    {
     "data": {
      "application/vnd.jupyter.widget-view+json": {
       "model_id": "cf20d75291474fe783ca71fa47821bed",
       "version_major": 2,
       "version_minor": 0
      },
      "text/plain": [
       "Epoch 25/50 [Train]:   0%|          | 0/88 [00:00<?, ?it/s]"
      ]
     },
     "metadata": {},
     "output_type": "display_data"
    },
    {
     "data": {
      "application/vnd.jupyter.widget-view+json": {
       "model_id": "aed873b4aad040219f274bfd5392e7f9",
       "version_major": 2,
       "version_minor": 0
      },
      "text/plain": [
       "Epoch 25/50 [Valid]:   0%|          | 0/10 [00:00<?, ?it/s]"
      ]
     },
     "metadata": {},
     "output_type": "display_data"
    },
    {
     "name": "stdout",
     "output_type": "stream",
     "text": [
      "Epoch 25/50, Train Loss: 1.9390, Train Acc: 30.05%, Val Loss: 1.8443, Val Acc: 34.02%, LR: 0.000694\n"
     ]
    },
    {
     "data": {
      "application/vnd.jupyter.widget-view+json": {
       "model_id": "8a2399befd0a4466988df88ec2538783",
       "version_major": 2,
       "version_minor": 0
      },
      "text/plain": [
       "Epoch 26/50 [Train]:   0%|          | 0/88 [00:00<?, ?it/s]"
      ]
     },
     "metadata": {},
     "output_type": "display_data"
    },
    {
     "data": {
      "application/vnd.jupyter.widget-view+json": {
       "model_id": "0f99ab25d3f749a1b005073aa558f782",
       "version_major": 2,
       "version_minor": 0
      },
      "text/plain": [
       "Epoch 26/50 [Valid]:   0%|          | 0/10 [00:00<?, ?it/s]"
      ]
     },
     "metadata": {},
     "output_type": "display_data"
    },
    {
     "name": "stdout",
     "output_type": "stream",
     "text": [
      "Epoch 26/50, Train Loss: 1.9392, Train Acc: 29.68%, Val Loss: 1.8397, Val Acc: 34.60%, LR: 0.000658\n"
     ]
    },
    {
     "data": {
      "application/vnd.jupyter.widget-view+json": {
       "model_id": "1ab9204c335848779d71816a579e4e5c",
       "version_major": 2,
       "version_minor": 0
      },
      "text/plain": [
       "Epoch 27/50 [Train]:   0%|          | 0/88 [00:00<?, ?it/s]"
      ]
     },
     "metadata": {},
     "output_type": "display_data"
    },
    {
     "data": {
      "application/vnd.jupyter.widget-view+json": {
       "model_id": "794832a256e4467595b82974d1eaacf4",
       "version_major": 2,
       "version_minor": 0
      },
      "text/plain": [
       "Epoch 27/50 [Valid]:   0%|          | 0/10 [00:00<?, ?it/s]"
      ]
     },
     "metadata": {},
     "output_type": "display_data"
    },
    {
     "name": "stdout",
     "output_type": "stream",
     "text": [
      "Epoch 27/50, Train Loss: 1.9369, Train Acc: 29.68%, Val Loss: 1.8386, Val Acc: 33.54%, LR: 0.000621\n"
     ]
    },
    {
     "data": {
      "application/vnd.jupyter.widget-view+json": {
       "model_id": "52e1d3f49a44495bb1b53fa5800a484c",
       "version_major": 2,
       "version_minor": 0
      },
      "text/plain": [
       "Epoch 28/50 [Train]:   0%|          | 0/88 [00:00<?, ?it/s]"
      ]
     },
     "metadata": {},
     "output_type": "display_data"
    },
    {
     "data": {
      "application/vnd.jupyter.widget-view+json": {
       "model_id": "5027db74016541bc83ee4b127f6b549c",
       "version_major": 2,
       "version_minor": 0
      },
      "text/plain": [
       "Epoch 28/50 [Valid]:   0%|          | 0/10 [00:00<?, ?it/s]"
      ]
     },
     "metadata": {},
     "output_type": "display_data"
    },
    {
     "name": "stdout",
     "output_type": "stream",
     "text": [
      "Epoch 28/50, Train Loss: 1.9328, Train Acc: 30.32%, Val Loss: 1.8407, Val Acc: 34.14%, LR: 0.000582\n"
     ]
    },
    {
     "data": {
      "application/vnd.jupyter.widget-view+json": {
       "model_id": "b4f818b9af5344999bdf7a3ffb228437",
       "version_major": 2,
       "version_minor": 0
      },
      "text/plain": [
       "Epoch 29/50 [Train]:   0%|          | 0/88 [00:00<?, ?it/s]"
      ]
     },
     "metadata": {},
     "output_type": "display_data"
    },
    {
     "data": {
      "application/vnd.jupyter.widget-view+json": {
       "model_id": "0028e62cbae9489bbd4d2c593333c469",
       "version_major": 2,
       "version_minor": 0
      },
      "text/plain": [
       "Epoch 29/50 [Valid]:   0%|          | 0/10 [00:00<?, ?it/s]"
      ]
     },
     "metadata": {},
     "output_type": "display_data"
    },
    {
     "name": "stdout",
     "output_type": "stream",
     "text": [
      "Epoch 29/50, Train Loss: 1.9325, Train Acc: 30.11%, Val Loss: 1.8408, Val Acc: 34.24%, LR: 0.000544\n"
     ]
    },
    {
     "data": {
      "application/vnd.jupyter.widget-view+json": {
       "model_id": "b92d8cee0a4e424daa1d32a39ff23169",
       "version_major": 2,
       "version_minor": 0
      },
      "text/plain": [
       "Epoch 30/50 [Train]:   0%|          | 0/88 [00:00<?, ?it/s]"
      ]
     },
     "metadata": {},
     "output_type": "display_data"
    },
    {
     "data": {
      "application/vnd.jupyter.widget-view+json": {
       "model_id": "fb28ece954ac4e25912260e0fad8c897",
       "version_major": 2,
       "version_minor": 0
      },
      "text/plain": [
       "Epoch 30/50 [Valid]:   0%|          | 0/10 [00:00<?, ?it/s]"
      ]
     },
     "metadata": {},
     "output_type": "display_data"
    },
    {
     "name": "stdout",
     "output_type": "stream",
     "text": [
      "Epoch 30/50, Train Loss: 1.9356, Train Acc: 30.05%, Val Loss: 1.8331, Val Acc: 34.38%, LR: 0.000505\n"
     ]
    },
    {
     "data": {
      "application/vnd.jupyter.widget-view+json": {
       "model_id": "650fa92d4291407489c4fa50a49e240f",
       "version_major": 2,
       "version_minor": 0
      },
      "text/plain": [
       "Epoch 31/50 [Train]:   0%|          | 0/88 [00:00<?, ?it/s]"
      ]
     },
     "metadata": {},
     "output_type": "display_data"
    },
    {
     "data": {
      "application/vnd.jupyter.widget-view+json": {
       "model_id": "a8d449cc797548bbbb0e054b3bfd7d96",
       "version_major": 2,
       "version_minor": 0
      },
      "text/plain": [
       "Epoch 31/50 [Valid]:   0%|          | 0/10 [00:00<?, ?it/s]"
      ]
     },
     "metadata": {},
     "output_type": "display_data"
    },
    {
     "name": "stdout",
     "output_type": "stream",
     "text": [
      "Epoch 31/50, Train Loss: 1.9348, Train Acc: 30.10%, Val Loss: 1.8397, Val Acc: 34.00%, LR: 0.000466\n"
     ]
    },
    {
     "data": {
      "application/vnd.jupyter.widget-view+json": {
       "model_id": "869a55895c3c4c74ad4a45ae1d15f86d",
       "version_major": 2,
       "version_minor": 0
      },
      "text/plain": [
       "Epoch 32/50 [Train]:   0%|          | 0/88 [00:00<?, ?it/s]"
      ]
     },
     "metadata": {},
     "output_type": "display_data"
    },
    {
     "data": {
      "application/vnd.jupyter.widget-view+json": {
       "model_id": "f9eefebb7909456f9957e2af626b8e6d",
       "version_major": 2,
       "version_minor": 0
      },
      "text/plain": [
       "Epoch 32/50 [Valid]:   0%|          | 0/10 [00:00<?, ?it/s]"
      ]
     },
     "metadata": {},
     "output_type": "display_data"
    },
    {
     "name": "stdout",
     "output_type": "stream",
     "text": [
      "Epoch 32/50, Train Loss: 1.9227, Train Acc: 30.42%, Val Loss: 1.8235, Val Acc: 34.70%, LR: 0.000428\n"
     ]
    },
    {
     "data": {
      "application/vnd.jupyter.widget-view+json": {
       "model_id": "a5d0d67d59f8402582dfddba5e3cec44",
       "version_major": 2,
       "version_minor": 0
      },
      "text/plain": [
       "Epoch 33/50 [Train]:   0%|          | 0/88 [00:00<?, ?it/s]"
      ]
     },
     "metadata": {},
     "output_type": "display_data"
    },
    {
     "data": {
      "application/vnd.jupyter.widget-view+json": {
       "model_id": "e048da2fc0b743e3ab3ba12b5d6116a7",
       "version_major": 2,
       "version_minor": 0
      },
      "text/plain": [
       "Epoch 33/50 [Valid]:   0%|          | 0/10 [00:00<?, ?it/s]"
      ]
     },
     "metadata": {},
     "output_type": "display_data"
    },
    {
     "name": "stdout",
     "output_type": "stream",
     "text": [
      "Epoch 33/50, Train Loss: 1.9217, Train Acc: 30.57%, Val Loss: 1.8204, Val Acc: 35.00%, LR: 0.000389\n"
     ]
    },
    {
     "data": {
      "application/vnd.jupyter.widget-view+json": {
       "model_id": "0d4aa06e61e4489386bc17e25541a119",
       "version_major": 2,
       "version_minor": 0
      },
      "text/plain": [
       "Epoch 34/50 [Train]:   0%|          | 0/88 [00:00<?, ?it/s]"
      ]
     },
     "metadata": {},
     "output_type": "display_data"
    },
    {
     "data": {
      "application/vnd.jupyter.widget-view+json": {
       "model_id": "17e25da5fb344caabcd67f0fcb5e0413",
       "version_major": 2,
       "version_minor": 0
      },
      "text/plain": [
       "Epoch 34/50 [Valid]:   0%|          | 0/10 [00:00<?, ?it/s]"
      ]
     },
     "metadata": {},
     "output_type": "display_data"
    },
    {
     "name": "stdout",
     "output_type": "stream",
     "text": [
      "Epoch 34/50, Train Loss: 1.9280, Train Acc: 30.32%, Val Loss: 1.8322, Val Acc: 34.68%, LR: 0.000352\n"
     ]
    },
    {
     "data": {
      "application/vnd.jupyter.widget-view+json": {
       "model_id": "1aded6b6dc3f4e9880da2e0423b29d84",
       "version_major": 2,
       "version_minor": 0
      },
      "text/plain": [
       "Epoch 35/50 [Train]:   0%|          | 0/88 [00:00<?, ?it/s]"
      ]
     },
     "metadata": {},
     "output_type": "display_data"
    },
    {
     "data": {
      "application/vnd.jupyter.widget-view+json": {
       "model_id": "2707f9c789d9489facaf3af501992843",
       "version_major": 2,
       "version_minor": 0
      },
      "text/plain": [
       "Epoch 35/50 [Valid]:   0%|          | 0/10 [00:00<?, ?it/s]"
      ]
     },
     "metadata": {},
     "output_type": "display_data"
    },
    {
     "name": "stdout",
     "output_type": "stream",
     "text": [
      "Epoch 35/50, Train Loss: 1.9244, Train Acc: 30.59%, Val Loss: 1.8308, Val Acc: 34.24%, LR: 0.000316\n"
     ]
    },
    {
     "data": {
      "application/vnd.jupyter.widget-view+json": {
       "model_id": "58a652b0e87d4f5da6c42f8891b30a9a",
       "version_major": 2,
       "version_minor": 0
      },
      "text/plain": [
       "Epoch 36/50 [Train]:   0%|          | 0/88 [00:00<?, ?it/s]"
      ]
     },
     "metadata": {},
     "output_type": "display_data"
    },
    {
     "data": {
      "application/vnd.jupyter.widget-view+json": {
       "model_id": "6e6e5722ed644527a0abe2149658a49b",
       "version_major": 2,
       "version_minor": 0
      },
      "text/plain": [
       "Epoch 36/50 [Valid]:   0%|          | 0/10 [00:00<?, ?it/s]"
      ]
     },
     "metadata": {},
     "output_type": "display_data"
    },
    {
     "name": "stdout",
     "output_type": "stream",
     "text": [
      "Epoch 36/50, Train Loss: 1.9191, Train Acc: 30.68%, Val Loss: 1.8207, Val Acc: 35.60%, LR: 0.000280\n"
     ]
    },
    {
     "data": {
      "application/vnd.jupyter.widget-view+json": {
       "model_id": "ec4fb855f08342569c2e9c9c3c61e006",
       "version_major": 2,
       "version_minor": 0
      },
      "text/plain": [
       "Epoch 37/50 [Train]:   0%|          | 0/88 [00:00<?, ?it/s]"
      ]
     },
     "metadata": {},
     "output_type": "display_data"
    },
    {
     "data": {
      "application/vnd.jupyter.widget-view+json": {
       "model_id": "8864a1d29fe9442283127ddd67bbaf49",
       "version_major": 2,
       "version_minor": 0
      },
      "text/plain": [
       "Epoch 37/50 [Valid]:   0%|          | 0/10 [00:00<?, ?it/s]"
      ]
     },
     "metadata": {},
     "output_type": "display_data"
    },
    {
     "name": "stdout",
     "output_type": "stream",
     "text": [
      "Epoch 37/50, Train Loss: 1.9156, Train Acc: 31.31%, Val Loss: 1.8180, Val Acc: 35.48%, LR: 0.000246\n"
     ]
    },
    {
     "data": {
      "application/vnd.jupyter.widget-view+json": {
       "model_id": "145b73e254f14eb3a9ab44f7562e1604",
       "version_major": 2,
       "version_minor": 0
      },
      "text/plain": [
       "Epoch 38/50 [Train]:   0%|          | 0/88 [00:00<?, ?it/s]"
      ]
     },
     "metadata": {},
     "output_type": "display_data"
    },
    {
     "data": {
      "application/vnd.jupyter.widget-view+json": {
       "model_id": "6d07c8100d264c93ac95e061886f223a",
       "version_major": 2,
       "version_minor": 0
      },
      "text/plain": [
       "Epoch 38/50 [Valid]:   0%|          | 0/10 [00:00<?, ?it/s]"
      ]
     },
     "metadata": {},
     "output_type": "display_data"
    },
    {
     "name": "stdout",
     "output_type": "stream",
     "text": [
      "Epoch 38/50, Train Loss: 1.9135, Train Acc: 30.87%, Val Loss: 1.8116, Val Acc: 35.14%, LR: 0.000214\n"
     ]
    },
    {
     "data": {
      "application/vnd.jupyter.widget-view+json": {
       "model_id": "6489468651314f3d9d686e0e2e6a020c",
       "version_major": 2,
       "version_minor": 0
      },
      "text/plain": [
       "Epoch 39/50 [Train]:   0%|          | 0/88 [00:00<?, ?it/s]"
      ]
     },
     "metadata": {},
     "output_type": "display_data"
    },
    {
     "data": {
      "application/vnd.jupyter.widget-view+json": {
       "model_id": "d94d62289e5e4da3a05034361fa186e0",
       "version_major": 2,
       "version_minor": 0
      },
      "text/plain": [
       "Epoch 39/50 [Valid]:   0%|          | 0/10 [00:00<?, ?it/s]"
      ]
     },
     "metadata": {},
     "output_type": "display_data"
    },
    {
     "name": "stdout",
     "output_type": "stream",
     "text": [
      "Epoch 39/50, Train Loss: 1.9107, Train Acc: 31.12%, Val Loss: 1.8191, Val Acc: 35.04%, LR: 0.000184\n"
     ]
    },
    {
     "data": {
      "application/vnd.jupyter.widget-view+json": {
       "model_id": "933894e4718d4fb192849cb8371c4f72",
       "version_major": 2,
       "version_minor": 0
      },
      "text/plain": [
       "Epoch 40/50 [Train]:   0%|          | 0/88 [00:00<?, ?it/s]"
      ]
     },
     "metadata": {},
     "output_type": "display_data"
    },
    {
     "data": {
      "application/vnd.jupyter.widget-view+json": {
       "model_id": "499a5c0a268541d49a8c77507e8ee88c",
       "version_major": 2,
       "version_minor": 0
      },
      "text/plain": [
       "Epoch 40/50 [Valid]:   0%|          | 0/10 [00:00<?, ?it/s]"
      ]
     },
     "metadata": {},
     "output_type": "display_data"
    },
    {
     "name": "stdout",
     "output_type": "stream",
     "text": [
      "Epoch 40/50, Train Loss: 1.9098, Train Acc: 31.28%, Val Loss: 1.8098, Val Acc: 35.50%, LR: 0.000155\n"
     ]
    },
    {
     "data": {
      "application/vnd.jupyter.widget-view+json": {
       "model_id": "b5edf3fa5ee34ec89463538402153713",
       "version_major": 2,
       "version_minor": 0
      },
      "text/plain": [
       "Epoch 41/50 [Train]:   0%|          | 0/88 [00:00<?, ?it/s]"
      ]
     },
     "metadata": {},
     "output_type": "display_data"
    },
    {
     "data": {
      "application/vnd.jupyter.widget-view+json": {
       "model_id": "b1608e014d0149c79f8067ba86446ff0",
       "version_major": 2,
       "version_minor": 0
      },
      "text/plain": [
       "Epoch 41/50 [Valid]:   0%|          | 0/10 [00:00<?, ?it/s]"
      ]
     },
     "metadata": {},
     "output_type": "display_data"
    },
    {
     "name": "stdout",
     "output_type": "stream",
     "text": [
      "Epoch 41/50, Train Loss: 1.9080, Train Acc: 31.21%, Val Loss: 1.8108, Val Acc: 35.30%, LR: 0.000129\n"
     ]
    },
    {
     "data": {
      "application/vnd.jupyter.widget-view+json": {
       "model_id": "4c44548d65d44172a8934579bec69240",
       "version_major": 2,
       "version_minor": 0
      },
      "text/plain": [
       "Epoch 42/50 [Train]:   0%|          | 0/88 [00:00<?, ?it/s]"
      ]
     },
     "metadata": {},
     "output_type": "display_data"
    },
    {
     "data": {
      "application/vnd.jupyter.widget-view+json": {
       "model_id": "596b44ba8ac44e5f9c82b425f7c85c4e",
       "version_major": 2,
       "version_minor": 0
      },
      "text/plain": [
       "Epoch 42/50 [Valid]:   0%|          | 0/10 [00:00<?, ?it/s]"
      ]
     },
     "metadata": {},
     "output_type": "display_data"
    },
    {
     "name": "stdout",
     "output_type": "stream",
     "text": [
      "Epoch 42/50, Train Loss: 1.9022, Train Acc: 31.88%, Val Loss: 1.8079, Val Acc: 35.68%, LR: 0.000105\n"
     ]
    },
    {
     "data": {
      "application/vnd.jupyter.widget-view+json": {
       "model_id": "02db2a8640f546a6a045bd5cf163d387",
       "version_major": 2,
       "version_minor": 0
      },
      "text/plain": [
       "Epoch 43/50 [Train]:   0%|          | 0/88 [00:00<?, ?it/s]"
      ]
     },
     "metadata": {},
     "output_type": "display_data"
    },
    {
     "data": {
      "application/vnd.jupyter.widget-view+json": {
       "model_id": "c5ec958309e34f318a5397ffde121b80",
       "version_major": 2,
       "version_minor": 0
      },
      "text/plain": [
       "Epoch 43/50 [Valid]:   0%|          | 0/10 [00:00<?, ?it/s]"
      ]
     },
     "metadata": {},
     "output_type": "display_data"
    },
    {
     "name": "stdout",
     "output_type": "stream",
     "text": [
      "Epoch 43/50, Train Loss: 1.9047, Train Acc: 31.38%, Val Loss: 1.8155, Val Acc: 35.44%, LR: 0.000083\n"
     ]
    },
    {
     "data": {
      "application/vnd.jupyter.widget-view+json": {
       "model_id": "e6bef3d040de4d87b13d08ef5babfb57",
       "version_major": 2,
       "version_minor": 0
      },
      "text/plain": [
       "Epoch 44/50 [Train]:   0%|          | 0/88 [00:00<?, ?it/s]"
      ]
     },
     "metadata": {},
     "output_type": "display_data"
    },
    {
     "data": {
      "application/vnd.jupyter.widget-view+json": {
       "model_id": "f669418ea40e4c249b16b4c8be85b77e",
       "version_major": 2,
       "version_minor": 0
      },
      "text/plain": [
       "Epoch 44/50 [Valid]:   0%|          | 0/10 [00:00<?, ?it/s]"
      ]
     },
     "metadata": {},
     "output_type": "display_data"
    },
    {
     "name": "stdout",
     "output_type": "stream",
     "text": [
      "Epoch 44/50, Train Loss: 1.9065, Train Acc: 31.10%, Val Loss: 1.8066, Val Acc: 35.90%, LR: 0.000064\n"
     ]
    },
    {
     "data": {
      "application/vnd.jupyter.widget-view+json": {
       "model_id": "453209159ab14f6e845c3f1d075f5418",
       "version_major": 2,
       "version_minor": 0
      },
      "text/plain": [
       "Epoch 45/50 [Train]:   0%|          | 0/88 [00:00<?, ?it/s]"
      ]
     },
     "metadata": {},
     "output_type": "display_data"
    },
    {
     "data": {
      "application/vnd.jupyter.widget-view+json": {
       "model_id": "aceba132da79440b97ef89c6523a36b7",
       "version_major": 2,
       "version_minor": 0
      },
      "text/plain": [
       "Epoch 45/50 [Valid]:   0%|          | 0/10 [00:00<?, ?it/s]"
      ]
     },
     "metadata": {},
     "output_type": "display_data"
    },
    {
     "name": "stdout",
     "output_type": "stream",
     "text": [
      "Epoch 45/50, Train Loss: 1.8992, Train Acc: 31.29%, Val Loss: 1.8033, Val Acc: 36.00%, LR: 0.000048\n"
     ]
    },
    {
     "data": {
      "application/vnd.jupyter.widget-view+json": {
       "model_id": "ce6fb7cfd6a04b12a4078f2d1d637a04",
       "version_major": 2,
       "version_minor": 0
      },
      "text/plain": [
       "Epoch 46/50 [Train]:   0%|          | 0/88 [00:00<?, ?it/s]"
      ]
     },
     "metadata": {},
     "output_type": "display_data"
    },
    {
     "data": {
      "application/vnd.jupyter.widget-view+json": {
       "model_id": "350a2bb499514958b67c75f54a2578ab",
       "version_major": 2,
       "version_minor": 0
      },
      "text/plain": [
       "Epoch 46/50 [Valid]:   0%|          | 0/10 [00:00<?, ?it/s]"
      ]
     },
     "metadata": {},
     "output_type": "display_data"
    },
    {
     "name": "stdout",
     "output_type": "stream",
     "text": [
      "Epoch 46/50, Train Loss: 1.9030, Train Acc: 31.44%, Val Loss: 1.8032, Val Acc: 35.86%, LR: 0.000034\n"
     ]
    },
    {
     "data": {
      "application/vnd.jupyter.widget-view+json": {
       "model_id": "2b71d9953c9a4450a077637e77a0bf3a",
       "version_major": 2,
       "version_minor": 0
      },
      "text/plain": [
       "Epoch 47/50 [Train]:   0%|          | 0/88 [00:00<?, ?it/s]"
      ]
     },
     "metadata": {},
     "output_type": "display_data"
    },
    {
     "data": {
      "application/vnd.jupyter.widget-view+json": {
       "model_id": "7366d91afee14560ac4a8aa9730c5fb8",
       "version_major": 2,
       "version_minor": 0
      },
      "text/plain": [
       "Epoch 47/50 [Valid]:   0%|          | 0/10 [00:00<?, ?it/s]"
      ]
     },
     "metadata": {},
     "output_type": "display_data"
    },
    {
     "name": "stdout",
     "output_type": "stream",
     "text": [
      "Epoch 47/50, Train Loss: 1.9040, Train Acc: 31.22%, Val Loss: 1.8033, Val Acc: 35.74%, LR: 0.000024\n"
     ]
    },
    {
     "data": {
      "application/vnd.jupyter.widget-view+json": {
       "model_id": "73f236c2f8f140848f54674d2edd0d63",
       "version_major": 2,
       "version_minor": 0
      },
      "text/plain": [
       "Epoch 48/50 [Train]:   0%|          | 0/88 [00:00<?, ?it/s]"
      ]
     },
     "metadata": {},
     "output_type": "display_data"
    },
    {
     "data": {
      "application/vnd.jupyter.widget-view+json": {
       "model_id": "dba2fb1deb2940119837f81b67950373",
       "version_major": 2,
       "version_minor": 0
      },
      "text/plain": [
       "Epoch 48/50 [Valid]:   0%|          | 0/10 [00:00<?, ?it/s]"
      ]
     },
     "metadata": {},
     "output_type": "display_data"
    },
    {
     "name": "stdout",
     "output_type": "stream",
     "text": [
      "Epoch 48/50, Train Loss: 1.9073, Train Acc: 31.25%, Val Loss: 1.8039, Val Acc: 36.02%, LR: 0.000016\n"
     ]
    },
    {
     "data": {
      "application/vnd.jupyter.widget-view+json": {
       "model_id": "56b80a9f3108455ba0addef1453aee5d",
       "version_major": 2,
       "version_minor": 0
      },
      "text/plain": [
       "Epoch 49/50 [Train]:   0%|          | 0/88 [00:00<?, ?it/s]"
      ]
     },
     "metadata": {},
     "output_type": "display_data"
    },
    {
     "data": {
      "application/vnd.jupyter.widget-view+json": {
       "model_id": "4f1be4b19a444e46b1efbef095341579",
       "version_major": 2,
       "version_minor": 0
      },
      "text/plain": [
       "Epoch 49/50 [Valid]:   0%|          | 0/10 [00:00<?, ?it/s]"
      ]
     },
     "metadata": {},
     "output_type": "display_data"
    },
    {
     "name": "stdout",
     "output_type": "stream",
     "text": [
      "Epoch 49/50, Train Loss: 1.9026, Train Acc: 31.31%, Val Loss: 1.8018, Val Acc: 35.78%, LR: 0.000012\n"
     ]
    },
    {
     "data": {
      "application/vnd.jupyter.widget-view+json": {
       "model_id": "3f3ce76454e6455fa628e4ddf010a7ea",
       "version_major": 2,
       "version_minor": 0
      },
      "text/plain": [
       "Epoch 50/50 [Train]:   0%|          | 0/88 [00:00<?, ?it/s]"
      ]
     },
     "metadata": {},
     "output_type": "display_data"
    },
    {
     "data": {
      "application/vnd.jupyter.widget-view+json": {
       "model_id": "6e10a47f0633412c9a672cd3bbd88d93",
       "version_major": 2,
       "version_minor": 0
      },
      "text/plain": [
       "Epoch 50/50 [Valid]:   0%|          | 0/10 [00:00<?, ?it/s]"
      ]
     },
     "metadata": {},
     "output_type": "display_data"
    },
    {
     "name": "stdout",
     "output_type": "stream",
     "text": [
      "Epoch 50/50, Train Loss: 1.9066, Train Acc: 31.56%, Val Loss: 1.8042, Val Acc: 36.02%, LR: 0.000010\n"
     ]
    },
    {
     "name": "stderr",
     "output_type": "stream",
     "text": [
      "/tmp/ipykernel_73/3313409929.py:106: FutureWarning: You are using `torch.load` with `weights_only=False` (the current default value), which uses the default pickle module implicitly. It is possible to construct malicious pickle data which will execute arbitrary code during unpickling (See https://github.com/pytorch/pytorch/blob/main/SECURITY.md#untrusted-models for more details). In a future release, the default value for `weights_only` will be flipped to `True`. This limits the functions that could be executed during unpickling. Arbitrary objects will no longer be allowed to be loaded via this mode unless they are explicitly allowlisted by the user via `torch.serialization.add_safe_globals`. We recommend you start setting `weights_only=True` for any use case where you don't have full control of the loaded file. Please open an issue on GitHub for any issues related to this experimental feature.\n",
      "  model.load_state_dict(torch.load(f\"cifar10_{experiment_name}.pth\"))\n"
     ]
    },
    {
     "name": "stdout",
     "output_type": "stream",
     "text": [
      "Test Accuracy (supervised): 35.16%\n"
     ]
    }
   ],
   "source": [
    "supervised_model = Classifier(\n",
    "    encoder=get_encoder(pretrained=False),\n",
    "    num_classes=10,\n",
    ").to(device)\n",
    "\n",
    "supervised_train_losses, supervised_val_losses, supervised_test_acc = train_supervised(\n",
    "    supervised_model,\n",
    "    train_loader,\n",
    "    val_loader,\n",
    "    test_loader,\n",
    "    epochs=FULL_DATA_EPOCHS,\n",
    "    warmup_epochs=WARMUP_EPOCHS,\n",
    "    initial_lr=INITIAL_LR,\n",
    "    final_lr=FINAL_LR,\n",
    "    experiment_name=\"supervised\",\n",
    "    device=device,\n",
    ")"
   ]
  },
  {
   "cell_type": "markdown",
   "id": "c9f0f909",
   "metadata": {},
   "source": [
    "# Training on 10% of CIFAR10"
   ]
  },
  {
   "cell_type": "code",
   "execution_count": 32,
   "id": "63d135e4",
   "metadata": {
    "execution": {
     "iopub.execute_input": "2025-04-17T02:00:22.800851Z",
     "iopub.status.busy": "2025-04-17T02:00:22.800104Z",
     "iopub.status.idle": "2025-04-17T02:00:22.807578Z",
     "shell.execute_reply": "2025-04-17T02:00:22.806793Z",
     "shell.execute_reply.started": "2025-04-17T02:00:22.800827Z"
    },
    "trusted": true
   },
   "outputs": [
    {
     "name": "stdout",
     "output_type": "stream",
     "text": [
      "Full training set size: 45000, 10% subset size: 4500\n"
     ]
    }
   ],
   "source": [
    "def create_subset(dataset, fraction=0.1):\n",
    "    total_size = len(dataset)\n",
    "    subset_size = int(total_size * fraction)\n",
    "\n",
    "    indices = torch.randperm(total_size, generator=torch.Generator().manual_seed(SEED))\n",
    "    subset_indices = indices[:subset_size]\n",
    "\n",
    "    return torch.utils.data.Subset(dataset, subset_indices)\n",
    "\n",
    "\n",
    "train_subset = create_subset(train_transformed, fraction=0.1)\n",
    "print(\n",
    "    f\"Full training set size: {len(train_transformed)}, 10% subset size: {len(train_subset)}\"\n",
    ")\n",
    "\n",
    "subset_train_loader = torch.utils.data.DataLoader(\n",
    "    train_subset,\n",
    "    batch_size=BATCH_SIZE,\n",
    "    shuffle=True,\n",
    "    num_workers=4,\n",
    "    pin_memory=True,\n",
    "    persistent_workers=True,\n",
    "    prefetch_factor=2,\n",
    ")"
   ]
  },
  {
   "cell_type": "markdown",
   "id": "7c5c0926",
   "metadata": {},
   "source": [
    "## Finetuning on 10% CIFAR10"
   ]
  },
  {
   "cell_type": "code",
   "execution_count": null,
   "id": "66c4f6a2",
   "metadata": {
    "execution": {
     "iopub.execute_input": "2025-04-17T02:00:24.278446Z",
     "iopub.status.busy": "2025-04-17T02:00:24.277905Z",
     "iopub.status.idle": "2025-04-17T02:04:01.582425Z",
     "shell.execute_reply": "2025-04-17T02:04:01.581599Z",
     "shell.execute_reply.started": "2025-04-17T02:00:24.278423Z"
    },
    "trusted": true
   },
   "outputs": [
    {
     "data": {
      "application/vnd.jupyter.widget-view+json": {
       "model_id": "41e88dbaa9674c01a2f16ec920061a83",
       "version_major": 2,
       "version_minor": 0
      },
      "text/plain": [
       "Epoch 1/30 [Train]:   0%|          | 0/9 [00:00<?, ?it/s]"
      ]
     },
     "metadata": {},
     "output_type": "display_data"
    },
    {
     "data": {
      "application/vnd.jupyter.widget-view+json": {
       "model_id": "dfb13995e02b4399aab09596fd0d1ac2",
       "version_major": 2,
       "version_minor": 0
      },
      "text/plain": [
       "Epoch 1/30 [Valid]:   0%|          | 0/10 [00:00<?, ?it/s]"
      ]
     },
     "metadata": {},
     "output_type": "display_data"
    },
    {
     "name": "stdout",
     "output_type": "stream",
     "text": [
      "Epoch 1/30, Train Loss: 2.2552, Train Acc: 18.87%, Val Loss: 2.0967, Val Acc: 29.56%, LR: 0.000280\n"
     ]
    },
    {
     "data": {
      "application/vnd.jupyter.widget-view+json": {
       "model_id": "cae7a16fb79640f9a889b0256d75e3a5",
       "version_major": 2,
       "version_minor": 0
      },
      "text/plain": [
       "Epoch 2/30 [Train]:   0%|          | 0/9 [00:00<?, ?it/s]"
      ]
     },
     "metadata": {},
     "output_type": "display_data"
    },
    {
     "data": {
      "application/vnd.jupyter.widget-view+json": {
       "model_id": "bdda3e5a50854ab6904ee8c4d7c4b424",
       "version_major": 2,
       "version_minor": 0
      },
      "text/plain": [
       "Epoch 2/30 [Valid]:   0%|          | 0/10 [00:00<?, ?it/s]"
      ]
     },
     "metadata": {},
     "output_type": "display_data"
    },
    {
     "name": "stdout",
     "output_type": "stream",
     "text": [
      "Epoch 2/30, Train Loss: 1.8539, Train Acc: 42.56%, Val Loss: 1.5489, Val Acc: 51.14%, LR: 0.000460\n"
     ]
    },
    {
     "data": {
      "application/vnd.jupyter.widget-view+json": {
       "model_id": "de4f764c28404c87bd852f1d2d5b49de",
       "version_major": 2,
       "version_minor": 0
      },
      "text/plain": [
       "Epoch 3/30 [Train]:   0%|          | 0/9 [00:00<?, ?it/s]"
      ]
     },
     "metadata": {},
     "output_type": "display_data"
    },
    {
     "data": {
      "application/vnd.jupyter.widget-view+json": {
       "model_id": "9729382a2d5647fb989a5cc77b98de07",
       "version_major": 2,
       "version_minor": 0
      },
      "text/plain": [
       "Epoch 3/30 [Valid]:   0%|          | 0/10 [00:00<?, ?it/s]"
      ]
     },
     "metadata": {},
     "output_type": "display_data"
    },
    {
     "name": "stdout",
     "output_type": "stream",
     "text": [
      "Epoch 3/30, Train Loss: 1.4078, Train Acc: 53.36%, Val Loss: 1.2326, Val Acc: 56.74%, LR: 0.000640\n"
     ]
    },
    {
     "data": {
      "application/vnd.jupyter.widget-view+json": {
       "model_id": "a1ebf834425d415da7e43b16e2e66bcb",
       "version_major": 2,
       "version_minor": 0
      },
      "text/plain": [
       "Epoch 4/30 [Train]:   0%|          | 0/9 [00:00<?, ?it/s]"
      ]
     },
     "metadata": {},
     "output_type": "display_data"
    },
    {
     "data": {
      "application/vnd.jupyter.widget-view+json": {
       "model_id": "fc97770ef10148419633b1cc0bcc38a0",
       "version_major": 2,
       "version_minor": 0
      },
      "text/plain": [
       "Epoch 4/30 [Valid]:   0%|          | 0/10 [00:00<?, ?it/s]"
      ]
     },
     "metadata": {},
     "output_type": "display_data"
    },
    {
     "name": "stdout",
     "output_type": "stream",
     "text": [
      "Epoch 4/30, Train Loss: 1.2391, Train Acc: 56.69%, Val Loss: 1.1640, Val Acc: 58.42%, LR: 0.000820\n"
     ]
    },
    {
     "data": {
      "application/vnd.jupyter.widget-view+json": {
       "model_id": "6b5abca18df64d5a9293b7cb48994cac",
       "version_major": 2,
       "version_minor": 0
      },
      "text/plain": [
       "Epoch 5/30 [Train]:   0%|          | 0/9 [00:00<?, ?it/s]"
      ]
     },
     "metadata": {},
     "output_type": "display_data"
    },
    {
     "data": {
      "application/vnd.jupyter.widget-view+json": {
       "model_id": "03e002588ccb48e296687946ef797a25",
       "version_major": 2,
       "version_minor": 0
      },
      "text/plain": [
       "Epoch 5/30 [Valid]:   0%|          | 0/10 [00:00<?, ?it/s]"
      ]
     },
     "metadata": {},
     "output_type": "display_data"
    },
    {
     "name": "stdout",
     "output_type": "stream",
     "text": [
      "Epoch 5/30, Train Loss: 1.1693, Train Acc: 58.27%, Val Loss: 1.1498, Val Acc: 58.52%, LR: 0.001000\n"
     ]
    },
    {
     "data": {
      "application/vnd.jupyter.widget-view+json": {
       "model_id": "bdc3180c7e8a41e79d20969f6f1b4b17",
       "version_major": 2,
       "version_minor": 0
      },
      "text/plain": [
       "Epoch 6/30 [Train]:   0%|          | 0/9 [00:00<?, ?it/s]"
      ]
     },
     "metadata": {},
     "output_type": "display_data"
    },
    {
     "data": {
      "application/vnd.jupyter.widget-view+json": {
       "model_id": "57c8f01f4c6346eabbdb84172f1a158e",
       "version_major": 2,
       "version_minor": 0
      },
      "text/plain": [
       "Epoch 6/30 [Valid]:   0%|          | 0/10 [00:00<?, ?it/s]"
      ]
     },
     "metadata": {},
     "output_type": "display_data"
    },
    {
     "name": "stdout",
     "output_type": "stream",
     "text": [
      "Epoch 6/30, Train Loss: 1.1418, Train Acc: 60.04%, Val Loss: 1.1645, Val Acc: 59.12%, LR: 0.000996\n"
     ]
    },
    {
     "data": {
      "application/vnd.jupyter.widget-view+json": {
       "model_id": "69b6f4e18679414c845bc8e1447eb675",
       "version_major": 2,
       "version_minor": 0
      },
      "text/plain": [
       "Epoch 7/30 [Train]:   0%|          | 0/9 [00:00<?, ?it/s]"
      ]
     },
     "metadata": {},
     "output_type": "display_data"
    },
    {
     "data": {
      "application/vnd.jupyter.widget-view+json": {
       "model_id": "7745d53c947645a3926fd6fdbe503a2c",
       "version_major": 2,
       "version_minor": 0
      },
      "text/plain": [
       "Epoch 7/30 [Valid]:   0%|          | 0/10 [00:00<?, ?it/s]"
      ]
     },
     "metadata": {},
     "output_type": "display_data"
    },
    {
     "name": "stdout",
     "output_type": "stream",
     "text": [
      "Epoch 7/30, Train Loss: 1.0968, Train Acc: 61.56%, Val Loss: 1.1469, Val Acc: 60.00%, LR: 0.000984\n"
     ]
    },
    {
     "data": {
      "application/vnd.jupyter.widget-view+json": {
       "model_id": "9ae612dfa9ab4268a39001d6453ac30d",
       "version_major": 2,
       "version_minor": 0
      },
      "text/plain": [
       "Epoch 8/30 [Train]:   0%|          | 0/9 [00:00<?, ?it/s]"
      ]
     },
     "metadata": {},
     "output_type": "display_data"
    },
    {
     "data": {
      "application/vnd.jupyter.widget-view+json": {
       "model_id": "a8c4589bc3214560a2de905bd8012819",
       "version_major": 2,
       "version_minor": 0
      },
      "text/plain": [
       "Epoch 8/30 [Valid]:   0%|          | 0/10 [00:00<?, ?it/s]"
      ]
     },
     "metadata": {},
     "output_type": "display_data"
    },
    {
     "name": "stdout",
     "output_type": "stream",
     "text": [
      "Epoch 8/30, Train Loss: 1.0618, Train Acc: 62.31%, Val Loss: 1.0933, Val Acc: 61.46%, LR: 0.000965\n"
     ]
    },
    {
     "data": {
      "application/vnd.jupyter.widget-view+json": {
       "model_id": "5957751920524992bc76359696acfa70",
       "version_major": 2,
       "version_minor": 0
      },
      "text/plain": [
       "Epoch 9/30 [Train]:   0%|          | 0/9 [00:00<?, ?it/s]"
      ]
     },
     "metadata": {},
     "output_type": "display_data"
    },
    {
     "data": {
      "application/vnd.jupyter.widget-view+json": {
       "model_id": "2888be7e803c4f30a7f4dc0735681993",
       "version_major": 2,
       "version_minor": 0
      },
      "text/plain": [
       "Epoch 9/30 [Valid]:   0%|          | 0/10 [00:00<?, ?it/s]"
      ]
     },
     "metadata": {},
     "output_type": "display_data"
    },
    {
     "name": "stdout",
     "output_type": "stream",
     "text": [
      "Epoch 9/30, Train Loss: 1.0387, Train Acc: 62.76%, Val Loss: 1.0830, Val Acc: 61.64%, LR: 0.000939\n"
     ]
    },
    {
     "data": {
      "application/vnd.jupyter.widget-view+json": {
       "model_id": "1d4b4a7818bd4640ae7cad433e001724",
       "version_major": 2,
       "version_minor": 0
      },
      "text/plain": [
       "Epoch 10/30 [Train]:   0%|          | 0/9 [00:00<?, ?it/s]"
      ]
     },
     "metadata": {},
     "output_type": "display_data"
    },
    {
     "data": {
      "application/vnd.jupyter.widget-view+json": {
       "model_id": "28ed9b28e3d8487592dbef57155cbd8a",
       "version_major": 2,
       "version_minor": 0
      },
      "text/plain": [
       "Epoch 10/30 [Valid]:   0%|          | 0/10 [00:00<?, ?it/s]"
      ]
     },
     "metadata": {},
     "output_type": "display_data"
    },
    {
     "name": "stdout",
     "output_type": "stream",
     "text": [
      "Epoch 10/30, Train Loss: 1.0258, Train Acc: 64.40%, Val Loss: 1.1025, Val Acc: 61.06%, LR: 0.000905\n"
     ]
    },
    {
     "data": {
      "application/vnd.jupyter.widget-view+json": {
       "model_id": "0ec1b2308944486f99b7365752646022",
       "version_major": 2,
       "version_minor": 0
      },
      "text/plain": [
       "Epoch 11/30 [Train]:   0%|          | 0/9 [00:00<?, ?it/s]"
      ]
     },
     "metadata": {},
     "output_type": "display_data"
    },
    {
     "data": {
      "application/vnd.jupyter.widget-view+json": {
       "model_id": "e184835e2f664bd9965e035c850a7333",
       "version_major": 2,
       "version_minor": 0
      },
      "text/plain": [
       "Epoch 11/30 [Valid]:   0%|          | 0/10 [00:00<?, ?it/s]"
      ]
     },
     "metadata": {},
     "output_type": "display_data"
    },
    {
     "name": "stdout",
     "output_type": "stream",
     "text": [
      "Epoch 11/30, Train Loss: 1.0008, Train Acc: 65.36%, Val Loss: 1.1113, Val Acc: 61.18%, LR: 0.000866\n"
     ]
    },
    {
     "data": {
      "application/vnd.jupyter.widget-view+json": {
       "model_id": "a28b5ca4592a42139ba75e8af7a14afb",
       "version_major": 2,
       "version_minor": 0
      },
      "text/plain": [
       "Epoch 12/30 [Train]:   0%|          | 0/9 [00:00<?, ?it/s]"
      ]
     },
     "metadata": {},
     "output_type": "display_data"
    },
    {
     "data": {
      "application/vnd.jupyter.widget-view+json": {
       "model_id": "4bf83654e48d47ac8c10857693539008",
       "version_major": 2,
       "version_minor": 0
      },
      "text/plain": [
       "Epoch 12/30 [Valid]:   0%|          | 0/10 [00:00<?, ?it/s]"
      ]
     },
     "metadata": {},
     "output_type": "display_data"
    },
    {
     "name": "stdout",
     "output_type": "stream",
     "text": [
      "Epoch 12/30, Train Loss: 0.9988, Train Acc: 65.18%, Val Loss: 1.0979, Val Acc: 61.36%, LR: 0.000821\n"
     ]
    },
    {
     "data": {
      "application/vnd.jupyter.widget-view+json": {
       "model_id": "8f3c01f2f3ba49ef89a910d2559125df",
       "version_major": 2,
       "version_minor": 0
      },
      "text/plain": [
       "Epoch 13/30 [Train]:   0%|          | 0/9 [00:00<?, ?it/s]"
      ]
     },
     "metadata": {},
     "output_type": "display_data"
    },
    {
     "data": {
      "application/vnd.jupyter.widget-view+json": {
       "model_id": "911d7e99eb6346b8b4102abb5878d081",
       "version_major": 2,
       "version_minor": 0
      },
      "text/plain": [
       "Epoch 13/30 [Valid]:   0%|          | 0/10 [00:00<?, ?it/s]"
      ]
     },
     "metadata": {},
     "output_type": "display_data"
    },
    {
     "name": "stdout",
     "output_type": "stream",
     "text": [
      "Epoch 13/30, Train Loss: 0.9664, Train Acc: 66.49%, Val Loss: 1.0880, Val Acc: 61.86%, LR: 0.000770\n"
     ]
    },
    {
     "data": {
      "application/vnd.jupyter.widget-view+json": {
       "model_id": "6dfccbc6068b4959afb132bbdef996f0",
       "version_major": 2,
       "version_minor": 0
      },
      "text/plain": [
       "Epoch 14/30 [Train]:   0%|          | 0/9 [00:00<?, ?it/s]"
      ]
     },
     "metadata": {},
     "output_type": "display_data"
    },
    {
     "data": {
      "application/vnd.jupyter.widget-view+json": {
       "model_id": "36355d7851154ed49a833a2a2da647fb",
       "version_major": 2,
       "version_minor": 0
      },
      "text/plain": [
       "Epoch 14/30 [Valid]:   0%|          | 0/10 [00:00<?, ?it/s]"
      ]
     },
     "metadata": {},
     "output_type": "display_data"
    },
    {
     "name": "stdout",
     "output_type": "stream",
     "text": [
      "Epoch 14/30, Train Loss: 0.9602, Train Acc: 66.42%, Val Loss: 1.1361, Val Acc: 60.40%, LR: 0.000716\n"
     ]
    },
    {
     "data": {
      "application/vnd.jupyter.widget-view+json": {
       "model_id": "74bd3cc1924d41a2acaf88f42db118fe",
       "version_major": 2,
       "version_minor": 0
      },
      "text/plain": [
       "Epoch 15/30 [Train]:   0%|          | 0/9 [00:00<?, ?it/s]"
      ]
     },
     "metadata": {},
     "output_type": "display_data"
    },
    {
     "data": {
      "application/vnd.jupyter.widget-view+json": {
       "model_id": "7be103b30bce4401935c6f7c8116e5f5",
       "version_major": 2,
       "version_minor": 0
      },
      "text/plain": [
       "Epoch 15/30 [Valid]:   0%|          | 0/10 [00:00<?, ?it/s]"
      ]
     },
     "metadata": {},
     "output_type": "display_data"
    },
    {
     "name": "stdout",
     "output_type": "stream",
     "text": [
      "Epoch 15/30, Train Loss: 0.9622, Train Acc: 65.89%, Val Loss: 1.0703, Val Acc: 62.02%, LR: 0.000658\n"
     ]
    },
    {
     "data": {
      "application/vnd.jupyter.widget-view+json": {
       "model_id": "09d9109bc1074c75a39ef44c4d73c634",
       "version_major": 2,
       "version_minor": 0
      },
      "text/plain": [
       "Epoch 16/30 [Train]:   0%|          | 0/9 [00:00<?, ?it/s]"
      ]
     },
     "metadata": {},
     "output_type": "display_data"
    },
    {
     "data": {
      "application/vnd.jupyter.widget-view+json": {
       "model_id": "489c86681b92479eb79d737e1b00ff94",
       "version_major": 2,
       "version_minor": 0
      },
      "text/plain": [
       "Epoch 16/30 [Valid]:   0%|          | 0/10 [00:00<?, ?it/s]"
      ]
     },
     "metadata": {},
     "output_type": "display_data"
    },
    {
     "name": "stdout",
     "output_type": "stream",
     "text": [
      "Epoch 16/30, Train Loss: 0.9214, Train Acc: 67.96%, Val Loss: 1.0638, Val Acc: 62.00%, LR: 0.000598\n"
     ]
    },
    {
     "data": {
      "application/vnd.jupyter.widget-view+json": {
       "model_id": "7f46341590ed460489ea536570b7602a",
       "version_major": 2,
       "version_minor": 0
      },
      "text/plain": [
       "Epoch 17/30 [Train]:   0%|          | 0/9 [00:00<?, ?it/s]"
      ]
     },
     "metadata": {},
     "output_type": "display_data"
    },
    {
     "data": {
      "application/vnd.jupyter.widget-view+json": {
       "model_id": "a2ac760ae6804de38d2375e00b06d3ef",
       "version_major": 2,
       "version_minor": 0
      },
      "text/plain": [
       "Epoch 17/30 [Valid]:   0%|          | 0/10 [00:00<?, ?it/s]"
      ]
     },
     "metadata": {},
     "output_type": "display_data"
    },
    {
     "name": "stdout",
     "output_type": "stream",
     "text": [
      "Epoch 17/30, Train Loss: 0.9071, Train Acc: 67.71%, Val Loss: 1.0916, Val Acc: 61.80%, LR: 0.000536\n"
     ]
    },
    {
     "data": {
      "application/vnd.jupyter.widget-view+json": {
       "model_id": "527c8f3329294c43a77d9e4398197488",
       "version_major": 2,
       "version_minor": 0
      },
      "text/plain": [
       "Epoch 18/30 [Train]:   0%|          | 0/9 [00:00<?, ?it/s]"
      ]
     },
     "metadata": {},
     "output_type": "display_data"
    },
    {
     "data": {
      "application/vnd.jupyter.widget-view+json": {
       "model_id": "3710ba4a875c4c9e8126c0cee5da607a",
       "version_major": 2,
       "version_minor": 0
      },
      "text/plain": [
       "Epoch 18/30 [Valid]:   0%|          | 0/10 [00:00<?, ?it/s]"
      ]
     },
     "metadata": {},
     "output_type": "display_data"
    },
    {
     "name": "stdout",
     "output_type": "stream",
     "text": [
      "Epoch 18/30, Train Loss: 0.9066, Train Acc: 68.07%, Val Loss: 1.0856, Val Acc: 62.28%, LR: 0.000474\n"
     ]
    },
    {
     "data": {
      "application/vnd.jupyter.widget-view+json": {
       "model_id": "e2d3576758b1486db33caf9f39d0cc06",
       "version_major": 2,
       "version_minor": 0
      },
      "text/plain": [
       "Epoch 19/30 [Train]:   0%|          | 0/9 [00:00<?, ?it/s]"
      ]
     },
     "metadata": {},
     "output_type": "display_data"
    },
    {
     "data": {
      "application/vnd.jupyter.widget-view+json": {
       "model_id": "03835fa40c97415ea08c6b417cd0af2b",
       "version_major": 2,
       "version_minor": 0
      },
      "text/plain": [
       "Epoch 19/30 [Valid]:   0%|          | 0/10 [00:00<?, ?it/s]"
      ]
     },
     "metadata": {},
     "output_type": "display_data"
    },
    {
     "name": "stdout",
     "output_type": "stream",
     "text": [
      "Epoch 19/30, Train Loss: 0.8864, Train Acc: 68.91%, Val Loss: 1.0795, Val Acc: 62.42%, LR: 0.000412\n"
     ]
    },
    {
     "data": {
      "application/vnd.jupyter.widget-view+json": {
       "model_id": "8fc4e6ccb037431d80af82b5c25b1f5a",
       "version_major": 2,
       "version_minor": 0
      },
      "text/plain": [
       "Epoch 20/30 [Train]:   0%|          | 0/9 [00:00<?, ?it/s]"
      ]
     },
     "metadata": {},
     "output_type": "display_data"
    },
    {
     "data": {
      "application/vnd.jupyter.widget-view+json": {
       "model_id": "fe0e1cc940fa4013897114772a468d8d",
       "version_major": 2,
       "version_minor": 0
      },
      "text/plain": [
       "Epoch 20/30 [Valid]:   0%|          | 0/10 [00:00<?, ?it/s]"
      ]
     },
     "metadata": {},
     "output_type": "display_data"
    },
    {
     "name": "stdout",
     "output_type": "stream",
     "text": [
      "Epoch 20/30, Train Loss: 0.8996, Train Acc: 68.09%, Val Loss: 1.0579, Val Acc: 62.56%, LR: 0.000352\n"
     ]
    },
    {
     "data": {
      "application/vnd.jupyter.widget-view+json": {
       "model_id": "c4d54a9178514cf6bf2acdcf1fe0559d",
       "version_major": 2,
       "version_minor": 0
      },
      "text/plain": [
       "Epoch 21/30 [Train]:   0%|          | 0/9 [00:00<?, ?it/s]"
      ]
     },
     "metadata": {},
     "output_type": "display_data"
    },
    {
     "data": {
      "application/vnd.jupyter.widget-view+json": {
       "model_id": "44f71b1643c84015927668ed165077d8",
       "version_major": 2,
       "version_minor": 0
      },
      "text/plain": [
       "Epoch 21/30 [Valid]:   0%|          | 0/10 [00:00<?, ?it/s]"
      ]
     },
     "metadata": {},
     "output_type": "display_data"
    },
    {
     "name": "stdout",
     "output_type": "stream",
     "text": [
      "Epoch 21/30, Train Loss: 0.8661, Train Acc: 70.02%, Val Loss: 1.0677, Val Acc: 62.96%, LR: 0.000294\n"
     ]
    },
    {
     "data": {
      "application/vnd.jupyter.widget-view+json": {
       "model_id": "30bda5afd1a646cd8bea29b3d14db32a",
       "version_major": 2,
       "version_minor": 0
      },
      "text/plain": [
       "Epoch 22/30 [Train]:   0%|          | 0/9 [00:00<?, ?it/s]"
      ]
     },
     "metadata": {},
     "output_type": "display_data"
    },
    {
     "data": {
      "application/vnd.jupyter.widget-view+json": {
       "model_id": "66dee3b0d84146e096452f7d164e1b3e",
       "version_major": 2,
       "version_minor": 0
      },
      "text/plain": [
       "Epoch 22/30 [Valid]:   0%|          | 0/10 [00:00<?, ?it/s]"
      ]
     },
     "metadata": {},
     "output_type": "display_data"
    },
    {
     "name": "stdout",
     "output_type": "stream",
     "text": [
      "Epoch 22/30, Train Loss: 0.8587, Train Acc: 69.98%, Val Loss: 1.0587, Val Acc: 63.28%, LR: 0.000240\n"
     ]
    },
    {
     "data": {
      "application/vnd.jupyter.widget-view+json": {
       "model_id": "c921a92b020042c2a358701f535501f5",
       "version_major": 2,
       "version_minor": 0
      },
      "text/plain": [
       "Epoch 23/30 [Train]:   0%|          | 0/9 [00:00<?, ?it/s]"
      ]
     },
     "metadata": {},
     "output_type": "display_data"
    },
    {
     "data": {
      "application/vnd.jupyter.widget-view+json": {
       "model_id": "b7760fb9dffd44f1af3ccb5e0a5e5a33",
       "version_major": 2,
       "version_minor": 0
      },
      "text/plain": [
       "Epoch 23/30 [Valid]:   0%|          | 0/10 [00:00<?, ?it/s]"
      ]
     },
     "metadata": {},
     "output_type": "display_data"
    },
    {
     "name": "stdout",
     "output_type": "stream",
     "text": [
      "Epoch 23/30, Train Loss: 0.8525, Train Acc: 70.11%, Val Loss: 1.0561, Val Acc: 62.94%, LR: 0.000189\n"
     ]
    },
    {
     "data": {
      "application/vnd.jupyter.widget-view+json": {
       "model_id": "0735361ab0ad4f849fc631ef62514f62",
       "version_major": 2,
       "version_minor": 0
      },
      "text/plain": [
       "Epoch 24/30 [Train]:   0%|          | 0/9 [00:00<?, ?it/s]"
      ]
     },
     "metadata": {},
     "output_type": "display_data"
    },
    {
     "data": {
      "application/vnd.jupyter.widget-view+json": {
       "model_id": "ef25ae3b570f4ee79612ea9a5b4a10f3",
       "version_major": 2,
       "version_minor": 0
      },
      "text/plain": [
       "Epoch 24/30 [Valid]:   0%|          | 0/10 [00:00<?, ?it/s]"
      ]
     },
     "metadata": {},
     "output_type": "display_data"
    },
    {
     "name": "stdout",
     "output_type": "stream",
     "text": [
      "Epoch 24/30, Train Loss: 0.8477, Train Acc: 70.07%, Val Loss: 1.0535, Val Acc: 62.96%, LR: 0.000144\n"
     ]
    },
    {
     "data": {
      "application/vnd.jupyter.widget-view+json": {
       "model_id": "3970cfa818ce452c85f1bdcef45f3cf6",
       "version_major": 2,
       "version_minor": 0
      },
      "text/plain": [
       "Epoch 25/30 [Train]:   0%|          | 0/9 [00:00<?, ?it/s]"
      ]
     },
     "metadata": {},
     "output_type": "display_data"
    },
    {
     "data": {
      "application/vnd.jupyter.widget-view+json": {
       "model_id": "fef7a1e33306416e96424318b9360b92",
       "version_major": 2,
       "version_minor": 0
      },
      "text/plain": [
       "Epoch 25/30 [Valid]:   0%|          | 0/10 [00:00<?, ?it/s]"
      ]
     },
     "metadata": {},
     "output_type": "display_data"
    },
    {
     "name": "stdout",
     "output_type": "stream",
     "text": [
      "Epoch 25/30, Train Loss: 0.8486, Train Acc: 70.44%, Val Loss: 1.0600, Val Acc: 62.96%, LR: 0.000105\n"
     ]
    },
    {
     "data": {
      "application/vnd.jupyter.widget-view+json": {
       "model_id": "a325c816a99945c69faece6dbb2e9821",
       "version_major": 2,
       "version_minor": 0
      },
      "text/plain": [
       "Epoch 26/30 [Train]:   0%|          | 0/9 [00:00<?, ?it/s]"
      ]
     },
     "metadata": {},
     "output_type": "display_data"
    },
    {
     "data": {
      "application/vnd.jupyter.widget-view+json": {
       "model_id": "3c7cf3cc7bea43c6b1dd39f5da353e65",
       "version_major": 2,
       "version_minor": 0
      },
      "text/plain": [
       "Epoch 26/30 [Valid]:   0%|          | 0/10 [00:00<?, ?it/s]"
      ]
     },
     "metadata": {},
     "output_type": "display_data"
    },
    {
     "name": "stdout",
     "output_type": "stream",
     "text": [
      "Epoch 26/30, Train Loss: 0.8356, Train Acc: 70.82%, Val Loss: 1.0618, Val Acc: 62.86%, LR: 0.000071\n"
     ]
    },
    {
     "data": {
      "application/vnd.jupyter.widget-view+json": {
       "model_id": "a3ddd2048cc04638b2180b825ae4536b",
       "version_major": 2,
       "version_minor": 0
      },
      "text/plain": [
       "Epoch 27/30 [Train]:   0%|          | 0/9 [00:00<?, ?it/s]"
      ]
     },
     "metadata": {},
     "output_type": "display_data"
    },
    {
     "data": {
      "application/vnd.jupyter.widget-view+json": {
       "model_id": "06a0ddb26af242a38de0c415d4bc83ed",
       "version_major": 2,
       "version_minor": 0
      },
      "text/plain": [
       "Epoch 27/30 [Valid]:   0%|          | 0/10 [00:00<?, ?it/s]"
      ]
     },
     "metadata": {},
     "output_type": "display_data"
    },
    {
     "name": "stdout",
     "output_type": "stream",
     "text": [
      "Epoch 27/30, Train Loss: 0.8412, Train Acc: 70.62%, Val Loss: 1.0577, Val Acc: 62.80%, LR: 0.000045\n"
     ]
    },
    {
     "data": {
      "application/vnd.jupyter.widget-view+json": {
       "model_id": "ef95dad04f094016b398481df67bcb8c",
       "version_major": 2,
       "version_minor": 0
      },
      "text/plain": [
       "Epoch 28/30 [Train]:   0%|          | 0/9 [00:00<?, ?it/s]"
      ]
     },
     "metadata": {},
     "output_type": "display_data"
    },
    {
     "data": {
      "application/vnd.jupyter.widget-view+json": {
       "model_id": "61b75834869b4e1bbe16f12246ba89a8",
       "version_major": 2,
       "version_minor": 0
      },
      "text/plain": [
       "Epoch 28/30 [Valid]:   0%|          | 0/10 [00:00<?, ?it/s]"
      ]
     },
     "metadata": {},
     "output_type": "display_data"
    },
    {
     "name": "stdout",
     "output_type": "stream",
     "text": [
      "Epoch 28/30, Train Loss: 0.8443, Train Acc: 70.87%, Val Loss: 1.0565, Val Acc: 62.82%, LR: 0.000026\n"
     ]
    },
    {
     "data": {
      "application/vnd.jupyter.widget-view+json": {
       "model_id": "0a85ed0f89d2432da2fb15918c73c2e2",
       "version_major": 2,
       "version_minor": 0
      },
      "text/plain": [
       "Epoch 29/30 [Train]:   0%|          | 0/9 [00:00<?, ?it/s]"
      ]
     },
     "metadata": {},
     "output_type": "display_data"
    },
    {
     "data": {
      "application/vnd.jupyter.widget-view+json": {
       "model_id": "136846d0c90e4d45b449240cc34ffc4a",
       "version_major": 2,
       "version_minor": 0
      },
      "text/plain": [
       "Epoch 29/30 [Valid]:   0%|          | 0/10 [00:00<?, ?it/s]"
      ]
     },
     "metadata": {},
     "output_type": "display_data"
    },
    {
     "name": "stdout",
     "output_type": "stream",
     "text": [
      "Epoch 29/30, Train Loss: 0.8350, Train Acc: 70.62%, Val Loss: 1.0552, Val Acc: 62.96%, LR: 0.000014\n"
     ]
    },
    {
     "data": {
      "application/vnd.jupyter.widget-view+json": {
       "model_id": "6532b8676e5d46c9aac410002c92816f",
       "version_major": 2,
       "version_minor": 0
      },
      "text/plain": [
       "Epoch 30/30 [Train]:   0%|          | 0/9 [00:00<?, ?it/s]"
      ]
     },
     "metadata": {},
     "output_type": "display_data"
    },
    {
     "data": {
      "application/vnd.jupyter.widget-view+json": {
       "model_id": "eea9d5972533484eb06d6fb84b78031f",
       "version_major": 2,
       "version_minor": 0
      },
      "text/plain": [
       "Epoch 30/30 [Valid]:   0%|          | 0/10 [00:00<?, ?it/s]"
      ]
     },
     "metadata": {},
     "output_type": "display_data"
    },
    {
     "name": "stdout",
     "output_type": "stream",
     "text": [
      "Epoch 30/30, Train Loss: 0.8407, Train Acc: 70.80%, Val Loss: 1.0539, Val Acc: 62.88%, LR: 0.000010\n"
     ]
    },
    {
     "name": "stderr",
     "output_type": "stream",
     "text": [
      "/tmp/ipykernel_73/3313409929.py:106: FutureWarning: You are using `torch.load` with `weights_only=False` (the current default value), which uses the default pickle module implicitly. It is possible to construct malicious pickle data which will execute arbitrary code during unpickling (See https://github.com/pytorch/pytorch/blob/main/SECURITY.md#untrusted-models for more details). In a future release, the default value for `weights_only` will be flipped to `True`. This limits the functions that could be executed during unpickling. Arbitrary objects will no longer be allowed to be loaded via this mode unless they are explicitly allowlisted by the user via `torch.serialization.add_safe_globals`. We recommend you start setting `weights_only=True` for any use case where you don't have full control of the loaded file. Please open an issue on GitHub for any issues related to this experimental feature.\n",
      "  model.load_state_dict(torch.load(f\"cifar10_{experiment_name}.pth\"))\n"
     ]
    },
    {
     "name": "stdout",
     "output_type": "stream",
     "text": [
      "Test Accuracy (finetuned_10pct): 63.12%\n"
     ]
    }
   ],
   "source": [
    "classifier_finetuned_10pct = Classifier(\n",
    "    encoder=get_encoder(pretrained=True), num_classes=10\n",
    ").to(device)\n",
    "\n",
    "finetuned_10pct_train_losses, finetuned_10pct_val_losses, finetuned_10pct_test_acc = (\n",
    "    train_supervised(\n",
    "        classifier_finetuned_10pct,\n",
    "        subset_train_loader,\n",
    "        val_loader,\n",
    "        test_loader,\n",
    "        epochs=SUBSET_DATA_EPOCHS,\n",
    "        warmup_epochs=5,\n",
    "        initial_lr=INITIAL_LR,\n",
    "        final_lr=FINAL_LR,\n",
    "        experiment_name=\"finetuned_10pct\",\n",
    "        device=device,\n",
    "    )\n",
    ")"
   ]
  },
  {
   "cell_type": "markdown",
   "id": "db5846ee",
   "metadata": {},
   "source": [
    "## Supervised training on 10% CIFAR10"
   ]
  },
  {
   "cell_type": "code",
   "execution_count": 34,
   "id": "924c6a19",
   "metadata": {
    "execution": {
     "iopub.execute_input": "2025-04-17T02:04:01.584032Z",
     "iopub.status.busy": "2025-04-17T02:04:01.583796Z",
     "iopub.status.idle": "2025-04-17T02:07:37.243538Z",
     "shell.execute_reply": "2025-04-17T02:07:37.242894Z",
     "shell.execute_reply.started": "2025-04-17T02:04:01.584008Z"
    },
    "trusted": true
   },
   "outputs": [
    {
     "data": {
      "application/vnd.jupyter.widget-view+json": {
       "model_id": "2c637964c76a44c3ba510ecddbedd911",
       "version_major": 2,
       "version_minor": 0
      },
      "text/plain": [
       "Epoch 1/30 [Train]:   0%|          | 0/9 [00:00<?, ?it/s]"
      ]
     },
     "metadata": {},
     "output_type": "display_data"
    },
    {
     "data": {
      "application/vnd.jupyter.widget-view+json": {
       "model_id": "8084beb8f7ad45699929ac9366402493",
       "version_major": 2,
       "version_minor": 0
      },
      "text/plain": [
       "Epoch 1/30 [Valid]:   0%|          | 0/10 [00:00<?, ?it/s]"
      ]
     },
     "metadata": {},
     "output_type": "display_data"
    },
    {
     "name": "stdout",
     "output_type": "stream",
     "text": [
      "Epoch 1/30, Train Loss: 2.3112, Train Acc: 10.89%, Val Loss: 2.2995, Val Acc: 12.38%, LR: 0.000280\n"
     ]
    },
    {
     "data": {
      "application/vnd.jupyter.widget-view+json": {
       "model_id": "0c97facd044446f4a1d78c140c4de2b1",
       "version_major": 2,
       "version_minor": 0
      },
      "text/plain": [
       "Epoch 2/30 [Train]:   0%|          | 0/9 [00:00<?, ?it/s]"
      ]
     },
     "metadata": {},
     "output_type": "display_data"
    },
    {
     "data": {
      "application/vnd.jupyter.widget-view+json": {
       "model_id": "07bb0301a58242ab8434368ff3e64d8b",
       "version_major": 2,
       "version_minor": 0
      },
      "text/plain": [
       "Epoch 2/30 [Valid]:   0%|          | 0/10 [00:00<?, ?it/s]"
      ]
     },
     "metadata": {},
     "output_type": "display_data"
    },
    {
     "name": "stdout",
     "output_type": "stream",
     "text": [
      "Epoch 2/30, Train Loss: 2.2687, Train Acc: 14.67%, Val Loss: 2.2903, Val Acc: 13.68%, LR: 0.000460\n"
     ]
    },
    {
     "data": {
      "application/vnd.jupyter.widget-view+json": {
       "model_id": "db720da1b17d40e59f54fc93d697ebc7",
       "version_major": 2,
       "version_minor": 0
      },
      "text/plain": [
       "Epoch 3/30 [Train]:   0%|          | 0/9 [00:00<?, ?it/s]"
      ]
     },
     "metadata": {},
     "output_type": "display_data"
    },
    {
     "data": {
      "application/vnd.jupyter.widget-view+json": {
       "model_id": "99c00ab6692a44708942dbd8e9532a89",
       "version_major": 2,
       "version_minor": 0
      },
      "text/plain": [
       "Epoch 3/30 [Valid]:   0%|          | 0/10 [00:00<?, ?it/s]"
      ]
     },
     "metadata": {},
     "output_type": "display_data"
    },
    {
     "name": "stdout",
     "output_type": "stream",
     "text": [
      "Epoch 3/30, Train Loss: 2.2270, Train Acc: 18.24%, Val Loss: 2.2337, Val Acc: 17.10%, LR: 0.000640\n"
     ]
    },
    {
     "data": {
      "application/vnd.jupyter.widget-view+json": {
       "model_id": "158768921de4490eba1273d7d1ec3ee8",
       "version_major": 2,
       "version_minor": 0
      },
      "text/plain": [
       "Epoch 4/30 [Train]:   0%|          | 0/9 [00:00<?, ?it/s]"
      ]
     },
     "metadata": {},
     "output_type": "display_data"
    },
    {
     "data": {
      "application/vnd.jupyter.widget-view+json": {
       "model_id": "f4f379ab8ec8409b9299d1177eff45cb",
       "version_major": 2,
       "version_minor": 0
      },
      "text/plain": [
       "Epoch 4/30 [Valid]:   0%|          | 0/10 [00:00<?, ?it/s]"
      ]
     },
     "metadata": {},
     "output_type": "display_data"
    },
    {
     "name": "stdout",
     "output_type": "stream",
     "text": [
      "Epoch 4/30, Train Loss: 2.1809, Train Acc: 20.38%, Val Loss: 2.1407, Val Acc: 25.02%, LR: 0.000820\n"
     ]
    },
    {
     "data": {
      "application/vnd.jupyter.widget-view+json": {
       "model_id": "f4b3df05c3d8489c9cbc518b7e61e3ee",
       "version_major": 2,
       "version_minor": 0
      },
      "text/plain": [
       "Epoch 5/30 [Train]:   0%|          | 0/9 [00:00<?, ?it/s]"
      ]
     },
     "metadata": {},
     "output_type": "display_data"
    },
    {
     "data": {
      "application/vnd.jupyter.widget-view+json": {
       "model_id": "a66b6efedd4246fe8a509b17244b2d54",
       "version_major": 2,
       "version_minor": 0
      },
      "text/plain": [
       "Epoch 5/30 [Valid]:   0%|          | 0/10 [00:00<?, ?it/s]"
      ]
     },
     "metadata": {},
     "output_type": "display_data"
    },
    {
     "name": "stdout",
     "output_type": "stream",
     "text": [
      "Epoch 5/30, Train Loss: 2.1481, Train Acc: 22.27%, Val Loss: 2.0913, Val Acc: 25.74%, LR: 0.001000\n"
     ]
    },
    {
     "data": {
      "application/vnd.jupyter.widget-view+json": {
       "model_id": "6f7844d2da1a48ff8e5662979226e8ea",
       "version_major": 2,
       "version_minor": 0
      },
      "text/plain": [
       "Epoch 6/30 [Train]:   0%|          | 0/9 [00:00<?, ?it/s]"
      ]
     },
     "metadata": {},
     "output_type": "display_data"
    },
    {
     "data": {
      "application/vnd.jupyter.widget-view+json": {
       "model_id": "277eac29376a4fe5b9a55338956d244c",
       "version_major": 2,
       "version_minor": 0
      },
      "text/plain": [
       "Epoch 6/30 [Valid]:   0%|          | 0/10 [00:00<?, ?it/s]"
      ]
     },
     "metadata": {},
     "output_type": "display_data"
    },
    {
     "name": "stdout",
     "output_type": "stream",
     "text": [
      "Epoch 6/30, Train Loss: 2.1181, Train Acc: 23.11%, Val Loss: 2.0436, Val Acc: 26.90%, LR: 0.000996\n"
     ]
    },
    {
     "data": {
      "application/vnd.jupyter.widget-view+json": {
       "model_id": "3067d8974f09493588a90a5fd578723c",
       "version_major": 2,
       "version_minor": 0
      },
      "text/plain": [
       "Epoch 7/30 [Train]:   0%|          | 0/9 [00:00<?, ?it/s]"
      ]
     },
     "metadata": {},
     "output_type": "display_data"
    },
    {
     "data": {
      "application/vnd.jupyter.widget-view+json": {
       "model_id": "a8e90af614d64bbdabb4741f7142ca30",
       "version_major": 2,
       "version_minor": 0
      },
      "text/plain": [
       "Epoch 7/30 [Valid]:   0%|          | 0/10 [00:00<?, ?it/s]"
      ]
     },
     "metadata": {},
     "output_type": "display_data"
    },
    {
     "name": "stdout",
     "output_type": "stream",
     "text": [
      "Epoch 7/30, Train Loss: 2.1019, Train Acc: 24.71%, Val Loss: 2.0564, Val Acc: 26.16%, LR: 0.000984\n"
     ]
    },
    {
     "data": {
      "application/vnd.jupyter.widget-view+json": {
       "model_id": "2b70ae46e95a4e02b4d1bb9fc5596532",
       "version_major": 2,
       "version_minor": 0
      },
      "text/plain": [
       "Epoch 8/30 [Train]:   0%|          | 0/9 [00:00<?, ?it/s]"
      ]
     },
     "metadata": {},
     "output_type": "display_data"
    },
    {
     "data": {
      "application/vnd.jupyter.widget-view+json": {
       "model_id": "a21eb43819d04b36b1d65cbe32ecae9f",
       "version_major": 2,
       "version_minor": 0
      },
      "text/plain": [
       "Epoch 8/30 [Valid]:   0%|          | 0/10 [00:00<?, ?it/s]"
      ]
     },
     "metadata": {},
     "output_type": "display_data"
    },
    {
     "name": "stdout",
     "output_type": "stream",
     "text": [
      "Epoch 8/30, Train Loss: 2.1207, Train Acc: 23.07%, Val Loss: 2.0316, Val Acc: 26.66%, LR: 0.000965\n"
     ]
    },
    {
     "data": {
      "application/vnd.jupyter.widget-view+json": {
       "model_id": "b6101c9ad59d40e0ab5201f82d039ff5",
       "version_major": 2,
       "version_minor": 0
      },
      "text/plain": [
       "Epoch 9/30 [Train]:   0%|          | 0/9 [00:00<?, ?it/s]"
      ]
     },
     "metadata": {},
     "output_type": "display_data"
    },
    {
     "data": {
      "application/vnd.jupyter.widget-view+json": {
       "model_id": "d849947471924637ab9f091b6fd90de7",
       "version_major": 2,
       "version_minor": 0
      },
      "text/plain": [
       "Epoch 9/30 [Valid]:   0%|          | 0/10 [00:00<?, ?it/s]"
      ]
     },
     "metadata": {},
     "output_type": "display_data"
    },
    {
     "name": "stdout",
     "output_type": "stream",
     "text": [
      "Epoch 9/30, Train Loss: 2.0964, Train Acc: 24.22%, Val Loss: 2.0274, Val Acc: 26.08%, LR: 0.000939\n"
     ]
    },
    {
     "data": {
      "application/vnd.jupyter.widget-view+json": {
       "model_id": "4a885683f50247e1aeebc17fd97e7c50",
       "version_major": 2,
       "version_minor": 0
      },
      "text/plain": [
       "Epoch 10/30 [Train]:   0%|          | 0/9 [00:00<?, ?it/s]"
      ]
     },
     "metadata": {},
     "output_type": "display_data"
    },
    {
     "data": {
      "application/vnd.jupyter.widget-view+json": {
       "model_id": "496cb52f12844ebc95b711ea80edf240",
       "version_major": 2,
       "version_minor": 0
      },
      "text/plain": [
       "Epoch 10/30 [Valid]:   0%|          | 0/10 [00:00<?, ?it/s]"
      ]
     },
     "metadata": {},
     "output_type": "display_data"
    },
    {
     "name": "stdout",
     "output_type": "stream",
     "text": [
      "Epoch 10/30, Train Loss: 2.0970, Train Acc: 24.91%, Val Loss: 2.0379, Val Acc: 25.70%, LR: 0.000905\n"
     ]
    },
    {
     "data": {
      "application/vnd.jupyter.widget-view+json": {
       "model_id": "d88df7bf134144c78ba8c087fbca2e16",
       "version_major": 2,
       "version_minor": 0
      },
      "text/plain": [
       "Epoch 11/30 [Train]:   0%|          | 0/9 [00:00<?, ?it/s]"
      ]
     },
     "metadata": {},
     "output_type": "display_data"
    },
    {
     "data": {
      "application/vnd.jupyter.widget-view+json": {
       "model_id": "c6083f96c2914142b9ef62f312f3cc69",
       "version_major": 2,
       "version_minor": 0
      },
      "text/plain": [
       "Epoch 11/30 [Valid]:   0%|          | 0/10 [00:00<?, ?it/s]"
      ]
     },
     "metadata": {},
     "output_type": "display_data"
    },
    {
     "name": "stdout",
     "output_type": "stream",
     "text": [
      "Epoch 11/30, Train Loss: 2.0829, Train Acc: 24.33%, Val Loss: 2.0233, Val Acc: 26.64%, LR: 0.000866\n"
     ]
    },
    {
     "data": {
      "application/vnd.jupyter.widget-view+json": {
       "model_id": "21af5af62281407f8ac788cd06da6faa",
       "version_major": 2,
       "version_minor": 0
      },
      "text/plain": [
       "Epoch 12/30 [Train]:   0%|          | 0/9 [00:00<?, ?it/s]"
      ]
     },
     "metadata": {},
     "output_type": "display_data"
    },
    {
     "data": {
      "application/vnd.jupyter.widget-view+json": {
       "model_id": "c31a4d55c0854bfbbd4bb39f7dbf9614",
       "version_major": 2,
       "version_minor": 0
      },
      "text/plain": [
       "Epoch 12/30 [Valid]:   0%|          | 0/10 [00:00<?, ?it/s]"
      ]
     },
     "metadata": {},
     "output_type": "display_data"
    },
    {
     "name": "stdout",
     "output_type": "stream",
     "text": [
      "Epoch 12/30, Train Loss: 2.0610, Train Acc: 25.24%, Val Loss: 2.0167, Val Acc: 27.58%, LR: 0.000821\n"
     ]
    },
    {
     "data": {
      "application/vnd.jupyter.widget-view+json": {
       "model_id": "8792887756c4417dbfb45132bb60936c",
       "version_major": 2,
       "version_minor": 0
      },
      "text/plain": [
       "Epoch 13/30 [Train]:   0%|          | 0/9 [00:00<?, ?it/s]"
      ]
     },
     "metadata": {},
     "output_type": "display_data"
    },
    {
     "data": {
      "application/vnd.jupyter.widget-view+json": {
       "model_id": "9b0664bb1b5c4f5ca13b6fbc3e012057",
       "version_major": 2,
       "version_minor": 0
      },
      "text/plain": [
       "Epoch 13/30 [Valid]:   0%|          | 0/10 [00:00<?, ?it/s]"
      ]
     },
     "metadata": {},
     "output_type": "display_data"
    },
    {
     "name": "stdout",
     "output_type": "stream",
     "text": [
      "Epoch 13/30, Train Loss: 2.0717, Train Acc: 23.67%, Val Loss: 2.0087, Val Acc: 27.14%, LR: 0.000770\n"
     ]
    },
    {
     "data": {
      "application/vnd.jupyter.widget-view+json": {
       "model_id": "eb46aa65f24145beb4971baeac7c03a3",
       "version_major": 2,
       "version_minor": 0
      },
      "text/plain": [
       "Epoch 14/30 [Train]:   0%|          | 0/9 [00:00<?, ?it/s]"
      ]
     },
     "metadata": {},
     "output_type": "display_data"
    },
    {
     "data": {
      "application/vnd.jupyter.widget-view+json": {
       "model_id": "0c5ff3902c5f4db0b64b6eafe273b3ae",
       "version_major": 2,
       "version_minor": 0
      },
      "text/plain": [
       "Epoch 14/30 [Valid]:   0%|          | 0/10 [00:00<?, ?it/s]"
      ]
     },
     "metadata": {},
     "output_type": "display_data"
    },
    {
     "name": "stdout",
     "output_type": "stream",
     "text": [
      "Epoch 14/30, Train Loss: 2.0709, Train Acc: 25.27%, Val Loss: 2.0183, Val Acc: 26.82%, LR: 0.000716\n"
     ]
    },
    {
     "data": {
      "application/vnd.jupyter.widget-view+json": {
       "model_id": "9286491ce9db45e485d83b7aa6d11311",
       "version_major": 2,
       "version_minor": 0
      },
      "text/plain": [
       "Epoch 15/30 [Train]:   0%|          | 0/9 [00:00<?, ?it/s]"
      ]
     },
     "metadata": {},
     "output_type": "display_data"
    },
    {
     "data": {
      "application/vnd.jupyter.widget-view+json": {
       "model_id": "59ca326532834795abdf8590280124d7",
       "version_major": 2,
       "version_minor": 0
      },
      "text/plain": [
       "Epoch 15/30 [Valid]:   0%|          | 0/10 [00:00<?, ?it/s]"
      ]
     },
     "metadata": {},
     "output_type": "display_data"
    },
    {
     "name": "stdout",
     "output_type": "stream",
     "text": [
      "Epoch 15/30, Train Loss: 2.0553, Train Acc: 25.96%, Val Loss: 2.0102, Val Acc: 27.50%, LR: 0.000658\n"
     ]
    },
    {
     "data": {
      "application/vnd.jupyter.widget-view+json": {
       "model_id": "6bc97355ea5d40cdb30f6fd610dfdd2e",
       "version_major": 2,
       "version_minor": 0
      },
      "text/plain": [
       "Epoch 16/30 [Train]:   0%|          | 0/9 [00:00<?, ?it/s]"
      ]
     },
     "metadata": {},
     "output_type": "display_data"
    },
    {
     "data": {
      "application/vnd.jupyter.widget-view+json": {
       "model_id": "5531043b268e40e3ac8af799c15d460e",
       "version_major": 2,
       "version_minor": 0
      },
      "text/plain": [
       "Epoch 16/30 [Valid]:   0%|          | 0/10 [00:00<?, ?it/s]"
      ]
     },
     "metadata": {},
     "output_type": "display_data"
    },
    {
     "name": "stdout",
     "output_type": "stream",
     "text": [
      "Epoch 16/30, Train Loss: 2.0313, Train Acc: 27.02%, Val Loss: 2.0015, Val Acc: 26.98%, LR: 0.000598\n"
     ]
    },
    {
     "data": {
      "application/vnd.jupyter.widget-view+json": {
       "model_id": "4f6112dd3d30461d94e01edd12823420",
       "version_major": 2,
       "version_minor": 0
      },
      "text/plain": [
       "Epoch 17/30 [Train]:   0%|          | 0/9 [00:00<?, ?it/s]"
      ]
     },
     "metadata": {},
     "output_type": "display_data"
    },
    {
     "data": {
      "application/vnd.jupyter.widget-view+json": {
       "model_id": "cfefe4d9e8264ababd7040a74b92e3d5",
       "version_major": 2,
       "version_minor": 0
      },
      "text/plain": [
       "Epoch 17/30 [Valid]:   0%|          | 0/10 [00:00<?, ?it/s]"
      ]
     },
     "metadata": {},
     "output_type": "display_data"
    },
    {
     "name": "stdout",
     "output_type": "stream",
     "text": [
      "Epoch 17/30, Train Loss: 2.0347, Train Acc: 25.58%, Val Loss: 1.9960, Val Acc: 27.96%, LR: 0.000536\n"
     ]
    },
    {
     "data": {
      "application/vnd.jupyter.widget-view+json": {
       "model_id": "8494ce615a2f439ca101453fdb5a037b",
       "version_major": 2,
       "version_minor": 0
      },
      "text/plain": [
       "Epoch 18/30 [Train]:   0%|          | 0/9 [00:00<?, ?it/s]"
      ]
     },
     "metadata": {},
     "output_type": "display_data"
    },
    {
     "data": {
      "application/vnd.jupyter.widget-view+json": {
       "model_id": "5931fcef85144526a4cc16339893a021",
       "version_major": 2,
       "version_minor": 0
      },
      "text/plain": [
       "Epoch 18/30 [Valid]:   0%|          | 0/10 [00:00<?, ?it/s]"
      ]
     },
     "metadata": {},
     "output_type": "display_data"
    },
    {
     "name": "stdout",
     "output_type": "stream",
     "text": [
      "Epoch 18/30, Train Loss: 2.0444, Train Acc: 25.56%, Val Loss: 1.9957, Val Acc: 27.40%, LR: 0.000474\n"
     ]
    },
    {
     "data": {
      "application/vnd.jupyter.widget-view+json": {
       "model_id": "f692700468f84740859ca2feab7821ae",
       "version_major": 2,
       "version_minor": 0
      },
      "text/plain": [
       "Epoch 19/30 [Train]:   0%|          | 0/9 [00:00<?, ?it/s]"
      ]
     },
     "metadata": {},
     "output_type": "display_data"
    },
    {
     "data": {
      "application/vnd.jupyter.widget-view+json": {
       "model_id": "5e24894b0d2641b2a1642c63711549f7",
       "version_major": 2,
       "version_minor": 0
      },
      "text/plain": [
       "Epoch 19/30 [Valid]:   0%|          | 0/10 [00:00<?, ?it/s]"
      ]
     },
     "metadata": {},
     "output_type": "display_data"
    },
    {
     "name": "stdout",
     "output_type": "stream",
     "text": [
      "Epoch 19/30, Train Loss: 2.0346, Train Acc: 26.80%, Val Loss: 1.9902, Val Acc: 28.24%, LR: 0.000412\n"
     ]
    },
    {
     "data": {
      "application/vnd.jupyter.widget-view+json": {
       "model_id": "fd94989d34724ecb82d1a57751c93081",
       "version_major": 2,
       "version_minor": 0
      },
      "text/plain": [
       "Epoch 20/30 [Train]:   0%|          | 0/9 [00:00<?, ?it/s]"
      ]
     },
     "metadata": {},
     "output_type": "display_data"
    },
    {
     "data": {
      "application/vnd.jupyter.widget-view+json": {
       "model_id": "2e010169348946a78c12319cd4eb553c",
       "version_major": 2,
       "version_minor": 0
      },
      "text/plain": [
       "Epoch 20/30 [Valid]:   0%|          | 0/10 [00:00<?, ?it/s]"
      ]
     },
     "metadata": {},
     "output_type": "display_data"
    },
    {
     "name": "stdout",
     "output_type": "stream",
     "text": [
      "Epoch 20/30, Train Loss: 2.0560, Train Acc: 25.76%, Val Loss: 1.9811, Val Acc: 28.26%, LR: 0.000352\n"
     ]
    },
    {
     "data": {
      "application/vnd.jupyter.widget-view+json": {
       "model_id": "b658e35715c944f1b7010f4097d4060a",
       "version_major": 2,
       "version_minor": 0
      },
      "text/plain": [
       "Epoch 21/30 [Train]:   0%|          | 0/9 [00:00<?, ?it/s]"
      ]
     },
     "metadata": {},
     "output_type": "display_data"
    },
    {
     "data": {
      "application/vnd.jupyter.widget-view+json": {
       "model_id": "ac4adbdb9af542d7bf4c32a96c68ed54",
       "version_major": 2,
       "version_minor": 0
      },
      "text/plain": [
       "Epoch 21/30 [Valid]:   0%|          | 0/10 [00:00<?, ?it/s]"
      ]
     },
     "metadata": {},
     "output_type": "display_data"
    },
    {
     "name": "stdout",
     "output_type": "stream",
     "text": [
      "Epoch 21/30, Train Loss: 2.0493, Train Acc: 25.42%, Val Loss: 1.9792, Val Acc: 28.42%, LR: 0.000294\n"
     ]
    },
    {
     "data": {
      "application/vnd.jupyter.widget-view+json": {
       "model_id": "37b6ed9ee02941e89001df82e294b12e",
       "version_major": 2,
       "version_minor": 0
      },
      "text/plain": [
       "Epoch 22/30 [Train]:   0%|          | 0/9 [00:00<?, ?it/s]"
      ]
     },
     "metadata": {},
     "output_type": "display_data"
    },
    {
     "data": {
      "application/vnd.jupyter.widget-view+json": {
       "model_id": "f3e4d4d32dde4e65ab90b0933e5498c2",
       "version_major": 2,
       "version_minor": 0
      },
      "text/plain": [
       "Epoch 22/30 [Valid]:   0%|          | 0/10 [00:00<?, ?it/s]"
      ]
     },
     "metadata": {},
     "output_type": "display_data"
    },
    {
     "name": "stdout",
     "output_type": "stream",
     "text": [
      "Epoch 22/30, Train Loss: 2.0245, Train Acc: 26.76%, Val Loss: 1.9903, Val Acc: 28.22%, LR: 0.000240\n"
     ]
    },
    {
     "data": {
      "application/vnd.jupyter.widget-view+json": {
       "model_id": "dcb2b03b0c544c6da0e700ab8e8a70cb",
       "version_major": 2,
       "version_minor": 0
      },
      "text/plain": [
       "Epoch 23/30 [Train]:   0%|          | 0/9 [00:00<?, ?it/s]"
      ]
     },
     "metadata": {},
     "output_type": "display_data"
    },
    {
     "data": {
      "application/vnd.jupyter.widget-view+json": {
       "model_id": "90c9c1c4d4dd469e9ca0b268b751bc94",
       "version_major": 2,
       "version_minor": 0
      },
      "text/plain": [
       "Epoch 23/30 [Valid]:   0%|          | 0/10 [00:00<?, ?it/s]"
      ]
     },
     "metadata": {},
     "output_type": "display_data"
    },
    {
     "name": "stdout",
     "output_type": "stream",
     "text": [
      "Epoch 23/30, Train Loss: 2.0339, Train Acc: 27.13%, Val Loss: 1.9753, Val Acc: 28.70%, LR: 0.000189\n"
     ]
    },
    {
     "data": {
      "application/vnd.jupyter.widget-view+json": {
       "model_id": "b0ce8e41993e4fcda08f787515309281",
       "version_major": 2,
       "version_minor": 0
      },
      "text/plain": [
       "Epoch 24/30 [Train]:   0%|          | 0/9 [00:00<?, ?it/s]"
      ]
     },
     "metadata": {},
     "output_type": "display_data"
    },
    {
     "data": {
      "application/vnd.jupyter.widget-view+json": {
       "model_id": "66639eede78642038152c7a0c66e1b44",
       "version_major": 2,
       "version_minor": 0
      },
      "text/plain": [
       "Epoch 24/30 [Valid]:   0%|          | 0/10 [00:00<?, ?it/s]"
      ]
     },
     "metadata": {},
     "output_type": "display_data"
    },
    {
     "name": "stdout",
     "output_type": "stream",
     "text": [
      "Epoch 24/30, Train Loss: 2.0331, Train Acc: 26.80%, Val Loss: 1.9773, Val Acc: 28.56%, LR: 0.000144\n"
     ]
    },
    {
     "data": {
      "application/vnd.jupyter.widget-view+json": {
       "model_id": "77a1be11c8c6415b92fa13f387e42a37",
       "version_major": 2,
       "version_minor": 0
      },
      "text/plain": [
       "Epoch 25/30 [Train]:   0%|          | 0/9 [00:00<?, ?it/s]"
      ]
     },
     "metadata": {},
     "output_type": "display_data"
    },
    {
     "data": {
      "application/vnd.jupyter.widget-view+json": {
       "model_id": "bde71b446d554eda822153e76fcc4858",
       "version_major": 2,
       "version_minor": 0
      },
      "text/plain": [
       "Epoch 25/30 [Valid]:   0%|          | 0/10 [00:00<?, ?it/s]"
      ]
     },
     "metadata": {},
     "output_type": "display_data"
    },
    {
     "name": "stdout",
     "output_type": "stream",
     "text": [
      "Epoch 25/30, Train Loss: 2.0351, Train Acc: 27.09%, Val Loss: 1.9790, Val Acc: 28.88%, LR: 0.000105\n"
     ]
    },
    {
     "data": {
      "application/vnd.jupyter.widget-view+json": {
       "model_id": "8255ab3f6ff046b7bfc4e5a7cb05c377",
       "version_major": 2,
       "version_minor": 0
      },
      "text/plain": [
       "Epoch 26/30 [Train]:   0%|          | 0/9 [00:00<?, ?it/s]"
      ]
     },
     "metadata": {},
     "output_type": "display_data"
    },
    {
     "data": {
      "application/vnd.jupyter.widget-view+json": {
       "model_id": "3a50b79727264f87906fd9c5eba677d1",
       "version_major": 2,
       "version_minor": 0
      },
      "text/plain": [
       "Epoch 26/30 [Valid]:   0%|          | 0/10 [00:00<?, ?it/s]"
      ]
     },
     "metadata": {},
     "output_type": "display_data"
    },
    {
     "name": "stdout",
     "output_type": "stream",
     "text": [
      "Epoch 26/30, Train Loss: 2.0472, Train Acc: 26.29%, Val Loss: 1.9751, Val Acc: 29.28%, LR: 0.000071\n"
     ]
    },
    {
     "data": {
      "application/vnd.jupyter.widget-view+json": {
       "model_id": "30534c3c7ef24850947c856a54c8e8ef",
       "version_major": 2,
       "version_minor": 0
      },
      "text/plain": [
       "Epoch 27/30 [Train]:   0%|          | 0/9 [00:00<?, ?it/s]"
      ]
     },
     "metadata": {},
     "output_type": "display_data"
    },
    {
     "data": {
      "application/vnd.jupyter.widget-view+json": {
       "model_id": "e939383576e34f40b08f6d60568a368e",
       "version_major": 2,
       "version_minor": 0
      },
      "text/plain": [
       "Epoch 27/30 [Valid]:   0%|          | 0/10 [00:00<?, ?it/s]"
      ]
     },
     "metadata": {},
     "output_type": "display_data"
    },
    {
     "name": "stdout",
     "output_type": "stream",
     "text": [
      "Epoch 27/30, Train Loss: 2.0255, Train Acc: 27.20%, Val Loss: 1.9771, Val Acc: 28.64%, LR: 0.000045\n"
     ]
    },
    {
     "data": {
      "application/vnd.jupyter.widget-view+json": {
       "model_id": "daa00038f1e14f0ab6ba356b9b61e369",
       "version_major": 2,
       "version_minor": 0
      },
      "text/plain": [
       "Epoch 28/30 [Train]:   0%|          | 0/9 [00:00<?, ?it/s]"
      ]
     },
     "metadata": {},
     "output_type": "display_data"
    },
    {
     "data": {
      "application/vnd.jupyter.widget-view+json": {
       "model_id": "3c931b1392d745a58e11fb52bb7aa341",
       "version_major": 2,
       "version_minor": 0
      },
      "text/plain": [
       "Epoch 28/30 [Valid]:   0%|          | 0/10 [00:00<?, ?it/s]"
      ]
     },
     "metadata": {},
     "output_type": "display_data"
    },
    {
     "name": "stdout",
     "output_type": "stream",
     "text": [
      "Epoch 28/30, Train Loss: 2.0278, Train Acc: 26.42%, Val Loss: 1.9782, Val Acc: 28.70%, LR: 0.000026\n"
     ]
    },
    {
     "data": {
      "application/vnd.jupyter.widget-view+json": {
       "model_id": "c732bcf4b8b84560ad838046d0526f8f",
       "version_major": 2,
       "version_minor": 0
      },
      "text/plain": [
       "Epoch 29/30 [Train]:   0%|          | 0/9 [00:00<?, ?it/s]"
      ]
     },
     "metadata": {},
     "output_type": "display_data"
    },
    {
     "data": {
      "application/vnd.jupyter.widget-view+json": {
       "model_id": "7db84110ac314479af24c5ec5288306a",
       "version_major": 2,
       "version_minor": 0
      },
      "text/plain": [
       "Epoch 29/30 [Valid]:   0%|          | 0/10 [00:00<?, ?it/s]"
      ]
     },
     "metadata": {},
     "output_type": "display_data"
    },
    {
     "name": "stdout",
     "output_type": "stream",
     "text": [
      "Epoch 29/30, Train Loss: 2.0287, Train Acc: 26.62%, Val Loss: 1.9762, Val Acc: 28.72%, LR: 0.000014\n"
     ]
    },
    {
     "data": {
      "application/vnd.jupyter.widget-view+json": {
       "model_id": "815695fec38145a4b73536ec426124b9",
       "version_major": 2,
       "version_minor": 0
      },
      "text/plain": [
       "Epoch 30/30 [Train]:   0%|          | 0/9 [00:00<?, ?it/s]"
      ]
     },
     "metadata": {},
     "output_type": "display_data"
    },
    {
     "data": {
      "application/vnd.jupyter.widget-view+json": {
       "model_id": "2426cc86dff449e28a0d290ff0588f2a",
       "version_major": 2,
       "version_minor": 0
      },
      "text/plain": [
       "Epoch 30/30 [Valid]:   0%|          | 0/10 [00:00<?, ?it/s]"
      ]
     },
     "metadata": {},
     "output_type": "display_data"
    },
    {
     "name": "stdout",
     "output_type": "stream",
     "text": [
      "Epoch 30/30, Train Loss: 2.0285, Train Acc: 26.49%, Val Loss: 1.9760, Val Acc: 28.82%, LR: 0.000010\n"
     ]
    },
    {
     "name": "stderr",
     "output_type": "stream",
     "text": [
      "/tmp/ipykernel_73/3313409929.py:106: FutureWarning: You are using `torch.load` with `weights_only=False` (the current default value), which uses the default pickle module implicitly. It is possible to construct malicious pickle data which will execute arbitrary code during unpickling (See https://github.com/pytorch/pytorch/blob/main/SECURITY.md#untrusted-models for more details). In a future release, the default value for `weights_only` will be flipped to `True`. This limits the functions that could be executed during unpickling. Arbitrary objects will no longer be allowed to be loaded via this mode unless they are explicitly allowlisted by the user via `torch.serialization.add_safe_globals`. We recommend you start setting `weights_only=True` for any use case where you don't have full control of the loaded file. Please open an issue on GitHub for any issues related to this experimental feature.\n",
      "  model.load_state_dict(torch.load(f\"cifar10_{experiment_name}.pth\"))\n"
     ]
    },
    {
     "name": "stdout",
     "output_type": "stream",
     "text": [
      "Test Accuracy (supervised_10pct): 29.40%\n"
     ]
    }
   ],
   "source": [
    "classifier_supervised_10pct = Classifier(\n",
    "    encoder=get_encoder(pretrained=False),\n",
    "    num_classes=10,\n",
    ").to(device)\n",
    "\n",
    "(\n",
    "    supervised_10pct_train_losses,\n",
    "    supervised_10pct_val_losses,\n",
    "    supervised_10pct_test_acc,\n",
    ") = train_supervised(\n",
    "    classifier_supervised_10pct,\n",
    "    subset_train_loader,\n",
    "    val_loader,\n",
    "    test_loader,\n",
    "    epochs=SUBSET_DATA_EPOCHS,\n",
    "    warmup_epochs=5,\n",
    "    initial_lr=INITIAL_LR,\n",
    "    final_lr=FINAL_LR,\n",
    "    experiment_name=\"supervised_10pct\",\n",
    "    device=device,\n",
    ")"
   ]
  },
  {
   "cell_type": "markdown",
   "id": "a313de4c",
   "metadata": {},
   "source": [
    "# Results Comparison"
   ]
  },
  {
   "cell_type": "code",
   "execution_count": null,
   "id": "2f5059fa",
   "metadata": {
    "execution": {
     "iopub.execute_input": "2025-04-17T02:33:00.835579Z",
     "iopub.status.busy": "2025-04-17T02:33:00.835331Z",
     "iopub.status.idle": "2025-04-17T02:33:03.158593Z",
     "shell.execute_reply": "2025-04-17T02:33:03.157873Z",
     "shell.execute_reply.started": "2025-04-17T02:33:00.835562Z"
    },
    "trusted": true
   },
   "outputs": [
    {
     "data": {
      "image/png": "[encoded data removed]",
      "text/plain": [
       "<Figure size 1200x600 with 1 Axes>"
      ]
     },
     "metadata": {},
     "output_type": "display_data"
    },
    {
     "data": {
      "image/png": "[encoded data removed]",
      "text/plain": [
       "<Figure size 1600x700 with 2 Axes>"
      ]
     },
     "metadata": {},
     "output_type": "display_data"
    },
    {
     "name": "stdout",
     "output_type": "stream",
     "text": [
      "Test accuracy comparison:\n",
      "SimCLR + 100%: 69.37%\n",
      "Supervised 100%: 35.16%\n",
      "SimCLR + 10%: 63.12%\n",
      "Supervised 10%: 29.40%\n"
     ]
    }
   ],
   "source": [
    "sns.set_theme(style=\"whitegrid\")\n",
    "plt.rcParams.update({\"font.size\": 12})\n",
    "\n",
    "plt.figure(figsize=(12, 6))\n",
    "methods = [\"SimCLR + 100%\", \"Supervised 100%\", \"SimCLR + 10%\", \"Supervised 10%\"]\n",
    "accuracies = [\n",
    "    finetuned_test_acc,\n",
    "    supervised_test_acc,\n",
    "    finetuned_10pct_test_acc,\n",
    "    supervised_10pct_test_acc,\n",
    "]\n",
    "\n",
    "accuracy_df = pd.DataFrame(\n",
    "    {\n",
    "        \"Method\": methods,\n",
    "        \"Accuracy\": accuracies,\n",
    "        \"Color\": [\"#1f77b4\", \"#ff7f0e\", \"#2ca02c\", \"#d62728\"],\n",
    "    }\n",
    ")\n",
    "\n",
    "ax = sns.barplot(\n",
    "    x=\"Method\", y=\"Accuracy\", data=accuracy_df, palette=accuracy_df[\"Color\"]\n",
    ")\n",
    "ax.set_title(\"Test Accuracy Comparison\", fontsize=16)\n",
    "ax.set_ylabel(\"Accuracy (%)\", fontsize=14)\n",
    "ax.set_ylim(0, 100)\n",
    "\n",
    "for i, bar in enumerate(ax.patches):\n",
    "    ax.text(\n",
    "        bar.get_x() + bar.get_width() / 2,\n",
    "        bar.get_height() + 1,\n",
    "        f\"{accuracies[i]:.1f}%\",\n",
    "        ha=\"center\",\n",
    "        va=\"bottom\",\n",
    "        fontweight=\"bold\",\n",
    "    )\n",
    "\n",
    "plt.tight_layout()\n",
    "plt.savefig(\"accuracy_comparison.png\", dpi=300, bbox_inches=\"tight\")\n",
    "plt.show()\n",
    "\n",
    "plt.figure(figsize=(16, 7))\n",
    "\n",
    "epochs = range(1, len(supervised_train_losses) + 1)\n",
    "data = []\n",
    "\n",
    "for values, name in [\n",
    "    (supervised_train_losses, \"Supervised (100%)\"),\n",
    "    (finetuned_train_losses, \"SimCLR + 100% finetune\"),\n",
    "    (supervised_10pct_train_losses, \"Supervised (10%)\"),\n",
    "    (finetuned_10pct_train_losses, \"SimCLR + 10% finetune\"),\n",
    "]:\n",
    "    for epoch, value in zip(epochs, values):\n",
    "        data.append({\"Epoch\": epoch, \"Loss\": value, \"Method\": name, \"Type\": \"Training\"})\n",
    "\n",
    "for values, name in [\n",
    "    (supervised_val_losses, \"Supervised (100%)\"),\n",
    "    (finetuned_val_losses, \"SimCLR + 100% finetune\"),\n",
    "    (supervised_10pct_val_losses, \"Supervised (10%)\"),\n",
    "    (finetuned_10pct_val_losses, \"SimCLR + 10% finetune\"),\n",
    "]:\n",
    "    for epoch, value in zip(epochs, values):\n",
    "        data.append(\n",
    "            {\"Epoch\": epoch, \"Loss\": value, \"Method\": name, \"Type\": \"Validation\"}\n",
    "        )\n",
    "\n",
    "losses_df = pd.DataFrame(data)\n",
    "\n",
    "plt.subplot(1, 2, 1)\n",
    "sns.lineplot(\n",
    "    data=losses_df[losses_df[\"Type\"] == \"Training\"],\n",
    "    x=\"Epoch\",\n",
    "    y=\"Loss\",\n",
    "    hue=\"Method\",\n",
    "    palette=\"tab10\",\n",
    "    linewidth=2.5,\n",
    "    markers=True,\n",
    "    dashes=False,\n",
    ")\n",
    "plt.title(\"Training Loss Comparison\", fontsize=16)\n",
    "plt.xlabel(\"Epoch\", fontsize=14)\n",
    "plt.ylabel(\"Loss\", fontsize=14)\n",
    "plt.legend(title=None, fontsize=12)\n",
    "\n",
    "plt.subplot(1, 2, 2)\n",
    "sns.lineplot(\n",
    "    data=losses_df[losses_df[\"Type\"] == \"Validation\"],\n",
    "    x=\"Epoch\",\n",
    "    y=\"Loss\",\n",
    "    hue=\"Method\",\n",
    "    palette=\"tab10\",\n",
    "    linewidth=2.5,\n",
    "    markers=True,\n",
    "    dashes=False,\n",
    ")\n",
    "plt.title(\"Validation Loss Comparison\", fontsize=16)\n",
    "plt.xlabel(\"Epoch\", fontsize=14)\n",
    "plt.ylabel(\"Loss\", fontsize=14)\n",
    "plt.legend(title=None, fontsize=12)\n",
    "\n",
    "plt.tight_layout()\n",
    "plt.savefig(\"loss_comparison.png\", dpi=300, bbox_inches=\"tight\")\n",
    "plt.show()"
   ]
  }
 ],
 "metadata": {
  "kaggle": {
   "accelerator": "gpu",
   "dataSources": [
    {
     "isSourceIdPinned": true,
     "modelId": 306688,
     "modelInstanceId": 285845,
     "sourceId": 341725,
     "sourceType": "modelInstanceVersion"
    }
   ],
   "dockerImageVersionId": 31011,
   "isGpuEnabled": true,
   "isInternetEnabled": true,
   "language": "python",
   "sourceType": "notebook"
  },
  "kernelspec": {
   "display_name": "Python 3",
   "language": "python",
   "name": "python3"
  },
  "language_info": {
   "codemirror_mode": {
    "name": "ipython",
    "version": 3
   },
   "file_extension": ".py",
   "mimetype": "text/x-python",
   "name": "python",
   "nbconvert_exporter": "python",
   "pygments_lexer": "ipython3",
   "version": "3.11.0"
  }
 },
 "nbformat": 4,
 "nbformat_minor": 5
}
