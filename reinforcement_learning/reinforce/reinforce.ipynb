{
 "cells": [
  {
   "cell_type": "code",
   "execution_count": 16,
   "metadata": {},
   "outputs": [],
   "source": [
    "import time\n",
    "\n",
    "import gym\n",
    "import matplotlib.pyplot as plt\n",
    "import numpy as np\n",
    "import torch\n",
    "import torch.nn as nn\n",
    "import torch.nn.functional as F\n",
    "import torch.optim as optim"
   ]
  },
  {
   "cell_type": "code",
   "execution_count": 17,
   "metadata": {},
   "outputs": [
    {
     "data": {
      "text/plain": [
       "device(type='cuda')"
      ]
     },
     "execution_count": 17,
     "metadata": {},
     "output_type": "execute_result"
    }
   ],
   "source": [
    "device = torch.device(\"cuda\" if torch.cuda.is_available() else \"cpu\")\n",
    "device"
   ]
  },
  {
   "cell_type": "code",
   "execution_count": 18,
   "metadata": {},
   "outputs": [],
   "source": [
    "env = gym.make(\"CartPole-v1\")"
   ]
  },
  {
   "cell_type": "code",
   "execution_count": 19,
   "metadata": {},
   "outputs": [],
   "source": [
    "ACTION_SIZE = env.action_space.n\n",
    "STATE_SIZE = env.observation_space.shape[0]\n",
    "\n",
    "NUM_EPISODES = 1000\n",
    "LEARNING_RATE = 0.001\n",
    "DISCOUNT_FACTOR = 0.95"
   ]
  },
  {
   "cell_type": "code",
   "execution_count": 20,
   "metadata": {},
   "outputs": [],
   "source": [
    "class ReinforceNetwork(nn.Module):\n",
    "    def __init__(self, state_size, action_size):\n",
    "        super(ReinforceNetwork, self).__init__()\n",
    "        self.fc1 = nn.Linear(state_size, 64)\n",
    "        self.fc2 = nn.Linear(64, action_size)\n",
    "\n",
    "    def forward(self, x):\n",
    "        x = F.relu(self.fc1(x))\n",
    "        x = F.log_softmax(self.fc2(x), dim=1)\n",
    "        return x"
   ]
  },
  {
   "cell_type": "code",
   "execution_count": 21,
   "metadata": {},
   "outputs": [],
   "source": [
    "def discount_rewards(episode_rewards, discount_factor):\n",
    "    discounted_rewards = np.zeros_like(episode_rewards)\n",
    "    cumulative_reward = 0\n",
    "    for i in reversed(range(len(episode_rewards))):\n",
    "        cumulative_reward = episode_rewards[i] + discount_factor * cumulative_reward\n",
    "        discounted_rewards[i] = cumulative_reward\n",
    "    return discounted_rewards\n",
    "\n",
    "\n",
    "def normalize_rewards(episode_rewards):\n",
    "    return (episode_rewards - np.mean(episode_rewards)) / (\n",
    "        np.std(episode_rewards) + 1e-9\n",
    "    )"
   ]
  },
  {
   "cell_type": "code",
   "execution_count": 22,
   "metadata": {},
   "outputs": [],
   "source": [
    "def train(\n",
    "    model: nn.Module,\n",
    "    optimizer: optim.Optimizer,\n",
    "    device: torch.device,\n",
    "    env: gym.Env,\n",
    "    num_episodes: int,\n",
    "    discount_factor: float,\n",
    "):\n",
    "    reward_history = []\n",
    "    action_history = dict()\n",
    "    for episode_idx in range(num_episodes):\n",
    "        state, _ = env.reset()\n",
    "        done = False\n",
    "        step = 0\n",
    "        episode_rewards, episode_log_probs, episode_actions = [], [], []\n",
    "        while not done and step < 1000:\n",
    "            state = torch.tensor(state, dtype=torch.float32, device=device).unsqueeze(0)\n",
    "            action_log_probs = model(state).squeeze(0)\n",
    "            action_probs = torch.exp(action_log_probs)\n",
    "            action = np.random.choice(\n",
    "                range(ACTION_SIZE), p=action_probs.detach().cpu().numpy()\n",
    "            )\n",
    "            next_state, reward, terminated, truncated, _ = env.step(action)\n",
    "            reward += 1 - abs(next_state[0])  # Add reward based on distance from center\n",
    "            done = terminated or truncated\n",
    "            state = next_state\n",
    "\n",
    "            episode_log_probs.append(action_log_probs[action])\n",
    "            episode_rewards.append(reward)\n",
    "            episode_actions.append(action)\n",
    "\n",
    "        discounted_normalized_rewards = torch.tensor(\n",
    "            normalize_rewards(discount_rewards(episode_rewards, discount_factor)),\n",
    "            dtype=torch.float32,\n",
    "            device=device,\n",
    "        )\n",
    "        loss = -torch.mean(\n",
    "            torch.stack(episode_log_probs) * discounted_normalized_rewards\n",
    "        )\n",
    "        optimizer.zero_grad()\n",
    "        loss.backward()\n",
    "        optimizer.step()\n",
    "\n",
    "        reward_history.append(sum(episode_rewards))\n",
    "\n",
    "        if episode_idx % 50 == 0:\n",
    "            print(\n",
    "                f\"Episode {episode_idx}, Total Reward: {sum(episode_rewards)}, Loss: {loss.item()}\"\n",
    "            )\n",
    "        step += 1\n",
    "\n",
    "        if episode_idx % (num_episodes // 4) == 0 or episode_idx == num_episodes - 1:\n",
    "            torch.save(model.state_dict(), f\"reinforce_{episode_idx}.pth\")\n",
    "\n",
    "    return reward_history, action_history"
   ]
  },
  {
   "cell_type": "code",
   "execution_count": 23,
   "metadata": {},
   "outputs": [
    {
     "name": "stdout",
     "output_type": "stream",
     "text": [
      "Episode 0, Total Reward: 91.13861976191401, Loss: -0.0044046491384506226\n",
      "Episode 50, Total Reward: 91.35409054736374, Loss: -0.0018697044579312205\n",
      "Episode 100, Total Reward: 49.71275690814946, Loss: 0.0003955572610720992\n",
      "Episode 150, Total Reward: 95.83362942305394, Loss: 0.006935591343790293\n",
      "Episode 200, Total Reward: 34.92270375601947, Loss: 0.0014128817711025476\n",
      "Episode 250, Total Reward: 102.76726497238269, Loss: 0.027471184730529785\n",
      "Episode 300, Total Reward: 83.66020862158621, Loss: -0.04566369578242302\n",
      "Episode 350, Total Reward: 51.89134327555075, Loss: 0.04705202206969261\n",
      "Episode 400, Total Reward: 41.19125041202642, Loss: -0.0927015170454979\n",
      "Episode 450, Total Reward: 103.23897632211447, Loss: -0.03228534013032913\n",
      "Episode 500, Total Reward: 39.42028905329062, Loss: -0.0053462982177734375\n",
      "Episode 550, Total Reward: 182.82986805750988, Loss: -0.0004950283328071237\n",
      "Episode 600, Total Reward: 233.32912063748518, Loss: -0.016096072271466255\n",
      "Episode 650, Total Reward: 126.77451633033343, Loss: -0.030716491863131523\n",
      "Episode 700, Total Reward: 335.4515418477531, Loss: -0.006925131194293499\n",
      "Episode 750, Total Reward: 640.5797989964485, Loss: 0.008380557410418987\n",
      "Episode 800, Total Reward: 469.3791344150668, Loss: -0.006022555287927389\n",
      "Episode 850, Total Reward: 343.5123127195984, Loss: -0.003337090602144599\n",
      "Episode 900, Total Reward: 351.7085576940299, Loss: 0.008851403370499611\n",
      "Episode 950, Total Reward: 213.85957934800535, Loss: -0.013670110143721104\n"
     ]
    }
   ],
   "source": [
    "model = ReinforceNetwork(STATE_SIZE, ACTION_SIZE).to(device)\n",
    "optimizer = optim.Adam(model.parameters(), lr=LEARNING_RATE)\n",
    "env = gym.make(\"CartPole-v1\")\n",
    "rewards, actions = train(model, optimizer, device, env, NUM_EPISODES, DISCOUNT_FACTOR)"
   ]
  },
  {
   "cell_type": "code",
   "execution_count": 25,
   "metadata": {},
   "outputs": [
    {
     "data": {
      "image/png": "[encoded data removed]",
      "text/plain": [
       "<Figure size 640x480 with 1 Axes>"
      ]
     },
     "metadata": {},
     "output_type": "display_data"
    }
   ],
   "source": [
    "avg_rewards = [np.mean(rewards[i - 100 : i]) for i in range(100, len(rewards))]\n",
    "plt.plot(avg_rewards)\n",
    "plt.xlabel(\"Episode\")\n",
    "plt.ylabel(\"Average Reward\")\n",
    "plt.title(\"Cumulative Reward\")\n",
    "plt.show()"
   ]
  },
  {
   "cell_type": "code",
   "execution_count": 26,
   "metadata": {},
   "outputs": [
    {
     "name": "stdout",
     "output_type": "stream",
     "text": [
      "reinforce_0.pth\n",
      "reinforce_250.pth\n",
      "reinforce_500.pth\n",
      "reinforce_750.pth\n",
      "reinforce_999.pth\n"
     ]
    }
   ],
   "source": [
    "from pathlib import Path\n",
    "\n",
    "for model_file in sorted(\n",
    "    list(Path(\".\").glob(\"reinforce_*.pth\")), key=lambda x: int(x.stem.split(\"_\")[1])\n",
    "):\n",
    "    print(model_file)\n",
    "    model = ReinforceNetwork(STATE_SIZE, ACTION_SIZE).to(device)\n",
    "    model.load_state_dict(torch.load(model_file))\n",
    "    model.eval()\n",
    "\n",
    "    env = gym.make(\"CartPole-v1\", render_mode=\"human\")\n",
    "    state, _ = env.reset()\n",
    "    done = False\n",
    "    while not done:\n",
    "        env.render()\n",
    "        state = torch.tensor(state, dtype=torch.float32, device=device).unsqueeze(0)\n",
    "        action = torch.argmax(model(state)).item()\n",
    "        state, reward, terminated, truncated, _ = env.step(action)\n",
    "        done = terminated or truncated\n",
    "        time.sleep(1 / 60)\n",
    "    env.close()"
   ]
  },
  {
   "cell_type": "code",
   "execution_count": null,
   "metadata": {},
   "outputs": [],
   "source": []
  }
 ],
 "metadata": {
  "kernelspec": {
   "display_name": "base",
   "language": "python",
   "name": "python3"
  },
  "language_info": {
   "codemirror_mode": {
    "name": "ipython",
    "version": 3
   },
   "file_extension": ".py",
   "mimetype": "text/x-python",
   "name": "python",
   "nbconvert_exporter": "python",
   "pygments_lexer": "ipython3",
   "version": "3.12.9"
  }
 },
 "nbformat": 4,
 "nbformat_minor": 2
}
