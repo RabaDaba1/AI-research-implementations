{
 "cells": [
  {
   "cell_type": "code",
   "execution_count": 1,
   "metadata": {},
   "outputs": [],
   "source": [
    "import gym\n",
    "import numpy as np\n",
    "import torch\n",
    "import torch.nn as nn\n",
    "import torch.nn.functional as F\n",
    "import torch.optim as optim"
   ]
  },
  {
   "cell_type": "code",
   "execution_count": 2,
   "metadata": {},
   "outputs": [
    {
     "data": {
      "text/plain": [
       "device(type='cuda')"
      ]
     },
     "execution_count": 2,
     "metadata": {},
     "output_type": "execute_result"
    }
   ],
   "source": [
    "device = torch.device(\"cuda\" if torch.cuda.is_available() else \"cpu\")\n",
    "device"
   ]
  },
  {
   "cell_type": "code",
   "execution_count": 3,
   "metadata": {},
   "outputs": [],
   "source": [
    "env = gym.make(\"CartPole-v1\")"
   ]
  },
  {
   "cell_type": "code",
   "execution_count": 6,
   "metadata": {},
   "outputs": [],
   "source": [
    "ACTION_SIZE = env.action_space.n\n",
    "STATE_SIZE = env.observation_space.shape[0]\n",
    "\n",
    "NUM_EPISODES = 5000\n",
    "LEARNING_RATE = 0.0005\n",
    "DISCOUNT_FACTOR = 0.99"
   ]
  },
  {
   "cell_type": "code",
   "execution_count": 7,
   "metadata": {},
   "outputs": [],
   "source": [
    "class ReinforceNetwork(nn.Module):\n",
    "    def __init__(self, state_size, action_size):\n",
    "        super(ReinforceNetwork, self).__init__()\n",
    "        self.fc1 = nn.Linear(state_size, 64)\n",
    "        self.fc2 = nn.Linear(64, action_size)\n",
    "\n",
    "    def forward(self, x):\n",
    "        x = F.relu(self.fc1(x))\n",
    "        x = F.log_softmax(self.fc2(x), dim=1)\n",
    "        return x"
   ]
  },
  {
   "cell_type": "code",
   "execution_count": 8,
   "metadata": {},
   "outputs": [],
   "source": [
    "def discount_rewards(episode_rewards, discount_factor):\n",
    "    discounted_rewards = np.zeros_like(episode_rewards)\n",
    "    cumulative_reward = 0\n",
    "    for i in reversed(range(len(episode_rewards))):\n",
    "        cumulative_reward = episode_rewards[i] + discount_factor * cumulative_reward\n",
    "        discounted_rewards[i] = cumulative_reward\n",
    "    return discounted_rewards\n",
    "\n",
    "\n",
    "def normalize_rewards(episode_rewards):\n",
    "    return (episode_rewards - np.mean(episode_rewards)) / (\n",
    "        np.std(episode_rewards) + 1e-9\n",
    "    )"
   ]
  },
  {
   "cell_type": "code",
   "execution_count": 9,
   "metadata": {},
   "outputs": [],
   "source": [
    "def train(\n",
    "    model: nn.Module,\n",
    "    optimizer: optim.Optimizer,\n",
    "    device: torch.device,\n",
    "    env: gym.Env,\n",
    "    num_episodes: int,\n",
    "    discount_factor: float,\n",
    "):\n",
    "    reward_history = []\n",
    "    for episode_idx in range(num_episodes):\n",
    "        state, _ = env.reset()\n",
    "        done = False\n",
    "        step = 0\n",
    "        episode_rewards, episode_log_probs = [], []\n",
    "        while not done and step < 1000:\n",
    "            state = torch.tensor(state, dtype=torch.float32, device=device).unsqueeze(0)\n",
    "            action_log_probs = model(state).squeeze(0)\n",
    "            action_probs = torch.exp(action_log_probs)\n",
    "            action = np.random.choice(\n",
    "                range(ACTION_SIZE), p=action_probs.detach().cpu().numpy()\n",
    "            )\n",
    "            next_state, reward, terminated, truncated, _ = env.step(action)\n",
    "            # Add reward based on distance from center\n",
    "            reward += 1 - abs(next_state[0])\n",
    "            done = terminated or truncated\n",
    "            episode_rewards.append(reward)\n",
    "            episode_log_probs.append(action_log_probs[action])\n",
    "            state = next_state\n",
    "\n",
    "        discounted_normalized_rewards = torch.tensor(\n",
    "            normalize_rewards(discount_rewards(episode_rewards, discount_factor)),\n",
    "            dtype=torch.float32,\n",
    "            device=device,\n",
    "        )\n",
    "        loss = -torch.mean(\n",
    "            torch.stack(episode_log_probs) * discounted_normalized_rewards\n",
    "        )\n",
    "        optimizer.zero_grad()\n",
    "        loss.backward()\n",
    "        optimizer.step()\n",
    "\n",
    "        reward_history.append(sum(episode_rewards))\n",
    "\n",
    "        if episode_idx % 50 == 0:\n",
    "            print(\n",
    "                f\"Episode {episode_idx}, Total Reward: {sum(episode_rewards)}, Loss: {loss.item()}\"\n",
    "            )\n",
    "        step += 1\n",
    "    return reward_history"
   ]
  },
  {
   "cell_type": "code",
   "execution_count": 10,
   "metadata": {},
   "outputs": [
    {
     "name": "stderr",
     "output_type": "stream",
     "text": [
      "/home/rabadaba/miniconda3/lib/python3.12/site-packages/gym/utils/passive_env_checker.py:233: DeprecationWarning: `np.bool8` is a deprecated alias for `np.bool_`.  (Deprecated NumPy 1.24)\n",
      "  if not isinstance(terminated, (bool, np.bool8)):\n"
     ]
    },
    {
     "name": "stdout",
     "output_type": "stream",
     "text": [
      "Episode 0, Total Reward: 23.515727363992482, Loss: 0.004256109707057476\n",
      "Episode 50, Total Reward: 45.50459026457975, Loss: 0.0010563965188339353\n",
      "Episode 100, Total Reward: 58.016944609582424, Loss: -0.002051234245300293\n",
      "Episode 150, Total Reward: 32.70059407874942, Loss: -0.004374925047159195\n",
      "Episode 200, Total Reward: 28.8786563584581, Loss: -0.0031989894341677427\n",
      "Episode 250, Total Reward: 38.648459080432076, Loss: 0.004742753691971302\n",
      "Episode 300, Total Reward: 32.70126130618155, Loss: -0.016801806166768074\n",
      "Episode 350, Total Reward: 23.31571649480611, Loss: -0.045339878648519516\n",
      "Episode 400, Total Reward: 44.3857465966139, Loss: -0.00827641598880291\n",
      "Episode 450, Total Reward: 30.391809787601233, Loss: -0.07113829255104065\n",
      "Episode 500, Total Reward: 66.41466927982401, Loss: -0.03833847865462303\n",
      "Episode 550, Total Reward: 133.74130254262127, Loss: -0.06697838753461838\n",
      "Episode 600, Total Reward: 37.4440876361914, Loss: -0.005743208806961775\n",
      "Episode 650, Total Reward: 55.58712159018614, Loss: -0.15640702843666077\n",
      "Episode 700, Total Reward: 178.83223849907517, Loss: -0.001141875982284546\n",
      "Episode 750, Total Reward: 96.00312240922358, Loss: -0.11502356082201004\n",
      "Episode 800, Total Reward: 61.0322217803332, Loss: 0.019698118790984154\n",
      "Episode 850, Total Reward: 162.22528827108908, Loss: -0.04425334557890892\n",
      "Episode 900, Total Reward: 80.8854938086588, Loss: -0.06873542070388794\n",
      "Episode 950, Total Reward: 118.71424206043594, Loss: 0.005181912332773209\n",
      "Episode 1000, Total Reward: 99.51172064180719, Loss: 0.008632898330688477\n",
      "Episode 1050, Total Reward: 127.553031110554, Loss: 0.05195378139615059\n",
      "Episode 1100, Total Reward: 46.54607457481325, Loss: -0.03815526142716408\n",
      "Episode 1150, Total Reward: 164.13014359370572, Loss: -0.015716323629021645\n",
      "Episode 1200, Total Reward: 170.66069390205666, Loss: 0.0185302272439003\n",
      "Episode 1250, Total Reward: 110.861484128749, Loss: 0.01396152749657631\n",
      "Episode 1300, Total Reward: 207.16648875921965, Loss: -0.08273077756166458\n",
      "Episode 1350, Total Reward: 105.27904344875788, Loss: -0.028614340350031853\n",
      "Episode 1400, Total Reward: 346.46938548923936, Loss: 0.021562835201621056\n",
      "Episode 1450, Total Reward: 565.9559103174834, Loss: -0.007778883911669254\n",
      "Episode 1500, Total Reward: 281.17964571804623, Loss: 0.0006755460635758936\n",
      "Episode 1550, Total Reward: 123.32974804763217, Loss: -0.06358408182859421\n",
      "Episode 1600, Total Reward: 180.64851046778494, Loss: -0.009438932873308659\n",
      "Episode 1650, Total Reward: 224.20812296448275, Loss: -0.029894720762968063\n",
      "Episode 1700, Total Reward: 226.61887491727248, Loss: -0.013707729987800121\n",
      "Episode 1750, Total Reward: 329.5931699615612, Loss: -0.04299364611506462\n",
      "Episode 1800, Total Reward: 268.4444252299145, Loss: -0.011173282749950886\n",
      "Episode 1850, Total Reward: 405.0629751770757, Loss: -0.004933755844831467\n",
      "Episode 1900, Total Reward: 325.5981508680852, Loss: -0.00849558599293232\n",
      "Episode 1950, Total Reward: 279.96759689750616, Loss: -0.01709781028330326\n",
      "Episode 2000, Total Reward: 135.8004546649754, Loss: 0.006146138999611139\n",
      "Episode 2050, Total Reward: 379.5065298623449, Loss: -0.020256666466593742\n",
      "Episode 2100, Total Reward: 321.490828309441, Loss: 0.005419036839157343\n",
      "Episode 2150, Total Reward: 231.6810299801291, Loss: 0.004692304879426956\n",
      "Episode 2200, Total Reward: 272.2669897887681, Loss: 0.015710022300481796\n",
      "Episode 2250, Total Reward: 356.66727758047637, Loss: 0.015820950269699097\n",
      "Episode 2300, Total Reward: 322.3089853954152, Loss: -0.038286250084638596\n",
      "Episode 2350, Total Reward: 451.1423895006883, Loss: -0.02441471815109253\n",
      "Episode 2400, Total Reward: 273.71532809827477, Loss: -0.0121227465569973\n",
      "Episode 2450, Total Reward: 272.7156586642377, Loss: 0.0019789475481957197\n",
      "Episode 2500, Total Reward: 281.23102461360395, Loss: 0.01817096583545208\n",
      "Episode 2550, Total Reward: 651.7483887849376, Loss: 0.006886551156640053\n",
      "Episode 2600, Total Reward: 415.5361829394242, Loss: -0.010651016607880592\n",
      "Episode 2650, Total Reward: 491.1488791204174, Loss: -0.00045868702000007033\n",
      "Episode 2700, Total Reward: 587.6064490317367, Loss: 0.0005018997471779585\n",
      "Episode 2750, Total Reward: 375.77675938699394, Loss: -0.014631764963269234\n",
      "Episode 2800, Total Reward: 658.5077934887959, Loss: 0.0018603745847940445\n",
      "Episode 2850, Total Reward: 537.762695250567, Loss: -0.0010035515297204256\n",
      "Episode 2900, Total Reward: 880.1686620651744, Loss: 0.02015727013349533\n",
      "Episode 2950, Total Reward: 813.2174109509797, Loss: -0.00394105538725853\n",
      "Episode 3000, Total Reward: 666.4840745526017, Loss: -0.03743710741400719\n",
      "Episode 3050, Total Reward: 737.1246988002677, Loss: -0.012842441909015179\n",
      "Episode 3100, Total Reward: 827.8657389286673, Loss: -0.015607479959726334\n",
      "Episode 3150, Total Reward: 437.0424130980391, Loss: -0.0031595882028341293\n",
      "Episode 3200, Total Reward: 778.9831682133954, Loss: 0.005074478220194578\n",
      "Episode 3250, Total Reward: 730.7464452397544, Loss: -0.018388180062174797\n",
      "Episode 3300, Total Reward: 245.11497735132434, Loss: 0.01383719127625227\n",
      "Episode 3350, Total Reward: 656.3076188735795, Loss: -0.01110788807272911\n",
      "Episode 3400, Total Reward: 735.4187332710717, Loss: -0.0024572222027927637\n",
      "Episode 3450, Total Reward: 795.8693839251064, Loss: 0.002980438293889165\n",
      "Episode 3500, Total Reward: 751.4183027493782, Loss: -0.005303535610437393\n",
      "Episode 3550, Total Reward: 350.2984142303467, Loss: 0.002311794785782695\n",
      "Episode 3600, Total Reward: 658.6778493566526, Loss: -0.014250176027417183\n",
      "Episode 3650, Total Reward: 414.8496784720919, Loss: -0.02256217785179615\n",
      "Episode 3700, Total Reward: 692.1045974611188, Loss: -0.01987462304532528\n",
      "Episode 3750, Total Reward: 862.7734777404985, Loss: -0.017008133232593536\n",
      "Episode 3800, Total Reward: 692.0461969031021, Loss: 0.008935012854635715\n",
      "Episode 3850, Total Reward: 709.1022951044724, Loss: -0.015275795944035053\n",
      "Episode 3900, Total Reward: 782.6548606000142, Loss: -0.025058846920728683\n",
      "Episode 3950, Total Reward: 870.0898770600907, Loss: -0.0055994875729084015\n",
      "Episode 4000, Total Reward: 801.9159848015988, Loss: -0.002853584475815296\n",
      "Episode 4050, Total Reward: 598.808647234895, Loss: -0.003542492166161537\n",
      "Episode 4100, Total Reward: 854.919346187613, Loss: 0.012666572816669941\n",
      "Episode 4150, Total Reward: 827.9573683626368, Loss: -0.00651432853192091\n",
      "Episode 4200, Total Reward: 721.59175963304, Loss: -0.00938925240188837\n",
      "Episode 4250, Total Reward: 844.9135646035429, Loss: 0.007162441499531269\n",
      "Episode 4300, Total Reward: 867.4793542629341, Loss: -0.021167419850826263\n",
      "Episode 4350, Total Reward: 555.7583150181454, Loss: 0.006765739992260933\n",
      "Episode 4400, Total Reward: 895.1889226891799, Loss: 0.01912572607398033\n",
      "Episode 4450, Total Reward: 876.1480343700387, Loss: 0.0004523735260590911\n",
      "Episode 4500, Total Reward: 847.3194024288387, Loss: 0.0064491769298911095\n",
      "Episode 4550, Total Reward: 801.3121062184218, Loss: -0.003122406080365181\n",
      "Episode 4600, Total Reward: 920.3637702680426, Loss: -0.010702644474804401\n",
      "Episode 4650, Total Reward: 805.752354610755, Loss: 0.01100078970193863\n",
      "Episode 4700, Total Reward: 638.2506492854809, Loss: -0.011379413306713104\n",
      "Episode 4750, Total Reward: 860.63618897181, Loss: -0.01952386647462845\n",
      "Episode 4800, Total Reward: 868.5420680434327, Loss: -0.025841213762760162\n",
      "Episode 4850, Total Reward: 234.81549496587832, Loss: 0.031026046723127365\n",
      "Episode 4900, Total Reward: 924.954766281764, Loss: 0.0009350738837383687\n",
      "Episode 4950, Total Reward: 833.3426694679329, Loss: 0.006298222113400698\n"
     ]
    }
   ],
   "source": [
    "model = ReinforceNetwork(STATE_SIZE, ACTION_SIZE).to(device)\n",
    "optimizer = optim.Adam(model.parameters(), lr=LEARNING_RATE)\n",
    "env = gym.make(\"CartPole-v1\")\n",
    "rewards = train(model, optimizer, device, env, NUM_EPISODES, DISCOUNT_FACTOR)"
   ]
  },
  {
   "cell_type": "code",
   "execution_count": 11,
   "metadata": {},
   "outputs": [],
   "source": [
    "torch.save(model.state_dict(), \"model.pth\")"
   ]
  },
  {
   "cell_type": "code",
   "execution_count": 12,
   "metadata": {},
   "outputs": [
    {
     "name": "stderr",
     "output_type": "stream",
     "text": [
      "/home/rabadaba/miniconda3/lib/python3.12/site-packages/numpy/core/fromnumeric.py:3504: RuntimeWarning: Mean of empty slice.\n",
      "  return _methods._mean(a, axis=axis, dtype=dtype,\n",
      "/home/rabadaba/miniconda3/lib/python3.12/site-packages/numpy/core/_methods.py:129: RuntimeWarning: invalid value encountered in scalar divide\n",
      "  ret = ret.dtype.type(ret / rcount)\n"
     ]
    },
    {
     "data": {
      "image/png": "[encoded data removed]",
      "text/plain": [
       "<Figure size 640x480 with 1 Axes>"
      ]
     },
     "metadata": {},
     "output_type": "display_data"
    }
   ],
   "source": [
    "import matplotlib.pyplot as plt\n",
    "\n",
    "avg_rewards = [np.mean(rewards[i - 100 : i]) for i in range(50, len(rewards))]\n",
    "plt.plot(avg_rewards)\n",
    "plt.xlabel(\"Episode\")\n",
    "plt.ylabel(\"Average Reward\")\n",
    "plt.show()"
   ]
  },
  {
   "cell_type": "code",
   "execution_count": 13,
   "metadata": {},
   "outputs": [
    {
     "name": "stderr",
     "output_type": "stream",
     "text": [
      "/home/rabadaba/miniconda3/lib/python3.12/site-packages/gym/utils/passive_env_checker.py:233: DeprecationWarning: `np.bool8` is a deprecated alias for `np.bool_`.  (Deprecated NumPy 1.24)\n",
      "  if not isinstance(terminated, (bool, np.bool8)):\n"
     ]
    }
   ],
   "source": [
    "import time\n",
    "\n",
    "env = gym.make(\"CartPole-v1\", render_mode=\"human\")\n",
    "state, _ = env.reset()\n",
    "done = False\n",
    "while not done:\n",
    "    env.render()\n",
    "    state = torch.tensor(state, dtype=torch.float32, device=device).unsqueeze(0)\n",
    "    action = torch.argmax(model(state)).item()\n",
    "    state, reward, terminated, truncated, _ = env.step(action)\n",
    "    done = terminated or truncated\n",
    "    time.sleep(1 / 60)\n",
    "env.close()"
   ]
  },
  {
   "cell_type": "code",
   "execution_count": null,
   "metadata": {},
   "outputs": [],
   "source": []
  }
 ],
 "metadata": {
  "kernelspec": {
   "display_name": "base",
   "language": "python",
   "name": "python3"
  },
  "language_info": {
   "codemirror_mode": {
    "name": "ipython",
    "version": 3
   },
   "file_extension": ".py",
   "mimetype": "text/x-python",
   "name": "python",
   "nbconvert_exporter": "python",
   "pygments_lexer": "ipython3",
   "version": "3.12.9"
  }
 },
 "nbformat": 4,
 "nbformat_minor": 2
}
