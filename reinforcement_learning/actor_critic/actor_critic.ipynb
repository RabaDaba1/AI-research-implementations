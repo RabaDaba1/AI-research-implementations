{
 "cells": [
  {
   "cell_type": "code",
   "execution_count": 1,
   "metadata": {},
   "outputs": [],
   "source": [
    "import time\n",
    "\n",
    "import gym\n",
    "import matplotlib.pyplot as plt\n",
    "import numpy as np\n",
    "import torch\n",
    "import torch.nn as nn\n",
    "import torch.nn.functional as F\n",
    "import torch.optim as optim\n",
    "from torch.distributions import Categorical"
   ]
  },
  {
   "cell_type": "code",
   "execution_count": 2,
   "metadata": {},
   "outputs": [
    {
     "data": {
      "text/plain": [
       "device(type='cuda')"
      ]
     },
     "execution_count": 2,
     "metadata": {},
     "output_type": "execute_result"
    }
   ],
   "source": [
    "device = torch.device(\"cuda\" if torch.cuda.is_available() else \"cpu\")\n",
    "device"
   ]
  },
  {
   "cell_type": "code",
   "execution_count": 3,
   "metadata": {},
   "outputs": [],
   "source": [
    "env = gym.make(\"CartPole-v1\")"
   ]
  },
  {
   "cell_type": "code",
   "execution_count": 4,
   "metadata": {},
   "outputs": [],
   "source": [
    "ACTION_SIZE = env.action_space.n\n",
    "STATE_SIZE = env.observation_space.shape[0]\n",
    "\n",
    "NUM_EPISODES = 1000\n",
    "LEARNING_RATE = 0.001\n",
    "DISCOUNT_FACTOR = 0.95\n",
    "DECAY_RATE = 0.99"
   ]
  },
  {
   "cell_type": "code",
   "execution_count": 5,
   "metadata": {},
   "outputs": [],
   "source": [
    "class ActorCriticNetwork(nn.Module):\n",
    "    def __init__(self, state_size, action_size):\n",
    "        super(ActorCriticNetwork, self).__init__()\n",
    "        self.fc1 = nn.Linear(state_size, 128)\n",
    "        self.actor_fc1 = nn.Linear(128, 64)\n",
    "        self.actor_fc2 = nn.Linear(64, action_size)\n",
    "        self.critic_fc1 = nn.Linear(128, 64)\n",
    "        self.critic_fc2 = nn.Linear(64, 1)\n",
    "\n",
    "    def forward(self, x):\n",
    "        x = F.relu(self.fc1(x))\n",
    "        actor_x = F.relu(self.actor_fc1(x))\n",
    "        critic_x = F.relu(self.critic_fc1(x))\n",
    "        return self.actor_fc2(actor_x), self.critic_fc2(critic_x)"
   ]
  },
  {
   "cell_type": "code",
   "execution_count": 6,
   "metadata": {},
   "outputs": [],
   "source": [
    "def discount_rewards(rewards, discount_factor):\n",
    "    discounted_rewards = np.zeros_like(rewards, dtype=np.float32)\n",
    "    last_reward = 0\n",
    "    for i in reversed(range(len(rewards))):\n",
    "        last_reward = rewards[i] + discount_factor * last_reward\n",
    "        discounted_rewards[i] = last_reward\n",
    "\n",
    "    return discounted_rewards"
   ]
  },
  {
   "cell_type": "code",
   "execution_count": 7,
   "metadata": {},
   "outputs": [],
   "source": [
    "def calculate_gaes(rewards, values, discount_factor, decay_rate):\n",
    "    next_values = np.append(values[1:], 0)\n",
    "    deltas = rewards + discount_factor * next_values - values\n",
    "    gaes = np.zeros_like(rewards, dtype=np.float32)\n",
    "    last_gae = 0\n",
    "    for i in reversed(range(len(deltas))):\n",
    "        last_gae = deltas[i] + discount_factor * decay_rate * last_gae\n",
    "        gaes[i] = last_gae\n",
    "\n",
    "    gaes = (gaes - gaes.mean()) / (gaes.std() + 1e-8)\n",
    "    return gaes"
   ]
  },
  {
   "cell_type": "code",
   "execution_count": null,
   "metadata": {},
   "outputs": [],
   "source": [
    "def get_trajectory(env, actor_critic_model, max_steps):\n",
    "    # states (no gradients needed), actions, rewards, values and log_probs (need to keep gradient info)\n",
    "    states = []\n",
    "    actions = []\n",
    "    rewards = []\n",
    "    values = []\n",
    "    log_probs = []\n",
    "    episode_reward = 0\n",
    "\n",
    "    state, _ = env.reset()\n",
    "    for _ in range(max_steps):\n",
    "        state_tensor = torch.tensor(state, dtype=torch.float32).to(device)\n",
    "        action_logits, value = actor_critic_model(state_tensor)\n",
    "        action_distribution = Categorical(logits=action_logits)\n",
    "        action = action_distribution.sample()\n",
    "        next_state, reward, terminated, truncated, _ = env.step(action.item())\n",
    "\n",
    "        states.append(state)\n",
    "        actions.append(action)\n",
    "        rewards.append(reward)\n",
    "        values.append(value)\n",
    "        log_probs.append(action_distribution.log_prob(action))\n",
    "\n",
    "        episode_reward += reward\n",
    "        state = next_state\n",
    "        if terminated or truncated:\n",
    "            break\n",
    "\n",
    "    states = np.array(states)\n",
    "    rewards = np.array(rewards, dtype=np.float32)\n",
    "    actions = torch.stack(actions)\n",
    "    values = torch.cat(values).squeeze(-1)\n",
    "    log_probs = torch.stack(log_probs)\n",
    "\n",
    "    return (states, actions, rewards, values, log_probs), episode_reward\n"
   ]
  },
  {
   "cell_type": "code",
   "execution_count": 9,
   "metadata": {},
   "outputs": [],
   "source": [
    "def train(model, optimizer, device, env, num_episodes, discount_factor, decay_rate):\n",
    "    model.train()\n",
    "    reward_history = []\n",
    "    for episode_idx in range(num_episodes):\n",
    "        (states, _, rewards, values, log_probs), episode_reward = get_trajectory(\n",
    "            env, model, 200\n",
    "        )\n",
    "        reward_history.append(episode_reward)\n",
    "\n",
    "        discounted_rewards = torch.tensor(\n",
    "            discount_rewards(rewards, discount_factor), dtype=torch.float32\n",
    "        ).to(device)\n",
    "\n",
    "        gaes = torch.tensor(\n",
    "            calculate_gaes(\n",
    "                rewards, values.detach().cpu().numpy(), discount_factor, decay_rate\n",
    "            ),\n",
    "            dtype=torch.float32,\n",
    "        ).to(device)\n",
    "\n",
    "        permutation = torch.randperm(len(states)).to(device)\n",
    "        values = values[permutation]\n",
    "        log_probs = log_probs[permutation]\n",
    "        discounted_rewards = discounted_rewards[permutation]\n",
    "        gaes = gaes[permutation]\n",
    "\n",
    "        actor_loss = -(log_probs * gaes).mean()\n",
    "        critic_loss = F.mse_loss(values, discounted_rewards)\n",
    "        total_loss = actor_loss + critic_loss\n",
    "\n",
    "        optimizer.zero_grad()\n",
    "        total_loss.backward()\n",
    "        optimizer.step()\n",
    "\n",
    "        if episode_idx % 50 == 0:\n",
    "            print(\n",
    "                f\"Episode {episode_idx}, Total Reward: {np.mean(reward_history[-50:])}, Loss: {total_loss.item()}\"\n",
    "            )\n",
    "\n",
    "        if episode_idx % (num_episodes // 4) == 0 or episode_idx == num_episodes - 1:\n",
    "            torch.save(model.state_dict(), f\"actor_critic_{episode_idx}.pth\")\n",
    "\n",
    "    return reward_history"
   ]
  },
  {
   "cell_type": "code",
   "execution_count": 10,
   "metadata": {},
   "outputs": [
    {
     "name": "stderr",
     "output_type": "stream",
     "text": [
      "/home/rabadaba/miniconda3/lib/python3.12/site-packages/gym/utils/passive_env_checker.py:233: DeprecationWarning: `np.bool8` is a deprecated alias for `np.bool_`.  (Deprecated NumPy 1.24)\n",
      "  if not isinstance(terminated, (bool, np.bool8)):\n"
     ]
    },
    {
     "name": "stdout",
     "output_type": "stream",
     "text": [
      "Episode 0, Total Reward: 22.0, Loss: 81.43006134033203\n",
      "Episode 50, Total Reward: 24.16, Loss: 129.9104461669922\n",
      "Episode 100, Total Reward: 35.18, Loss: 33.828983306884766\n",
      "Episode 150, Total Reward: 68.64, Loss: 20.74709129333496\n",
      "Episode 200, Total Reward: 113.8, Loss: 30.367158889770508\n",
      "Episode 250, Total Reward: 161.68, Loss: 15.266654014587402\n",
      "Episode 300, Total Reward: 181.48, Loss: 15.004728317260742\n",
      "Episode 350, Total Reward: 171.82, Loss: 9.653351783752441\n",
      "Episode 400, Total Reward: 188.02, Loss: 10.937915802001953\n",
      "Episode 450, Total Reward: 160.42, Loss: 18.45195770263672\n",
      "Episode 500, Total Reward: 193.88, Loss: 5.1930694580078125\n",
      "Episode 550, Total Reward: 198.94, Loss: 13.523294448852539\n",
      "Episode 600, Total Reward: 199.3, Loss: 15.349226951599121\n",
      "Episode 650, Total Reward: 159.44, Loss: 11.719679832458496\n",
      "Episode 700, Total Reward: 196.46, Loss: 16.2244815826416\n",
      "Episode 750, Total Reward: 188.4, Loss: 2.828453302383423\n",
      "Episode 800, Total Reward: 189.12, Loss: 16.86916160583496\n",
      "Episode 850, Total Reward: 196.52, Loss: 11.816156387329102\n",
      "Episode 900, Total Reward: 196.04, Loss: 3.1537978649139404\n",
      "Episode 950, Total Reward: 161.68, Loss: 10.736161231994629\n"
     ]
    }
   ],
   "source": [
    "model = ActorCriticNetwork(STATE_SIZE, ACTION_SIZE).to(device)\n",
    "optimizer = optim.Adam(model.parameters(), lr=LEARNING_RATE)\n",
    "env = gym.make(\"CartPole-v1\")\n",
    "rewards = train(\n",
    "    model, optimizer, device, env, NUM_EPISODES, DISCOUNT_FACTOR, DECAY_RATE\n",
    ")"
   ]
  },
  {
   "cell_type": "code",
   "execution_count": 11,
   "metadata": {},
   "outputs": [
    {
     "data": {
      "image/png": "[encoded data removed]",
      "text/plain": [
       "<Figure size 640x480 with 1 Axes>"
      ]
     },
     "metadata": {},
     "output_type": "display_data"
    }
   ],
   "source": [
    "avg_rewards = [np.mean(rewards[i - 100 : i]) for i in range(100, len(rewards))]\n",
    "plt.plot(avg_rewards)\n",
    "plt.xlabel(\"Episode\")\n",
    "plt.ylabel(\"Average Reward\")\n",
    "plt.title(\"Cumulative Reward\")\n",
    "plt.show()"
   ]
  },
  {
   "cell_type": "code",
   "execution_count": 12,
   "metadata": {},
   "outputs": [
    {
     "data": {
      "image/png": "[encoded data removed]",
      "text/plain": [
       "<Figure size 640x480 with 1 Axes>"
      ]
     },
     "metadata": {},
     "output_type": "display_data"
    }
   ],
   "source": [
    "from pathlib import Path\n",
    "\n",
    "import matplotlib.pyplot as plt\n",
    "from IPython import display\n",
    "\n",
    "%matplotlib inline\n",
    "\n",
    "for model_file in sorted(\n",
    "    list(Path(\".\").glob(\"actor_critic_*.pth\")), key=lambda x: int(x.stem.split(\"_\")[2])\n",
    "):\n",
    "    print(model_file)\n",
    "    model = ActorCriticNetwork(STATE_SIZE, ACTION_SIZE).to(device)\n",
    "    model.load_state_dict(torch.load(model_file))\n",
    "    model.eval()\n",
    "\n",
    "    env = gym.make(\"CartPole-v1\", render_mode=\"rgb_array\")\n",
    "    state, _ = env.reset()\n",
    "    done = False\n",
    "    img = plt.imshow(env.render())\n",
    "    plt.title(model_file)\n",
    "    while not done:\n",
    "        img.set_data(env.render())\n",
    "        display.display(plt.gcf())\n",
    "        display.clear_output(wait=True)\n",
    "\n",
    "        state = torch.tensor(state, dtype=torch.float32, device=device).unsqueeze(0)\n",
    "        action = torch.argmax(model(state)[0]).item()\n",
    "        state, reward, terminated, truncated, _ = env.step(action)\n",
    "        done = terminated or truncated\n",
    "        time.sleep(1 / 200)\n",
    "    env.close()"
   ]
  }
 ],
 "metadata": {
  "kernelspec": {
   "display_name": "base",
   "language": "python",
   "name": "python3"
  },
  "language_info": {
   "codemirror_mode": {
    "name": "ipython",
    "version": 3
   },
   "file_extension": ".py",
   "mimetype": "text/x-python",
   "name": "python",
   "nbconvert_exporter": "python",
   "pygments_lexer": "ipython3",
   "version": "3.12.9"
  }
 },
 "nbformat": 4,
 "nbformat_minor": 2
}
