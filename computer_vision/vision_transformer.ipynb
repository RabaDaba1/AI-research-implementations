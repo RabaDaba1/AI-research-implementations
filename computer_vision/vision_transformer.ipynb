{
 "cells": [
  {
   "cell_type": "code",
   "execution_count": null,
   "id": "6ac0a406",
   "metadata": {
    "execution": {
     "iopub.execute_input": "2025-04-14T13:11:04.506852Z",
     "iopub.status.busy": "2025-04-14T13:11:04.506139Z",
     "iopub.status.idle": "2025-04-14T13:11:04.729753Z",
     "shell.execute_reply": "2025-04-14T13:11:04.729143Z",
     "shell.execute_reply.started": "2025-04-14T13:11:04.506815Z"
    },
    "trusted": true
   },
   "outputs": [],
   "source": [
    "from io import BytesIO\n",
    "\n",
    "import matplotlib.pyplot as plt\n",
    "import numpy as np\n",
    "import pynvml\n",
    "import requests\n",
    "import scipy.ndimage\n",
    "import torch\n",
    "import torch.nn as nn\n",
    "import torch.nn.functional as F\n",
    "from PIL import Image\n",
    "from torch.amp import GradScaler\n",
    "from torchvision import transforms\n",
    "from tqdm import tqdm"
   ]
  },
  {
   "cell_type": "code",
   "execution_count": 3,
   "id": "d225db50",
   "metadata": {
    "execution": {
     "iopub.execute_input": "2025-04-14T13:11:05.235309Z",
     "iopub.status.busy": "2025-04-14T13:11:05.234372Z",
     "iopub.status.idle": "2025-04-14T13:11:05.324432Z",
     "shell.execute_reply": "2025-04-14T13:11:05.323600Z",
     "shell.execute_reply.started": "2025-04-14T13:11:05.235273Z"
    },
    "trusted": true
   },
   "outputs": [
    {
     "name": "stdout",
     "output_type": "stream",
     "text": [
      "Using GPU: Tesla P100-PCIE-16GB\n",
      "GPU Memory: 17.06 GB\n",
      "CUDA Version: 12.4\n"
     ]
    }
   ],
   "source": [
    "device = torch.device(\"cuda\" if torch.cuda.is_available() else \"cpu\")\n",
    "\n",
    "torch.backends.cudnn.benchmark = True\n",
    "\n",
    "if torch.cuda.is_available():\n",
    "    print(f\"Using GPU: {torch.cuda.get_device_name(0)}\")\n",
    "    print(\n",
    "        f\"GPU Memory: {torch.cuda.get_device_properties(0).total_memory / 1e9:.2f} GB\"\n",
    "    )\n",
    "    print(f\"CUDA Version: {torch.version.cuda}\")\n",
    "else:\n",
    "    print(\"CUDA not available, using CPU\")"
   ]
  },
  {
   "cell_type": "code",
   "execution_count": 4,
   "id": "3ae7d916",
   "metadata": {
    "execution": {
     "iopub.execute_input": "2025-04-14T13:11:05.422337Z",
     "iopub.status.busy": "2025-04-14T13:11:05.421645Z",
     "iopub.status.idle": "2025-04-14T13:11:05.427442Z",
     "shell.execute_reply": "2025-04-14T13:11:05.426638Z",
     "shell.execute_reply.started": "2025-04-14T13:11:05.422305Z"
    },
    "trusted": true
   },
   "outputs": [],
   "source": [
    "IMG_PATH = \"https://www.nylabone.com/-/media/project/oneweb/nylabone/images/dog101/10-intelligent-dog-breeds/golden-retriever-tongue-out.jpg?h=430&w=710&hash=7FEB820D235A44B76B271060E03572C7\"\n",
    "IMG_SIZE = 28\n",
    "PATCH_SIZE = 7\n",
    "EMBEDDING_SIZE = 64\n",
    "NUM_HEADS = 4\n",
    "NUM_LAYERS = 3\n",
    "NUM_CLASSES = 10\n",
    "DROPOUT_RATE = 0.1\n",
    "\n",
    "NUM_EPOCHS = 30\n",
    "LEARNING_RATE = 3e-4\n",
    "BATCH_SIZE = 256\n",
    "GRADIENT_ACCUMULATION_STEPS = 4\n",
    "NUM_WORKERS = 4\n",
    "PIN_MEMORY = True\n",
    "USE_AMP = True"
   ]
  },
  {
   "cell_type": "code",
   "execution_count": 5,
   "id": "cd97c851",
   "metadata": {
    "execution": {
     "iopub.execute_input": "2025-04-14T13:11:05.605112Z",
     "iopub.status.busy": "2025-04-14T13:11:05.604848Z",
     "iopub.status.idle": "2025-04-14T13:11:08.262183Z",
     "shell.execute_reply": "2025-04-14T13:11:08.261421Z",
     "shell.execute_reply.started": "2025-04-14T13:11:05.605093Z"
    },
    "trusted": true
   },
   "outputs": [
    {
     "data": {
      "text/plain": [
       "torch.Size([3, 28, 28])"
      ]
     },
     "execution_count": 5,
     "metadata": {},
     "output_type": "execute_result"
    }
   ],
   "source": [
    "transform = transforms.Compose(\n",
    "    [transforms.Resize((IMG_SIZE, IMG_SIZE)), transforms.ToTensor()]\n",
    ")\n",
    "img_tensor = transform(Image.open(BytesIO(requests.get(IMG_PATH).content)))\n",
    "img_tensor.shape"
   ]
  },
  {
   "cell_type": "code",
   "execution_count": 6,
   "id": "4feccb17",
   "metadata": {
    "execution": {
     "iopub.execute_input": "2025-04-14T13:11:08.263661Z",
     "iopub.status.busy": "2025-04-14T13:11:08.263381Z",
     "iopub.status.idle": "2025-04-14T13:11:08.354355Z",
     "shell.execute_reply": "2025-04-14T13:11:08.353520Z",
     "shell.execute_reply.started": "2025-04-14T13:11:08.263641Z"
    },
    "trusted": true
   },
   "outputs": [
    {
     "data": {
      "image/png": "[encoded data removed]",
      "text/plain": [
       "<Figure size 640x480 with 1 Axes>"
      ]
     },
     "metadata": {},
     "output_type": "display_data"
    }
   ],
   "source": [
    "plt.imshow(img_tensor.permute(1, 2, 0))\n",
    "plt.axis(\"off\")\n",
    "plt.show()"
   ]
  },
  {
   "cell_type": "code",
   "execution_count": 7,
   "id": "4ba0bab6",
   "metadata": {
    "execution": {
     "iopub.execute_input": "2025-04-14T13:11:08.355689Z",
     "iopub.status.busy": "2025-04-14T13:11:08.355249Z",
     "iopub.status.idle": "2025-04-14T13:11:08.491019Z",
     "shell.execute_reply": "2025-04-14T13:11:08.490230Z",
     "shell.execute_reply.started": "2025-04-14T13:11:08.355666Z"
    },
    "trusted": true
   },
   "outputs": [],
   "source": [
    "batch = img_tensor.unsqueeze(0).to(device)"
   ]
  },
  {
   "cell_type": "markdown",
   "id": "33ed9131",
   "metadata": {},
   "source": [
    "# Vision Transformer"
   ]
  },
  {
   "cell_type": "code",
   "execution_count": 8,
   "id": "80ccb9b7",
   "metadata": {
    "execution": {
     "iopub.execute_input": "2025-04-14T13:11:08.492866Z",
     "iopub.status.busy": "2025-04-14T13:11:08.492627Z",
     "iopub.status.idle": "2025-04-14T13:11:08.498298Z",
     "shell.execute_reply": "2025-04-14T13:11:08.497512Z",
     "shell.execute_reply.started": "2025-04-14T13:11:08.492848Z"
    },
    "trusted": true
   },
   "outputs": [],
   "source": [
    "class PatchEmbeddings(nn.Module):\n",
    "    def __init__(\n",
    "        self, in_channels: int, image_size: int, patch_size: int, embedding_size: int\n",
    "    ):\n",
    "        super().__init__()\n",
    "        self.in_channels = in_channels\n",
    "        self.patch_size = patch_size\n",
    "        self.embedding_size = embedding_size\n",
    "        self.patch_num = (image_size // patch_size) ** 2\n",
    "\n",
    "        # Equivalent of: patch flatten + linear projection\n",
    "        self.projection = nn.Conv2d(\n",
    "            in_channels=in_channels,\n",
    "            out_channels=embedding_size,\n",
    "            kernel_size=patch_size,\n",
    "            stride=patch_size,\n",
    "        )\n",
    "\n",
    "    def forward(self, x):\n",
    "        x = self.projection(x)  # [btach_size, embedding_size, patch_num, patch_num]\n",
    "        x = x.flatten(2).transpose(1, 2)  # [batch_size, patch_num, embedding_size]\n",
    "        return x"
   ]
  },
  {
   "cell_type": "code",
   "execution_count": 9,
   "id": "0c71d59e",
   "metadata": {
    "execution": {
     "iopub.execute_input": "2025-04-14T13:11:08.499179Z",
     "iopub.status.busy": "2025-04-14T13:11:08.498939Z",
     "iopub.status.idle": "2025-04-14T13:11:08.966429Z",
     "shell.execute_reply": "2025-04-14T13:11:08.965881Z",
     "shell.execute_reply.started": "2025-04-14T13:11:08.499156Z"
    },
    "trusted": true
   },
   "outputs": [
    {
     "data": {
      "text/plain": [
       "torch.Size([1, 16, 64])"
      ]
     },
     "execution_count": 9,
     "metadata": {},
     "output_type": "execute_result"
    }
   ],
   "source": [
    "patch_embeddings = PatchEmbeddings(\n",
    "    in_channels=batch.shape[1],\n",
    "    image_size=IMG_SIZE,\n",
    "    patch_size=PATCH_SIZE,\n",
    "    embedding_size=EMBEDDING_SIZE,\n",
    ").to(device)\n",
    "\n",
    "patch_embeddings(batch).shape  # [batch_size, patch_num, embedding_size]"
   ]
  },
  {
   "cell_type": "code",
   "execution_count": 10,
   "id": "7b7f8d2b",
   "metadata": {
    "execution": {
     "iopub.execute_input": "2025-04-14T13:11:08.967781Z",
     "iopub.status.busy": "2025-04-14T13:11:08.967197Z",
     "iopub.status.idle": "2025-04-14T13:11:08.973410Z",
     "shell.execute_reply": "2025-04-14T13:11:08.972792Z",
     "shell.execute_reply.started": "2025-04-14T13:11:08.967731Z"
    },
    "trusted": true
   },
   "outputs": [],
   "source": [
    "class EmbeddingLayer(nn.Module):\n",
    "    def __init__(\n",
    "        self, in_channels, image_size, patch_size, embedding_size, dropout_rate=0.1\n",
    "    ):\n",
    "        super().__init__()\n",
    "        self.patch_embeddings = PatchEmbeddings(\n",
    "            in_channels, image_size, patch_size, embedding_size\n",
    "        )\n",
    "        self.positional_embeddings = nn.Parameter(\n",
    "            torch.randn(1, self.patch_embeddings.patch_num + 1, embedding_size)\n",
    "        )\n",
    "        self.cls_token = nn.Parameter(torch.randn(1, 1, embedding_size))\n",
    "        self.patch_num = self.patch_embeddings.patch_num + 1\n",
    "        self.dropout = nn.Dropout(dropout_rate)\n",
    "\n",
    "    def forward(self, x):\n",
    "        cls_tokens = self.cls_token.expand((x.shape[0], 1, -1))\n",
    "        x = self.patch_embeddings(x)\n",
    "        x = torch.cat((cls_tokens, x), dim=1)\n",
    "        x = x + self.positional_embeddings\n",
    "        return self.dropout(x)"
   ]
  },
  {
   "cell_type": "code",
   "execution_count": 11,
   "id": "1e155fdf",
   "metadata": {
    "execution": {
     "iopub.execute_input": "2025-04-14T13:11:08.974204Z",
     "iopub.status.busy": "2025-04-14T13:11:08.973994Z",
     "iopub.status.idle": "2025-04-14T13:11:09.041848Z",
     "shell.execute_reply": "2025-04-14T13:11:09.041256Z",
     "shell.execute_reply.started": "2025-04-14T13:11:08.974190Z"
    },
    "trusted": true
   },
   "outputs": [
    {
     "data": {
      "text/plain": [
       "torch.Size([1, 17, 64])"
      ]
     },
     "execution_count": 11,
     "metadata": {},
     "output_type": "execute_result"
    }
   ],
   "source": [
    "embedding_layer = EmbeddingLayer(\n",
    "    in_channels=batch.shape[1],\n",
    "    image_size=IMG_SIZE,\n",
    "    patch_size=PATCH_SIZE,\n",
    "    embedding_size=EMBEDDING_SIZE,\n",
    ").to(device)\n",
    "\n",
    "embedding_layer(batch).shape  # [batch_size, patch_num + 1, embedding_size]"
   ]
  },
  {
   "cell_type": "code",
   "execution_count": 12,
   "id": "db9ae4ea",
   "metadata": {
    "execution": {
     "iopub.execute_input": "2025-04-14T13:11:09.042811Z",
     "iopub.status.busy": "2025-04-14T13:11:09.042545Z",
     "iopub.status.idle": "2025-04-14T13:11:09.051220Z",
     "shell.execute_reply": "2025-04-14T13:11:09.050557Z",
     "shell.execute_reply.started": "2025-04-14T13:11:09.042788Z"
    },
    "trusted": true
   },
   "outputs": [],
   "source": [
    "class AttentionLayer(nn.Module):\n",
    "    def __init__(\n",
    "        self, sequence_length, embedding_size, num_heads, dropout_rate=0.1, mask=False\n",
    "    ):\n",
    "        super().__init__()\n",
    "\n",
    "        assert embedding_size % num_heads == 0, (\n",
    "            \"embedding_size must be divisible by num_heads\"\n",
    "        )\n",
    "\n",
    "        self.mask = mask\n",
    "        self.num_heads = num_heads\n",
    "        self.head_size = embedding_size // num_heads\n",
    "        self.sequence_length = sequence_length\n",
    "        self.scale = self.head_size**-0.5\n",
    "\n",
    "        self.embedding_size = embedding_size\n",
    "        self.query_dense = nn.Linear(embedding_size, embedding_size)\n",
    "        self.key_dense = nn.Linear(embedding_size, embedding_size)\n",
    "        self.value_dense = nn.Linear(embedding_size, embedding_size)\n",
    "        self.output_dense = nn.Linear(embedding_size, embedding_size)\n",
    "        self.attn_dropout = nn.Dropout(dropout_rate)\n",
    "        self.proj_dropout = nn.Dropout(dropout_rate)\n",
    "\n",
    "    def split_heads(self, x):\n",
    "        B, S, _ = x.size()\n",
    "        return x.view(B, S, self.num_heads, self.head_size).transpose(1, 2)\n",
    "\n",
    "    def forward(self, x):\n",
    "        B, S, _ = x.size()\n",
    "\n",
    "        Q = self.query_dense(x)\n",
    "        K = self.key_dense(x)\n",
    "        V = self.value_dense(x)\n",
    "\n",
    "        Q_heads = self.split_heads(Q)  # (B, H, S, E/H)\n",
    "        K_heads = self.split_heads(K)  # (B, H, S, E/H)\n",
    "        V_heads = self.split_heads(V)  # (B, H, S, E/H)\n",
    "\n",
    "        attention = (Q_heads @ K_heads.transpose(-2, -1)) * self.scale  # (B, H, S, S)\n",
    "\n",
    "        if self.mask:\n",
    "            mask = torch.tril(torch.ones(S, S, device=x.device)).view(1, 1, S, S)\n",
    "            attention = attention.masked_fill(mask == 0, float(\"-inf\"))\n",
    "\n",
    "        attention_weights = F.softmax(attention, dim=-1)\n",
    "\n",
    "        attention = self.attn_dropout(attention_weights) @ V_heads  # (B, H, S, E/H)\n",
    "\n",
    "        out = attention.transpose(1, 2).contiguous().view(B, S, -1)\n",
    "        out = self.output_dense(out)\n",
    "        return self.proj_dropout(out), attention_weights"
   ]
  },
  {
   "cell_type": "code",
   "execution_count": 13,
   "id": "c608bebe",
   "metadata": {
    "execution": {
     "iopub.execute_input": "2025-04-14T13:11:09.052608Z",
     "iopub.status.busy": "2025-04-14T13:11:09.052111Z",
     "iopub.status.idle": "2025-04-14T13:11:09.067629Z",
     "shell.execute_reply": "2025-04-14T13:11:09.067030Z",
     "shell.execute_reply.started": "2025-04-14T13:11:09.052578Z"
    },
    "trusted": true
   },
   "outputs": [],
   "source": [
    "class FeedForward(nn.Module):\n",
    "    def __init__(self, embedding_size, hidden_size, dropout_rate=0.1):\n",
    "        super().__init__()\n",
    "        self.fc1 = nn.Linear(embedding_size, hidden_size)\n",
    "        self.fc2 = nn.Linear(hidden_size, embedding_size)\n",
    "        self.dropout = nn.Dropout(dropout_rate)\n",
    "\n",
    "    def forward(self, x):\n",
    "        x = self.dropout(F.gelu(self.fc1(x)))\n",
    "        x = self.dropout(self.fc2(x))\n",
    "        return x"
   ]
  },
  {
   "cell_type": "code",
   "execution_count": 14,
   "id": "10a09241",
   "metadata": {
    "execution": {
     "iopub.execute_input": "2025-04-14T13:11:10.892827Z",
     "iopub.status.busy": "2025-04-14T13:11:10.892234Z",
     "iopub.status.idle": "2025-04-14T13:11:10.898061Z",
     "shell.execute_reply": "2025-04-14T13:11:10.897345Z",
     "shell.execute_reply.started": "2025-04-14T13:11:10.892804Z"
    },
    "trusted": true
   },
   "outputs": [],
   "source": [
    "class TransformerBlock(nn.Module):\n",
    "    def __init__(\n",
    "        self,\n",
    "        sequence_length,\n",
    "        embedding_size,\n",
    "        num_heads,\n",
    "        mlp_ratio=4.0,\n",
    "        dropout_rate=0.1,\n",
    "    ):\n",
    "        super().__init__()\n",
    "        self.norm1 = nn.LayerNorm(embedding_size)\n",
    "        self.attention_layer = AttentionLayer(\n",
    "            sequence_length,\n",
    "            embedding_size,\n",
    "            num_heads,\n",
    "            dropout_rate=dropout_rate,\n",
    "            mask=False,\n",
    "        )\n",
    "        self.norm2 = nn.LayerNorm(embedding_size)\n",
    "        self.feed_forward = FeedForward(\n",
    "            embedding_size, int(embedding_size * mlp_ratio), dropout_rate=dropout_rate\n",
    "        )\n",
    "        self.dropout = nn.Dropout(dropout_rate)\n",
    "\n",
    "    def forward(self, x):\n",
    "        attention, attention_weights = self.attention_layer(self.norm1(x))\n",
    "        x = x + attention\n",
    "        x = x + self.feed_forward(self.norm2(x))\n",
    "        return x, attention_weights"
   ]
  },
  {
   "cell_type": "code",
   "execution_count": 15,
   "id": "b5e849ef",
   "metadata": {
    "execution": {
     "iopub.execute_input": "2025-04-14T13:11:11.028249Z",
     "iopub.status.busy": "2025-04-14T13:11:11.027773Z",
     "iopub.status.idle": "2025-04-14T13:11:11.034099Z",
     "shell.execute_reply": "2025-04-14T13:11:11.033398Z",
     "shell.execute_reply.started": "2025-04-14T13:11:11.028231Z"
    },
    "trusted": true
   },
   "outputs": [],
   "source": [
    "class VisionTransformer(nn.Module):\n",
    "    def __init__(\n",
    "        self,\n",
    "        in_channels: int,\n",
    "        image_size: int,\n",
    "        patch_size: int,\n",
    "        embedding_size: int,\n",
    "        num_heads: int,\n",
    "        num_layers: int,\n",
    "        mlp_ratio: float = 4.0,\n",
    "        dropout_rate: float = 0.1,\n",
    "    ):\n",
    "        super().__init__()\n",
    "        self.num_layers = num_layers\n",
    "        self.num_heads = num_heads\n",
    "        self.patch_size = patch_size\n",
    "        self.image_size = image_size\n",
    "        self.embedding_layer = EmbeddingLayer(\n",
    "            in_channels, image_size, patch_size, embedding_size, dropout_rate\n",
    "        )\n",
    "        self.transformer_blocks = nn.ModuleList(\n",
    "            [\n",
    "                TransformerBlock(\n",
    "                    self.embedding_layer.patch_num,\n",
    "                    embedding_size,\n",
    "                    num_heads,\n",
    "                    mlp_ratio,\n",
    "                    dropout_rate,\n",
    "                )\n",
    "                for _ in range(num_layers)\n",
    "            ]\n",
    "        )\n",
    "        self.norm = nn.LayerNorm(embedding_size)\n",
    "\n",
    "    def forward(self, x):\n",
    "        x = self.embedding_layer(x)  # [batch_size, patch_num + 1, embedding_size]\n",
    "        attention_maps = []\n",
    "\n",
    "        for transformer_block in self.transformer_blocks:\n",
    "            x, attention_weights = transformer_block(x)\n",
    "            attention_maps.append(attention_weights)\n",
    "\n",
    "        x = self.norm(x)\n",
    "\n",
    "        # [batch_size, patch_num + 1, embedding_size], [num_layers, num_heads, patch_num + 1, patch_num + 1]\n",
    "        return x, attention_maps"
   ]
  },
  {
   "cell_type": "code",
   "execution_count": 27,
   "id": "74de0382",
   "metadata": {
    "execution": {
     "iopub.execute_input": "2025-04-14T13:12:03.136965Z",
     "iopub.status.busy": "2025-04-14T13:12:03.136242Z",
     "iopub.status.idle": "2025-04-14T13:12:03.142280Z",
     "shell.execute_reply": "2025-04-14T13:12:03.141729Z",
     "shell.execute_reply.started": "2025-04-14T13:12:03.136935Z"
    },
    "trusted": true
   },
   "outputs": [],
   "source": [
    "class VisionTransformerClassifier(nn.Module):\n",
    "    def __init__(\n",
    "        self,\n",
    "        in_channels: int,\n",
    "        image_size: int,\n",
    "        patch_size: int,\n",
    "        embedding_size: int,\n",
    "        num_heads: int,\n",
    "        num_layers: int,\n",
    "        num_classes: int,\n",
    "        mlp_ratio: float = 4.0,\n",
    "        dropout_rate: float = 0.1,\n",
    "    ):\n",
    "        super().__init__()\n",
    "        self.vit = VisionTransformer(\n",
    "            in_channels,\n",
    "            image_size,\n",
    "            patch_size,\n",
    "            embedding_size,\n",
    "            num_heads,\n",
    "            num_layers,\n",
    "            mlp_ratio,\n",
    "            dropout_rate,\n",
    "        )\n",
    "\n",
    "        self.mlp_head = nn.Sequential(\n",
    "            nn.Linear(embedding_size, embedding_size),\n",
    "            nn.GELU(),\n",
    "            nn.Dropout(dropout_rate),\n",
    "            nn.Linear(embedding_size, num_classes),\n",
    "        )\n",
    "        self.patch_size = patch_size\n",
    "        self.image_size = image_size\n",
    "\n",
    "    def forward(self, x):\n",
    "        x, attention_maps = self.vit(\n",
    "            x\n",
    "        )  # [batch_size, patch_num + 1, embedding_size], attention_maps\n",
    "        cls_token = x[:, 0]  # [batch_size, embedding_size]\n",
    "        logits = self.mlp_head(cls_token)  # [batch_size, num_classes]\n",
    "        return logits, attention_maps"
   ]
  },
  {
   "cell_type": "code",
   "execution_count": 28,
   "id": "d58e701d",
   "metadata": {
    "execution": {
     "iopub.execute_input": "2025-04-14T13:12:03.301158Z",
     "iopub.status.busy": "2025-04-14T13:12:03.300946Z",
     "iopub.status.idle": "2025-04-14T13:12:03.318014Z",
     "shell.execute_reply": "2025-04-14T13:12:03.317457Z",
     "shell.execute_reply.started": "2025-04-14T13:12:03.301142Z"
    },
    "trusted": true
   },
   "outputs": [
    {
     "data": {
      "text/plain": [
       "(torch.Size([1, 10]), 3, torch.Size([1, 4, 17, 17]))"
      ]
     },
     "execution_count": 28,
     "metadata": {},
     "output_type": "execute_result"
    }
   ],
   "source": [
    "vit = VisionTransformerClassifier(\n",
    "    in_channels=img_tensor.shape[0],\n",
    "    image_size=IMG_SIZE,\n",
    "    patch_size=PATCH_SIZE,\n",
    "    embedding_size=EMBEDDING_SIZE,\n",
    "    num_heads=NUM_HEADS,\n",
    "    num_layers=NUM_LAYERS,\n",
    "    num_classes=NUM_CLASSES,\n",
    "    dropout_rate=DROPOUT_RATE,\n",
    ").to(device)\n",
    "\n",
    "logits, attention_maps = vit(batch)\n",
    "logits.shape, len(attention_maps), attention_maps[0].shape"
   ]
  },
  {
   "cell_type": "markdown",
   "id": "86f48d7a",
   "metadata": {},
   "source": [
    "# Training"
   ]
  },
  {
   "cell_type": "code",
   "execution_count": null,
   "id": "a732550c",
   "metadata": {
    "execution": {
     "iopub.execute_input": "2025-04-14T13:14:59.365225Z",
     "iopub.status.busy": "2025-04-14T13:14:59.364942Z",
     "iopub.status.idle": "2025-04-14T13:14:59.537798Z",
     "shell.execute_reply": "2025-04-14T13:14:59.537029Z",
     "shell.execute_reply.started": "2025-04-14T13:14:59.365202Z"
    },
    "trusted": true
   },
   "outputs": [],
   "source": [
    "import torchvision\n",
    "\n",
    "mnist = torchvision.datasets.MNIST(\"./data\", train=True, download=True)\n",
    "\n",
    "train_transform = transforms.Compose(\n",
    "    [\n",
    "        transforms.RandomAffine(degrees=10, translate=(0.1, 0.1)),\n",
    "        transforms.ToTensor(),\n",
    "        transforms.Normalize((0.1307,), (0.3081,)),\n",
    "    ]\n",
    ")\n",
    "\n",
    "test_transform = transforms.Compose(\n",
    "    [transforms.ToTensor(), transforms.Normalize((0.1307,), (0.3081,))]\n",
    ")\n",
    "\n",
    "train_dataset = torchvision.datasets.MNIST(\n",
    "    \"../datasets\", train=True, download=True, transform=train_transform\n",
    ")\n",
    "test_dataset = torchvision.datasets.MNIST(\n",
    "    \"../datasets\", train=False, download=True, transform=test_transform\n",
    ")\n",
    "\n",
    "train_loader = torch.utils.data.DataLoader(\n",
    "    train_dataset,\n",
    "    batch_size=BATCH_SIZE,\n",
    "    shuffle=True,\n",
    "    num_workers=NUM_WORKERS,\n",
    "    pin_memory=PIN_MEMORY,\n",
    "    prefetch_factor=2,\n",
    "    persistent_workers=True,\n",
    ")\n",
    "test_loader = torch.utils.data.DataLoader(\n",
    "    test_dataset, batch_size=BATCH_SIZE, num_workers=NUM_WORKERS, pin_memory=PIN_MEMORY\n",
    ")"
   ]
  },
  {
   "cell_type": "code",
   "execution_count": 55,
   "id": "5c1bd3ec-bfce-470b-bfd5-a784f3140fb5",
   "metadata": {
    "execution": {
     "iopub.execute_input": "2025-04-14T13:14:59.539157Z",
     "iopub.status.busy": "2025-04-14T13:14:59.538881Z",
     "iopub.status.idle": "2025-04-14T13:14:59.776940Z",
     "shell.execute_reply": "2025-04-14T13:14:59.771072Z",
     "shell.execute_reply.started": "2025-04-14T13:14:59.539140Z"
    },
    "trusted": true
   },
   "outputs": [
    {
     "data": {
      "text/plain": [
       "torch.Size([256, 1, 28, 28])"
      ]
     },
     "execution_count": 55,
     "metadata": {},
     "output_type": "execute_result"
    }
   ],
   "source": [
    "next(iter(train_loader))[0].shape"
   ]
  },
  {
   "cell_type": "code",
   "execution_count": 56,
   "id": "8d5a2b51",
   "metadata": {
    "execution": {
     "iopub.execute_input": "2025-04-14T13:14:59.779381Z",
     "iopub.status.busy": "2025-04-14T13:14:59.779042Z",
     "iopub.status.idle": "2025-04-14T13:14:59.825494Z",
     "shell.execute_reply": "2025-04-14T13:14:59.824794Z",
     "shell.execute_reply.started": "2025-04-14T13:14:59.779336Z"
    },
    "trusted": true
   },
   "outputs": [],
   "source": [
    "vit = VisionTransformerClassifier(\n",
    "    in_channels=1,\n",
    "    image_size=IMG_SIZE,\n",
    "    patch_size=PATCH_SIZE,\n",
    "    embedding_size=EMBEDDING_SIZE,\n",
    "    num_heads=NUM_HEADS,\n",
    "    num_layers=NUM_LAYERS,\n",
    "    num_classes=NUM_CLASSES,\n",
    "    dropout_rate=DROPOUT_RATE,\n",
    ").to(device)"
   ]
  },
  {
   "cell_type": "code",
   "execution_count": null,
   "id": "847269f4",
   "metadata": {
    "execution": {
     "iopub.execute_input": "2025-04-14T13:15:01.027825Z",
     "iopub.status.busy": "2025-04-14T13:15:01.027534Z",
     "iopub.status.idle": "2025-04-14T13:15:01.035379Z",
     "shell.execute_reply": "2025-04-14T13:15:01.034669Z",
     "shell.execute_reply.started": "2025-04-14T13:15:01.027806Z"
    },
    "trusted": true
   },
   "outputs": [],
   "source": [
    "optimizer = torch.optim.AdamW(vit.parameters(), lr=LEARNING_RATE, weight_decay=0.01)\n",
    "scheduler = torch.optim.lr_scheduler.OneCycleLR(\n",
    "    optimizer,\n",
    "    max_lr=LEARNING_RATE,\n",
    "    steps_per_epoch=len(train_loader) // GRADIENT_ACCUMULATION_STEPS,\n",
    "    epochs=NUM_EPOCHS,\n",
    "    pct_start=0.1,\n",
    ")\n",
    "criterion = nn.CrossEntropyLoss()\n",
    "scaler = GradScaler(enabled=USE_AMP)"
   ]
  },
  {
   "cell_type": "code",
   "execution_count": 59,
   "id": "cd36561d",
   "metadata": {
    "execution": {
     "iopub.execute_input": "2025-04-14T13:15:01.204261Z",
     "iopub.status.busy": "2025-04-14T13:15:01.204044Z",
     "iopub.status.idle": "2025-04-14T13:15:01.208131Z",
     "shell.execute_reply": "2025-04-14T13:15:01.207571Z",
     "shell.execute_reply.started": "2025-04-14T13:15:01.204244Z"
    },
    "trusted": true
   },
   "outputs": [],
   "source": [
    "def get_gpu_utilization():\n",
    "    try:\n",
    "        pynvml.nvmlInit()\n",
    "        handle = pynvml.nvmlDeviceGetHandleByIndex(0)\n",
    "        util = pynvml.nvmlDeviceGetUtilizationRates(handle)\n",
    "        return util.gpu\n",
    "    except Exception:\n",
    "        return \"N/A\""
   ]
  },
  {
   "cell_type": "code",
   "execution_count": 60,
   "id": "b4a6d5e2",
   "metadata": {
    "execution": {
     "iopub.execute_input": "2025-04-14T13:15:01.352523Z",
     "iopub.status.busy": "2025-04-14T13:15:01.352141Z",
     "iopub.status.idle": "2025-04-14T13:15:01.355840Z",
     "shell.execute_reply": "2025-04-14T13:15:01.355160Z",
     "shell.execute_reply.started": "2025-04-14T13:15:01.352506Z"
    },
    "trusted": true
   },
   "outputs": [],
   "source": [
    "train_losses = []\n",
    "train_accuracies = []\n",
    "val_losses = []\n",
    "val_accuracies = []"
   ]
  },
  {
   "cell_type": "code",
   "execution_count": null,
   "id": "2630bfa2",
   "metadata": {
    "execution": {
     "iopub.execute_input": "2025-04-14T13:15:02.268514Z",
     "iopub.status.busy": "2025-04-14T13:15:02.268249Z",
     "iopub.status.idle": "2025-04-14T13:19:43.143859Z",
     "shell.execute_reply": "2025-04-14T13:19:43.142969Z",
     "shell.execute_reply.started": "2025-04-14T13:15:02.268495Z"
    },
    "trusted": true
   },
   "outputs": [
    {
     "name": "stderr",
     "output_type": "stream",
     "text": [
      "Epoch 1/30 [Train]: 100%|██████████| 235/235 [00:08<00:00, 27.64it/s, loss=2.32, acc=9.85, lr=8.48e-5, GPU=31]\n",
      "Epoch 1/30 [Valid]: 100%|██████████| 40/40 [00:01<00:00, 32.67it/s, loss=0.392, acc=11.4, GPU=10]\n"
     ]
    },
    {
     "name": "stdout",
     "output_type": "stream",
     "text": [
      "Epoch 1/30 - Train Loss: 2.3152, Train Acc: 9.85%, Val Loss: 2.3004, Val Acc: 11.36%\n"
     ]
    },
    {
     "name": "stderr",
     "output_type": "stream",
     "text": [
      "Epoch 2/30 [Train]: 100%|██████████| 235/235 [00:08<00:00, 29.02it/s, loss=2.28, acc=15.2, lr=0.00023, GPU=41] \n",
      "Epoch 2/30 [Valid]: 100%|██████████| 40/40 [00:00<00:00, 40.15it/s, loss=0.359, acc=21.9, GPU=9] \n"
     ]
    },
    {
     "name": "stdout",
     "output_type": "stream",
     "text": [
      "Epoch 2/30 - Train Loss: 2.2751, Train Acc: 15.16%, Val Loss: 2.1105, Val Acc: 21.88%\n"
     ]
    },
    {
     "name": "stderr",
     "output_type": "stream",
     "text": [
      "Epoch 3/30 [Train]: 100%|██████████| 235/235 [00:08<00:00, 28.52it/s, loss=1.91, acc=31.7, lr=0.0003, GPU=32]  \n",
      "Epoch 3/30 [Valid]: 100%|██████████| 40/40 [00:00<00:00, 40.83it/s, loss=0.221, acc=58.1, GPU=10] \n"
     ]
    },
    {
     "name": "stdout",
     "output_type": "stream",
     "text": [
      "Epoch 3/30 - Train Loss: 1.9135, Train Acc: 31.71%, Val Loss: 1.2977, Val Acc: 58.05%\n"
     ]
    },
    {
     "name": "stderr",
     "output_type": "stream",
     "text": [
      "Epoch 4/30 [Train]: 100%|██████████| 235/235 [00:08<00:00, 28.68it/s, loss=1.38, acc=52.4, lr=0.000299, GPU=34]\n",
      "Epoch 4/30 [Valid]: 100%|██████████| 40/40 [00:01<00:00, 39.11it/s, loss=0.125, acc=77.7, GPU=12] \n"
     ]
    },
    {
     "name": "stdout",
     "output_type": "stream",
     "text": [
      "Epoch 4/30 - Train Loss: 1.3805, Train Acc: 52.41%, Val Loss: 0.7361, Val Acc: 77.70%\n"
     ]
    },
    {
     "name": "stderr",
     "output_type": "stream",
     "text": [
      "Epoch 5/30 [Train]: 100%|██████████| 235/235 [00:08<00:00, 27.38it/s, loss=1.07, acc=64.3, lr=0.000296, GPU=29]\n",
      "Epoch 5/30 [Valid]: 100%|██████████| 40/40 [00:00<00:00, 40.41it/s, loss=0.0884, acc=85, GPU=8]   \n"
     ]
    },
    {
     "name": "stdout",
     "output_type": "stream",
     "text": [
      "Epoch 5/30 - Train Loss: 1.0658, Train Acc: 64.29%, Val Loss: 0.5191, Val Acc: 84.96%\n"
     ]
    },
    {
     "name": "stderr",
     "output_type": "stream",
     "text": [
      "Epoch 6/30 [Train]: 100%|██████████| 235/235 [00:08<00:00, 29.16it/s, loss=0.898, acc=70.2, lr=0.000291, GPU=27]\n",
      "Epoch 6/30 [Valid]: 100%|██████████| 40/40 [00:00<00:00, 40.14it/s, loss=0.0688, acc=88.3, GPU=10]\n"
     ]
    },
    {
     "name": "stdout",
     "output_type": "stream",
     "text": [
      "Epoch 6/30 - Train Loss: 0.8983, Train Acc: 70.20%, Val Loss: 0.4039, Val Acc: 88.28%\n"
     ]
    },
    {
     "name": "stderr",
     "output_type": "stream",
     "text": [
      "Epoch 7/30 [Train]: 100%|██████████| 235/235 [00:08<00:00, 28.86it/s, loss=0.794, acc=73.7, lr=0.000284, GPU=25]\n",
      "Epoch 7/30 [Valid]: 100%|██████████| 40/40 [00:00<00:00, 41.00it/s, loss=0.0573, acc=90.4, GPU=11]\n"
     ]
    },
    {
     "name": "stdout",
     "output_type": "stream",
     "text": [
      "Epoch 7/30 - Train Loss: 0.7943, Train Acc: 73.70%, Val Loss: 0.3364, Val Acc: 90.41%\n"
     ]
    },
    {
     "name": "stderr",
     "output_type": "stream",
     "text": [
      "Epoch 8/30 [Train]: 100%|██████████| 235/235 [00:08<00:00, 28.13it/s, loss=0.709, acc=76.9, lr=0.000275, GPU=27]\n",
      "Epoch 8/30 [Valid]: 100%|██████████| 40/40 [00:01<00:00, 34.55it/s, loss=0.0502, acc=91.5, GPU=12]\n"
     ]
    },
    {
     "name": "stdout",
     "output_type": "stream",
     "text": [
      "Epoch 8/30 - Train Loss: 0.7085, Train Acc: 76.89%, Val Loss: 0.2948, Val Acc: 91.45%\n"
     ]
    },
    {
     "name": "stderr",
     "output_type": "stream",
     "text": [
      "Epoch 9/30 [Train]: 100%|██████████| 235/235 [00:08<00:00, 28.82it/s, loss=0.649, acc=78.7, lr=0.000265, GPU=34]\n",
      "Epoch 9/30 [Valid]: 100%|██████████| 40/40 [00:00<00:00, 40.02it/s, loss=0.0442, acc=92.2, GPU=9] \n"
     ]
    },
    {
     "name": "stdout",
     "output_type": "stream",
     "text": [
      "Epoch 9/30 - Train Loss: 0.6492, Train Acc: 78.71%, Val Loss: 0.2598, Val Acc: 92.17%\n"
     ]
    },
    {
     "name": "stderr",
     "output_type": "stream",
     "text": [
      "Epoch 10/30 [Train]: 100%|██████████| 235/235 [00:08<00:00, 28.77it/s, loss=0.598, acc=80.3, lr=0.000253, GPU=37]\n",
      "Epoch 10/30 [Valid]: 100%|██████████| 40/40 [00:00<00:00, 40.41it/s, loss=0.0402, acc=93, GPU=11]  \n"
     ]
    },
    {
     "name": "stdout",
     "output_type": "stream",
     "text": [
      "Epoch 10/30 - Train Loss: 0.5982, Train Acc: 80.28%, Val Loss: 0.2364, Val Acc: 93.01%\n"
     ]
    },
    {
     "name": "stderr",
     "output_type": "stream",
     "text": [
      "Epoch 11/30 [Train]: 100%|██████████| 235/235 [00:08<00:00, 29.11it/s, loss=0.568, acc=81.5, lr=0.000239, GPU=32]\n",
      "Epoch 11/30 [Valid]: 100%|██████████| 40/40 [00:01<00:00, 35.00it/s, loss=0.0372, acc=93.4, GPU=8]  \n"
     ]
    },
    {
     "name": "stdout",
     "output_type": "stream",
     "text": [
      "Epoch 11/30 - Train Loss: 0.5684, Train Acc: 81.47%, Val Loss: 0.2183, Val Acc: 93.38%\n"
     ]
    },
    {
     "name": "stderr",
     "output_type": "stream",
     "text": [
      "Epoch 12/30 [Train]: 100%|██████████| 235/235 [00:08<00:00, 26.89it/s, loss=0.54, acc=82.6, lr=0.000225, GPU=23] \n",
      "Epoch 12/30 [Valid]: 100%|██████████| 40/40 [00:01<00:00, 36.21it/s, loss=0.0347, acc=93.7, GPU=9]  \n"
     ]
    },
    {
     "name": "stdout",
     "output_type": "stream",
     "text": [
      "Epoch 12/30 - Train Loss: 0.5398, Train Acc: 82.62%, Val Loss: 0.2040, Val Acc: 93.71%\n"
     ]
    },
    {
     "name": "stderr",
     "output_type": "stream",
     "text": [
      "Epoch 13/30 [Train]: 100%|██████████| 235/235 [00:08<00:00, 28.84it/s, loss=0.517, acc=83.3, lr=0.000209, GPU=20]\n",
      "Epoch 13/30 [Valid]: 100%|██████████| 40/40 [00:01<00:00, 39.16it/s, loss=0.0333, acc=94, GPU=11]  \n"
     ]
    },
    {
     "name": "stdout",
     "output_type": "stream",
     "text": [
      "Epoch 13/30 - Train Loss: 0.5173, Train Acc: 83.26%, Val Loss: 0.1955, Val Acc: 94.01%\n"
     ]
    },
    {
     "name": "stderr",
     "output_type": "stream",
     "text": [
      "Epoch 14/30 [Train]: 100%|██████████| 235/235 [00:08<00:00, 28.66it/s, loss=0.503, acc=83.8, lr=0.000193, GPU=30]\n",
      "Epoch 14/30 [Valid]: 100%|██████████| 40/40 [00:00<00:00, 40.02it/s, loss=0.0318, acc=94.1, GPU=11]\n"
     ]
    },
    {
     "name": "stdout",
     "output_type": "stream",
     "text": [
      "Epoch 14/30 - Train Loss: 0.5035, Train Acc: 83.81%, Val Loss: 0.1865, Val Acc: 94.13%\n"
     ]
    },
    {
     "name": "stderr",
     "output_type": "stream",
     "text": [
      "Epoch 15/30 [Train]: 100%|██████████| 235/235 [00:08<00:00, 27.25it/s, loss=0.478, acc=84.7, lr=0.000176, GPU=24]\n",
      "Epoch 15/30 [Valid]: 100%|██████████| 40/40 [00:01<00:00, 38.43it/s, loss=0.0299, acc=94.5, GPU=8]  \n"
     ]
    },
    {
     "name": "stdout",
     "output_type": "stream",
     "text": [
      "Epoch 15/30 - Train Loss: 0.4777, Train Acc: 84.71%, Val Loss: 0.1755, Val Acc: 94.55%\n"
     ]
    },
    {
     "name": "stderr",
     "output_type": "stream",
     "text": [
      "Epoch 16/30 [Train]: 100%|██████████| 235/235 [00:08<00:00, 28.77it/s, loss=0.464, acc=85.1, lr=0.000158, GPU=38]\n",
      "Epoch 16/30 [Valid]: 100%|██████████| 40/40 [00:01<00:00, 39.65it/s, loss=0.0286, acc=94.8, GPU=10] \n"
     ]
    },
    {
     "name": "stdout",
     "output_type": "stream",
     "text": [
      "Epoch 16/30 - Train Loss: 0.4641, Train Acc: 85.05%, Val Loss: 0.1678, Val Acc: 94.80%\n"
     ]
    },
    {
     "name": "stderr",
     "output_type": "stream",
     "text": [
      "Epoch 17/30 [Train]: 100%|██████████| 235/235 [00:08<00:00, 28.54it/s, loss=0.45, acc=85.5, lr=0.000141, GPU=40] \n",
      "Epoch 17/30 [Valid]: 100%|██████████| 40/40 [00:01<00:00, 38.81it/s, loss=0.0279, acc=94.8, GPU=15]\n"
     ]
    },
    {
     "name": "stdout",
     "output_type": "stream",
     "text": [
      "Epoch 17/30 - Train Loss: 0.4498, Train Acc: 85.45%, Val Loss: 0.1639, Val Acc: 94.81%\n"
     ]
    },
    {
     "name": "stderr",
     "output_type": "stream",
     "text": [
      "Epoch 18/30 [Train]: 100%|██████████| 235/235 [00:08<00:00, 28.42it/s, loss=0.438, acc=86, lr=0.000124, GPU=25]  \n",
      "Epoch 18/30 [Valid]: 100%|██████████| 40/40 [00:01<00:00, 37.99it/s, loss=0.027, acc=95, GPU=9]     \n"
     ]
    },
    {
     "name": "stdout",
     "output_type": "stream",
     "text": [
      "Epoch 18/30 - Train Loss: 0.4383, Train Acc: 86.02%, Val Loss: 0.1584, Val Acc: 94.99%\n"
     ]
    },
    {
     "name": "stderr",
     "output_type": "stream",
     "text": [
      "Epoch 19/30 [Train]: 100%|██████████| 235/235 [00:08<00:00, 26.86it/s, loss=0.433, acc=86.1, lr=0.000107, GPU=29]\n",
      "Epoch 19/30 [Valid]: 100%|██████████| 40/40 [00:01<00:00, 38.41it/s, loss=0.026, acc=95.2, GPU=11] \n"
     ]
    },
    {
     "name": "stdout",
     "output_type": "stream",
     "text": [
      "Epoch 19/30 - Train Loss: 0.4328, Train Acc: 86.09%, Val Loss: 0.1528, Val Acc: 95.19%\n"
     ]
    },
    {
     "name": "stderr",
     "output_type": "stream",
     "text": [
      "Epoch 20/30 [Train]: 100%|██████████| 235/235 [00:08<00:00, 28.44it/s, loss=0.429, acc=86.2, lr=9.03e-5, GPU=39]\n",
      "Epoch 20/30 [Valid]: 100%|██████████| 40/40 [00:01<00:00, 39.08it/s, loss=0.0258, acc=95.3, GPU=11]\n"
     ]
    },
    {
     "name": "stdout",
     "output_type": "stream",
     "text": [
      "Epoch 20/30 - Train Loss: 0.4291, Train Acc: 86.25%, Val Loss: 0.1518, Val Acc: 95.31%\n"
     ]
    },
    {
     "name": "stderr",
     "output_type": "stream",
     "text": [
      "Epoch 21/30 [Train]: 100%|██████████| 235/235 [00:08<00:00, 28.28it/s, loss=0.421, acc=86.5, lr=7.47e-5, GPU=25]\n",
      "Epoch 21/30 [Valid]: 100%|██████████| 40/40 [00:01<00:00, 38.42it/s, loss=0.0252, acc=95.3, GPU=9] \n"
     ]
    },
    {
     "name": "stdout",
     "output_type": "stream",
     "text": [
      "Epoch 21/30 - Train Loss: 0.4206, Train Acc: 86.50%, Val Loss: 0.1482, Val Acc: 95.29%\n"
     ]
    },
    {
     "name": "stderr",
     "output_type": "stream",
     "text": [
      "Epoch 22/30 [Train]: 100%|██████████| 235/235 [00:08<00:00, 26.75it/s, loss=0.414, acc=86.8, lr=6.02e-5, GPU=22]\n",
      "Epoch 22/30 [Valid]: 100%|██████████| 40/40 [00:01<00:00, 38.43it/s, loss=0.0249, acc=95.3, GPU=11]\n"
     ]
    },
    {
     "name": "stdout",
     "output_type": "stream",
     "text": [
      "Epoch 22/30 - Train Loss: 0.4136, Train Acc: 86.80%, Val Loss: 0.1465, Val Acc: 95.35%\n"
     ]
    },
    {
     "name": "stderr",
     "output_type": "stream",
     "text": [
      "Epoch 23/30 [Train]: 100%|██████████| 235/235 [00:08<00:00, 28.28it/s, loss=0.405, acc=87.2, lr=4.68e-5, GPU=26]\n",
      "Epoch 23/30 [Valid]: 100%|██████████| 40/40 [00:01<00:00, 39.08it/s, loss=0.0248, acc=95.5, GPU=10] \n"
     ]
    },
    {
     "name": "stdout",
     "output_type": "stream",
     "text": [
      "Epoch 23/30 - Train Loss: 0.4048, Train Acc: 87.17%, Val Loss: 0.1459, Val Acc: 95.46%\n"
     ]
    },
    {
     "name": "stderr",
     "output_type": "stream",
     "text": [
      "Epoch 24/30 [Train]: 100%|██████████| 235/235 [00:08<00:00, 28.40it/s, loss=0.408, acc=87, lr=3.49e-5, GPU=32]  \n",
      "Epoch 24/30 [Valid]: 100%|██████████| 40/40 [00:01<00:00, 39.61it/s, loss=0.0243, acc=95.5, GPU=11] \n"
     ]
    },
    {
     "name": "stdout",
     "output_type": "stream",
     "text": [
      "Epoch 24/30 - Train Loss: 0.4083, Train Acc: 86.97%, Val Loss: 0.1428, Val Acc: 95.53%\n"
     ]
    },
    {
     "name": "stderr",
     "output_type": "stream",
     "text": [
      "Epoch 25/30 [Train]: 100%|██████████| 235/235 [00:08<00:00, 28.91it/s, loss=0.403, acc=87.2, lr=2.45e-5, GPU=44]\n",
      "Epoch 25/30 [Valid]: 100%|██████████| 40/40 [00:01<00:00, 31.95it/s, loss=0.0243, acc=95.5, GPU=8] \n"
     ]
    },
    {
     "name": "stdout",
     "output_type": "stream",
     "text": [
      "Epoch 25/30 - Train Loss: 0.4033, Train Acc: 87.24%, Val Loss: 0.1430, Val Acc: 95.47%\n"
     ]
    },
    {
     "name": "stderr",
     "output_type": "stream",
     "text": [
      "Epoch 26/30 [Train]: 100%|██████████| 235/235 [00:08<00:00, 27.82it/s, loss=0.401, acc=87.2, lr=1.58e-5, GPU=34]\n",
      "Epoch 26/30 [Valid]: 100%|██████████| 40/40 [00:01<00:00, 39.42it/s, loss=0.0243, acc=95.5, GPU=11] \n"
     ]
    },
    {
     "name": "stdout",
     "output_type": "stream",
     "text": [
      "Epoch 26/30 - Train Loss: 0.4013, Train Acc: 87.21%, Val Loss: 0.1428, Val Acc: 95.49%\n"
     ]
    },
    {
     "name": "stderr",
     "output_type": "stream",
     "text": [
      "Epoch 27/30 [Train]: 100%|██████████| 235/235 [00:08<00:00, 28.42it/s, loss=0.402, acc=87.1, lr=8.94e-6, GPU=22]\n",
      "Epoch 27/30 [Valid]: 100%|██████████| 40/40 [00:01<00:00, 39.86it/s, loss=0.0241, acc=95.5, GPU=10]\n"
     ]
    },
    {
     "name": "stdout",
     "output_type": "stream",
     "text": [
      "Epoch 27/30 - Train Loss: 0.4025, Train Acc: 87.13%, Val Loss: 0.1418, Val Acc: 95.54%\n"
     ]
    },
    {
     "name": "stderr",
     "output_type": "stream",
     "text": [
      "Epoch 28/30 [Train]: 100%|██████████| 235/235 [00:08<00:00, 28.81it/s, loss=0.401, acc=87.3, lr=3.98e-6, GPU=21]\n",
      "Epoch 28/30 [Valid]: 100%|██████████| 40/40 [00:01<00:00, 35.12it/s, loss=0.0241, acc=95.5, GPU=9]  \n"
     ]
    },
    {
     "name": "stdout",
     "output_type": "stream",
     "text": [
      "Epoch 28/30 - Train Loss: 0.4007, Train Acc: 87.32%, Val Loss: 0.1418, Val Acc: 95.51%\n"
     ]
    },
    {
     "name": "stderr",
     "output_type": "stream",
     "text": [
      "Epoch 29/30 [Train]: 100%|██████████| 235/235 [00:08<00:00, 27.46it/s, loss=0.397, acc=87.3, lr=9.81e-7, GPU=22]\n",
      "Epoch 29/30 [Valid]: 100%|██████████| 40/40 [00:01<00:00, 39.20it/s, loss=0.0241, acc=95.5, GPU=13] \n"
     ]
    },
    {
     "name": "stdout",
     "output_type": "stream",
     "text": [
      "Epoch 29/30 - Train Loss: 0.3969, Train Acc: 87.34%, Val Loss: 0.1418, Val Acc: 95.53%\n"
     ]
    },
    {
     "name": "stderr",
     "output_type": "stream",
     "text": [
      "Epoch 30/30 [Train]: 100%|██████████| 235/235 [00:08<00:00, 28.98it/s, loss=0.403, acc=87.2, lr=1.5e-9, GPU=31] \n",
      "Epoch 30/30 [Valid]: 100%|██████████| 40/40 [00:01<00:00, 39.05it/s, loss=0.0241, acc=95.5, GPU=13] "
     ]
    },
    {
     "name": "stdout",
     "output_type": "stream",
     "text": [
      "Epoch 30/30 - Train Loss: 0.4029, Train Acc: 87.19%, Val Loss: 0.1418, Val Acc: 95.53%\n"
     ]
    },
    {
     "name": "stderr",
     "output_type": "stream",
     "text": [
      "\n"
     ]
    }
   ],
   "source": [
    "for epoch in range(NUM_EPOCHS):\n",
    "    vit.train()\n",
    "    train_loss = 0\n",
    "    correct = 0\n",
    "    total = 0\n",
    "\n",
    "    optimizer.zero_grad()\n",
    "\n",
    "    progress_bar = tqdm(train_loader, desc=f\"Epoch {epoch + 1}/{NUM_EPOCHS} [Train]\")\n",
    "    for batch_idx, (data, targets) in enumerate(progress_bar):\n",
    "        data = data.to(device, non_blocking=True)\n",
    "        targets = targets.to(device, non_blocking=True)\n",
    "\n",
    "        with torch.amp.autocast(device_type=device.type, enabled=USE_AMP):\n",
    "            logits, _ = vit(data)\n",
    "            loss = criterion(logits, targets) / GRADIENT_ACCUMULATION_STEPS\n",
    "\n",
    "        scaler.scale(loss).backward()\n",
    "\n",
    "        is_update_step = (batch_idx + 1) % GRADIENT_ACCUMULATION_STEPS == 0\n",
    "        if is_update_step or batch_idx == len(train_loader) - 1:\n",
    "            scaler.unscale_(optimizer)\n",
    "            torch.nn.utils.clip_grad_norm_(vit.parameters(), max_norm=1.0)\n",
    "            scaler.step(optimizer)\n",
    "            scaler.update()\n",
    "            if is_update_step:\n",
    "                scheduler.step()\n",
    "            optimizer.zero_grad()\n",
    "\n",
    "        total += targets.size(0)\n",
    "        _, preds = logits.max(1)\n",
    "        correct += (preds == targets).sum().item()\n",
    "        train_loss += loss.item() * GRADIENT_ACCUMULATION_STEPS\n",
    "\n",
    "        progress_bar.set_postfix(\n",
    "            {\n",
    "                \"loss\": train_loss / (batch_idx + 1),\n",
    "                \"acc\": correct / total * 100,\n",
    "                \"lr\": scheduler.get_last_lr()[0],\n",
    "                \"GPU\": get_gpu_utilization(),\n",
    "            }\n",
    "        )\n",
    "\n",
    "    avg_train_loss = train_loss / len(train_loader)\n",
    "    train_accuracy = correct / total * 100\n",
    "    train_losses.append(avg_train_loss)\n",
    "    train_accuracies.append(train_accuracy)\n",
    "\n",
    "    vit.eval()\n",
    "    val_loss = 0\n",
    "    correct = 0\n",
    "    total = 0\n",
    "\n",
    "    progress_bar = tqdm(test_loader, desc=f\"Epoch {epoch + 1}/{NUM_EPOCHS} [Valid]\")\n",
    "    with torch.no_grad():\n",
    "        for data, targets in progress_bar:\n",
    "            data = data.to(device, non_blocking=True)\n",
    "            targets = targets.to(device, non_blocking=True)\n",
    "            with torch.amp.autocast(device_type=device.type, enabled=USE_AMP):\n",
    "                logits, _ = vit(data)\n",
    "                val_loss += criterion(logits, targets).item()\n",
    "\n",
    "            _, preds = logits.max(1)\n",
    "            correct += (preds == targets).sum().item()\n",
    "            total += targets.size(0)\n",
    "\n",
    "            progress_bar.set_postfix(\n",
    "                {\n",
    "                    \"loss\": val_loss / (batch_idx + 1),\n",
    "                    \"acc\": correct / total * 100,\n",
    "                    \"GPU\": get_gpu_utilization(),\n",
    "                }\n",
    "            )\n",
    "\n",
    "    avg_val_loss = val_loss / len(test_loader)\n",
    "    val_accuracy = correct / total * 100\n",
    "    val_losses.append(avg_val_loss)\n",
    "    val_accuracies.append(val_accuracy)\n",
    "\n",
    "    print(\n",
    "        f\"Epoch {epoch + 1}/{NUM_EPOCHS} - Train Loss: {avg_train_loss:.4f}, Train Acc: {train_accuracy:.2f}%, \"\n",
    "        f\"Val Loss: {avg_val_loss:.4f}, Val Acc: {val_accuracy:.2f}%\"\n",
    "    )"
   ]
  },
  {
   "cell_type": "code",
   "execution_count": 62,
   "id": "8e729e49",
   "metadata": {
    "execution": {
     "iopub.execute_input": "2025-04-14T13:19:45.542699Z",
     "iopub.status.busy": "2025-04-14T13:19:45.541907Z",
     "iopub.status.idle": "2025-04-14T13:19:45.919419Z",
     "shell.execute_reply": "2025-04-14T13:19:45.918570Z",
     "shell.execute_reply.started": "2025-04-14T13:19:45.542669Z"
    },
    "trusted": true
   },
   "outputs": [
    {
     "data": {
      "image/png": "[encoded data removed]",
      "text/plain": [
       "<Figure size 1500x500 with 2 Axes>"
      ]
     },
     "metadata": {},
     "output_type": "display_data"
    }
   ],
   "source": [
    "plt.figure(figsize=(15, 5))\n",
    "\n",
    "plt.subplot(1, 2, 1)\n",
    "plt.plot(train_losses, label=\"Training Loss\")\n",
    "plt.plot(val_losses, label=\"Validation Loss\")\n",
    "plt.xlabel(\"Epoch\")\n",
    "plt.ylabel(\"Loss\")\n",
    "plt.legend()\n",
    "plt.title(\"Loss Curve\")\n",
    "plt.grid(True)\n",
    "\n",
    "plt.subplot(1, 2, 2)\n",
    "plt.plot(train_accuracies, label=\"Training Accuracy\")\n",
    "plt.plot(val_accuracies, label=\"Validation Accuracy\")\n",
    "plt.xlabel(\"Epoch\")\n",
    "plt.ylabel(\"Accuracy (%)\")\n",
    "plt.legend()\n",
    "plt.title(\"Accuracy Curve\")\n",
    "plt.grid(True)\n",
    "\n",
    "plt.tight_layout()\n",
    "plt.show()"
   ]
  },
  {
   "cell_type": "code",
   "execution_count": 63,
   "id": "2387cb9d",
   "metadata": {
    "execution": {
     "iopub.execute_input": "2025-04-14T13:19:46.863244Z",
     "iopub.status.busy": "2025-04-14T13:19:46.862964Z",
     "iopub.status.idle": "2025-04-14T13:19:47.261559Z",
     "shell.execute_reply": "2025-04-14T13:19:47.260817Z",
     "shell.execute_reply.started": "2025-04-14T13:19:46.863224Z"
    },
    "trusted": true
   },
   "outputs": [
    {
     "data": {
      "image/png": "[encoded data removed]",
      "text/plain": [
       "<Figure size 500x500 with 1 Axes>"
      ]
     },
     "metadata": {},
     "output_type": "display_data"
    }
   ],
   "source": [
    "image, label = next(iter(test_loader))\n",
    "sample_image = image[3].unsqueeze(0).to(device)\n",
    "sample_label = label[3].item()\n",
    "vit.eval()\n",
    "with torch.no_grad():\n",
    "    outputs, attention_maps = vit(sample_image)\n",
    "\n",
    "predicted_class = outputs.argmax(dim=1).item()\n",
    "confidence = outputs[0, predicted_class].item()\n",
    "\n",
    "plt.figure(figsize=(5, 5))\n",
    "plt.imshow(image[3].squeeze().cpu().numpy(), cmap=\"gray\")\n",
    "plt.title(\n",
    "    f\"Label: {sample_label} | Predicted: {predicted_class} | Confidence: {confidence:.2f}\"\n",
    ")\n",
    "plt.axis(\"off\")\n",
    "plt.show()"
   ]
  },
  {
   "cell_type": "markdown",
   "id": "b4ddaf50",
   "metadata": {},
   "source": [
    "# Attention map visualization"
   ]
  },
  {
   "cell_type": "code",
   "execution_count": 64,
   "id": "09566c06",
   "metadata": {
    "execution": {
     "iopub.execute_input": "2025-04-14T13:19:49.720416Z",
     "iopub.status.busy": "2025-04-14T13:19:49.720125Z",
     "iopub.status.idle": "2025-04-14T13:19:49.730069Z",
     "shell.execute_reply": "2025-04-14T13:19:49.729347Z",
     "shell.execute_reply.started": "2025-04-14T13:19:49.720393Z"
    },
    "trusted": true
   },
   "outputs": [],
   "source": [
    "def visualize_attention_maps(image, attention_maps, layer_idx=0):\n",
    "    num_heads = attention_maps[layer_idx].shape[1]\n",
    "\n",
    "    fig = plt.figure(figsize=(15, 6))\n",
    "\n",
    "    if image.shape[1] == 1:  # Grayscale image\n",
    "        img = image[0, 0].cpu().numpy()\n",
    "        ax = fig.add_subplot(1, num_heads + 2, 1)\n",
    "        ax.imshow(img, cmap=\"gray\")\n",
    "        ax.set_title(\"Original Image\", fontsize=12)\n",
    "        ax.axis(\"off\")\n",
    "    else:  # RGB image\n",
    "        img = image[0].permute(1, 2, 0).cpu().numpy()\n",
    "        ax = fig.add_subplot(1, num_heads + 2, 1)\n",
    "        ax.imshow(img)\n",
    "        ax.set_title(\"Original Image\", fontsize=12)\n",
    "        ax.axis(\"off\")\n",
    "\n",
    "    upscaled_attns = []\n",
    "    for head_idx in range(num_heads):\n",
    "        attn = attention_maps[layer_idx][0, head_idx].cpu().numpy()\n",
    "        cls_attn = attn[0, 1:]\n",
    "\n",
    "        n_patches = int(np.sqrt(len(cls_attn)))\n",
    "        attn_map = cls_attn.reshape(n_patches, n_patches)\n",
    "\n",
    "        upscaled_attn = scipy.ndimage.zoom(\n",
    "            attn_map,\n",
    "            (img.shape[0] / n_patches, img.shape[1] / n_patches),\n",
    "            order=1,\n",
    "        )\n",
    "        upscaled_attns.append(upscaled_attn)\n",
    "\n",
    "        ax = fig.add_subplot(1, num_heads + 2, head_idx + 2)\n",
    "        im = ax.imshow(upscaled_attn, cmap=\"hot\")\n",
    "        ax.set_title(f\"Head {head_idx}\", fontsize=12)\n",
    "        ax.axis(\"off\")\n",
    "\n",
    "    combined_attn = np.mean(upscaled_attns, axis=0)\n",
    "    ax = fig.add_subplot(1, num_heads + 2, num_heads + 2)\n",
    "    if image.shape[1] == 1:\n",
    "        ax.imshow(img, cmap=\"gray\")\n",
    "        im = ax.imshow(combined_attn, cmap=\"hot\", alpha=0.6)\n",
    "    else:\n",
    "        ax.imshow(img)\n",
    "        im = ax.imshow(combined_attn, cmap=\"hot\", alpha=0.6)\n",
    "    ax.set_title(\"Combined Overlay\", fontsize=12)\n",
    "    ax.axis(\"off\")\n",
    "    plt.colorbar(im, ax=ax, fraction=0.046, pad=0.04)\n",
    "\n",
    "    plt.tight_layout()\n",
    "    plt.suptitle(f\"Attention Maps for Layer {layer_idx}\", fontsize=14)\n",
    "    plt.subplots_adjust(top=1.3)\n",
    "    plt.show()\n",
    "\n",
    "    return upscaled_attns"
   ]
  },
  {
   "cell_type": "code",
   "execution_count": 65,
   "id": "5ebe016a",
   "metadata": {
    "execution": {
     "iopub.execute_input": "2025-04-14T13:19:51.272592Z",
     "iopub.status.busy": "2025-04-14T13:19:51.272326Z",
     "iopub.status.idle": "2025-04-14T13:19:52.718242Z",
     "shell.execute_reply": "2025-04-14T13:19:52.717556Z",
     "shell.execute_reply.started": "2025-04-14T13:19:51.272556Z"
    },
    "trusted": true
   },
   "outputs": [
    {
     "data": {
      "image/png": "[encoded data removed]",
      "text/plain": [
       "<Figure size 1500x600 with 7 Axes>"
      ]
     },
     "metadata": {},
     "output_type": "display_data"
    },
    {
     "data": {
      "image/png": "[encoded data removed]",
      "text/plain": [
       "<Figure size 1500x600 with 7 Axes>"
      ]
     },
     "metadata": {},
     "output_type": "display_data"
    },
    {
     "data": {
      "image/png": "[encoded data removed]",
      "text/plain": [
       "<Figure size 1500x600 with 7 Axes>"
      ]
     },
     "metadata": {},
     "output_type": "display_data"
    }
   ],
   "source": [
    "for layer_idx in range(len(attention_maps)):\n",
    "    _ = visualize_attention_maps(sample_image, attention_maps, layer_idx=layer_idx)"
   ]
  },
  {
   "cell_type": "code",
   "execution_count": null,
   "id": "0c5de8e9-63dd-4575-81c4-9e945df6da81",
   "metadata": {
    "trusted": true
   },
   "outputs": [],
   "source": []
  }
 ],
 "metadata": {
  "kaggle": {
   "accelerator": "gpu",
   "dataSources": [],
   "dockerImageVersionId": 31011,
   "isGpuEnabled": true,
   "isInternetEnabled": true,
   "language": "python",
   "sourceType": "notebook"
  },
  "kernelspec": {
   "display_name": "Python 3",
   "language": "python",
   "name": "python3"
  },
  "language_info": {
   "codemirror_mode": {
    "name": "ipython",
    "version": 3
   },
   "file_extension": ".py",
   "mimetype": "text/x-python",
   "name": "python",
   "nbconvert_exporter": "python",
   "pygments_lexer": "ipython3",
   "version": "3.11.0"
  }
 },
 "nbformat": 4,
 "nbformat_minor": 5
}
