{
 "cells": [
  {
   "cell_type": "code",
   "execution_count": null,
   "id": "6ac0a406",
   "metadata": {
    "execution": {
     "iopub.execute_input": "2025-04-13T23:02:52.299868Z",
     "iopub.status.busy": "2025-04-13T23:02:52.299155Z",
     "iopub.status.idle": "2025-04-13T23:02:52.304146Z",
     "shell.execute_reply": "2025-04-13T23:02:52.303242Z",
     "shell.execute_reply.started": "2025-04-13T23:02:52.299843Z"
    },
    "trusted": true
   },
   "outputs": [],
   "source": [
    "from io import BytesIO\n",
    "\n",
    "import matplotlib.pyplot as plt\n",
    "import numpy as np\n",
    "import pynvml\n",
    "import requests\n",
    "import scipy.ndimage\n",
    "import torch\n",
    "import torch.nn as nn\n",
    "import torch.nn.functional as F\n",
    "from PIL import Image\n",
    "from torch.amp import GradScaler, autocast\n",
    "from torchvision import transforms\n",
    "from tqdm import tqdm"
   ]
  },
  {
   "cell_type": "code",
   "execution_count": 226,
   "id": "d225db50",
   "metadata": {
    "execution": {
     "iopub.execute_input": "2025-04-13T23:02:53.925266Z",
     "iopub.status.busy": "2025-04-13T23:02:53.925017Z",
     "iopub.status.idle": "2025-04-13T23:02:53.930542Z",
     "shell.execute_reply": "2025-04-13T23:02:53.929751Z",
     "shell.execute_reply.started": "2025-04-13T23:02:53.925245Z"
    },
    "trusted": true
   },
   "outputs": [
    {
     "name": "stdout",
     "output_type": "stream",
     "text": [
      "Using GPU: Tesla P100-PCIE-16GB\n",
      "GPU Memory: 17.06 GB\n",
      "CUDA Version: 12.4\n"
     ]
    }
   ],
   "source": [
    "device = torch.device(\"cuda\" if torch.cuda.is_available() else \"cpu\")\n",
    "\n",
    "torch.backends.cudnn.benchmark = True\n",
    "\n",
    "if torch.cuda.is_available():\n",
    "    print(f\"Using GPU: {torch.cuda.get_device_name(0)}\")\n",
    "    print(\n",
    "        f\"GPU Memory: {torch.cuda.get_device_properties(0).total_memory / 1e9:.2f} GB\"\n",
    "    )\n",
    "    print(f\"CUDA Version: {torch.version.cuda}\")\n",
    "else:\n",
    "    print(\"CUDA not available, using CPU\")"
   ]
  },
  {
   "cell_type": "code",
   "execution_count": 227,
   "id": "3ae7d916",
   "metadata": {
    "execution": {
     "iopub.execute_input": "2025-04-13T23:02:54.609117Z",
     "iopub.status.busy": "2025-04-13T23:02:54.608393Z",
     "iopub.status.idle": "2025-04-13T23:02:54.613260Z",
     "shell.execute_reply": "2025-04-13T23:02:54.612609Z",
     "shell.execute_reply.started": "2025-04-13T23:02:54.609093Z"
    },
    "trusted": true
   },
   "outputs": [],
   "source": [
    "IMG_PATH = \"https://www.nylabone.com/-/media/project/oneweb/nylabone/images/dog101/10-intelligent-dog-breeds/golden-retriever-tongue-out.jpg?h=430&w=710&hash=7FEB820D235A44B76B271060E03572C7\"\n",
    "IMG_SIZE = 28\n",
    "PATCH_SIZE = 7\n",
    "EMBEDDING_SIZE = 64\n",
    "NUM_HEADS = 4\n",
    "NUM_LAYERS = 3\n",
    "NUM_CLASSES = 10\n",
    "DROPOUT_RATE = 0.1\n",
    "\n",
    "NUM_EPOCHS = 30\n",
    "LEARNING_RATE = 3e-4\n",
    "BATCH_SIZE = 256\n",
    "GRADIENT_ACCUMULATION_STEPS = 4\n",
    "NUM_WORKERS = 4\n",
    "PIN_MEMORY = True\n",
    "USE_AMP = True"
   ]
  },
  {
   "cell_type": "code",
   "execution_count": 228,
   "id": "cd97c851",
   "metadata": {
    "execution": {
     "iopub.execute_input": "2025-04-13T23:02:56.382954Z",
     "iopub.status.busy": "2025-04-13T23:02:56.382253Z",
     "iopub.status.idle": "2025-04-13T23:02:57.355353Z",
     "shell.execute_reply": "2025-04-13T23:02:57.354606Z",
     "shell.execute_reply.started": "2025-04-13T23:02:56.382930Z"
    },
    "trusted": true
   },
   "outputs": [
    {
     "data": {
      "text/plain": [
       "torch.Size([3, 28, 28])"
      ]
     },
     "execution_count": 228,
     "metadata": {},
     "output_type": "execute_result"
    }
   ],
   "source": [
    "transform = transforms.Compose(\n",
    "    [transforms.Resize((IMG_SIZE, IMG_SIZE)), transforms.ToTensor()]\n",
    ")\n",
    "img_tensor = transform(Image.open(BytesIO(requests.get(IMG_PATH).content)))\n",
    "img_tensor.shape"
   ]
  },
  {
   "cell_type": "code",
   "execution_count": 229,
   "id": "4feccb17",
   "metadata": {
    "execution": {
     "iopub.execute_input": "2025-04-13T23:02:57.356654Z",
     "iopub.status.busy": "2025-04-13T23:02:57.356453Z",
     "iopub.status.idle": "2025-04-13T23:02:57.399715Z",
     "shell.execute_reply": "2025-04-13T23:02:57.399036Z",
     "shell.execute_reply.started": "2025-04-13T23:02:57.356638Z"
    },
    "trusted": true
   },
   "outputs": [
    {
     "data": {
      "image/png": "[encoded data removed]",
      "text/plain": [
       "<Figure size 640x480 with 1 Axes>"
      ]
     },
     "metadata": {},
     "output_type": "display_data"
    }
   ],
   "source": [
    "plt.imshow(img_tensor.permute(1, 2, 0))\n",
    "plt.axis(\"off\")\n",
    "plt.show()"
   ]
  },
  {
   "cell_type": "code",
   "execution_count": 230,
   "id": "4ba0bab6",
   "metadata": {
    "execution": {
     "iopub.execute_input": "2025-04-13T23:02:58.807075Z",
     "iopub.status.busy": "2025-04-13T23:02:58.806836Z",
     "iopub.status.idle": "2025-04-13T23:02:58.811067Z",
     "shell.execute_reply": "2025-04-13T23:02:58.810393Z",
     "shell.execute_reply.started": "2025-04-13T23:02:58.807060Z"
    },
    "trusted": true
   },
   "outputs": [],
   "source": [
    "batch = img_tensor.unsqueeze(0).to(device)"
   ]
  },
  {
   "cell_type": "markdown",
   "id": "33ed9131",
   "metadata": {},
   "source": [
    "# Vision Transformer"
   ]
  },
  {
   "cell_type": "code",
   "execution_count": 231,
   "id": "80ccb9b7",
   "metadata": {
    "execution": {
     "iopub.execute_input": "2025-04-13T23:02:59.129804Z",
     "iopub.status.busy": "2025-04-13T23:02:59.129520Z",
     "iopub.status.idle": "2025-04-13T23:02:59.134970Z",
     "shell.execute_reply": "2025-04-13T23:02:59.134117Z",
     "shell.execute_reply.started": "2025-04-13T23:02:59.129784Z"
    },
    "trusted": true
   },
   "outputs": [],
   "source": [
    "class PatchEmbeddings(nn.Module):\n",
    "    def __init__(\n",
    "        self, in_channels: int, image_size: int, patch_size: int, embedding_size: int\n",
    "    ):\n",
    "        super().__init__()\n",
    "        self.in_channels = in_channels\n",
    "        self.patch_size = patch_size\n",
    "        self.embedding_size = embedding_size\n",
    "        self.patch_num = (image_size // patch_size) ** 2\n",
    "\n",
    "        # Equivalent of: patch flatten + linear projection\n",
    "        self.projection = nn.Conv2d(\n",
    "            in_channels=in_channels,\n",
    "            out_channels=embedding_size,\n",
    "            kernel_size=patch_size,\n",
    "            stride=patch_size,\n",
    "        )\n",
    "\n",
    "    def forward(self, x):\n",
    "        x = self.projection(x)  # [btach_size, embedding_size, patch_num, patch_num]\n",
    "        x = x.flatten(2).transpose(1, 2)  # [batch_size, patch_num, embedding_size]\n",
    "        return x"
   ]
  },
  {
   "cell_type": "code",
   "execution_count": 232,
   "id": "0c71d59e",
   "metadata": {
    "execution": {
     "iopub.execute_input": "2025-04-13T23:02:59.302925Z",
     "iopub.status.busy": "2025-04-13T23:02:59.302667Z",
     "iopub.status.idle": "2025-04-13T23:02:59.309480Z",
     "shell.execute_reply": "2025-04-13T23:02:59.308828Z",
     "shell.execute_reply.started": "2025-04-13T23:02:59.302908Z"
    },
    "trusted": true
   },
   "outputs": [
    {
     "data": {
      "text/plain": [
       "torch.Size([1, 16, 64])"
      ]
     },
     "execution_count": 232,
     "metadata": {},
     "output_type": "execute_result"
    }
   ],
   "source": [
    "patch_embeddings = PatchEmbeddings(\n",
    "    in_channels=batch.shape[1],\n",
    "    image_size=IMG_SIZE,\n",
    "    patch_size=PATCH_SIZE,\n",
    "    embedding_size=EMBEDDING_SIZE,\n",
    ").to(device)\n",
    "\n",
    "patch_embeddings(batch).shape  # [batch_size, patch_num, embedding_size]"
   ]
  },
  {
   "cell_type": "code",
   "execution_count": 233,
   "id": "7b7f8d2b",
   "metadata": {
    "execution": {
     "iopub.execute_input": "2025-04-13T23:02:59.434665Z",
     "iopub.status.busy": "2025-04-13T23:02:59.434453Z",
     "iopub.status.idle": "2025-04-13T23:02:59.440228Z",
     "shell.execute_reply": "2025-04-13T23:02:59.439457Z",
     "shell.execute_reply.started": "2025-04-13T23:02:59.434650Z"
    },
    "trusted": true
   },
   "outputs": [],
   "source": [
    "class EmbeddingLayer(nn.Module):\n",
    "    def __init__(\n",
    "        self, in_channels, image_size, patch_size, embedding_size, dropout_rate=0.1\n",
    "    ):\n",
    "        super().__init__()\n",
    "        self.patch_embeddings = PatchEmbeddings(\n",
    "            in_channels, image_size, patch_size, embedding_size\n",
    "        )\n",
    "        self.positional_embeddings = nn.Parameter(\n",
    "            torch.randn(1, self.patch_embeddings.patch_num + 1, embedding_size)\n",
    "        )\n",
    "        self.cls_token = nn.Parameter(torch.randn(1, 1, embedding_size))\n",
    "        self.patch_num = self.patch_embeddings.patch_num + 1\n",
    "        self.dropout = nn.Dropout(dropout_rate)\n",
    "\n",
    "    def forward(self, x):\n",
    "        cls_tokens = self.cls_token.expand((x.shape[0], 1, -1))\n",
    "        x = self.patch_embeddings(x)\n",
    "        x = torch.cat((cls_tokens, x), dim=1)\n",
    "        x = x + self.positional_embeddings\n",
    "        return self.dropout(x)"
   ]
  },
  {
   "cell_type": "code",
   "execution_count": 234,
   "id": "1e155fdf",
   "metadata": {
    "execution": {
     "iopub.execute_input": "2025-04-13T23:02:59.580097Z",
     "iopub.status.busy": "2025-04-13T23:02:59.579879Z",
     "iopub.status.idle": "2025-04-13T23:02:59.586420Z",
     "shell.execute_reply": "2025-04-13T23:02:59.585822Z",
     "shell.execute_reply.started": "2025-04-13T23:02:59.580081Z"
    },
    "trusted": true
   },
   "outputs": [
    {
     "data": {
      "text/plain": [
       "torch.Size([1, 17, 64])"
      ]
     },
     "execution_count": 234,
     "metadata": {},
     "output_type": "execute_result"
    }
   ],
   "source": [
    "embedding_layer = EmbeddingLayer(\n",
    "    in_channels=batch.shape[1],\n",
    "    image_size=IMG_SIZE,\n",
    "    patch_size=PATCH_SIZE,\n",
    "    embedding_size=EMBEDDING_SIZE,\n",
    ").to(device)\n",
    "\n",
    "embedding_layer(batch).shape  # [batch_size, patch_num + 1, embedding_size]"
   ]
  },
  {
   "cell_type": "code",
   "execution_count": 235,
   "id": "db9ae4ea",
   "metadata": {
    "execution": {
     "iopub.execute_input": "2025-04-13T23:02:59.731165Z",
     "iopub.status.busy": "2025-04-13T23:02:59.730600Z",
     "iopub.status.idle": "2025-04-13T23:02:59.739035Z",
     "shell.execute_reply": "2025-04-13T23:02:59.738280Z",
     "shell.execute_reply.started": "2025-04-13T23:02:59.731143Z"
    },
    "trusted": true
   },
   "outputs": [],
   "source": [
    "class AttentionLayer(nn.Module):\n",
    "    def __init__(\n",
    "        self, sequence_length, embedding_size, num_heads, dropout_rate=0.1, mask=False\n",
    "    ):\n",
    "        super().__init__()\n",
    "\n",
    "        assert embedding_size % num_heads == 0, (\n",
    "            \"embedding_size must be divisible by num_heads\"\n",
    "        )\n",
    "\n",
    "        self.mask = mask\n",
    "        self.num_heads = num_heads\n",
    "        self.head_size = embedding_size // num_heads\n",
    "        self.sequence_length = sequence_length\n",
    "        self.scale = self.head_size**-0.5\n",
    "\n",
    "        self.embedding_size = embedding_size\n",
    "        self.query_dense = nn.Linear(embedding_size, embedding_size)\n",
    "        self.key_dense = nn.Linear(embedding_size, embedding_size)\n",
    "        self.value_dense = nn.Linear(embedding_size, embedding_size)\n",
    "        self.output_dense = nn.Linear(embedding_size, embedding_size)\n",
    "        self.attn_dropout = nn.Dropout(dropout_rate)\n",
    "        self.proj_dropout = nn.Dropout(dropout_rate)\n",
    "\n",
    "    def split_heads(self, x):\n",
    "        B, S, _ = x.size()\n",
    "        return x.view(B, S, self.num_heads, self.head_size).transpose(1, 2)\n",
    "\n",
    "    def forward(self, x):\n",
    "        B, S, _ = x.size()\n",
    "\n",
    "        Q = self.query_dense(x)\n",
    "        K = self.key_dense(x)\n",
    "        V = self.value_dense(x)\n",
    "\n",
    "        Q_heads = self.split_heads(Q)  # (B, H, S, E/H)\n",
    "        K_heads = self.split_heads(K)  # (B, H, S, E/H)\n",
    "        V_heads = self.split_heads(V)  # (B, H, S, E/H)\n",
    "\n",
    "        attention = (Q_heads @ K_heads.transpose(-2, -1)) * self.scale  # (B, H, S, S)\n",
    "\n",
    "        if self.mask:\n",
    "            mask = torch.tril(torch.ones(S, S, device=x.device)).view(1, 1, S, S)\n",
    "            attention = attention.masked_fill(mask == 0, float(\"-inf\"))\n",
    "\n",
    "        attention_weights = F.softmax(attention, dim=-1)\n",
    "\n",
    "        attention = self.attn_dropout(attention_weights) @ V_heads  # (B, H, S, E/H)\n",
    "\n",
    "        out = attention.transpose(1, 2).contiguous().view(B, S, -1)\n",
    "        out = self.output_dense(out)\n",
    "        return self.proj_dropout(out), attention_weights"
   ]
  },
  {
   "cell_type": "code",
   "execution_count": 236,
   "id": "c608bebe",
   "metadata": {
    "execution": {
     "iopub.execute_input": "2025-04-13T23:03:00.859972Z",
     "iopub.status.busy": "2025-04-13T23:03:00.859686Z",
     "iopub.status.idle": "2025-04-13T23:03:00.864801Z",
     "shell.execute_reply": "2025-04-13T23:03:00.864016Z",
     "shell.execute_reply.started": "2025-04-13T23:03:00.859952Z"
    },
    "trusted": true
   },
   "outputs": [],
   "source": [
    "class FeedForward(nn.Module):\n",
    "    def __init__(self, embedding_size, hidden_size, dropout_rate=0.1):\n",
    "        super().__init__()\n",
    "        self.fc1 = nn.Linear(embedding_size, hidden_size)\n",
    "        self.fc2 = nn.Linear(hidden_size, embedding_size)\n",
    "        self.dropout = nn.Dropout(dropout_rate)\n",
    "\n",
    "    def forward(self, x):\n",
    "        x = self.dropout(F.gelu(self.fc1(x)))\n",
    "        x = self.dropout(self.fc2(x))\n",
    "        return x"
   ]
  },
  {
   "cell_type": "code",
   "execution_count": 237,
   "id": "10a09241",
   "metadata": {
    "execution": {
     "iopub.execute_input": "2025-04-13T23:03:01.003325Z",
     "iopub.status.busy": "2025-04-13T23:03:01.003104Z",
     "iopub.status.idle": "2025-04-13T23:03:01.008770Z",
     "shell.execute_reply": "2025-04-13T23:03:01.008101Z",
     "shell.execute_reply.started": "2025-04-13T23:03:01.003308Z"
    },
    "trusted": true
   },
   "outputs": [],
   "source": [
    "class TransformerBlock(nn.Module):\n",
    "    def __init__(\n",
    "        self,\n",
    "        sequence_length,\n",
    "        embedding_size,\n",
    "        num_heads,\n",
    "        mlp_ratio=4.0,\n",
    "        dropout_rate=0.1,\n",
    "    ):\n",
    "        super().__init__()\n",
    "        self.norm1 = nn.LayerNorm(embedding_size)\n",
    "        self.attention_layer = AttentionLayer(\n",
    "            sequence_length,\n",
    "            embedding_size,\n",
    "            num_heads,\n",
    "            dropout_rate=dropout_rate,\n",
    "            mask=False,\n",
    "        )\n",
    "        self.norm2 = nn.LayerNorm(embedding_size)\n",
    "        self.feed_forward = FeedForward(\n",
    "            embedding_size, int(embedding_size * mlp_ratio), dropout_rate=dropout_rate\n",
    "        )\n",
    "        self.dropout = nn.Dropout(dropout_rate)\n",
    "\n",
    "    def forward(self, x):\n",
    "        attention, attention_weights = self.attention_layer(self.norm1(x))\n",
    "        x = x + attention\n",
    "        x = x + self.feed_forward(self.norm2(x))\n",
    "        return x, attention_weights"
   ]
  },
  {
   "cell_type": "code",
   "execution_count": 238,
   "id": "b5e849ef",
   "metadata": {
    "execution": {
     "iopub.execute_input": "2025-04-13T23:03:01.159333Z",
     "iopub.status.busy": "2025-04-13T23:03:01.159125Z",
     "iopub.status.idle": "2025-04-13T23:03:01.165195Z",
     "shell.execute_reply": "2025-04-13T23:03:01.164565Z",
     "shell.execute_reply.started": "2025-04-13T23:03:01.159317Z"
    },
    "trusted": true
   },
   "outputs": [],
   "source": [
    "class VisionTransformer(nn.Module):\n",
    "    def __init__(\n",
    "        self,\n",
    "        in_channels: int,\n",
    "        image_size: int,\n",
    "        patch_size: int,\n",
    "        embedding_size: int,\n",
    "        num_heads: int,\n",
    "        num_layers: int,\n",
    "        mlp_ratio: float = 4.0,\n",
    "        dropout_rate: float = 0.1,\n",
    "    ):\n",
    "        super().__init__()\n",
    "        self.num_layers = num_layers\n",
    "        self.num_heads = num_heads\n",
    "        self.patch_size = patch_size\n",
    "        self.image_size = image_size\n",
    "        self.embedding_layer = EmbeddingLayer(\n",
    "            in_channels, image_size, patch_size, embedding_size, dropout_rate\n",
    "        )\n",
    "        self.transformer_blocks = nn.ModuleList(\n",
    "            [\n",
    "                TransformerBlock(\n",
    "                    self.embedding_layer.patch_num,\n",
    "                    embedding_size,\n",
    "                    num_heads,\n",
    "                    mlp_ratio,\n",
    "                    dropout_rate,\n",
    "                )\n",
    "                for _ in range(num_layers)\n",
    "            ]\n",
    "        )\n",
    "        self.norm = nn.LayerNorm(embedding_size)\n",
    "\n",
    "    def forward(self, x):\n",
    "        x = self.embedding_layer(x)  # [batch_size, patch_num + 1, embedding_size]\n",
    "        attention_maps = []\n",
    "\n",
    "        for transformer_block in self.transformer_blocks:\n",
    "            x, attention_weights = transformer_block(x)\n",
    "            attention_maps.append(attention_weights)\n",
    "\n",
    "        x = self.norm(x)\n",
    "\n",
    "        # [batch_size, patch_num + 1, embedding_size], [num_layers, num_heads, patch_num + 1, patch_num + 1]\n",
    "        return x, attention_maps"
   ]
  },
  {
   "cell_type": "code",
   "execution_count": 239,
   "id": "74de0382",
   "metadata": {
    "execution": {
     "iopub.execute_input": "2025-04-13T23:03:01.311125Z",
     "iopub.status.busy": "2025-04-13T23:03:01.310908Z",
     "iopub.status.idle": "2025-04-13T23:03:01.316690Z",
     "shell.execute_reply": "2025-04-13T23:03:01.315924Z",
     "shell.execute_reply.started": "2025-04-13T23:03:01.311110Z"
    },
    "trusted": true
   },
   "outputs": [],
   "source": [
    "class VisionTransformerClassifier(nn.Module):\n",
    "    def __init__(\n",
    "        self,\n",
    "        in_channels: int,\n",
    "        image_size: int,\n",
    "        patch_size: int,\n",
    "        embedding_size: int,\n",
    "        num_heads: int,\n",
    "        num_layers: int,\n",
    "        num_classes: int,\n",
    "        mlp_ratio: float = 4.0,\n",
    "        dropout_rate: float = 0.1,\n",
    "    ):\n",
    "        super().__init__()\n",
    "        self.vit = VisionTransformer(\n",
    "            in_channels,\n",
    "            image_size,\n",
    "            patch_size,\n",
    "            embedding_size,\n",
    "            num_heads,\n",
    "            num_layers,\n",
    "            mlp_ratio,\n",
    "            dropout_rate,\n",
    "        )\n",
    "\n",
    "        self.mlp_head = nn.Sequential(\n",
    "            nn.Linear(embedding_size, embedding_size),\n",
    "            nn.GELU(),\n",
    "            nn.Dropout(dropout_rate),\n",
    "            nn.Linear(embedding_size, num_classes),\n",
    "        )\n",
    "        self.patch_size = patch_size\n",
    "        self.image_size = image_size\n",
    "\n",
    "    def forward(self, x):\n",
    "        x, attention_maps = self.vit(\n",
    "            x\n",
    "        )  # [batch_size, patch_num + 1, embedding_size], attention_maps\n",
    "        cls_token = x[:, 0]  # [batch_size, embedding_size]\n",
    "        logits = self.mlp_head(cls_token)  # [batch_size, num_classes]\n",
    "        probs = F.softmax(logits, dim=-1)\n",
    "        return probs, attention_maps"
   ]
  },
  {
   "cell_type": "code",
   "execution_count": 240,
   "id": "d58e701d",
   "metadata": {
    "execution": {
     "iopub.execute_input": "2025-04-13T23:03:01.425230Z",
     "iopub.status.busy": "2025-04-13T23:03:01.425025Z",
     "iopub.status.idle": "2025-04-13T23:03:01.440470Z",
     "shell.execute_reply": "2025-04-13T23:03:01.439986Z",
     "shell.execute_reply.started": "2025-04-13T23:03:01.425214Z"
    },
    "trusted": true
   },
   "outputs": [
    {
     "data": {
      "text/plain": [
       "(torch.Size([1, 10]), 3, torch.Size([1, 4, 17, 17]))"
      ]
     },
     "execution_count": 240,
     "metadata": {},
     "output_type": "execute_result"
    }
   ],
   "source": [
    "vit = VisionTransformerClassifier(\n",
    "    in_channels=img_tensor.shape[0],\n",
    "    image_size=IMG_SIZE,\n",
    "    patch_size=PATCH_SIZE,\n",
    "    embedding_size=EMBEDDING_SIZE,\n",
    "    num_heads=NUM_HEADS,\n",
    "    num_layers=NUM_LAYERS,\n",
    "    num_classes=NUM_CLASSES,\n",
    "    dropout_rate=DROPOUT_RATE,\n",
    ").to(device)\n",
    "\n",
    "predicted, attention_maps = vit(batch)\n",
    "predicted.shape, len(attention_maps), attention_maps[0].shape"
   ]
  },
  {
   "cell_type": "markdown",
   "id": "86f48d7a",
   "metadata": {},
   "source": [
    "# Training"
   ]
  },
  {
   "cell_type": "code",
   "execution_count": 241,
   "id": "a732550c",
   "metadata": {
    "execution": {
     "iopub.execute_input": "2025-04-13T23:03:02.769466Z",
     "iopub.status.busy": "2025-04-13T23:03:02.768837Z",
     "iopub.status.idle": "2025-04-13T23:03:02.949163Z",
     "shell.execute_reply": "2025-04-13T23:03:02.948382Z",
     "shell.execute_reply.started": "2025-04-13T23:03:02.769443Z"
    },
    "trusted": true
   },
   "outputs": [],
   "source": [
    "import torchvision\n",
    "\n",
    "mnist = torchvision.datasets.MNIST(\"./data\", train=True, download=True)\n",
    "\n",
    "train_transform = transforms.Compose(\n",
    "    [\n",
    "        transforms.RandomAffine(degrees=10, translate=(0.1, 0.1)),\n",
    "        transforms.ToTensor(),\n",
    "        transforms.Normalize((0.1307,), (0.3081,)),\n",
    "    ]\n",
    ")\n",
    "\n",
    "test_transform = transforms.Compose(\n",
    "    [transforms.ToTensor(), transforms.Normalize((0.1307,), (0.3081,))]\n",
    ")\n",
    "\n",
    "train_dataset = torchvision.datasets.MNIST(\n",
    "    \"./data\", train=True, download=True, transform=train_transform\n",
    ")\n",
    "test_dataset = torchvision.datasets.MNIST(\n",
    "    \"./data\", train=False, download=True, transform=test_transform\n",
    ")\n",
    "\n",
    "train_loader = torch.utils.data.DataLoader(\n",
    "    train_dataset,\n",
    "    batch_size=BATCH_SIZE,\n",
    "    shuffle=True,\n",
    "    num_workers=NUM_WORKERS,\n",
    "    pin_memory=PIN_MEMORY,\n",
    "    prefetch_factor=2,\n",
    "    persistent_workers=True,\n",
    ")\n",
    "test_loader = torch.utils.data.DataLoader(\n",
    "    test_dataset, batch_size=BATCH_SIZE, num_workers=NUM_WORKERS, pin_memory=PIN_MEMORY\n",
    ")"
   ]
  },
  {
   "cell_type": "code",
   "execution_count": 242,
   "id": "5c1bd3ec-bfce-470b-bfd5-a784f3140fb5",
   "metadata": {
    "execution": {
     "iopub.execute_input": "2025-04-13T23:03:02.950375Z",
     "iopub.status.busy": "2025-04-13T23:03:02.950189Z",
     "iopub.status.idle": "2025-04-13T23:03:03.244034Z",
     "shell.execute_reply": "2025-04-13T23:03:03.240723Z",
     "shell.execute_reply.started": "2025-04-13T23:03:02.950360Z"
    },
    "trusted": true
   },
   "outputs": [
    {
     "data": {
      "text/plain": [
       "torch.Size([256, 1, 28, 28])"
      ]
     },
     "execution_count": 242,
     "metadata": {},
     "output_type": "execute_result"
    }
   ],
   "source": [
    "next(iter(train_loader))[0].shape"
   ]
  },
  {
   "cell_type": "code",
   "execution_count": 243,
   "id": "8d5a2b51",
   "metadata": {
    "execution": {
     "iopub.execute_input": "2025-04-13T23:03:03.248422Z",
     "iopub.status.busy": "2025-04-13T23:03:03.248049Z",
     "iopub.status.idle": "2025-04-13T23:03:03.299134Z",
     "shell.execute_reply": "2025-04-13T23:03:03.295862Z",
     "shell.execute_reply.started": "2025-04-13T23:03:03.248370Z"
    },
    "trusted": true
   },
   "outputs": [],
   "source": [
    "vit = VisionTransformerClassifier(\n",
    "    in_channels=1,\n",
    "    image_size=IMG_SIZE,\n",
    "    patch_size=PATCH_SIZE,\n",
    "    embedding_size=EMBEDDING_SIZE,\n",
    "    num_heads=NUM_HEADS,\n",
    "    num_layers=NUM_LAYERS,\n",
    "    num_classes=NUM_CLASSES,\n",
    "    dropout_rate=DROPOUT_RATE,\n",
    ").to(device)"
   ]
  },
  {
   "cell_type": "code",
   "execution_count": 244,
   "id": "db9de5cf",
   "metadata": {
    "execution": {
     "iopub.execute_input": "2025-04-13T23:03:04.263929Z",
     "iopub.status.busy": "2025-04-13T23:03:04.263480Z",
     "iopub.status.idle": "2025-04-13T23:03:04.269455Z",
     "shell.execute_reply": "2025-04-13T23:03:04.268661Z",
     "shell.execute_reply.started": "2025-04-13T23:03:04.263902Z"
    },
    "trusted": true
   },
   "outputs": [],
   "source": [
    "def get_lr_scheduler(optimizer):\n",
    "    return torch.optim.lr_scheduler.OneCycleLR(\n",
    "        optimizer,\n",
    "        max_lr=LEARNING_RATE,\n",
    "        steps_per_epoch=len(train_loader) // GRADIENT_ACCUMULATION_STEPS,\n",
    "        epochs=NUM_EPOCHS,\n",
    "        pct_start=0.1,\n",
    "    )"
   ]
  },
  {
   "cell_type": "code",
   "execution_count": 245,
   "id": "847269f4",
   "metadata": {
    "execution": {
     "iopub.execute_input": "2025-04-13T23:03:04.434781Z",
     "iopub.status.busy": "2025-04-13T23:03:04.434093Z",
     "iopub.status.idle": "2025-04-13T23:03:04.444025Z",
     "shell.execute_reply": "2025-04-13T23:03:04.443275Z",
     "shell.execute_reply.started": "2025-04-13T23:03:04.434755Z"
    },
    "trusted": true
   },
   "outputs": [],
   "source": [
    "optimizer = torch.optim.AdamW(vit.parameters(), lr=LEARNING_RATE, weight_decay=0.01)\n",
    "scheduler = get_lr_scheduler(optimizer)\n",
    "criterion = nn.CrossEntropyLoss()\n",
    "scaler = GradScaler(enabled=USE_AMP)"
   ]
  },
  {
   "cell_type": "code",
   "execution_count": 246,
   "id": "cd36561d",
   "metadata": {
    "execution": {
     "iopub.execute_input": "2025-04-13T23:03:04.601460Z",
     "iopub.status.busy": "2025-04-13T23:03:04.600863Z",
     "iopub.status.idle": "2025-04-13T23:03:04.605350Z",
     "shell.execute_reply": "2025-04-13T23:03:04.604636Z",
     "shell.execute_reply.started": "2025-04-13T23:03:04.601440Z"
    },
    "trusted": true
   },
   "outputs": [],
   "source": [
    "def get_gpu_utilization():\n",
    "    try:\n",
    "        pynvml.nvmlInit()\n",
    "        handle = pynvml.nvmlDeviceGetHandleByIndex(0)\n",
    "        util = pynvml.nvmlDeviceGetUtilizationRates(handle)\n",
    "        return util.gpu\n",
    "    except Exception:\n",
    "        return \"N/A\""
   ]
  },
  {
   "cell_type": "code",
   "execution_count": 247,
   "id": "b4a6d5e2",
   "metadata": {
    "execution": {
     "iopub.execute_input": "2025-04-13T23:03:04.746370Z",
     "iopub.status.busy": "2025-04-13T23:03:04.746182Z",
     "iopub.status.idle": "2025-04-13T23:03:04.750217Z",
     "shell.execute_reply": "2025-04-13T23:03:04.749598Z",
     "shell.execute_reply.started": "2025-04-13T23:03:04.746356Z"
    },
    "trusted": true
   },
   "outputs": [],
   "source": [
    "train_losses = []\n",
    "train_accuracies = []\n",
    "val_losses = []\n",
    "val_accuracies = []"
   ]
  },
  {
   "cell_type": "code",
   "execution_count": 248,
   "id": "7ae240e7",
   "metadata": {
    "execution": {
     "iopub.execute_input": "2025-04-13T23:03:07.975800Z",
     "iopub.status.busy": "2025-04-13T23:03:07.975502Z",
     "iopub.status.idle": "2025-04-13T23:07:55.034219Z",
     "shell.execute_reply": "2025-04-13T23:07:55.033338Z",
     "shell.execute_reply.started": "2025-04-13T23:03:07.975781Z"
    },
    "trusted": true
   },
   "outputs": [
    {
     "name": "stderr",
     "output_type": "stream",
     "text": [
      "Epoch 1/30 [Train]: 100%|██████████| 235/235 [00:08<00:00, 28.27it/s, loss=2.3131, acc=10.77%, lr=0.000085, GPU=23%]\n",
      "Epoch 1/30 [Valid]: 100%|██████████| 40/40 [00:01<00:00, 34.69it/s, loss=2.5455, acc=11.55%, GPU=10%]\n"
     ]
    },
    {
     "name": "stdout",
     "output_type": "stream",
     "text": [
      "Epoch 1/30 - Train Loss: 2.3131, Train Acc: 10.77%, Val Loss: 2.2910, Val Acc: 11.55%\n"
     ]
    },
    {
     "name": "stderr",
     "output_type": "stream",
     "text": [
      "Epoch 2/30 [Train]: 100%|██████████| 235/235 [00:08<00:00, 28.25it/s, loss=2.2329, acc=17.91%, lr=0.000230, GPU=32%]\n",
      "Epoch 2/30 [Valid]: 100%|██████████| 40/40 [00:01<00:00, 35.58it/s, loss=2.0418, acc=27.02%, GPU=7%] \n"
     ]
    },
    {
     "name": "stdout",
     "output_type": "stream",
     "text": [
      "Epoch 2/30 - Train Loss: 2.2329, Train Acc: 17.91%, Val Loss: 1.9907, Val Acc: 27.02%\n"
     ]
    },
    {
     "name": "stderr",
     "output_type": "stream",
     "text": [
      "Epoch 3/30 [Train]: 100%|██████████| 235/235 [00:08<00:00, 27.34it/s, loss=1.8287, acc=34.28%, lr=0.000300, GPU=26%]\n",
      "Epoch 3/30 [Valid]: 100%|██████████| 40/40 [00:01<00:00, 28.36it/s, loss=1.3555, acc=63.39%, GPU=7%] \n"
     ]
    },
    {
     "name": "stdout",
     "output_type": "stream",
     "text": [
      "Epoch 3/30 - Train Loss: 1.8287, Train Acc: 34.28%, Val Loss: 1.1860, Val Acc: 63.39%\n"
     ]
    },
    {
     "name": "stderr",
     "output_type": "stream",
     "text": [
      "Epoch 4/30 [Train]: 100%|██████████| 235/235 [00:08<00:00, 28.06it/s, loss=1.3401, acc=54.08%, lr=0.000299, GPU=41%]\n",
      "Epoch 4/30 [Valid]: 100%|██████████| 40/40 [00:01<00:00, 38.07it/s, loss=0.8517, acc=80.33%, GPU=10%]\n"
     ]
    },
    {
     "name": "stdout",
     "output_type": "stream",
     "text": [
      "Epoch 4/30 - Train Loss: 1.3401, Train Acc: 54.08%, Val Loss: 0.7239, Val Acc: 80.33%\n"
     ]
    },
    {
     "name": "stderr",
     "output_type": "stream",
     "text": [
      "Epoch 5/30 [Train]: 100%|██████████| 235/235 [00:08<00:00, 27.76it/s, loss=1.0362, acc=64.96%, lr=0.000296, GPU=42%]\n",
      "Epoch 5/30 [Valid]: 100%|██████████| 40/40 [00:01<00:00, 38.24it/s, loss=0.5665, acc=86.01%, GPU=11%]\n"
     ]
    },
    {
     "name": "stdout",
     "output_type": "stream",
     "text": [
      "Epoch 5/30 - Train Loss: 1.0362, Train Acc: 64.96%, Val Loss: 0.4957, Val Acc: 86.01%\n"
     ]
    },
    {
     "name": "stderr",
     "output_type": "stream",
     "text": [
      "Epoch 6/30 [Train]: 100%|██████████| 235/235 [00:08<00:00, 28.20it/s, loss=0.8758, acc=71.01%, lr=0.000291, GPU=27%]\n",
      "Epoch 6/30 [Valid]: 100%|██████████| 40/40 [00:01<00:00, 38.71it/s, loss=0.4515, acc=89.20%, GPU=11%]\n"
     ]
    },
    {
     "name": "stdout",
     "output_type": "stream",
     "text": [
      "Epoch 6/30 - Train Loss: 0.8758, Train Acc: 71.01%, Val Loss: 0.3838, Val Acc: 89.20%\n"
     ]
    },
    {
     "name": "stderr",
     "output_type": "stream",
     "text": [
      "Epoch 7/30 [Train]: 100%|██████████| 235/235 [00:08<00:00, 26.40it/s, loss=0.7764, acc=74.59%, lr=0.000284, GPU=21%]\n",
      "Epoch 7/30 [Valid]: 100%|██████████| 40/40 [00:01<00:00, 38.20it/s, loss=0.3301, acc=90.66%, GPU=9%] \n"
     ]
    },
    {
     "name": "stdout",
     "output_type": "stream",
     "text": [
      "Epoch 7/30 - Train Loss: 0.7764, Train Acc: 74.59%, Val Loss: 0.3219, Val Acc: 90.66%\n"
     ]
    },
    {
     "name": "stderr",
     "output_type": "stream",
     "text": [
      "Epoch 8/30 [Train]: 100%|██████████| 235/235 [00:08<00:00, 28.09it/s, loss=0.7024, acc=77.07%, lr=0.000275, GPU=42%]\n",
      "Epoch 8/30 [Valid]: 100%|██████████| 40/40 [00:01<00:00, 36.99it/s, loss=0.2854, acc=91.71%, GPU=11%]\n"
     ]
    },
    {
     "name": "stdout",
     "output_type": "stream",
     "text": [
      "Epoch 8/30 - Train Loss: 0.7024, Train Acc: 77.07%, Val Loss: 0.2783, Val Acc: 91.71%\n"
     ]
    },
    {
     "name": "stderr",
     "output_type": "stream",
     "text": [
      "Epoch 9/30 [Train]: 100%|██████████| 235/235 [00:08<00:00, 27.98it/s, loss=0.6432, acc=79.05%, lr=0.000265, GPU=26%]\n",
      "Epoch 9/30 [Valid]: 100%|██████████| 40/40 [00:01<00:00, 38.54it/s, loss=0.2701, acc=92.44%, GPU=9%] \n"
     ]
    },
    {
     "name": "stdout",
     "output_type": "stream",
     "text": [
      "Epoch 9/30 - Train Loss: 0.6432, Train Acc: 79.05%, Val Loss: 0.2499, Val Acc: 92.44%\n"
     ]
    },
    {
     "name": "stderr",
     "output_type": "stream",
     "text": [
      "Epoch 10/30 [Train]: 100%|██████████| 235/235 [00:08<00:00, 26.69it/s, loss=0.6028, acc=80.57%, lr=0.000253, GPU=22%]\n",
      "Epoch 10/30 [Valid]: 100%|██████████| 40/40 [00:01<00:00, 38.00it/s, loss=0.2660, acc=93.25%, GPU=11%]\n"
     ]
    },
    {
     "name": "stdout",
     "output_type": "stream",
     "text": [
      "Epoch 10/30 - Train Loss: 0.6028, Train Acc: 80.57%, Val Loss: 0.2261, Val Acc: 93.25%\n"
     ]
    },
    {
     "name": "stderr",
     "output_type": "stream",
     "text": [
      "Epoch 11/30 [Train]: 100%|██████████| 235/235 [00:08<00:00, 27.98it/s, loss=0.5677, acc=81.68%, lr=0.000239, GPU=31%]\n",
      "Epoch 11/30 [Valid]: 100%|██████████| 40/40 [00:01<00:00, 38.45it/s, loss=0.2523, acc=93.44%, GPU=13%]\n"
     ]
    },
    {
     "name": "stdout",
     "output_type": "stream",
     "text": [
      "Epoch 11/30 - Train Loss: 0.5677, Train Acc: 81.68%, Val Loss: 0.2144, Val Acc: 93.44%\n"
     ]
    },
    {
     "name": "stderr",
     "output_type": "stream",
     "text": [
      "Epoch 12/30 [Train]: 100%|██████████| 235/235 [00:08<00:00, 28.05it/s, loss=0.5314, acc=82.86%, lr=0.000225, GPU=27%]\n",
      "Epoch 12/30 [Valid]: 100%|██████████| 40/40 [00:01<00:00, 38.43it/s, loss=0.2215, acc=93.90%, GPU=11%]\n"
     ]
    },
    {
     "name": "stdout",
     "output_type": "stream",
     "text": [
      "Epoch 12/30 - Train Loss: 0.5314, Train Acc: 82.86%, Val Loss: 0.1994, Val Acc: 93.90%\n"
     ]
    },
    {
     "name": "stderr",
     "output_type": "stream",
     "text": [
      "Epoch 13/30 [Train]: 100%|██████████| 235/235 [00:08<00:00, 28.28it/s, loss=0.5119, acc=83.67%, lr=0.000209, GPU=30%]\n",
      "Epoch 13/30 [Valid]: 100%|██████████| 40/40 [00:01<00:00, 38.32it/s, loss=0.2095, acc=94.17%, GPU=9%] \n"
     ]
    },
    {
     "name": "stdout",
     "output_type": "stream",
     "text": [
      "Epoch 13/30 - Train Loss: 0.5119, Train Acc: 83.67%, Val Loss: 0.1833, Val Acc: 94.17%\n"
     ]
    },
    {
     "name": "stderr",
     "output_type": "stream",
     "text": [
      "Epoch 14/30 [Train]: 100%|██████████| 235/235 [00:08<00:00, 26.76it/s, loss=0.4876, acc=84.45%, lr=0.000193, GPU=30%]\n",
      "Epoch 14/30 [Valid]: 100%|██████████| 40/40 [00:01<00:00, 38.89it/s, loss=0.1981, acc=94.60%, GPU=11%]\n"
     ]
    },
    {
     "name": "stdout",
     "output_type": "stream",
     "text": [
      "Epoch 14/30 - Train Loss: 0.4876, Train Acc: 84.45%, Val Loss: 0.1733, Val Acc: 94.60%\n"
     ]
    },
    {
     "name": "stderr",
     "output_type": "stream",
     "text": [
      "Epoch 15/30 [Train]: 100%|██████████| 235/235 [00:08<00:00, 28.01it/s, loss=0.4713, acc=84.92%, lr=0.000176, GPU=26%]\n",
      "Epoch 15/30 [Valid]: 100%|██████████| 40/40 [00:01<00:00, 38.60it/s, loss=0.2031, acc=94.77%, GPU=10%]\n"
     ]
    },
    {
     "name": "stdout",
     "output_type": "stream",
     "text": [
      "Epoch 15/30 - Train Loss: 0.4713, Train Acc: 84.92%, Val Loss: 0.1676, Val Acc: 94.77%\n"
     ]
    },
    {
     "name": "stderr",
     "output_type": "stream",
     "text": [
      "Epoch 16/30 [Train]: 100%|██████████| 235/235 [00:08<00:00, 28.25it/s, loss=0.4552, acc=85.56%, lr=0.000158, GPU=31%]\n",
      "Epoch 16/30 [Valid]: 100%|██████████| 40/40 [00:01<00:00, 38.20it/s, loss=0.1906, acc=94.90%, GPU=14%]\n"
     ]
    },
    {
     "name": "stdout",
     "output_type": "stream",
     "text": [
      "Epoch 16/30 - Train Loss: 0.4552, Train Acc: 85.56%, Val Loss: 0.1620, Val Acc: 94.90%\n"
     ]
    },
    {
     "name": "stderr",
     "output_type": "stream",
     "text": [
      "Epoch 17/30 [Train]: 100%|██████████| 235/235 [00:08<00:00, 26.64it/s, loss=0.4486, acc=85.74%, lr=0.000141, GPU=44%]\n",
      "Epoch 17/30 [Valid]: 100%|██████████| 40/40 [00:01<00:00, 38.38it/s, loss=0.1862, acc=95.10%, GPU=14%]\n"
     ]
    },
    {
     "name": "stdout",
     "output_type": "stream",
     "text": [
      "Epoch 17/30 - Train Loss: 0.4486, Train Acc: 85.74%, Val Loss: 0.1536, Val Acc: 95.10%\n"
     ]
    },
    {
     "name": "stderr",
     "output_type": "stream",
     "text": [
      "Epoch 18/30 [Train]: 100%|██████████| 235/235 [00:08<00:00, 28.15it/s, loss=0.4362, acc=86.13%, lr=0.000124, GPU=32%]\n",
      "Epoch 18/30 [Valid]: 100%|██████████| 40/40 [00:01<00:00, 39.51it/s, loss=0.1641, acc=95.05%, GPU=12%]\n"
     ]
    },
    {
     "name": "stdout",
     "output_type": "stream",
     "text": [
      "Epoch 18/30 - Train Loss: 0.4362, Train Acc: 86.13%, Val Loss: 0.1518, Val Acc: 95.05%\n"
     ]
    },
    {
     "name": "stderr",
     "output_type": "stream",
     "text": [
      "Epoch 19/30 [Train]: 100%|██████████| 235/235 [00:08<00:00, 28.21it/s, loss=0.4268, acc=86.31%, lr=0.000107, GPU=34%]\n",
      "Epoch 19/30 [Valid]: 100%|██████████| 40/40 [00:01<00:00, 38.19it/s, loss=0.1557, acc=95.28%, GPU=10%]\n"
     ]
    },
    {
     "name": "stdout",
     "output_type": "stream",
     "text": [
      "Epoch 19/30 - Train Loss: 0.4268, Train Acc: 86.31%, Val Loss: 0.1479, Val Acc: 95.28%\n"
     ]
    },
    {
     "name": "stderr",
     "output_type": "stream",
     "text": [
      "Epoch 20/30 [Train]: 100%|██████████| 235/235 [00:08<00:00, 28.25it/s, loss=0.4185, acc=86.77%, lr=0.000090, GPU=34%]\n",
      "Epoch 20/30 [Valid]: 100%|██████████| 40/40 [00:01<00:00, 33.33it/s, loss=0.1672, acc=95.38%, GPU=9%]\n"
     ]
    },
    {
     "name": "stdout",
     "output_type": "stream",
     "text": [
      "Epoch 20/30 - Train Loss: 0.4185, Train Acc: 86.77%, Val Loss: 0.1421, Val Acc: 95.38%\n"
     ]
    },
    {
     "name": "stderr",
     "output_type": "stream",
     "text": [
      "Epoch 21/30 [Train]: 100%|██████████| 235/235 [00:08<00:00, 27.22it/s, loss=0.4114, acc=87.02%, lr=0.000075, GPU=38%]\n",
      "Epoch 21/30 [Valid]: 100%|██████████| 40/40 [00:01<00:00, 36.71it/s, loss=0.1666, acc=95.44%, GPU=12%]\n"
     ]
    },
    {
     "name": "stdout",
     "output_type": "stream",
     "text": [
      "Epoch 21/30 - Train Loss: 0.4114, Train Acc: 87.02%, Val Loss: 0.1416, Val Acc: 95.44%\n"
     ]
    },
    {
     "name": "stderr",
     "output_type": "stream",
     "text": [
      "Epoch 22/30 [Train]: 100%|██████████| 235/235 [00:08<00:00, 28.02it/s, loss=0.4083, acc=87.02%, lr=0.000060, GPU=20%]\n",
      "Epoch 22/30 [Valid]: 100%|██████████| 40/40 [00:01<00:00, 37.73it/s, loss=0.1544, acc=95.49%, GPU=10%]\n"
     ]
    },
    {
     "name": "stdout",
     "output_type": "stream",
     "text": [
      "Epoch 22/30 - Train Loss: 0.4083, Train Acc: 87.02%, Val Loss: 0.1390, Val Acc: 95.49%\n"
     ]
    },
    {
     "name": "stderr",
     "output_type": "stream",
     "text": [
      "Epoch 23/30 [Train]: 100%|██████████| 235/235 [00:08<00:00, 28.31it/s, loss=0.4053, acc=87.19%, lr=0.000047, GPU=14%]\n",
      "Epoch 23/30 [Valid]: 100%|██████████| 40/40 [00:01<00:00, 35.28it/s, loss=0.1407, acc=95.58%, GPU=10%]\n"
     ]
    },
    {
     "name": "stdout",
     "output_type": "stream",
     "text": [
      "Epoch 23/30 - Train Loss: 0.4053, Train Acc: 87.19%, Val Loss: 0.1372, Val Acc: 95.58%\n"
     ]
    },
    {
     "name": "stderr",
     "output_type": "stream",
     "text": [
      "Epoch 24/30 [Train]: 100%|██████████| 235/235 [00:08<00:00, 26.26it/s, loss=0.4083, acc=87.05%, lr=0.000035, GPU=27%]\n",
      "Epoch 24/30 [Valid]: 100%|██████████| 40/40 [00:01<00:00, 34.74it/s, loss=0.1611, acc=95.58%, GPU=8%] \n"
     ]
    },
    {
     "name": "stdout",
     "output_type": "stream",
     "text": [
      "Epoch 24/30 - Train Loss: 0.4083, Train Acc: 87.05%, Val Loss: 0.1370, Val Acc: 95.58%\n"
     ]
    },
    {
     "name": "stderr",
     "output_type": "stream",
     "text": [
      "Epoch 25/30 [Train]: 100%|██████████| 235/235 [00:08<00:00, 28.14it/s, loss=0.4001, acc=87.28%, lr=0.000025, GPU=34%]\n",
      "Epoch 25/30 [Valid]: 100%|██████████| 40/40 [00:01<00:00, 35.89it/s, loss=0.1418, acc=95.67%, GPU=11%]\n"
     ]
    },
    {
     "name": "stdout",
     "output_type": "stream",
     "text": [
      "Epoch 25/30 - Train Loss: 0.4001, Train Acc: 87.28%, Val Loss: 0.1347, Val Acc: 95.67%\n"
     ]
    },
    {
     "name": "stderr",
     "output_type": "stream",
     "text": [
      "Epoch 26/30 [Train]: 100%|██████████| 235/235 [00:08<00:00, 28.38it/s, loss=0.3951, acc=87.41%, lr=0.000016, GPU=33%]\n",
      "Epoch 26/30 [Valid]: 100%|██████████| 40/40 [00:01<00:00, 37.76it/s, loss=0.1492, acc=95.64%, GPU=11%]\n"
     ]
    },
    {
     "name": "stdout",
     "output_type": "stream",
     "text": [
      "Epoch 26/30 - Train Loss: 0.3951, Train Acc: 87.41%, Val Loss: 0.1343, Val Acc: 95.64%\n"
     ]
    },
    {
     "name": "stderr",
     "output_type": "stream",
     "text": [
      "Epoch 27/30 [Train]: 100%|██████████| 235/235 [00:08<00:00, 26.45it/s, loss=0.3924, acc=87.48%, lr=0.000009, GPU=15%]\n",
      "Epoch 27/30 [Valid]: 100%|██████████| 40/40 [00:01<00:00, 37.93it/s, loss=0.1579, acc=95.62%, GPU=12%]\n"
     ]
    },
    {
     "name": "stdout",
     "output_type": "stream",
     "text": [
      "Epoch 27/30 - Train Loss: 0.3924, Train Acc: 87.48%, Val Loss: 0.1342, Val Acc: 95.62%\n"
     ]
    },
    {
     "name": "stderr",
     "output_type": "stream",
     "text": [
      "Epoch 28/30 [Train]: 100%|██████████| 235/235 [00:08<00:00, 27.01it/s, loss=0.3973, acc=87.34%, lr=0.000004, GPU=31%]\n",
      "Epoch 28/30 [Valid]: 100%|██████████| 40/40 [00:01<00:00, 37.91it/s, loss=0.1533, acc=95.55%, GPU=10%]\n"
     ]
    },
    {
     "name": "stdout",
     "output_type": "stream",
     "text": [
      "Epoch 28/30 - Train Loss: 0.3973, Train Acc: 87.34%, Val Loss: 0.1341, Val Acc: 95.55%\n"
     ]
    },
    {
     "name": "stderr",
     "output_type": "stream",
     "text": [
      "Epoch 29/30 [Train]: 100%|██████████| 235/235 [00:08<00:00, 28.06it/s, loss=0.3972, acc=87.49%, lr=0.000001, GPU=22%]\n",
      "Epoch 29/30 [Valid]: 100%|██████████| 40/40 [00:01<00:00, 38.63it/s, loss=0.1623, acc=95.61%, GPU=9%] \n"
     ]
    },
    {
     "name": "stdout",
     "output_type": "stream",
     "text": [
      "Epoch 29/30 - Train Loss: 0.3972, Train Acc: 87.49%, Val Loss: 0.1339, Val Acc: 95.61%\n"
     ]
    },
    {
     "name": "stderr",
     "output_type": "stream",
     "text": [
      "Epoch 30/30 [Train]: 100%|██████████| 235/235 [00:08<00:00, 28.16it/s, loss=0.3926, acc=87.61%, lr=0.000000, GPU=29%]\n",
      "Epoch 30/30 [Valid]: 100%|██████████| 40/40 [00:01<00:00, 38.62it/s, loss=0.1339, acc=95.59%, GPU=11%]"
     ]
    },
    {
     "name": "stdout",
     "output_type": "stream",
     "text": [
      "Epoch 30/30 - Train Loss: 0.3926, Train Acc: 87.61%, Val Loss: 0.1339, Val Acc: 95.59%\n"
     ]
    },
    {
     "name": "stderr",
     "output_type": "stream",
     "text": [
      "\n"
     ]
    }
   ],
   "source": [
    "for epoch in range(NUM_EPOCHS):\n",
    "    vit.train()\n",
    "    train_loss = 0\n",
    "    correct = 0\n",
    "    total = 0\n",
    "\n",
    "    optimizer.zero_grad()  # For gradient accumulation\n",
    "\n",
    "    pbar = tqdm(train_loader, desc=f\"Epoch {epoch + 1}/{NUM_EPOCHS} [Train]\")\n",
    "\n",
    "    for batch_idx, (data, target) in enumerate(pbar):\n",
    "        data, target = (\n",
    "            data.to(device, non_blocking=True),\n",
    "            target.to(device, non_blocking=True),\n",
    "        )\n",
    "\n",
    "        with autocast(device_type=device.type, enabled=USE_AMP):\n",
    "            outputs, _ = vit(data)\n",
    "            log_outputs = torch.log(outputs + 1e-8)\n",
    "            loss = criterion(log_outputs, target) / GRADIENT_ACCUMULATION_STEPS\n",
    "\n",
    "        scaler.scale(loss).backward()\n",
    "\n",
    "        # Only update when we have accumulated enough gradients or at the very last batch\n",
    "        update_step = (batch_idx + 1) % GRADIENT_ACCUMULATION_STEPS == 0\n",
    "        last_batch = batch_idx == len(train_loader) - 1\n",
    "\n",
    "        if update_step or last_batch:\n",
    "            scaler.unscale_(optimizer)\n",
    "            torch.nn.utils.clip_grad_norm_(vit.parameters(), max_norm=1.0)\n",
    "\n",
    "            scaler.step(optimizer)\n",
    "            scaler.update()\n",
    "            # Only step the scheduler on regular accumulation steps to match steps_per_epoch\n",
    "            if update_step:\n",
    "                scheduler.step()\n",
    "            optimizer.zero_grad()\n",
    "\n",
    "        train_loss += loss.item() * GRADIENT_ACCUMULATION_STEPS\n",
    "        _, predicted = outputs.max(1)\n",
    "        total += target.size(0)\n",
    "        correct += predicted.eq(target).sum().item()\n",
    "\n",
    "        current_lr = optimizer.param_groups[0][\"lr\"]\n",
    "        current_loss = train_loss / (batch_idx + 1)\n",
    "        current_acc = 100.0 * correct / total\n",
    "        gpu_util = get_gpu_utilization()\n",
    "\n",
    "        pbar.set_postfix(\n",
    "            {\n",
    "                \"loss\": f\"{current_loss:.4f}\",\n",
    "                \"acc\": f\"{current_acc:.2f}%\",\n",
    "                \"lr\": f\"{current_lr:.6f}\",\n",
    "                \"GPU\": f\"{gpu_util}%\",\n",
    "            }\n",
    "        )\n",
    "\n",
    "    avg_train_loss = train_loss / len(train_loader)\n",
    "    train_accuracy = 100.0 * correct / total\n",
    "    train_losses.append(avg_train_loss)\n",
    "    train_accuracies.append(train_accuracy)\n",
    "\n",
    "    vit.eval()\n",
    "    test_loss = 0\n",
    "    correct = 0\n",
    "    total = 0\n",
    "\n",
    "    with torch.no_grad():\n",
    "        pbar = tqdm(test_loader, desc=f\"Epoch {epoch + 1}/{NUM_EPOCHS} [Valid]\")\n",
    "        for data, target in pbar:\n",
    "            data, target = (\n",
    "                data.to(device, non_blocking=True),\n",
    "                target.to(device, non_blocking=True),\n",
    "            )\n",
    "\n",
    "            # Use mixed precision for inference too\n",
    "            with autocast(device_type=device.type, enabled=USE_AMP):\n",
    "                outputs, _ = vit(data)\n",
    "                log_outputs = torch.log(outputs + 1e-8)\n",
    "                test_loss += criterion(log_outputs, target).item()\n",
    "\n",
    "            _, predicted = outputs.max(1)\n",
    "            total += target.size(0)\n",
    "            correct += predicted.eq(target).sum().item()\n",
    "\n",
    "            current_loss = test_loss / (pbar.n + 1)\n",
    "            current_acc = 100.0 * correct / total\n",
    "            gpu_util = get_gpu_utilization()\n",
    "\n",
    "            pbar.set_postfix(\n",
    "                {\n",
    "                    \"loss\": f\"{current_loss:.4f}\",\n",
    "                    \"acc\": f\"{current_acc:.2f}%\",\n",
    "                    \"GPU\": f\"{gpu_util}%\",\n",
    "                }\n",
    "            )\n",
    "\n",
    "    avg_val_loss = test_loss / len(test_loader)\n",
    "    val_accuracy = 100.0 * correct / total\n",
    "    val_losses.append(avg_val_loss)\n",
    "    val_accuracies.append(val_accuracy)\n",
    "\n",
    "    print(\n",
    "        f\"Epoch {epoch + 1}/{NUM_EPOCHS} - Train Loss: {avg_train_loss:.4f}, Train Acc: {train_accuracy:.2f}%, \"\n",
    "        f\"Val Loss: {avg_val_loss:.4f}, Val Acc: {val_accuracy:.2f}%\"\n",
    "    )"
   ]
  },
  {
   "cell_type": "code",
   "execution_count": 249,
   "id": "8e729e49",
   "metadata": {
    "execution": {
     "iopub.execute_input": "2025-04-13T23:09:39.695830Z",
     "iopub.status.busy": "2025-04-13T23:09:39.695460Z",
     "iopub.status.idle": "2025-04-13T23:09:40.065176Z",
     "shell.execute_reply": "2025-04-13T23:09:40.064481Z",
     "shell.execute_reply.started": "2025-04-13T23:09:39.695801Z"
    },
    "trusted": true
   },
   "outputs": [
    {
     "data": {
      "image/png": "[encoded data removed]",
      "text/plain": [
       "<Figure size 1500x500 with 2 Axes>"
      ]
     },
     "metadata": {},
     "output_type": "display_data"
    }
   ],
   "source": [
    "plt.figure(figsize=(15, 5))\n",
    "\n",
    "plt.subplot(1, 2, 1)\n",
    "plt.plot(train_losses, label=\"Training Loss\")\n",
    "plt.plot(val_losses, label=\"Validation Loss\")\n",
    "plt.xlabel(\"Epoch\")\n",
    "plt.ylabel(\"Loss\")\n",
    "plt.legend()\n",
    "plt.title(\"Loss Curve\")\n",
    "plt.grid(True)\n",
    "\n",
    "plt.subplot(1, 2, 2)\n",
    "plt.plot(train_accuracies, label=\"Training Accuracy\")\n",
    "plt.plot(val_accuracies, label=\"Validation Accuracy\")\n",
    "plt.xlabel(\"Epoch\")\n",
    "plt.ylabel(\"Accuracy (%)\")\n",
    "plt.legend()\n",
    "plt.title(\"Accuracy Curve\")\n",
    "plt.grid(True)\n",
    "\n",
    "plt.tight_layout()\n",
    "plt.show()"
   ]
  },
  {
   "cell_type": "code",
   "execution_count": 330,
   "id": "2387cb9d",
   "metadata": {
    "execution": {
     "iopub.execute_input": "2025-04-13T23:59:04.504677Z",
     "iopub.status.busy": "2025-04-13T23:59:04.504205Z",
     "iopub.status.idle": "2025-04-13T23:59:04.902638Z",
     "shell.execute_reply": "2025-04-13T23:59:04.901750Z",
     "shell.execute_reply.started": "2025-04-13T23:59:04.504657Z"
    },
    "trusted": true
   },
   "outputs": [
    {
     "data": {
      "image/png": "[encoded data removed]",
      "text/plain": [
       "<Figure size 500x500 with 1 Axes>"
      ]
     },
     "metadata": {},
     "output_type": "display_data"
    }
   ],
   "source": [
    "image, label = next(iter(test_loader))\n",
    "sample_image = image[3].unsqueeze(0).to(device)\n",
    "sample_label = label[3].item()\n",
    "vit.eval()\n",
    "with torch.no_grad():\n",
    "    outputs, attention_maps = vit(sample_image)\n",
    "\n",
    "predicted_class = outputs.argmax(dim=1).item()\n",
    "confidence = outputs[0, predicted_class].item()\n",
    "\n",
    "plt.figure(figsize=(5, 5))\n",
    "plt.imshow(image[3].squeeze().cpu().numpy(), cmap=\"gray\")\n",
    "plt.title(\n",
    "    f\"Label: {sample_label} | Predicted: {predicted_class} | Confidence: {confidence:.2f}\"\n",
    ")\n",
    "plt.axis(\"off\")\n",
    "plt.show()"
   ]
  },
  {
   "cell_type": "markdown",
   "id": "b4ddaf50",
   "metadata": {},
   "source": [
    "# Attention map visualization"
   ]
  },
  {
   "cell_type": "code",
   "execution_count": 331,
   "id": "09566c06",
   "metadata": {
    "execution": {
     "iopub.execute_input": "2025-04-13T23:59:05.008843Z",
     "iopub.status.busy": "2025-04-13T23:59:05.008530Z",
     "iopub.status.idle": "2025-04-13T23:59:05.019098Z",
     "shell.execute_reply": "2025-04-13T23:59:05.018169Z",
     "shell.execute_reply.started": "2025-04-13T23:59:05.008818Z"
    },
    "trusted": true
   },
   "outputs": [],
   "source": [
    "def visualize_attention_maps(image, attention_maps, layer_idx=0):\n",
    "    num_heads = attention_maps[layer_idx].shape[1]\n",
    "\n",
    "    fig = plt.figure(figsize=(15, 6))\n",
    "\n",
    "    if image.shape[1] == 1:  # Grayscale image\n",
    "        img = image[0, 0].cpu().numpy()\n",
    "        ax = fig.add_subplot(1, num_heads + 2, 1)\n",
    "        ax.imshow(img, cmap=\"gray\")\n",
    "        ax.set_title(\"Original Image\", fontsize=12)\n",
    "        ax.axis(\"off\")\n",
    "    else:  # RGB image\n",
    "        img = image[0].permute(1, 2, 0).cpu().numpy()\n",
    "        ax = fig.add_subplot(1, num_heads + 2, 1)\n",
    "        ax.imshow(img)\n",
    "        ax.set_title(\"Original Image\", fontsize=12)\n",
    "        ax.axis(\"off\")\n",
    "\n",
    "    upscaled_attns = []\n",
    "    for head_idx in range(num_heads):\n",
    "        attn = attention_maps[layer_idx][0, head_idx].cpu().numpy()\n",
    "        cls_attn = attn[0, 1:]  # Attention from CLS token to image patches\n",
    "\n",
    "        n_patches = int(np.sqrt(len(cls_attn)))\n",
    "        attn_map = cls_attn.reshape(n_patches, n_patches)\n",
    "\n",
    "        upscaled_attn = scipy.ndimage.zoom(\n",
    "            attn_map,\n",
    "            (img.shape[0] / n_patches, img.shape[1] / n_patches),\n",
    "            order=1,\n",
    "        )\n",
    "        upscaled_attns.append(upscaled_attn)\n",
    "\n",
    "        ax = fig.add_subplot(1, num_heads + 2, head_idx + 2)\n",
    "        im = ax.imshow(upscaled_attn, cmap=\"hot\")\n",
    "        ax.set_title(f\"Head {head_idx}\", fontsize=12)\n",
    "        ax.axis(\"off\")\n",
    "\n",
    "    if upscaled_attns:\n",
    "        combined_attn = np.mean(upscaled_attns, axis=0)\n",
    "        ax = fig.add_subplot(1, num_heads + 2, num_heads + 2)\n",
    "        if image.shape[1] == 1:\n",
    "            ax.imshow(img, cmap=\"gray\")\n",
    "            im = ax.imshow(combined_attn, cmap=\"hot\", alpha=0.6)\n",
    "        else:\n",
    "            ax.imshow(img)\n",
    "            im = ax.imshow(combined_attn, cmap=\"hot\", alpha=0.6)\n",
    "        ax.set_title(\"Combined Overlay\", fontsize=12)\n",
    "        ax.axis(\"off\")\n",
    "        plt.colorbar(im, ax=ax, fraction=0.046, pad=0.04)\n",
    "\n",
    "    plt.tight_layout()\n",
    "    plt.suptitle(f\"Attention Maps for Layer {layer_idx}\", fontsize=14)\n",
    "    plt.subplots_adjust(top=1.3)\n",
    "    plt.show()\n",
    "\n",
    "    return upscaled_attns"
   ]
  },
  {
   "cell_type": "code",
   "execution_count": 332,
   "id": "5ebe016a",
   "metadata": {
    "execution": {
     "iopub.execute_input": "2025-04-13T23:59:05.408092Z",
     "iopub.status.busy": "2025-04-13T23:59:05.407359Z",
     "iopub.status.idle": "2025-04-13T23:59:06.962346Z",
     "shell.execute_reply": "2025-04-13T23:59:06.961604Z",
     "shell.execute_reply.started": "2025-04-13T23:59:05.408068Z"
    },
    "trusted": true
   },
   "outputs": [
    {
     "data": {
      "image/png": "[encoded data removed]",
      "text/plain": [
       "<Figure size 1500x600 with 7 Axes>"
      ]
     },
     "metadata": {},
     "output_type": "display_data"
    },
    {
     "data": {
      "image/png": "[encoded data removed]",
      "text/plain": [
       "<Figure size 1500x600 with 7 Axes>"
      ]
     },
     "metadata": {},
     "output_type": "display_data"
    },
    {
     "data": {
      "image/png": "[encoded data removed]",
      "text/plain": [
       "<Figure size 1500x600 with 7 Axes>"
      ]
     },
     "metadata": {},
     "output_type": "display_data"
    }
   ],
   "source": [
    "for layer_idx in range(len(attention_maps)):\n",
    "    _ = visualize_attention_maps(sample_image, attention_maps, layer_idx=layer_idx)"
   ]
  }
 ],
 "metadata": {
  "kaggle": {
   "accelerator": "gpu",
   "dataSources": [],
   "dockerImageVersionId": 31011,
   "isGpuEnabled": true,
   "isInternetEnabled": true,
   "language": "python",
   "sourceType": "notebook"
  },
  "kernelspec": {
   "display_name": "Python 3",
   "language": "python",
   "name": "python3"
  },
  "language_info": {
   "codemirror_mode": {
    "name": "ipython",
    "version": 3
   },
   "file_extension": ".py",
   "mimetype": "text/x-python",
   "name": "python",
   "nbconvert_exporter": "python",
   "pygments_lexer": "ipython3",
   "version": "3.11.11"
  }
 },
 "nbformat": 4,
 "nbformat_minor": 5
}
